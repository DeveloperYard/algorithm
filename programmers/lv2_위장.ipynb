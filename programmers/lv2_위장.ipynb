{
 "cells": [
  {
   "cell_type": "code",
   "execution_count": 16,
   "id": "ba4e452e",
   "metadata": {},
   "outputs": [
    {
     "name": "stdout",
     "output_type": "stream",
     "text": [
      "3\n",
      "y h\n",
      "b e\n",
      "g h\n",
      "{'h': 2, 'e': 1}\n",
      "2\n",
      "2\n",
      "1\n",
      "2\n",
      "5\n"
     ]
    }
   ],
   "source": [
    "def solution(clothes):\n",
    "    answer = 0\n",
    "    \n",
    "    dic = dict()\n",
    "    \n",
    "    for i in range(len(clothes)):\n",
    "        if clothes[i][1] not in dic:\n",
    "            dic[clothes[i][1]] = 1\n",
    "        else:\n",
    "            dic[clothes[i][1]]+=1\n",
    "    \n",
    "    comb = 1\n",
    "    for items in dic.values():\n",
    "        comb*=items\n",
    "        \n",
    "    answer+=comb\n",
    "    \n",
    "    if len(dic.values())>1:\n",
    "        answer+=len(clothes)\n",
    "        \n",
    "    return answer\n",
    "\n",
    "\n",
    "x = int(input())\n",
    "clothes = []\n",
    "for i in range(x):\n",
    "    key, val = map(str, input().split())\n",
    "    clothes.append((key, val))\n",
    "    \n",
    "print(solution(clothes))"
   ]
  },
  {
   "cell_type": "markdown",
   "id": "596e479d",
   "metadata": {},
   "source": [
    "### "
   ]
  }
 ],
 "metadata": {
  "kernelspec": {
   "display_name": "Python 3 (ipykernel)",
   "language": "python",
   "name": "python3"
  },
  "language_info": {
   "codemirror_mode": {
    "name": "ipython",
    "version": 3
   },
   "file_extension": ".py",
   "mimetype": "text/x-python",
   "name": "python",
   "nbconvert_exporter": "python",
   "pygments_lexer": "ipython3",
   "version": "3.10.0"
  }
 },
 "nbformat": 4,
 "nbformat_minor": 5
}
