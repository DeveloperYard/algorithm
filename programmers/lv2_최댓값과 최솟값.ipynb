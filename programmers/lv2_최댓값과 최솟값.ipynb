{
 "cells": [
  {
   "cell_type": "code",
   "execution_count": 8,
   "id": "7eabd0df",
   "metadata": {},
   "outputs": [
    {
     "name": "stdout",
     "output_type": "stream",
     "text": [
      "1 2 3 4\n",
      "0\n",
      "1\n",
      "2\n",
      "3\n",
      "4\n",
      "5\n",
      "6\n",
      "1 4\n"
     ]
    }
   ],
   "source": [
    "def solution(s):\n",
    "    answer = ''\n",
    "    \n",
    "    idx = 0\n",
    "    negativeFlag = 0\n",
    "    curVal = 0\n",
    "    maxVal = -1000000000000\n",
    "    minVal = 1000000000000\n",
    "    while len(s) > idx:\n",
    "        if s[idx] == ' ':\n",
    "            if negativeFlag == 1:\n",
    "                curVal*=(-1)\n",
    "            if curVal > maxVal:\n",
    "                maxVal = curVal\n",
    "            if curVal < minVal:\n",
    "                minVal = curVal\n",
    "            curVal = 0\n",
    "            negativeFlag = 0\n",
    "            idx+=1\n",
    "            continue\n",
    "            # 숫자 대입\n",
    "        if s[idx] == '-':\n",
    "            negativeFlag = 1\n",
    "            idx+=1\n",
    "            continue\n",
    "        if curVal == 0:\n",
    "            curVal += int(s[idx])\n",
    "        else:\n",
    "            curVal*=10\n",
    "            curVal += int(s[idx])\n",
    "        if idx == len(s)-1:\n",
    "            if negativeFlag == 1:\n",
    "                curVal*=(-1)\n",
    "            if curVal > maxVal:\n",
    "                maxVal = curVal\n",
    "            if curVal < minVal:\n",
    "                minVal = curVal\n",
    "            break\n",
    "        idx+=1\n",
    "    \n",
    "    answer = \"{} {}\".format(minVal, maxVal) \n",
    "    return answer\n",
    "\n",
    "s = input()\n",
    "\n",
    "print(solution(s))"
   ]
  },
  {
   "cell_type": "code",
   "execution_count": null,
   "id": "c2d00cd4",
   "metadata": {},
   "outputs": [],
   "source": []
  }
 ],
 "metadata": {
  "kernelspec": {
   "display_name": "Python 3 (ipykernel)",
   "language": "python",
   "name": "python3"
  },
  "language_info": {
   "codemirror_mode": {
    "name": "ipython",
    "version": 3
   },
   "file_extension": ".py",
   "mimetype": "text/x-python",
   "name": "python",
   "nbconvert_exporter": "python",
   "pygments_lexer": "ipython3",
   "version": "3.10.0"
  }
 },
 "nbformat": 4,
 "nbformat_minor": 5
}
