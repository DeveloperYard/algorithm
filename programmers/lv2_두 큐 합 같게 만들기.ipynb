{
 "cells": [
  {
   "cell_type": "code",
   "execution_count": 7,
   "id": "261f8870",
   "metadata": {},
   "outputs": [
    {
     "name": "stdout",
     "output_type": "stream",
     "text": [
      "3 2 7 2\n",
      "4 6 5 1\n",
      "deque([3, 2, 7, 2]) deque([4, 6, 5, 1])\n",
      "1\n"
     ]
    }
   ],
   "source": [
    "from collections import deque\n",
    "\n",
    "def solution(queue1, queue2):\n",
    "    answer = 0\n",
    "    qu1 = deque(queue1)\n",
    "    \n",
    "    qu2 = deque(queue2)\n",
    "        \n",
    "    targetVal = sum(qu1) + sum(qu2)\n",
    "    targetVal //= 2\n",
    "    \n",
    "\n",
    "    while 1:\n",
    "        if sum(qu1) > sum(qu2):\n",
    "            val = qu1.popleft()\n",
    "            qu2.append(val)\n",
    "        else:\n",
    "            val = qu2.popleft()\n",
    "            qu1.append(val)\n",
    "    \n",
    "        if not qu1 or not qu2:\n",
    "            return -1\n",
    "        \n",
    "        answer+=1\n",
    "        \n",
    "        if sum(qu1) == targetVal:\n",
    "            return answer\n",
    "        \n",
    "    return answer\n",
    "\n",
    "qu1 = list(map(int, input().split()))\n",
    "qu2 = list(map(int, input().split()))\n",
    "\n",
    "print(solution(qu1, qu2))"
   ]
  },
  {
   "cell_type": "code",
   "execution_count": 1,
   "id": "0dfc8a58",
   "metadata": {},
   "outputs": [
    {
     "name": "stdout",
     "output_type": "stream",
     "text": [
      "6\n"
     ]
    }
   ],
   "source": [
    "a = [1, 2, 3]\n",
    "\n",
    "print(sum(a))"
   ]
  },
  {
   "cell_type": "code",
   "execution_count": null,
   "id": "36a6ba63",
   "metadata": {},
   "outputs": [],
   "source": []
  }
 ],
 "metadata": {
  "kernelspec": {
   "display_name": "Python 3 (ipykernel)",
   "language": "python",
   "name": "python3"
  },
  "language_info": {
   "codemirror_mode": {
    "name": "ipython",
    "version": 3
   },
   "file_extension": ".py",
   "mimetype": "text/x-python",
   "name": "python",
   "nbconvert_exporter": "python",
   "pygments_lexer": "ipython3",
   "version": "3.10.0"
  }
 },
 "nbformat": 4,
 "nbformat_minor": 5
}
