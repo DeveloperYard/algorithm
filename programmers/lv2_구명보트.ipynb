{
 "cells": [
  {
   "cell_type": "code",
   "execution_count": 6,
   "id": "8af4daaf",
   "metadata": {},
   "outputs": [
    {
     "name": "stdout",
     "output_type": "stream",
     "text": [
      "8 7 6 5\n",
      "10\n",
      "4\n"
     ]
    }
   ],
   "source": [
    "# 구명 보트\n",
    "\n",
    "def solution(people, limit):\n",
    "    answer = 0\n",
    "    \n",
    "    people.sort(reverse=True)\n",
    "    \n",
    "    l = 0\n",
    "    r = len(people)-1\n",
    "    \n",
    "    while l <= r:\n",
    "        if people[l]+people[r] <= limit:\n",
    "            l+=1\n",
    "            r-=1\n",
    "        else:\n",
    "            l+=1\n",
    "        answer+=1\n",
    "        \n",
    "    return answer\n",
    "\n",
    "people = list(map(int, input().split()))\n",
    "limit = int(input())\n",
    "\n",
    "print(solution(people, limit))"
   ]
  }
 ],
 "metadata": {
  "kernelspec": {
   "display_name": "Python 3 (ipykernel)",
   "language": "python",
   "name": "python3"
  },
  "language_info": {
   "codemirror_mode": {
    "name": "ipython",
    "version": 3
   },
   "file_extension": ".py",
   "mimetype": "text/x-python",
   "name": "python",
   "nbconvert_exporter": "python",
   "pygments_lexer": "ipython3",
   "version": "3.10.0"
  }
 },
 "nbformat": 4,
 "nbformat_minor": 5
}
