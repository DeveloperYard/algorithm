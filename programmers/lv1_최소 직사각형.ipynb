{
 "cells": [
  {
   "cell_type": "code",
   "execution_count": null,
   "id": "0a4cd1e3",
   "metadata": {},
   "outputs": [],
   "source": [
    "def solution(sizes):\n",
    "    answer = 0\n",
    "    \n",
    "    maxSet = [0]*len(sizes)\n",
    "    minSet = [0]*len(sizes)\n",
    "    \n",
    "    idx = 0\n",
    "    for i in sizes:\n",
    "        h, w = i\n",
    "        if h > w:\n",
    "            maxSet[idx] = h\n",
    "            minSet[idx] = w\n",
    "        else:\n",
    "            maxSet[idx] = w\n",
    "            minSet[idx] = h\n",
    "        idx+=1\n",
    "            \n",
    "    answer = max(maxSet) * max(minSet)\n",
    "    return answer\n",
    "\n",
    "#solve!"
   ]
  }
 ],
 "metadata": {
  "kernelspec": {
   "display_name": "Python 3 (ipykernel)",
   "language": "python",
   "name": "python3"
  },
  "language_info": {
   "codemirror_mode": {
    "name": "ipython",
    "version": 3
   },
   "file_extension": ".py",
   "mimetype": "text/x-python",
   "name": "python",
   "nbconvert_exporter": "python",
   "pygments_lexer": "ipython3",
   "version": "3.10.0"
  }
 },
 "nbformat": 4,
 "nbformat_minor": 5
}
