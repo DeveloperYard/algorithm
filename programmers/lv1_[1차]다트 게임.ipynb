{
 "cells": [
  {
   "cell_type": "code",
   "execution_count": 21,
   "id": "65ff16f4",
   "metadata": {},
   "outputs": [
    {
     "name": "stdout",
     "output_type": "stream",
     "text": [
      "1T2D3D#\n",
      "[1, 4, -9]\n",
      "-4\n"
     ]
    }
   ],
   "source": [
    "def solution(res):\n",
    "\n",
    "    answer = 0\n",
    "    res = list(res)\n",
    "    idx = 0 # score index\n",
    "    \n",
    "    score = [0]*3 # 3번의 게임이 진행됨\n",
    "    \n",
    "    i = 0\n",
    "    while i < len(res):\n",
    "        if ord(res[i]) >= 48 and ord(res[i]) <= 57:\n",
    "            if ord(res[i]) == 49:\n",
    "                if i+1 < len(res) and ord(res[i+1]) == 48:\n",
    "                    score[idx] = 10\n",
    "                    i+=2\n",
    "                    continue\n",
    "                else:\n",
    "                    score[idx] = 1\n",
    "            else:\n",
    "                score[idx] = ord(res[i])-48\n",
    "            \n",
    "        elif res[i] == 'S':\n",
    "            if i + 1 < len(res):\n",
    "                if ord(res[i+1]) >= 48 and ord(res[i+1]) <= 57:\n",
    "                    idx+=1\n",
    "            \n",
    "        elif res[i] == 'D':\n",
    "            score[idx] = score[idx]**2\n",
    "            if i + 1 < len(res):\n",
    "                if ord(res[i+1]) >= 48 and ord(res[i+1]) <= 57:\n",
    "                    idx+=1\n",
    "                    \n",
    "        elif res[i] == 'T':\n",
    "            score[idx] = score[idx]**3\n",
    "            if i + 1 < len(res):\n",
    "                if ord(res[i+1]) >= 48 and ord(res[i+1]) <= 57:\n",
    "                    idx+=1\n",
    "                    \n",
    "        elif res[i] == '*':\n",
    "            if idx > 0:\n",
    "                score[idx-1]*=2\n",
    "                score[idx]*=2\n",
    "            else:\n",
    "                score[idx]*=2\n",
    "            idx += 1\n",
    "            \n",
    "        elif res[i] == '#':\n",
    "            score[idx]*=(-1)\n",
    "            idx += 1\n",
    "        \n",
    "        i+=1\n",
    "            \n",
    "    for s in score:\n",
    "        answer+=s\n",
    "        \n",
    "    \n",
    "    return answer\n",
    "\n",
    "dartResult = input()\n",
    "print(solution(dartResult))"
   ]
  },
  {
   "cell_type": "code",
   "execution_count": null,
   "id": "580a1eed",
   "metadata": {},
   "outputs": [],
   "source": []
  }
 ],
 "metadata": {
  "kernelspec": {
   "display_name": "Python 3 (ipykernel)",
   "language": "python",
   "name": "python3"
  },
  "language_info": {
   "codemirror_mode": {
    "name": "ipython",
    "version": 3
   },
   "file_extension": ".py",
   "mimetype": "text/x-python",
   "name": "python",
   "nbconvert_exporter": "python",
   "pygments_lexer": "ipython3",
   "version": "3.10.0"
  }
 },
 "nbformat": 4,
 "nbformat_minor": 5
}
