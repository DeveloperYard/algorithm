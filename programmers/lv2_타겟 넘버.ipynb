{
 "cells": [
  {
   "cell_type": "code",
   "execution_count": 6,
   "id": "0eeca5ad",
   "metadata": {},
   "outputs": [
    {
     "name": "stdout",
     "output_type": "stream",
     "text": [
      "4 1 2 1\n",
      "4\n",
      "2\n"
     ]
    }
   ],
   "source": [
    "from collections import deque\n",
    "\n",
    "def solution(numbers, target):\n",
    "    answer = 0\n",
    "    \n",
    "    q = deque()\n",
    "    \n",
    "    q.append((numbers[0], 0))\n",
    "    q.append(((-1)*numbers[0], 0))\n",
    "    \n",
    "    n = len(numbers)\n",
    "    while q:\n",
    "        val, idx = q.popleft()\n",
    "        idx+=1\n",
    "        if idx < n:\n",
    "            q.append((val+numbers[idx], idx))\n",
    "            q.append((val-numbers[idx], idx))\n",
    "        else:\n",
    "            if val == target:\n",
    "                answer+=1\n",
    "        \n",
    "    \n",
    "    return answer\n",
    "\n",
    "\n",
    "nums = list(map(int, input().split()))\n",
    "target = int(input())\n",
    "\n",
    "print(solution(nums, target))\n",
    "\n",
    "# must be review"
   ]
  }
 ],
 "metadata": {
  "kernelspec": {
   "display_name": "Python 3 (ipykernel)",
   "language": "python",
   "name": "python3"
  },
  "language_info": {
   "codemirror_mode": {
    "name": "ipython",
    "version": 3
   },
   "file_extension": ".py",
   "mimetype": "text/x-python",
   "name": "python",
   "nbconvert_exporter": "python",
   "pygments_lexer": "ipython3",
   "version": "3.10.0"
  }
 },
 "nbformat": 4,
 "nbformat_minor": 5
}
