{
 "cells": [
  {
   "cell_type": "code",
   "execution_count": 10,
   "id": "ed9b329c",
   "metadata": {},
   "outputs": [
    {
     "name": "stdout",
     "output_type": "stream",
     "text": [
      "10\n",
      "4\n"
     ]
    }
   ],
   "source": [
    "# 오랜만에 에라토스테네스의 체 한 번 구현해보자!\n",
    "\n",
    "def primeNum(n):\n",
    "    prime = [0]*(n+1)\n",
    "    \n",
    "    for i in range(2, n+1):\n",
    "        for j in range(i+i, n+1, i):\n",
    "            prime[j] = j\n",
    "    \n",
    "    num = 0\n",
    "    for i in range(2, n+1):\n",
    "        if prime[i] == 0:\n",
    "            num+=1\n",
    "    return num\n",
    "\n",
    "def solution(n):\n",
    "    answer = 0\n",
    "    \n",
    "    answer = primeNum(n)\n",
    "    \n",
    "    return answer\n",
    "\n",
    "n = int(input())\n",
    "\n",
    "print(solution(n))\n"
   ]
  }
 ],
 "metadata": {
  "kernelspec": {
   "display_name": "Python 3 (ipykernel)",
   "language": "python",
   "name": "python3"
  },
  "language_info": {
   "codemirror_mode": {
    "name": "ipython",
    "version": 3
   },
   "file_extension": ".py",
   "mimetype": "text/x-python",
   "name": "python",
   "nbconvert_exporter": "python",
   "pygments_lexer": "ipython3",
   "version": "3.10.0"
  }
 },
 "nbformat": 4,
 "nbformat_minor": 5
}
