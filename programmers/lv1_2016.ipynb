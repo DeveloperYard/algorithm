{
 "cells": [
  {
   "cell_type": "code",
   "execution_count": 5,
   "id": "17ffded3",
   "metadata": {},
   "outputs": [
    {
     "name": "stdout",
     "output_type": "stream",
     "text": [
      "5 24\n",
      "TUE\n"
     ]
    }
   ],
   "source": [
    "def solution(a, b):\n",
    "    \n",
    "    answer = ''\n",
    "    \n",
    "    days = ['FRI', 'SAT', 'SUN', 'MON', 'TUE', 'WED', 'THU']\n",
    "    \n",
    "    month = [0, 31, 29, 31, 30, 31, 30, 31, 31, 30, 31, 30, 31]\n",
    "    \n",
    "    total_day = 0\n",
    "    \n",
    "    for i in range(1, a):\n",
    "        total_day += month[i]\n",
    "    \n",
    "    total_day+=b\n",
    "    total_day%=7\n",
    "    \n",
    "    answer = days[total_day-1]\n",
    "    \n",
    "    return answer\n",
    "\n",
    "a, b = map(int, input().split())\n",
    "print(solution(a, b))"
   ]
  }
 ],
 "metadata": {
  "kernelspec": {
   "display_name": "Python 3 (ipykernel)",
   "language": "python",
   "name": "python3"
  },
  "language_info": {
   "codemirror_mode": {
    "name": "ipython",
    "version": 3
   },
   "file_extension": ".py",
   "mimetype": "text/x-python",
   "name": "python",
   "nbconvert_exporter": "python",
   "pygments_lexer": "ipython3",
   "version": "3.10.0"
  }
 },
 "nbformat": 4,
 "nbformat_minor": 5
}
