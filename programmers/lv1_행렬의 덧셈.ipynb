{
 "cells": [
  {
   "cell_type": "code",
   "execution_count": null,
   "id": "74d60e0f",
   "metadata": {},
   "outputs": [],
   "source": [
    "def solution(arr1, arr2):\n",
    "    answer = [[0]*len(arr1[0]) for _ in range(len(arr1))]\n",
    "    \n",
    "    for i in range(len(arr1)):\n",
    "        for j in range(len(arr1[0])):\n",
    "            answer[i][j] = arr1[i][j] + arr2[i][j]\n",
    "    \n",
    "    \n",
    "    return answer\n",
    "\n",
    "\n",
    "#solve!"
   ]
  },
  {
   "cell_type": "code",
   "execution_count": 1,
   "id": "bdd26c9e",
   "metadata": {},
   "outputs": [
    {
     "name": "stdout",
     "output_type": "stream",
     "text": [
      "2 3\n"
     ]
    }
   ],
   "source": [
    "arr = [[0, 2], [0, 1], [0, 3]]\n",
    "\n",
    "print(len(arr[0]), len(arr))"
   ]
  }
 ],
 "metadata": {
  "kernelspec": {
   "display_name": "Python 3 (ipykernel)",
   "language": "python",
   "name": "python3"
  },
  "language_info": {
   "codemirror_mode": {
    "name": "ipython",
    "version": 3
   },
   "file_extension": ".py",
   "mimetype": "text/x-python",
   "name": "python",
   "nbconvert_exporter": "python",
   "pygments_lexer": "ipython3",
   "version": "3.10.0"
  }
 },
 "nbformat": 4,
 "nbformat_minor": 5
}
