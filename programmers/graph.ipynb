{
 "cells": [
  {
   "cell_type": "code",
   "execution_count": 6,
   "id": "7a05925e",
   "metadata": {},
   "outputs": [
    {
     "name": "stdout",
     "output_type": "stream",
     "text": [
      "3\n"
     ]
    }
   ],
   "source": [
    "# 1. 가장 먼 노드\n",
    "# 플로이드로도 안됨! 시간초과\n",
    "\n",
    "def solution(n, edges):\n",
    "    answer = 0 \n",
    "    INF = int(1e9)\n",
    "    distance = [[INF]*(n+1) for _ in range(n+1)]\n",
    "    \n",
    "    for i in range(1, n+1):\n",
    "        for j in range(1, n+1):\n",
    "            if i == j:\n",
    "                distance[i][j] = 0\n",
    "                \n",
    "    for edge in edges:\n",
    "        a, b = edge\n",
    "        distance[a][b] = 1\n",
    "        distance[b][a] = 1\n",
    "        \n",
    "    for k in range(1, n+1):\n",
    "        for i in range(1, n+1):\n",
    "            for j in range(1, n+1):\n",
    "                distance[i][j] = min(distance[i][j], distance[i][k] + distance[k][j])\n",
    "                \n",
    "    maxVal = 0\n",
    "    for i in range(1, n+1):\n",
    "        if distance[1][i] != INF and maxVal < distance[1][i]:\n",
    "            maxVal = distance[1][i]\n",
    "    \n",
    "    for i in range(1, n+1):\n",
    "        if distance[1][i]==maxVal:\n",
    "            answer+=1\n",
    "\n",
    "    return answer\n",
    "\n",
    "n = 6\n",
    "edge = [[3, 6], [4, 3], [3, 2], [1, 3], [1, 2], [2, 4], [5, 2]]\n",
    "\n",
    "\n",
    "val = solution(n, edge)\n",
    "print(val)"
   ]
  },
  {
   "cell_type": "code",
   "execution_count": 7,
   "id": "f848188c",
   "metadata": {},
   "outputs": [
    {
     "name": "stdout",
     "output_type": "stream",
     "text": [
      "3\n"
     ]
    }
   ],
   "source": [
    "# 1. 가장 먼 노드\n",
    "\n",
    "import heapq\n",
    "\n",
    "def solution(n, edge):\n",
    "    answer = 0\n",
    "    # edge 기준 distance 계산해서!\n",
    "    INF = int(1e9)\n",
    "    start = 1\n",
    "\n",
    "    graph = [[] for _ in range(n+1)]\n",
    "    for i in range(len(edge)):\n",
    "        edge[i].sort()\n",
    "    \n",
    "    for i in range(len(edge)):\n",
    "        graph[edge[i][0]].append((edge[i][1], 1))\n",
    "    \n",
    "    distance = [INF]*(n+1)\n",
    "    distance[start] = 0\n",
    "    q = []\n",
    "    heapq.heappush(q, (0, start))\n",
    "    distance[0] = 0\n",
    "    \n",
    "    while q:\n",
    "        dist, now = heapq.heappop(q)\n",
    "        if distance[now] < dist:\n",
    "            continue\n",
    "        for i in graph[now]:\n",
    "            cost = distance[now]+i[1]\n",
    "            if distance[i[0]] > cost:\n",
    "                distance[i[0]] = cost\n",
    "                heapq.heappush(q, (cost, i[0]))\n",
    "    \n",
    "    answer = distance.count(max(distance))\n",
    "    return answer\n",
    "    \n",
    "n = 6\n",
    "edge = [[3, 6], [4, 3], [3, 2], [1, 3], [1, 2], [2, 4], [5, 2]]\n",
    "\n",
    "\n",
    "val = solution(n, edge)\n",
    "print(val)"
   ]
  },
  {
   "cell_type": "code",
   "execution_count": 19,
   "id": "c1b41fc6",
   "metadata": {},
   "outputs": [
    {
     "name": "stdout",
     "output_type": "stream",
     "text": [
      "[[1, 4], [3, 4], [1, 2]]\n",
      "[1000000000, 0, 1, 2, 1]\n",
      "1\n"
     ]
    }
   ],
   "source": [
    "import heapq\n",
    "\n",
    "def solution(n, edges):\n",
    "    graph = [[] for _ in range(n+1)]\n",
    "    INF = int(1e9)\n",
    "    distance = [INF]*(n+1)\n",
    "    answer = 0\n",
    "    for edge in edges:\n",
    "        edge.sort()\n",
    "        \n",
    "    start = 1\n",
    "    distance[start] = 0\n",
    "    \n",
    "    for edge in edges:\n",
    "        a, b = edge\n",
    "        graph[a].append(b)\n",
    "        graph[b].append(a)\n",
    "    \n",
    "    q = []\n",
    "    heapq.heappush(q, (0, start))\n",
    "    while q:\n",
    "        dist, now = heapq.heappop(q)\n",
    "        if dist > distance[now]:\n",
    "            continue\n",
    "        for i in graph[now]:\n",
    "            cost = distance[now] + 1\n",
    "            if distance[i] > cost:\n",
    "                distance[i] = cost\n",
    "                heapq.heappush(q, (cost, i))\n",
    "    \n",
    "    maxVal = 0\n",
    "    for i in range(1, n+1):\n",
    "        if distance[i] != INF and maxVal < distance[i]:\n",
    "            maxVal = distance[i]\n",
    "    answer = distance.count(maxVal)\n",
    "    return answer\n",
    "\n",
    "n = 4\n",
    "# edge = [[3, 6], [4, 3], [3, 2], [1, 3], [1, 2], [2, 4], [5, 2]]\n",
    "edge = [[1, 4], [4, 3], [1, 2]]\n",
    "\n",
    "val = solution(n, edge)\n",
    "print(val)"
   ]
  },
  {
   "cell_type": "code",
   "execution_count": null,
   "id": "c8b8167c",
   "metadata": {},
   "outputs": [],
   "source": []
  }
 ],
 "metadata": {
  "kernelspec": {
   "display_name": "Python 3 (ipykernel)",
   "language": "python",
   "name": "python3"
  },
  "language_info": {
   "codemirror_mode": {
    "name": "ipython",
    "version": 3
   },
   "file_extension": ".py",
   "mimetype": "text/x-python",
   "name": "python",
   "nbconvert_exporter": "python",
   "pygments_lexer": "ipython3",
   "version": "3.10.0"
  }
 },
 "nbformat": 4,
 "nbformat_minor": 5
}
