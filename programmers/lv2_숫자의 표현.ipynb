{
 "cells": [
  {
   "cell_type": "code",
   "execution_count": 5,
   "id": "6c8f835f",
   "metadata": {},
   "outputs": [
    {
     "name": "stdout",
     "output_type": "stream",
     "text": [
      "15\n",
      "0\n",
      "1\n",
      "3\n",
      "6\n",
      "10\n",
      "0\n",
      "2\n",
      "5\n",
      "9\n",
      "14\n",
      "0\n",
      "3\n",
      "7\n",
      "12\n",
      "0\n",
      "4\n",
      "9\n",
      "0\n",
      "5\n",
      "11\n",
      "0\n",
      "6\n",
      "13\n",
      "0\n",
      "7\n",
      "0\n",
      "8\n",
      "0\n",
      "9\n",
      "0\n",
      "10\n",
      "0\n",
      "11\n",
      "0\n",
      "12\n",
      "0\n",
      "13\n",
      "0\n",
      "14\n",
      "0\n",
      "4\n"
     ]
    }
   ],
   "source": [
    "def solution(n):\n",
    "    answer = 0\n",
    "    \n",
    "    sumVal = 0\n",
    "    val = 1\n",
    "    idx = 1\n",
    "    while val <= n:\n",
    "        sumVal+=val\n",
    "        val+=1\n",
    "        if sumVal == n:\n",
    "            answer+=1\n",
    "            idx+=1\n",
    "            val = idx\n",
    "            sumVal = 0\n",
    "        elif sumVal > n:\n",
    "            idx+=1\n",
    "            val = idx\n",
    "            sumVal = 0\n",
    "    \n",
    "        \n",
    "    return answer\n",
    "\n",
    "n = int(input())\n",
    "\n",
    "print(solution(n))"
   ]
  },
  {
   "cell_type": "code",
   "execution_count": null,
   "id": "3157f1cf",
   "metadata": {},
   "outputs": [],
   "source": []
  }
 ],
 "metadata": {
  "kernelspec": {
   "display_name": "Python 3 (ipykernel)",
   "language": "python",
   "name": "python3"
  },
  "language_info": {
   "codemirror_mode": {
    "name": "ipython",
    "version": 3
   },
   "file_extension": ".py",
   "mimetype": "text/x-python",
   "name": "python",
   "nbconvert_exporter": "python",
   "pygments_lexer": "ipython3",
   "version": "3.10.0"
  }
 },
 "nbformat": 4,
 "nbformat_minor": 5
}
