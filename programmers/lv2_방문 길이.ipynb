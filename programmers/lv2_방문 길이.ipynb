{
 "cells": [
  {
   "cell_type": "code",
   "execution_count": 52,
   "id": "20a99eb2",
   "metadata": {},
   "outputs": [
    {
     "name": "stdout",
     "output_type": "stream",
     "text": [
      "5 5\n",
      "5 6\n",
      "5 7\n",
      "5 8\n",
      "5 9\n",
      "5 10\n",
      "5 10\n",
      "5 10\n",
      "5 10\n",
      "5 10\n",
      "5 10\n",
      "5 10\n",
      "{(5, 6, 5, 7), (5, 7, 5, 8), (5, 5, 5, 6), (5, 8, 5, 9), (5, 9, 5, 10)}\n",
      "5\n"
     ]
    }
   ],
   "source": [
    "def solution(dirs):\n",
    "    answer = 0\n",
    "    arr = set()\n",
    "    \n",
    "    i, j = 5, 5\n",
    "    for s in dirs:\n",
    "        if s == 'L':\n",
    "            if j-1 < 0:\n",
    "                continue\n",
    "            j -= 1\n",
    "            arr.add(tuple([i, j, i, j+1]))\n",
    "        elif s == 'U':\n",
    "            if i-1 < 0:\n",
    "                continue\n",
    "            i -= 1\n",
    "            arr.add(tuple([i, j, i+1, j]))\n",
    "        elif s == 'R':\n",
    "            if j+1 >= 11:\n",
    "                continue\n",
    "            j += 1\n",
    "            arr.add(tuple(([i, j-1, i, j])))\n",
    "        else:\n",
    "            if i+1 >= 11:\n",
    "                continue\n",
    "            i += 1\n",
    "            arr.add(tuple(([i-1, j, i, j])))\n",
    "              \n",
    "    answer = len(arr)\n",
    "    return answer\n",
    "\n",
    "\n",
    "\n",
    "print(solution(\"RRRRRRRRRRRR\"))\n",
    "\n",
    "# -- solve!!"
   ]
  },
  {
   "cell_type": "code",
   "execution_count": 2,
   "id": "0a97435d",
   "metadata": {},
   "outputs": [
    {
     "name": "stdout",
     "output_type": "stream",
     "text": [
      "[[False, False, False, False, False, False, False], [False, False, False, False, False, False, False], [False, False, False, False, False, False, False], [False, False, False, True, False, False, False], [False, False, False, False, False, False, False], [False, False, False, False, False, False, False], [False, False, False, False, False, False, False]]\n",
      "0\n"
     ]
    }
   ],
   "source": [
    "arr = [[False]*7 for _ in range(7)]\n",
    "i, j = 3, 3\n"
   ]
  },
  {
   "cell_type": "code",
   "execution_count": 26,
   "id": "6356538e",
   "metadata": {},
   "outputs": [
    {
     "name": "stdout",
     "output_type": "stream",
     "text": [
      "{'L': True, 'R': False, 'U': False, 'D': False}\n",
      "[[{'L': True, 'R': False, 'U': False, 'D': False}, {'L': True, 'R': False, 'U': False, 'D': False}], [{'L': False, 'R': False, 'U': False, 'D': False}, {'L': False, 'R': False, 'U': False, 'D': False}]]\n"
     ]
    }
   ],
   "source": [
    "d= dict()\n",
    "d['L'] = False\n",
    "d['R'] = False\n",
    "d['U'] = False\n",
    "d['D'] = False\n",
    "    \n",
    "arr = [[d.copy()]*2 for _ in range(2)]\n",
    "arr[0][1]['L'] = True\n",
    "print(arr[0][1])\n",
    "print(arr)\n"
   ]
  },
  {
   "cell_type": "code",
   "execution_count": 7,
   "id": "5fa63888",
   "metadata": {},
   "outputs": [
    {
     "name": "stdout",
     "output_type": "stream",
     "text": [
      "S\n",
      "L\n",
      "S\n",
      "L\n",
      "S\n",
      "L\n",
      "S\n"
     ]
    }
   ],
   "source": [
    "dir = \"SLSLSLS\"\n",
    "\n",
    "for s in dir:\n",
    "    print(s)"
   ]
  },
  {
   "cell_type": "code",
   "execution_count": 11,
   "id": "ee645ea2",
   "metadata": {},
   "outputs": [
    {
     "name": "stdout",
     "output_type": "stream",
     "text": [
      "[3, 2]\n",
      "{(2, 3), None}\n",
      "2\n"
     ]
    }
   ],
   "source": [
    "s = set()\n",
    "s.add((2, 3))\n",
    "s.add((2, 3))\n",
    "\n",
    "i = [2, 3]\n",
    "j = [3, 2]\n",
    "\n",
    "s.add(i.sort())\n",
    "# s.add(j.sort())\n",
    "# s.add(j.sort())\n",
    "print(j)\n",
    "print(s)\n",
    "print(len(s))"
   ]
  },
  {
   "cell_type": "code",
   "execution_count": 21,
   "id": "661b76be",
   "metadata": {},
   "outputs": [
    {
     "name": "stdout",
     "output_type": "stream",
     "text": [
      "<class 'list'>\n"
     ]
    }
   ],
   "source": [
    "print(type(sorted((2, 1), key=lambda x: x)))"
   ]
  },
  {
   "cell_type": "code",
   "execution_count": 51,
   "id": "2a020b76",
   "metadata": {},
   "outputs": [
    {
     "name": "stdout",
     "output_type": "stream",
     "text": [
      "<class 'list'>\n"
     ]
    },
    {
     "ename": "TypeError",
     "evalue": "unhashable type: 'list'",
     "output_type": "error",
     "traceback": [
      "\u001b[0;31m---------------------------------------------------------------------------\u001b[0m",
      "\u001b[0;31mTypeError\u001b[0m                                 Traceback (most recent call last)",
      "\u001b[0;32m/var/folders/kn/gg6frwt12s7gcf_n79d00hy80000gn/T/ipykernel_65766/2243437055.py\u001b[0m in \u001b[0;36m<module>\u001b[0;34m\u001b[0m\n\u001b[1;32m      5\u001b[0m \u001b[0;34m\u001b[0m\u001b[0m\n\u001b[1;32m      6\u001b[0m \u001b[0ms\u001b[0m \u001b[0;34m=\u001b[0m \u001b[0mset\u001b[0m\u001b[0;34m(\u001b[0m\u001b[0;34m)\u001b[0m\u001b[0;34m\u001b[0m\u001b[0;34m\u001b[0m\u001b[0m\n\u001b[0;32m----> 7\u001b[0;31m \u001b[0ms\u001b[0m\u001b[0;34m.\u001b[0m\u001b[0madd\u001b[0m\u001b[0;34m(\u001b[0m\u001b[0mtuple\u001b[0m\u001b[0;34m(\u001b[0m\u001b[0ma\u001b[0m\u001b[0;34m)\u001b[0m\u001b[0;34m)\u001b[0m\u001b[0;34m\u001b[0m\u001b[0;34m\u001b[0m\u001b[0m\n\u001b[0m\u001b[1;32m      8\u001b[0m \u001b[0ms\u001b[0m\u001b[0;34m.\u001b[0m\u001b[0madd\u001b[0m\u001b[0;34m(\u001b[0m\u001b[0mtuple\u001b[0m\u001b[0;34m(\u001b[0m\u001b[0mb\u001b[0m\u001b[0;34m)\u001b[0m\u001b[0;34m)\u001b[0m\u001b[0;34m\u001b[0m\u001b[0;34m\u001b[0m\u001b[0m\n\u001b[1;32m      9\u001b[0m \u001b[0mprint\u001b[0m\u001b[0;34m(\u001b[0m\u001b[0ms\u001b[0m\u001b[0;34m)\u001b[0m\u001b[0;34m\u001b[0m\u001b[0;34m\u001b[0m\u001b[0m\n",
      "\u001b[0;31mTypeError\u001b[0m: unhashable type: 'list'"
     ]
    }
   ],
   "source": [
    "print(type(sorted(([3, 5], [3, 4]))))\n",
    "\n",
    "a = ([3, 4], [3, 5])\n",
    "b = ([3, 4], [3, 5])\n",
    "\n",
    "s = set()\n",
    "s.add(tuple(a))\n",
    "s.add(tuple(b))\n",
    "print(s)"
   ]
  },
  {
   "cell_type": "code",
   "execution_count": null,
   "id": "c047f665",
   "metadata": {},
   "outputs": [],
   "source": []
  }
 ],
 "metadata": {
  "kernelspec": {
   "display_name": "Python 3 (ipykernel)",
   "language": "python",
   "name": "python3"
  },
  "language_info": {
   "codemirror_mode": {
    "name": "ipython",
    "version": 3
   },
   "file_extension": ".py",
   "mimetype": "text/x-python",
   "name": "python",
   "nbconvert_exporter": "python",
   "pygments_lexer": "ipython3",
   "version": "3.10.0"
  }
 },
 "nbformat": 4,
 "nbformat_minor": 5
}
