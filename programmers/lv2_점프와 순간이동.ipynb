{
 "cells": [
  {
   "cell_type": "code",
   "execution_count": 14,
   "id": "47a5f334",
   "metadata": {},
   "outputs": [
    {
     "name": "stdout",
     "output_type": "stream",
     "text": [
      "100\n",
      "0\n"
     ]
    }
   ],
   "source": [
    "def solution(n):\n",
    "    ans = 0\n",
    "    dist = [0]*(n+1)\n",
    "    for i in range(1, n+1):\n",
    "        if i % 2 == 0:\n",
    "            dist[i] = min(dist[i-1]+1, dist[i//2])\n",
    "        else:\n",
    "            dist[i] = dist[i-1]+1\n",
    "\n",
    "    ans = dist[n]\n",
    "    return ans\n",
    "\n",
    "n = int(input())\n",
    "print(solution(n))"
   ]
  },
  {
   "cell_type": "code",
   "execution_count": 22,
   "id": "15c07602",
   "metadata": {},
   "outputs": [
    {
     "name": "stdout",
     "output_type": "stream",
     "text": [
      "1\n",
      "1\n"
     ]
    }
   ],
   "source": [
    "def solution(n):\n",
    "    ans = 0\n",
    "    while n > 0:\n",
    "        if n % 2 == 0:\n",
    "            n/=2\n",
    "        else:\n",
    "            ans+=1\n",
    "            n-=1\n",
    "\n",
    "    return ans\n",
    "\n",
    "n = int(input())\n",
    "print(solution(n))"
   ]
  },
  {
   "cell_type": "code",
   "execution_count": null,
   "id": "e775ad8f",
   "metadata": {},
   "outputs": [],
   "source": []
  }
 ],
 "metadata": {
  "kernelspec": {
   "display_name": "Python 3 (ipykernel)",
   "language": "python",
   "name": "python3"
  },
  "language_info": {
   "codemirror_mode": {
    "name": "ipython",
    "version": 3
   },
   "file_extension": ".py",
   "mimetype": "text/x-python",
   "name": "python",
   "nbconvert_exporter": "python",
   "pygments_lexer": "ipython3",
   "version": "3.10.0"
  }
 },
 "nbformat": 4,
 "nbformat_minor": 5
}
