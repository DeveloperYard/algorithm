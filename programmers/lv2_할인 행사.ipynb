{
 "cells": [
  {
   "cell_type": "code",
   "execution_count": 19,
   "id": "cb17e414",
   "metadata": {},
   "outputs": [
    {
     "name": "stdout",
     "output_type": "stream",
     "text": [
      "['apple', 'banana', 'rice', 'apple', 'pork', 'banana', 'pork', 'rice', 'pot', 'banana']\n",
      "['banana', 'rice', 'apple', 'pork', 'banana', 'pork', 'rice', 'pot', 'banana', 'apple']\n",
      "['rice', 'apple', 'pork', 'banana', 'pork', 'rice', 'pot', 'banana', 'apple', 'banana']\n",
      "3\n"
     ]
    }
   ],
   "source": [
    "def solution(want, number, discount):\n",
    "    arr = []\n",
    "    answer = 0\n",
    "    for i in range(len(want)):\n",
    "        arr.append((want[i], number[i]))\n",
    "    \n",
    "    length = sum(number)\n",
    "    for i in range(len(discount)-length+1): # index prob!\n",
    "        l = discount[i:i+length]\n",
    "        flag = True\n",
    "        for j in arr:\n",
    "            prod, num = j\n",
    "            if l.count(prod) != num: # 일치하지 않는 경우 flag를 False로 바꾼 후 break!\n",
    "                flag = False\n",
    "                break\n",
    "        if flag:\n",
    "#             print(l)\n",
    "            answer+=1\n",
    "        \n",
    "    return answer\n",
    "\n",
    "# want = [\"apple\"]\n",
    "# number = [10]\n",
    "# discount = [\"banana\", \"banana\", \"banana\", \"apple\", \"banana\", \"banana\", \"banana\", \"banana\", \"banana\", \"banana\"]\n",
    "\n",
    "# print(solution(want, number, discount))\n",
    "\n",
    "\n",
    "## .. solve!"
   ]
  },
  {
   "cell_type": "code",
   "execution_count": null,
   "id": "9b5d1e94",
   "metadata": {},
   "outputs": [],
   "source": []
  }
 ],
 "metadata": {
  "kernelspec": {
   "display_name": "Python 3 (ipykernel)",
   "language": "python",
   "name": "python3"
  },
  "language_info": {
   "codemirror_mode": {
    "name": "ipython",
    "version": 3
   },
   "file_extension": ".py",
   "mimetype": "text/x-python",
   "name": "python",
   "nbconvert_exporter": "python",
   "pygments_lexer": "ipython3",
   "version": "3.10.0"
  }
 },
 "nbformat": 4,
 "nbformat_minor": 5
}
