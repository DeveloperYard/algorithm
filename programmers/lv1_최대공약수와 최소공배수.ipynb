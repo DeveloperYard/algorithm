{
 "cells": [
  {
   "cell_type": "code",
   "execution_count": 7,
   "id": "02643c4d",
   "metadata": {},
   "outputs": [
    {
     "name": "stdout",
     "output_type": "stream",
     "text": [
      "2 5\n",
      "[1, 10]\n"
     ]
    }
   ],
   "source": [
    "def solution(n, m):\n",
    "    answer = []\n",
    "    \n",
    "    maxNum = max(n, m)\n",
    "    minNum = min(n, m)\n",
    "    \n",
    "    # 최대 공약수 GCD\n",
    "    gcd = 1\n",
    "    lcm = 0\n",
    "    for i in range(1, minNum+1):\n",
    "        if minNum % i == 0:\n",
    "            if maxNum % i == 0:\n",
    "                if gcd < i:\n",
    "                    gcd = i\n",
    "                    \n",
    "    # LCM\n",
    "    for i in range(1, minNum+1):\n",
    "        if maxNum*i % minNum == 0:\n",
    "            lcm = maxNum*i\n",
    "            break\n",
    "            \n",
    "    answer.append(gcd)\n",
    "    answer.append(lcm)\n",
    "    return answer\n",
    "\n",
    "n, m = map(int, input().split())\n",
    "\n",
    "print(solution(n, m))"
   ]
  }
 ],
 "metadata": {
  "kernelspec": {
   "display_name": "Python 3 (ipykernel)",
   "language": "python",
   "name": "python3"
  },
  "language_info": {
   "codemirror_mode": {
    "name": "ipython",
    "version": 3
   },
   "file_extension": ".py",
   "mimetype": "text/x-python",
   "name": "python",
   "nbconvert_exporter": "python",
   "pygments_lexer": "ipython3",
   "version": "3.10.0"
  }
 },
 "nbformat": 4,
 "nbformat_minor": 5
}
