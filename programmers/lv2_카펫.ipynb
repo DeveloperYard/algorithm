{
 "cells": [
  {
   "cell_type": "code",
   "execution_count": 38,
   "id": "2547f80f",
   "metadata": {},
   "outputs": [
    {
     "name": "stdout",
     "output_type": "stream",
     "text": [
      "16 9\n",
      "3 3\n",
      "[5, 5]\n"
     ]
    }
   ],
   "source": [
    "def solution(brown, yellow):\n",
    "    answer = []\n",
    "    \n",
    "    first = (brown-4)//2 # a+b\n",
    "    second = yellow # a*b\n",
    "    \n",
    "    for i in range(1, brown+1):\n",
    "        if second//i == second/i: # 정수 4와 4.0을 비교해도 해당하는 값을 얻을 수 있음!!, 홀수여도 9라면 정사각형 형태로 나올 수 있음!\n",
    "            tmp = second//i\n",
    "        else:\n",
    "            continue\n",
    "        \n",
    "        if tmp + i == first:\n",
    "            answer.append(tmp+2)\n",
    "            answer.append(i+2)\n",
    "            break\n",
    "    \n",
    "    return answer\n",
    "\n",
    "\n",
    "brown, yellow = map(int, input().split())\n",
    "\n",
    "print(solution(brown, yellow))"
   ]
  },
  {
   "cell_type": "markdown",
   "id": "d8a3fd82",
   "metadata": {},
   "source": []
  },
  {
   "cell_type": "code",
   "execution_count": 37,
   "id": "dc4fabbe",
   "metadata": {},
   "outputs": [
    {
     "name": "stdout",
     "output_type": "stream",
     "text": [
      "True\n"
     ]
    }
   ],
   "source": [
    "print(4 == 4.0)"
   ]
  },
  {
   "cell_type": "code",
   "execution_count": null,
   "id": "6a3fa7cd",
   "metadata": {},
   "outputs": [],
   "source": []
  }
 ],
 "metadata": {
  "kernelspec": {
   "display_name": "Python 3 (ipykernel)",
   "language": "python",
   "name": "python3"
  },
  "language_info": {
   "codemirror_mode": {
    "name": "ipython",
    "version": 3
   },
   "file_extension": ".py",
   "mimetype": "text/x-python",
   "name": "python",
   "nbconvert_exporter": "python",
   "pygments_lexer": "ipython3",
   "version": "3.10.0"
  }
 },
 "nbformat": 4,
 "nbformat_minor": 5
}
