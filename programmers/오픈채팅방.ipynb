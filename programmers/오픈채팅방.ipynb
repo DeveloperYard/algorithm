{
 "cells": [
  {
   "cell_type": "code",
   "execution_count": 8,
   "id": "e10db107",
   "metadata": {},
   "outputs": [
    {
     "name": "stdout",
     "output_type": "stream",
     "text": [
      "5\n",
      "Enter uid1234 Muzi\n",
      "Enter uid4567 Prodo\n",
      "Leave uid1234\n",
      "Enter uid1234 Prodo\n",
      "Change uid4567 Ryan\n",
      "['Prodo님이 입장하셨습니다.', 'Ryan님이 입장하셨습니다.', 'Prodo님이 나갔습니다.', 'Prodo님이 입장하셨습니다.']\n"
     ]
    }
   ],
   "source": [
    "import sys\n",
    "\n",
    "input = sys.stdin.readline\n",
    "\n",
    "def solution(record):\n",
    "    answer = []\n",
    "        \n",
    "    userList = {}\n",
    "    chatSeq = []\n",
    "    \n",
    "    # 닉네임이 바뀌는 Enter, Change 메서드만 체크해서 uid를 통해 rec를 전부 변경하고\n",
    "    # 처음부터 rec 다시 순회 O(2*N) -> O(N)\n",
    "    for rec in record:\n",
    "        sen = []\n",
    "        sen.append((rec.split()))\n",
    "        if len(sen[0]) == 2:\n",
    "            method, uid = sen[0]\n",
    "        else:\n",
    "            method, uid, nickname = sen[0]\n",
    "        if method == \"Enter\":\n",
    "            if uid in userList:\n",
    "                userList[uid] = nickname\n",
    "            else:\n",
    "                userList[uid] = nickname\n",
    "\n",
    "        elif method == \"Change\":\n",
    "            userList[uid] = nickname\n",
    "                \n",
    "    for rec in record:\n",
    "        sen = []\n",
    "        sen.append((rec.split()))\n",
    "        if len(sen[0]) == 2:\n",
    "            method, uid = sen[0]\n",
    "        else:\n",
    "            method, uid, nickname = sen[0]\n",
    "            \n",
    "        if method == \"Enter\":\n",
    "            answer.append((userList[uid] + \"님이 들어왔습니다.\"))\n",
    "        elif method == \"Leave\":\n",
    "            answer.append((userList[uid] + \"님이 나갔습니다.\"))\n",
    "        \n",
    "    return answer\n",
    "\n",
    "n = int(input())\n",
    "record = []\n",
    "\n",
    "for _ in range(n):\n",
    "    record.append(input())\n",
    "print(solution(record))\n"
   ]
  }
 ],
 "metadata": {
  "kernelspec": {
   "display_name": "Python 3 (ipykernel)",
   "language": "python",
   "name": "python3"
  },
  "language_info": {
   "codemirror_mode": {
    "name": "ipython",
    "version": 3
   },
   "file_extension": ".py",
   "mimetype": "text/x-python",
   "name": "python",
   "nbconvert_exporter": "python",
   "pygments_lexer": "ipython3",
   "version": "3.10.0"
  }
 },
 "nbformat": 4,
 "nbformat_minor": 5
}
