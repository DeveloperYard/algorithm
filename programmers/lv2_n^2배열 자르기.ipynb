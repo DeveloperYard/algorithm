{
 "cells": [
  {
   "cell_type": "code",
   "execution_count": 5,
   "id": "5c45bbf4",
   "metadata": {},
   "outputs": [
    {
     "name": "stdout",
     "output_type": "stream",
     "text": [
      "[4, 3, 3, 3, 4, 4, 4, 4]\n"
     ]
    }
   ],
   "source": [
    "def solution(n, left, right):\n",
    "    answer = []\n",
    "    \n",
    "    start = left // n\n",
    "    last = right // n\n",
    "    end = right % n\n",
    "    \n",
    "    i, j = left//n, left%n\n",
    "    while 1:\n",
    "        if i < last:\n",
    "            if j < n:\n",
    "                answer.append(max(i, j)+1)\n",
    "                j+=1\n",
    "            else:\n",
    "                i+=1\n",
    "                j = 0\n",
    "        elif i == last:\n",
    "            if j <= end:\n",
    "                answer.append(max(i, j)+1)\n",
    "                j+=1\n",
    "            else:\n",
    "                break\n",
    "    \n",
    "    return answer\n",
    "\n",
    "print(solution(4,7,14))\n",
    "\n",
    "# -- solve!"
   ]
  },
  {
   "cell_type": "code",
   "execution_count": 2,
   "id": "325857a7",
   "metadata": {},
   "outputs": [
    {
     "name": "stdout",
     "output_type": "stream",
     "text": [
      "10000 200 205\n",
      "[1]\n"
     ]
    }
   ],
   "source": [
    "def solution(n, left, right):\n",
    "    \n",
    "    tmp = []\n",
    "    ans = []\n",
    "    for i in range(1, n+1):\n",
    "        tmp.append(i)\n",
    "    \n",
    "    \n",
    "    \n",
    "    \n",
    "    for i in range(1, right+1):\n",
    "        ans += [i+1]*(i+1)\n",
    "        ans += tmp[i+1:n]\n",
    "        \n",
    "        \n",
    "    return tmp[left:right+1]\n",
    "\n",
    "n, left, right = map(int, input().split())\n",
    "\n",
    "print(solution(n, left, right))\n",
    "\n",
    "# -- Time exceed"
   ]
  },
  {
   "cell_type": "markdown",
   "id": "7625267d",
   "metadata": {},
   "source": [
    "#### n = 3\n",
    "\n",
    "a = [1, 2, 3]\n",
    "b = [2, 2, 2]\n",
    "\n",
    "print(a+b[:2])\n",
    "\n",
    "\n",
    "    \n",
    "print(arr)"
   ]
  },
  {
   "cell_type": "code",
   "execution_count": null,
   "id": "1c142b40",
   "metadata": {},
   "outputs": [],
   "source": []
  }
 ],
 "metadata": {
  "kernelspec": {
   "display_name": "Python 3 (ipykernel)",
   "language": "python",
   "name": "python3"
  },
  "language_info": {
   "codemirror_mode": {
    "name": "ipython",
    "version": 3
   },
   "file_extension": ".py",
   "mimetype": "text/x-python",
   "name": "python",
   "nbconvert_exporter": "python",
   "pygments_lexer": "ipython3",
   "version": "3.10.0"
  }
 },
 "nbformat": 4,
 "nbformat_minor": 5
}
