{
 "cells": [
  {
   "cell_type": "code",
   "execution_count": 8,
   "id": "9638173e",
   "metadata": {},
   "outputs": [
    {
     "name": "stdout",
     "output_type": "stream",
     "text": [
      "1 2 3 9 10 12\n",
      "7\n",
      "2\n"
     ]
    }
   ],
   "source": [
    "import heapq\n",
    "# more spicy\n",
    "\n",
    "# 섞은 음식의 스코빌 지수 = 가장 맵지 않은 음식의 스코빌 지수 + (두 번째로 맵지 않은 음식의 스코빌 지수 * 2)\n",
    "\n",
    "# 모든 음식의 스코빌 지수가 k이상이 될 때까지 섞음\n",
    "\n",
    "def solution(scoville, K):\n",
    "\n",
    "    answer = 0\n",
    "    h = []\n",
    "    for s in scoville:\n",
    "        heapq.heappush(h, s)\n",
    "        \n",
    "    while len(h)>=2 and h[0] < K:\n",
    "        one = heapq.heappop(h)\n",
    "        two = heapq.heappop(h)\n",
    "        new_one = one + (two*2)\n",
    "        heapq.heappush(h, new_one)\n",
    "        answer+=1\n",
    "        \n",
    "    if h[0] < K:\n",
    "        return -1\n",
    "    else:\n",
    "        return answer\n",
    "\n",
    "\n",
    "scov = list(map(int, input().split()))\n",
    "k = int(input())\n",
    "print(solution(scov, k))"
   ]
  },
  {
   "cell_type": "code",
   "execution_count": null,
   "id": "e053798f",
   "metadata": {},
   "outputs": [],
   "source": []
  }
 ],
 "metadata": {
  "kernelspec": {
   "display_name": "Python 3 (ipykernel)",
   "language": "python",
   "name": "python3"
  },
  "language_info": {
   "codemirror_mode": {
    "name": "ipython",
    "version": 3
   },
   "file_extension": ".py",
   "mimetype": "text/x-python",
   "name": "python",
   "nbconvert_exporter": "python",
   "pygments_lexer": "ipython3",
   "version": "3.10.0"
  }
 },
 "nbformat": 4,
 "nbformat_minor": 5
}
