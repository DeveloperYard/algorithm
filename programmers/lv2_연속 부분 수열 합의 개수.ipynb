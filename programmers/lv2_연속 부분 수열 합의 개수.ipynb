{
 "cells": [
  {
   "cell_type": "code",
   "execution_count": 12,
   "id": "18b57f33",
   "metadata": {},
   "outputs": [
    {
     "name": "stdout",
     "output_type": "stream",
     "text": [
      "18\n"
     ]
    }
   ],
   "source": [
    "def solution(arr):\n",
    "    ans = 0\n",
    "    length = len(arr)\n",
    "    arr = arr+arr\n",
    "    curLen = 0\n",
    "    numArr = []\n",
    "    for i in range(length):\n",
    "        for j in range(length):\n",
    "            numArr.append(sum(arr[j:j+curLen]))\n",
    "        curLen+=1\n",
    "    ans = len(set(numArr))\n",
    "    return ans\n",
    "\n",
    "print(solution([7,9,1,1,4]))\n",
    "\n",
    "# -- solve\n",
    "# 시간 복잡도를 줄일 수 있는 라이브러리는 없을까?"
   ]
  },
  {
   "cell_type": "code",
   "execution_count": 10,
   "id": "95788112",
   "metadata": {},
   "outputs": [
    {
     "name": "stdout",
     "output_type": "stream",
     "text": [
      "[]\n"
     ]
    }
   ],
   "source": [
    "a = [1, 2, 3]\n",
    "print(a[2:0])"
   ]
  },
  {
   "cell_type": "code",
   "execution_count": null,
   "id": "9baba225",
   "metadata": {},
   "outputs": [],
   "source": []
  }
 ],
 "metadata": {
  "kernelspec": {
   "display_name": "Python 3 (ipykernel)",
   "language": "python",
   "name": "python3"
  },
  "language_info": {
   "codemirror_mode": {
    "name": "ipython",
    "version": 3
   },
   "file_extension": ".py",
   "mimetype": "text/x-python",
   "name": "python",
   "nbconvert_exporter": "python",
   "pygments_lexer": "ipython3",
   "version": "3.10.0"
  }
 },
 "nbformat": 4,
 "nbformat_minor": 5
}
