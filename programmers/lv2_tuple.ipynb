{
 "cells": [
  {
   "cell_type": "code",
   "execution_count": 54,
   "id": "44ab5d46",
   "metadata": {},
   "outputs": [
    {
     "name": "stdout",
     "output_type": "stream",
     "text": [
      "{{4,2,3},{3},{2,3,4,1},{2,3}}\n",
      "[3]\n",
      "[4, 2, 3]\n",
      "[2, 3]\n",
      "[2, 3, 4, 1]\n",
      "[3, 4, 2, 1]\n"
     ]
    }
   ],
   "source": [
    "# 구현 문제, 다른 해결 방법이 있는 지 찾아볼 것!\n",
    "\n",
    "def solution(s):\n",
    "    answer = []\n",
    "    numArr = []\n",
    "    tmp = 0\n",
    "    \n",
    "    tmpArr = []\n",
    "    preFlag = 0\n",
    "    for i in range(len(s)):\n",
    "        if s[i] == '{':\n",
    "            preFlag = 1\n",
    "            continue\n",
    "        elif ord(s[i]) >= 48 and ord(s[i]) <= 57:\n",
    "            tmp*=10\n",
    "            tmp+=(ord(s[i])-48)\n",
    "    \n",
    "        elif s[i] == ',':\n",
    "            if tmp != 0 and preFlag == 1:\n",
    "                tmpArr.append(tmp)\n",
    "            else:\n",
    "                tmp = 0\n",
    "                continue\n",
    "            tmp = 0\n",
    "        elif s[i] == '}':\n",
    "            if preFlag == 1:\n",
    "                tmpArr.append(tmp)\n",
    "                numArr.append(tmpArr)\n",
    "                tmpArr = []\n",
    "                preFlag = 0\n",
    "        \n",
    "    \n",
    "    for i in range(len(numArr)-1):\n",
    "        for j in range(len(numArr)-1-i):\n",
    "            if len(numArr[j]) > len(numArr[j+1]):\n",
    "                tmp = numArr[j]\n",
    "                numArr[j] = numArr[j+1]\n",
    "                numArr[j+1] = tmp\n",
    "    \n",
    "    for i in range(len(numArr)):\n",
    "        for j in range(len(numArr[i])):\n",
    "            if not numArr[i][j] in answer:\n",
    "                answer.append(numArr[i][j])\n",
    "            \n",
    "    return answer\n",
    "\n",
    "\n",
    "s = input()\n",
    "\n",
    "print(solution(s))"
   ]
  },
  {
   "cell_type": "code",
   "execution_count": 4,
   "id": "22b4d948",
   "metadata": {},
   "outputs": [
    {
     "name": "stdout",
     "output_type": "stream",
     "text": [
      "57\n"
     ]
    }
   ],
   "source": [
    "print(ord('9'))"
   ]
  },
  {
   "cell_type": "code",
   "execution_count": 52,
   "id": "53669cdc",
   "metadata": {},
   "outputs": [
    {
     "name": "stdout",
     "output_type": "stream",
     "text": [
      "4\n",
      "[[3], [4, 3], [4, 2, 3], [2, 3, 4, 1]]\n"
     ]
    }
   ],
   "source": [
    "arr = [[4, 2, 3],[3], [2,3,4, 1], [4, 3]]\n",
    "print(len(arr))\n",
    "for i in range(len(arr)-1):\n",
    "    for j in range(len(arr)-1-i):\n",
    "        if len(arr[j]) > len(arr[j+1]):\n",
    "            tmp = arr[j]\n",
    "            arr[j] = arr[j+1]\n",
    "            arr[j+1] = tmp\n",
    "\n",
    "print(arr)"
   ]
  }
 ],
 "metadata": {
  "kernelspec": {
   "display_name": "Python 3 (ipykernel)",
   "language": "python",
   "name": "python3"
  },
  "language_info": {
   "codemirror_mode": {
    "name": "ipython",
    "version": 3
   },
   "file_extension": ".py",
   "mimetype": "text/x-python",
   "name": "python",
   "nbconvert_exporter": "python",
   "pygments_lexer": "ipython3",
   "version": "3.10.0"
  }
 },
 "nbformat": 4,
 "nbformat_minor": 5
}
