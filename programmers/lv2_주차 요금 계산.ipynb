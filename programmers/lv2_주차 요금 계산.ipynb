{
 "cells": [
  {
   "cell_type": "code",
   "execution_count": 1,
   "id": "45ecbd12",
   "metadata": {},
   "outputs": [
    {
     "ename": "SyntaxError",
     "evalue": "invalid syntax (1473206468.py, line 17)",
     "output_type": "error",
     "traceback": [
      "\u001b[0;36m  File \u001b[0;32m\"/var/folders/kn/gg6frwt12s7gcf_n79d00hy80000gn/T/ipykernel_1001/1473206468.py\"\u001b[0;36m, line \u001b[0;32m17\u001b[0m\n\u001b[0;31m    x = x for x in carTimeRecord if x[0] == carNum\u001b[0m\n\u001b[0m          ^\u001b[0m\n\u001b[0;31mSyntaxError\u001b[0m\u001b[0;31m:\u001b[0m invalid syntax\n"
     ]
    }
   ],
   "source": [
    "def solution(fees, records):\n",
    "    \n",
    "    basicTime, basicFee, unitTime, unitFee = fees\n",
    "    \n",
    "    carTimeRecord = []\n",
    "    carInPlace = []\n",
    "    for rec in records:\n",
    "        \n",
    "        time, carNum, method = rec.split(rec)\n",
    "        timeRec = time.split(':')\n",
    "        if method == 'IN':\n",
    "            timeRec = int(timeRec[0])*60 + int(timeRec[1])\n",
    "            carTimeRecord.append((carNum, timeRec))\n",
    "            carInPlace.append(carNum)\n",
    "        else:\n",
    "            timeRec = int(timeRec[0])*60 + int(timeRec[1])\n",
    "            x = x for x in carTimeRecord if x[0] == carNum\n",
    "            resTime = x[2] - timeRec\n",
    "            if resTime > basicTime:\n",
    "                minute = resTime % 60\n",
    "                minuteFee = (minute // 10)*unitFee if minute // 10 > minute / 10 else (minute // 10 + 1) * unitFee\n",
    "                fee = basicFee + unitFee\n",
    "                \n",
    "                alreadyFlag = 0\n",
    "                for an in answer:\n",
    "                    if an[0] == carNum:\n",
    "                        alreadyFlag = 1\n",
    "                        an[1]+=fee\n",
    "                if alreadyFlag == 0:\n",
    "                    answer.append((carNum, fee))\n",
    "                    \n",
    "            del carInPlace(carInPlace.index(carInPlace.find(info[0])))\n",
    "    \n",
    "    defaultLastTime = 23*60 + 59\n",
    "    \n",
    "    for rec in carInPlace:\n",
    "        \n",
    "    \n",
    "    answer = []\n",
    "    return answer"
   ]
  },
  {
   "cell_type": "code",
   "execution_count": 47,
   "id": "8d2fc3e1",
   "metadata": {},
   "outputs": [
    {
     "name": "stdout",
     "output_type": "stream",
     "text": [
      "{} {}\n",
      "{'1234': 1439}\n",
      "[14841]\n"
     ]
    }
   ],
   "source": [
    "def solution(fees, records):\n",
    "    \n",
    "    basicTime, basicFee, unitTime, unitFee = fees\n",
    "    answer = []\n",
    "    \n",
    "    carInPlace = dict() # 주차장에 있는 차량 확인\n",
    "    carInfo = dict() # 차량의 총 주차 시간\n",
    "    tmpAns = dict() # 차량의 주차 시간에 따른 비용\n",
    "    \n",
    "    for rec in records:\n",
    "#         print(carInPlace, carInfo, end=\"\\n\")\n",
    "        time, carNum, method = rec.split(' ')\n",
    "        timeRec = time.split(':')\n",
    "        inTime = int(timeRec[0])*60 + int(timeRec[1])\n",
    "\n",
    "        if method == 'IN':\n",
    "            carInPlace[carNum] = inTime                 \n",
    "        else:\n",
    "            outTime = int(timeRec[0])*60 + int(timeRec[1])\n",
    "            resTime = outTime - carInPlace[carNum]\n",
    "            if carNum in carInfo:\n",
    "                carInfo[carNum] += resTime\n",
    "            else:\n",
    "                carInfo[carNum] = resTime\n",
    "            del carInPlace[carNum]\n",
    "    \n",
    "    defaultLastTime = 23*60 + 59\n",
    "        \n",
    "    for key, val in carInPlace.items():\n",
    "        carNum, time = key, val\n",
    "        resTime = defaultLastTime - time\n",
    "        alreadyFlag = 0\n",
    "        if carNum in carInfo:\n",
    "            carInfo[carNum]+=resTime\n",
    "        else:\n",
    "            carInfo[carNum]=resTime\n",
    "            \n",
    "    \n",
    "    for key, val in carInfo.items():\n",
    "        carNum, resTime = key, val\n",
    "        if resTime > basicTime:\n",
    "            minute = resTime - basicTime\n",
    "            tfMinute = minute // unitTime + 1 if minute / unitTime > minute // unitTime else minute // unitTime\n",
    "            minuteFee = tfMinute * unitFee\n",
    "            fee = basicFee + minuteFee\n",
    "            \n",
    "            tmpAns[carNum] = fee\n",
    "        else:\n",
    "            tmpAns[carNum] = basicFee\n",
    "                \n",
    "#     print(carInfo)\n",
    "    tmpAns = sorted(tmpAns.items(), key = lambda x: x[0])\n",
    "#     print(type(tmpAns))\n",
    "#     print(tmpAns)\n",
    "#     print(carInPlace)\n",
    "    for info in tmpAns:\n",
    "        answer.append(info[1])\n",
    "    return answer\n",
    "\n",
    "fees = [1, 461, 1, 10]\n",
    "records = [\"00:00 1234 IN\"]\n",
    "\n",
    "print(solution(fees, records))"
   ]
  },
  {
   "cell_type": "code",
   "execution_count": 4,
   "id": "4114854b",
   "metadata": {},
   "outputs": [
    {
     "name": "stdout",
     "output_type": "stream",
     "text": [
      "['05:34', '5961', 'IN']\n",
      "['05', '24']\n"
     ]
    }
   ],
   "source": [
    "print(\"05:34 5961 IN\".split(' '))\n",
    "print(\"05:24\".split(':'))"
   ]
  },
  {
   "cell_type": "code",
   "execution_count": 40,
   "id": "33634132",
   "metadata": {},
   "outputs": [
    {
     "name": "stdout",
     "output_type": "stream",
     "text": [
      "14\n"
     ]
    }
   ],
   "source": [
    "print(round(13.5))"
   ]
  },
  {
   "cell_type": "code",
   "execution_count": 41,
   "id": "f8ca706a",
   "metadata": {},
   "outputs": [
    {
     "name": "stdout",
     "output_type": "stream",
     "text": [
      "12\n"
     ]
    }
   ],
   "source": [
    "print(128 // 10)"
   ]
  },
  {
   "cell_type": "code",
   "execution_count": null,
   "id": "f6e75f54",
   "metadata": {},
   "outputs": [],
   "source": []
  }
 ],
 "metadata": {
  "kernelspec": {
   "display_name": "Python 3 (ipykernel)",
   "language": "python",
   "name": "python3"
  },
  "language_info": {
   "codemirror_mode": {
    "name": "ipython",
    "version": 3
   },
   "file_extension": ".py",
   "mimetype": "text/x-python",
   "name": "python",
   "nbconvert_exporter": "python",
   "pygments_lexer": "ipython3",
   "version": "3.10.0"
  }
 },
 "nbformat": 4,
 "nbformat_minor": 5
}
