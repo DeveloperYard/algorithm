{
 "cells": [
  {
   "cell_type": "code",
   "execution_count": 59,
   "id": "d91dcac1",
   "metadata": {},
   "outputs": [
    {
     "name": "stdout",
     "output_type": "stream",
     "text": [
      "><\n",
      "aaa\n"
     ]
    }
   ],
   "source": [
    "def solution(new_id):\n",
    "    answer = ''\n",
    "    \n",
    "    # 1phase : new_id to under letter\n",
    "    new_id = new_id.lower()\n",
    "    new_id = list(new_id)\n",
    "    one_id = []\n",
    "    # 2phase : 알파벳 소문자, 숫자, '-', '_', '.'가 아닌 모든 문자 제거\n",
    "    i = 0\n",
    "    while i < len(new_id):\n",
    "        if (ord(new_id[i]) >= 48 and ord(new_id[i]) <= 57) or new_id[i] == '-' or new_id[i] == '_' or new_id[i] == '.' or (ord(new_id[i]) >= 97 and ord(new_id[i]) <= 123):\n",
    "            one_id.append(new_id[i])\n",
    "        i+=1\n",
    "    \n",
    "    thr_id = []\n",
    "    # 3phase : new_id에서 마침표가 2번 이상 연속된 부분을 하나의 마침표로 치환\n",
    "    i = 0\n",
    "    flag = 0\n",
    "    while i < len(one_id):\n",
    "        if one_id[i] == '.':\n",
    "            if flag == 0:\n",
    "                thr_id.append(one_id[i])\n",
    "                flag = 1\n",
    "            else:\n",
    "                i+=1\n",
    "                continue\n",
    "        else:\n",
    "            thr_id.append(one_id[i])\n",
    "            flag = 0\n",
    "        i+=1\n",
    "                \n",
    "    # 4phase : new_id의 마침표가 처음이나 끝에 있으면 제거, 비어있는 문자열인 경우 문제 발생!\n",
    "    if (len(thr_id)>= 1):\n",
    "        if thr_id[0] == '.':\n",
    "            del thr_id[0]\n",
    "        elif thr_id[len(thr_id)-1] == '.':\n",
    "            del thr_id[len(thr_id)-1]\n",
    "        \n",
    "    # 5phase : new_id가 빈 문자열이면 new_id에 a를 대입\n",
    "    if len(thr_id) == 0:\n",
    "        thr_id.append(\"a\")\n",
    "        \n",
    "    # 6phase : new_id의 길이가 16자 이상이면, new_id의 첫 15개의 문자를 제외한 나머지 문자들을 모두 제거합니다.\n",
    "    # 만약 제거 후 마침표(.)가 new_id의 끝에 위치한다면 끝에 위치한 마침표(.) 문자를 제거합니다.\n",
    "    \n",
    "    six_id = []\n",
    "    \n",
    "    for i in range(len(thr_id)):\n",
    "        if i >= 15:\n",
    "            break\n",
    "        else:\n",
    "            six_id.append(thr_id[i])\n",
    "    \n",
    "    if six_id[len(six_id)-1] == '.':\n",
    "        del six_id[len(six_id)-1]\n",
    "    \n",
    "    # 7phase : new_id의 길이가 2자 이하라면, new_id의 마지막 문자를 new_id의 길이가 3이 될 때까지 반복해서 끝에 붙입니다.\n",
    "    \n",
    "    if len(six_id) <= 2:\n",
    "        while len(six_id) < 3:\n",
    "            six_id.append(six_id[len(six_id)-1])\n",
    "            \n",
    "            \n",
    "    answer = ''.join(s for s in six_id)\n",
    "        \n",
    "    return answer\n",
    "\n",
    "string = input()\n",
    "\n",
    "print(solution(string))\n",
    "\n",
    "\n",
    "# 다시 단계마다 구현했는데 논리적 오류가 있는지 체크할 것!"
   ]
  },
  {
   "cell_type": "code",
   "execution_count": 54,
   "id": "ad354538",
   "metadata": {},
   "outputs": [
    {
     "name": "stdout",
     "output_type": "stream",
     "text": [
      "49\n"
     ]
    }
   ],
   "source": [
    "s2 = ord('1')\n",
    "\n",
    "print(s2)"
   ]
  },
  {
   "cell_type": "code",
   "execution_count": null,
   "id": "aeb100a6",
   "metadata": {},
   "outputs": [],
   "source": []
  }
 ],
 "metadata": {
  "kernelspec": {
   "display_name": "Python 3 (ipykernel)",
   "language": "python",
   "name": "python3"
  },
  "language_info": {
   "codemirror_mode": {
    "name": "ipython",
    "version": 3
   },
   "file_extension": ".py",
   "mimetype": "text/x-python",
   "name": "python",
   "nbconvert_exporter": "python",
   "pygments_lexer": "ipython3",
   "version": "3.10.0"
  }
 },
 "nbformat": 4,
 "nbformat_minor": 5
}
