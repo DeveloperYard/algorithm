{
 "cells": [
  {
   "cell_type": "code",
   "execution_count": 30,
   "id": "efa13c4e",
   "metadata": {},
   "outputs": [
    {
     "name": "stdout",
     "output_type": "stream",
     "text": [
      "1000 1 2\n",
      "1\n"
     ]
    }
   ],
   "source": [
    "import math\n",
    "\n",
    "def solution(n, a, b):\n",
    "    answer = 1\n",
    "    \n",
    "    fir = min(a, b)\n",
    "    sec = max(a, b)\n",
    "    \n",
    "    while 1:\n",
    "        if sec%2 == 0 and sec-fir == 1:\n",
    "            return answer\n",
    "        answer+=1\n",
    "        sec = math.ceil(sec/2)\n",
    "        fir = math.ceil(fir/2)\n",
    "#         print(fir, sec)\n",
    "        \n",
    "    return answer\n",
    "\n",
    "n, a, b = map(int, input().split())\n",
    "print(solution(n, a,b))"
   ]
  },
  {
   "cell_type": "code",
   "execution_count": 14,
   "id": "a643d6b6",
   "metadata": {},
   "outputs": [
    {
     "name": "stdout",
     "output_type": "stream",
     "text": [
      "1\n",
      "2\n"
     ]
    }
   ],
   "source": [
    "import math\n",
    "\n",
    "print(math.ceil(2/2))\n",
    "print(3%2 + 1)"
   ]
  },
  {
   "cell_type": "code",
   "execution_count": 10,
   "id": "7a131fe7",
   "metadata": {},
   "outputs": [
    {
     "name": "stdout",
     "output_type": "stream",
     "text": [
      "4.5\n"
     ]
    }
   ],
   "source": [
    "print(round(9/2, ))"
   ]
  },
  {
   "cell_type": "code",
   "execution_count": null,
   "id": "8ff197ca",
   "metadata": {},
   "outputs": [],
   "source": []
  }
 ],
 "metadata": {
  "kernelspec": {
   "display_name": "Python 3 (ipykernel)",
   "language": "python",
   "name": "python3"
  },
  "language_info": {
   "codemirror_mode": {
    "name": "ipython",
    "version": 3
   },
   "file_extension": ".py",
   "mimetype": "text/x-python",
   "name": "python",
   "nbconvert_exporter": "python",
   "pygments_lexer": "ipython3",
   "version": "3.10.0"
  }
 },
 "nbformat": 4,
 "nbformat_minor": 5
}
