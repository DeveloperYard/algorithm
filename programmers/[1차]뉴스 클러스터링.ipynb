{
 "cells": [
  {
   "cell_type": "code",
   "execution_count": 8,
   "id": "c459f273",
   "metadata": {},
   "outputs": [
    {
     "name": "stdout",
     "output_type": "stream",
     "text": [
      "FRANCE\n",
      "french\n"
     ]
    },
    {
     "ename": "TypeError",
     "evalue": "unsupported operand type(s) for &: 'str' and 'str'",
     "output_type": "error",
     "traceback": [
      "\u001b[0;31m---------------------------------------------------------------------------\u001b[0m",
      "\u001b[0;31mTypeError\u001b[0m                                 Traceback (most recent call last)",
      "\u001b[0;32m/var/folders/kn/gg6frwt12s7gcf_n79d00hy80000gn/T/ipykernel_4252/3125659810.py\u001b[0m in \u001b[0;36m<module>\u001b[0;34m\u001b[0m\n\u001b[1;32m     37\u001b[0m \u001b[0mstr2\u001b[0m \u001b[0;34m=\u001b[0m \u001b[0minput\u001b[0m\u001b[0;34m(\u001b[0m\u001b[0;34m)\u001b[0m\u001b[0;34m\u001b[0m\u001b[0;34m\u001b[0m\u001b[0m\n\u001b[1;32m     38\u001b[0m \u001b[0;34m\u001b[0m\u001b[0m\n\u001b[0;32m---> 39\u001b[0;31m \u001b[0mprint\u001b[0m\u001b[0;34m(\u001b[0m\u001b[0msolution\u001b[0m\u001b[0;34m(\u001b[0m\u001b[0mstr1\u001b[0m\u001b[0;34m,\u001b[0m \u001b[0mstr2\u001b[0m\u001b[0;34m)\u001b[0m\u001b[0;34m)\u001b[0m\u001b[0;34m\u001b[0m\u001b[0;34m\u001b[0m\u001b[0m\n\u001b[0m",
      "\u001b[0;32m/var/folders/kn/gg6frwt12s7gcf_n79d00hy80000gn/T/ipykernel_4252/3125659810.py\u001b[0m in \u001b[0;36msolution\u001b[0;34m(str1, str2)\u001b[0m\n\u001b[1;32m     26\u001b[0m     \u001b[0mresStr1\u001b[0m \u001b[0;34m=\u001b[0m \u001b[0mstr\u001b[0m\u001b[0;34m(\u001b[0m\u001b[0mresStr1\u001b[0m\u001b[0;34m)\u001b[0m\u001b[0;34m\u001b[0m\u001b[0;34m\u001b[0m\u001b[0m\n\u001b[1;32m     27\u001b[0m     \u001b[0mresStr2\u001b[0m \u001b[0;34m=\u001b[0m \u001b[0mstr\u001b[0m\u001b[0;34m(\u001b[0m\u001b[0mresStr2\u001b[0m\u001b[0;34m)\u001b[0m\u001b[0;34m\u001b[0m\u001b[0;34m\u001b[0m\u001b[0m\n\u001b[0;32m---> 28\u001b[0;31m     \u001b[0mintersect\u001b[0m \u001b[0;34m=\u001b[0m \u001b[0;34m(\u001b[0m\u001b[0mresStr1\u001b[0m \u001b[0;34m&\u001b[0m \u001b[0mresStr2\u001b[0m\u001b[0;34m)\u001b[0m\u001b[0;34m\u001b[0m\u001b[0;34m\u001b[0m\u001b[0m\n\u001b[0m\u001b[1;32m     29\u001b[0m     \u001b[0munion\u001b[0m \u001b[0;34m=\u001b[0m \u001b[0;34m(\u001b[0m\u001b[0mresStr1\u001b[0m \u001b[0;34m|\u001b[0m \u001b[0mresStr2\u001b[0m\u001b[0;34m)\u001b[0m\u001b[0;34m\u001b[0m\u001b[0;34m\u001b[0m\u001b[0m\n\u001b[1;32m     30\u001b[0m \u001b[0;34m\u001b[0m\u001b[0m\n",
      "\u001b[0;31mTypeError\u001b[0m: unsupported operand type(s) for &: 'str' and 'str'"
     ]
    }
   ],
   "source": [
    "def processingStr(string):\n",
    "    string.lower()\n",
    "    string = list(string)\n",
    "    i = 0\n",
    "    \n",
    "    while i > len(string):\n",
    "        if ord(string[i]) > 122 or ord(string[i]) < 97:\n",
    "            string.remove(string[i])\n",
    "            \n",
    "            \n",
    "    return string\n",
    "    \n",
    "\n",
    "# 중복을 허용하는 집합 자료형 구현해야 함!\n",
    "# 다중 집합! 어떻게 구현할 지 생각해보기\n",
    "def solution(str1, str2):\n",
    "    answer = 0\n",
    "    \n",
    "    str1 = processingStr(str1)\n",
    "    str2 = processingStr(str2)\n",
    "    \n",
    "    resStr1 = []\n",
    "    resStr2 = []\n",
    "    for i in range(len(str1)-1):\n",
    "        resStr1.append(str1[i:i+1])\n",
    "        resStr2.append(str2[i:i+1])\n",
    "    \n",
    "    resStr1 = str(resStr1)\n",
    "    resStr2 = str(resStr2)\n",
    "    intersect = (resStr1 & resStr2)\n",
    "    union = (resStr1 | resStr2)\n",
    "    \n",
    "    print(intersect/union)\n",
    "    \n",
    "    return answer\n",
    "\n",
    "\n",
    "str1 = input()\n",
    "str2 = input()\n",
    "\n",
    "print(solution(str1, str2))\n",
    "\n",
    "# 해결해야 해요!"
   ]
  },
  {
   "cell_type": "code",
   "execution_count": null,
   "id": "7f341d33",
   "metadata": {},
   "outputs": [],
   "source": []
  }
 ],
 "metadata": {
  "kernelspec": {
   "display_name": "Python 3 (ipykernel)",
   "language": "python",
   "name": "python3"
  },
  "language_info": {
   "codemirror_mode": {
    "name": "ipython",
    "version": 3
   },
   "file_extension": ".py",
   "mimetype": "text/x-python",
   "name": "python",
   "nbconvert_exporter": "python",
   "pygments_lexer": "ipython3",
   "version": "3.10.0"
  }
 },
 "nbformat": 4,
 "nbformat_minor": 5
}
