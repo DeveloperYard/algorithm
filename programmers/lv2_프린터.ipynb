{
 "cells": [
  {
   "cell_type": "code",
   "execution_count": 4,
   "id": "3fe69134",
   "metadata": {},
   "outputs": [
    {
     "name": "stdout",
     "output_type": "stream",
     "text": [
      "1 1 9 1 1 1\n",
      "0\n",
      "5\n"
     ]
    }
   ],
   "source": [
    "from collections import deque\n",
    "\n",
    "def solution(priorities, location):\n",
    "    answer = 0\n",
    "    \n",
    "    q = deque()\n",
    "    for i in range(len(priorities)):\n",
    "        q.append((i, priorities[i]))\n",
    "    \n",
    "    while q:\n",
    "        cur_idx, prior = q.popleft()\n",
    "        \n",
    "        appendFlag = 0\n",
    "        \n",
    "        for i in range(len(q)):\n",
    "            if q[i][1] > prior:\n",
    "                q.append((cur_idx, prior))\n",
    "                appendFlag = 1\n",
    "                break\n",
    "        \n",
    "        if appendFlag == 1:\n",
    "            continue\n",
    "        else:\n",
    "            answer += 1\n",
    "            if cur_idx == location:\n",
    "                return answer\n",
    "        \n",
    "        \n",
    "    return answer\n",
    "\n",
    "pr = list(map(int, input().split()))\n",
    "loc = int(input())\n",
    "\n",
    "print(solution(pr, loc))"
   ]
  },
  {
   "cell_type": "code",
   "execution_count": null,
   "id": "e5eed6ef",
   "metadata": {},
   "outputs": [],
   "source": []
  }
 ],
 "metadata": {
  "kernelspec": {
   "display_name": "Python 3 (ipykernel)",
   "language": "python",
   "name": "python3"
  },
  "language_info": {
   "codemirror_mode": {
    "name": "ipython",
    "version": 3
   },
   "file_extension": ".py",
   "mimetype": "text/x-python",
   "name": "python",
   "nbconvert_exporter": "python",
   "pygments_lexer": "ipython3",
   "version": "3.10.0"
  }
 },
 "nbformat": 4,
 "nbformat_minor": 5
}
