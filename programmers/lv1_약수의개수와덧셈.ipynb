{
 "cells": [
  {
   "cell_type": "code",
   "execution_count": 2,
   "id": "953381a9",
   "metadata": {},
   "outputs": [
    {
     "name": "stdout",
     "output_type": "stream",
     "text": [
      "13 17\n",
      "43\n"
     ]
    }
   ],
   "source": [
    "# 약수 구하는 함수도 구현해 놓을 것\n",
    "def divNum(num):\n",
    "    count = 0\n",
    "    for i in range(1, num+1):\n",
    "        if num % i == 0:\n",
    "            count +=1\n",
    "    return count\n",
    "\n",
    "def solution(left, right):\n",
    "    answer = 0\n",
    "    \n",
    "    for i in range(left, right+1):\n",
    "        if divNum(i)%2 == 0:\n",
    "            answer += i\n",
    "        else:\n",
    "            answer -= i\n",
    "    \n",
    "    return answer\n",
    "\n",
    "left, right = map(int, input().split())\n",
    "print(solution(left, right))"
   ]
  }
 ],
 "metadata": {
  "kernelspec": {
   "display_name": "Python 3 (ipykernel)",
   "language": "python",
   "name": "python3"
  },
  "language_info": {
   "codemirror_mode": {
    "name": "ipython",
    "version": 3
   },
   "file_extension": ".py",
   "mimetype": "text/x-python",
   "name": "python",
   "nbconvert_exporter": "python",
   "pygments_lexer": "ipython3",
   "version": "3.10.0"
  }
 },
 "nbformat": 4,
 "nbformat_minor": 5
}
