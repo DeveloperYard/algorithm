{
 "cells": [
  {
   "cell_type": "code",
   "execution_count": 23,
   "id": "0026b30b",
   "metadata": {},
   "outputs": [
    {
     "name": "stdout",
     "output_type": "stream",
     "text": [
      "2 6 8 14\n",
      "[14, 8, 6, 2]\n",
      "val : 2\n",
      "[14, 56, 6, 2]\n",
      "val : 2\n",
      "[14, 56, 168, 2]\n",
      "val : 2\n",
      "[14, 56, 168, 168]\n",
      "168\n"
     ]
    }
   ],
   "source": [
    "def gcd(num1, num2):\n",
    "    while 1:\n",
    "        if num2 == 0:\n",
    "            return num1\n",
    "        tmp = num1\n",
    "        num1 = num2\n",
    "        num2 = tmp%num1\n",
    "        \n",
    "def solution(arr):\n",
    "    arr.sort(reverse=True)\n",
    "    \n",
    "    for i in range(1, len(arr)):\n",
    "        print(arr)\n",
    "        val = gcd(arr[i-1], arr[i])\n",
    "#         print(\"val : \" + str(val))\n",
    "        arr[i] = (arr[i-1]*arr[i])//val\n",
    "\n",
    "    return arr[len(arr)-1]\n",
    "\n",
    "arr = list(map(int, input().split()))\n",
    "\n",
    "print(solution(arr))"
   ]
  },
  {
   "cell_type": "code",
   "execution_count": 27,
   "id": "3907257b",
   "metadata": {},
   "outputs": [
    {
     "name": "stdout",
     "output_type": "stream",
     "text": [
      "2 1\n",
      "1\n"
     ]
    }
   ],
   "source": [
    "def gcd(num1, num2):\n",
    "    while 1:\n",
    "        if num1 % num2 == 0:\n",
    "            return num2\n",
    "        \n",
    "        tmp1 = num1\n",
    "        tmp2 = num2\n",
    "        num1 = num2\n",
    "        num2 = tmp1%tmp2\n",
    "        print(num1, num2)\n",
    "            \n",
    "            \n",
    "print(gcd(3, 2))"
   ]
  },
  {
   "cell_type": "code",
   "execution_count": 17,
   "id": "4ab2b6a5",
   "metadata": {},
   "outputs": [
    {
     "name": "stdout",
     "output_type": "stream",
     "text": [
      "1\n"
     ]
    }
   ],
   "source": [
    "print(3%2)"
   ]
  },
  {
   "cell_type": "code",
   "execution_count": null,
   "id": "51330709",
   "metadata": {},
   "outputs": [],
   "source": []
  }
 ],
 "metadata": {
  "kernelspec": {
   "display_name": "Python 3 (ipykernel)",
   "language": "python",
   "name": "python3"
  },
  "language_info": {
   "codemirror_mode": {
    "name": "ipython",
    "version": 3
   },
   "file_extension": ".py",
   "mimetype": "text/x-python",
   "name": "python",
   "nbconvert_exporter": "python",
   "pygments_lexer": "ipython3",
   "version": "3.10.0"
  }
 },
 "nbformat": 4,
 "nbformat_minor": 5
}
