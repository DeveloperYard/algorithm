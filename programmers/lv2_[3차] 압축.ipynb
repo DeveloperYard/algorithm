{
 "cells": [
  {
   "cell_type": "code",
   "execution_count": 48,
   "id": "e6335668",
   "metadata": {},
   "outputs": [
    {
     "name": "stdout",
     "output_type": "stream",
     "text": [
      "KAKAO\n",
      "0 2\n",
      "1 2\n",
      "2 3\n",
      "4 2\n",
      "{'A': 1, 'B': 2, 'C': 3, 'D': 4, 'E': 5, 'F': 6, 'G': 7, 'H': 8, 'I': 9, 'J': 10, 'K': 11, 'L': 12, 'M': 13, 'N': 14, 'O': 15, 'P': 16, 'Q': 17, 'R': 18, 'S': 19, 'T': 20, 'U': 21, 'V': 22, 'W': 23, 'X': 24, 'Y': 25, 'Z': 26, 'KA': 27, 'AK': 28, 'KAO': 29}\n",
      "[11, 1, 27, 15]\n"
     ]
    }
   ],
   "source": [
    "def solution(s):\n",
    "    answer = []\n",
    "    \n",
    "    arr = dict()\n",
    "    for i in range(65, 91):\n",
    "        arr[chr(i)] = i-ord('A')+1\n",
    "    \n",
    "    idx = 27\n",
    "    i = 0\n",
    "    n = 2\n",
    "    \n",
    "    while i < len(s):\n",
    "        while i+n-1 < len(s) and s[i:i+n] in arr.keys():\n",
    "            n+=1\n",
    "        answer.append(arr[s[i:i+n-1]])\n",
    "        if s[i:i+n] not in arr.keys():\n",
    "            arr[s[i:i+n]] = idx\n",
    "            idx += 1 \n",
    "        \n",
    "        i+=n-1\n",
    "        n = 2\n",
    "\n",
    "    return answer\n",
    "\n",
    "s = input()\n",
    "print(solution(s))"
   ]
  },
  {
   "cell_type": "code",
   "execution_count": 18,
   "id": "1fc5b125",
   "metadata": {},
   "outputs": [
    {
     "name": "stdout",
     "output_type": "stream",
     "text": [
      "\n"
     ]
    }
   ],
   "source": [
    "s = 'AAA'\n",
    "print(s[0:0])"
   ]
  },
  {
   "cell_type": "code",
   "execution_count": 36,
   "id": "5d274500",
   "metadata": {},
   "outputs": [
    {
     "name": "stdout",
     "output_type": "stream",
     "text": [
      "24\n"
     ]
    }
   ],
   "source": [
    "print(len(\"TOBEORNOTTOBEORTOBEORNOT\"))"
   ]
  },
  {
   "cell_type": "code",
   "execution_count": null,
   "id": "200d4bcb",
   "metadata": {},
   "outputs": [],
   "source": []
  }
 ],
 "metadata": {
  "kernelspec": {
   "display_name": "Python 3 (ipykernel)",
   "language": "python",
   "name": "python3"
  },
  "language_info": {
   "codemirror_mode": {
    "name": "ipython",
    "version": 3
   },
   "file_extension": ".py",
   "mimetype": "text/x-python",
   "name": "python",
   "nbconvert_exporter": "python",
   "pygments_lexer": "ipython3",
   "version": "3.10.0"
  }
 },
 "nbformat": 4,
 "nbformat_minor": 5
}
