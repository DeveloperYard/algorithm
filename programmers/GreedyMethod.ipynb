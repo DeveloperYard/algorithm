{
 "cells": [
  {
   "cell_type": "code",
   "execution_count": 14,
   "id": "6bae32a3",
   "metadata": {},
   "outputs": [
    {
     "name": "stdout",
     "output_type": "stream",
     "text": [
      "5\n",
      "2 4\n",
      "1 3 5\n",
      "[1, 1, 1, 1, 1, 2]\n",
      "5\n"
     ]
    }
   ],
   "source": [
    "# 1. 체육복\n",
    "\n",
    "def solution(n, lost, reserve):\n",
    "    answer = 0\n",
    "    stud = [1]*(n+1)\n",
    "    \n",
    "    for i in reserve:\n",
    "        stud[i] += 1\n",
    "    \n",
    "    for i in lost:\n",
    "        stud[i] -= 1\n",
    "        \n",
    "\n",
    "    for i in range(1, len(stud)):\n",
    "        if stud[i] == 2:\n",
    "            if stud[i-1] == 0:\n",
    "                stud[i]-=1\n",
    "                stud[i-1]+=1\n",
    "            elif i<len(stud)-1 and stud[i+1] == 0:\n",
    "                stud[i]-=1\n",
    "                stud[i+1]+=1\n",
    "            \n",
    "        \n",
    "    for i in range(1, len(stud)):\n",
    "        if stud[i]>=1:\n",
    "            answer+=1\n",
    "    \n",
    "    return answer\n",
    "\n",
    "\n",
    "n = int(input())\n",
    "lost = list(map(int, input().split()))\n",
    "reserve = list(map(int, input().split()))\n",
    "\n",
    "print(solution(n, lost, reserve))\n",
    "\n",
    "# 만약 i-1번째 사람이 없는데 i+1번째 사람에게 빌려줘버린다면 i+2번째 사람이 여벌이 있어도 i+1번째 사람에게 빌려주지 못하므로\n",
    "# 앞의 사람부터 빌려주고 있다면 뒷 사람에게 빌려줌!\n",
    "\n",
    "# solve!!"
   ]
  }
 ],
 "metadata": {
  "kernelspec": {
   "display_name": "Python 3 (ipykernel)",
   "language": "python",
   "name": "python3"
  },
  "language_info": {
   "codemirror_mode": {
    "name": "ipython",
    "version": 3
   },
   "file_extension": ".py",
   "mimetype": "text/x-python",
   "name": "python",
   "nbconvert_exporter": "python",
   "pygments_lexer": "ipython3",
   "version": "3.10.0"
  }
 },
 "nbformat": 4,
 "nbformat_minor": 5
}
