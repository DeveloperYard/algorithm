{
 "cells": [
  {
   "cell_type": "code",
   "execution_count": 14,
   "id": "6bae32a3",
   "metadata": {},
   "outputs": [
    {
     "name": "stdout",
     "output_type": "stream",
     "text": [
      "5\n",
      "2 4\n",
      "1 3 5\n",
      "[1, 1, 1, 1, 1, 2]\n",
      "5\n"
     ]
    }
   ],
   "source": [
    "# 1. 체육복\n",
    "\n",
    "def solution(n, lost, reserve):\n",
    "    answer = 0\n",
    "    stud = [1]*(n+1)\n",
    "    \n",
    "    for i in reserve:\n",
    "        stud[i] += 1\n",
    "    \n",
    "    for i in lost:\n",
    "        stud[i] -= 1\n",
    "        \n",
    "\n",
    "    for i in range(1, len(stud)):\n",
    "        if stud[i] == 2:\n",
    "            if stud[i-1] == 0:\n",
    "                stud[i]-=1\n",
    "                stud[i-1]+=1\n",
    "            elif i<len(stud)-1 and stud[i+1] == 0:\n",
    "                stud[i]-=1\n",
    "                stud[i+1]+=1\n",
    "            \n",
    "        \n",
    "    for i in range(1, len(stud)):\n",
    "        if stud[i]>=1:\n",
    "            answer+=1\n",
    "    \n",
    "    return answer\n",
    "\n",
    "\n",
    "n = int(input())\n",
    "lost = list(map(int, input().split()))\n",
    "reserve = list(map(int, input().split()))\n",
    "\n",
    "print(solution(n, lost, reserve))\n",
    "\n",
    "# 만약 i-1번째 사람이 없는데 i+1번째 사람에게 빌려줘버린다면 i+2번째 사람이 여벌이 있어도 i+1번째 사람에게 빌려주지 못하므로\n",
    "# 앞의 사람부터 빌려주고 있다면 뒷 사람에게 빌려줌!\n",
    "\n",
    "# solve!!"
   ]
  },
  {
   "cell_type": "code",
   "execution_count": 12,
   "id": "7c943eb7",
   "metadata": {},
   "outputs": [
    {
     "name": "stdout",
     "output_type": "stream",
     "text": [
      "['7']\n"
     ]
    },
    {
     "ename": "IndexError",
     "evalue": "list index out of range",
     "output_type": "error",
     "traceback": [
      "\u001b[0;31m---------------------------------------------------------------------------\u001b[0m",
      "\u001b[0;31mIndexError\u001b[0m                                Traceback (most recent call last)",
      "\u001b[0;32m/var/folders/kn/gg6frwt12s7gcf_n79d00hy80000gn/T/ipykernel_3587/1236276516.py\u001b[0m in \u001b[0;36m<module>\u001b[0;34m\u001b[0m\n\u001b[1;32m     29\u001b[0m     \u001b[0;32mreturn\u001b[0m \u001b[0manswer\u001b[0m\u001b[0;34m\u001b[0m\u001b[0;34m\u001b[0m\u001b[0m\n\u001b[1;32m     30\u001b[0m \u001b[0;34m\u001b[0m\u001b[0m\n\u001b[0;32m---> 31\u001b[0;31m \u001b[0mprint\u001b[0m\u001b[0;34m(\u001b[0m\u001b[0msolution\u001b[0m\u001b[0;34m(\u001b[0m\u001b[0;36m4177252841\u001b[0m\u001b[0;34m,\u001b[0m \u001b[0;36m4\u001b[0m\u001b[0;34m)\u001b[0m\u001b[0;34m)\u001b[0m\u001b[0;34m\u001b[0m\u001b[0;34m\u001b[0m\u001b[0m\n\u001b[0m\u001b[1;32m     32\u001b[0m \u001b[0;31m# ? ..\u001b[0m\u001b[0;34m\u001b[0m\u001b[0;34m\u001b[0m\u001b[0m\n",
      "\u001b[0;32m/var/folders/kn/gg6frwt12s7gcf_n79d00hy80000gn/T/ipykernel_3587/1236276516.py\u001b[0m in \u001b[0;36msolution\u001b[0;34m(number, k)\u001b[0m\n\u001b[1;32m      9\u001b[0m     \u001b[0mcur_idx\u001b[0m \u001b[0;34m=\u001b[0m \u001b[0;36m1\u001b[0m\u001b[0;34m\u001b[0m\u001b[0;34m\u001b[0m\u001b[0m\n\u001b[1;32m     10\u001b[0m     \u001b[0;32mfor\u001b[0m \u001b[0mi\u001b[0m \u001b[0;32min\u001b[0m \u001b[0mrange\u001b[0m\u001b[0;34m(\u001b[0m\u001b[0;36m1\u001b[0m\u001b[0;34m,\u001b[0m \u001b[0mlen\u001b[0m\u001b[0;34m(\u001b[0m\u001b[0mstring\u001b[0m\u001b[0;34m)\u001b[0m\u001b[0;34m)\u001b[0m\u001b[0;34m:\u001b[0m\u001b[0;34m\u001b[0m\u001b[0;34m\u001b[0m\u001b[0m\n\u001b[0;32m---> 11\u001b[0;31m         \u001b[0;32mif\u001b[0m \u001b[0manswer\u001b[0m\u001b[0;34m[\u001b[0m\u001b[0midx\u001b[0m\u001b[0;34m]\u001b[0m \u001b[0;34m<\u001b[0m \u001b[0mstring\u001b[0m\u001b[0;34m[\u001b[0m\u001b[0mi\u001b[0m\u001b[0;34m]\u001b[0m\u001b[0;34m:\u001b[0m\u001b[0;34m\u001b[0m\u001b[0;34m\u001b[0m\u001b[0m\n\u001b[0m\u001b[1;32m     12\u001b[0m             \u001b[0manswer\u001b[0m\u001b[0;34m[\u001b[0m\u001b[0midx\u001b[0m\u001b[0;34m]\u001b[0m \u001b[0;34m=\u001b[0m \u001b[0mstring\u001b[0m\u001b[0;34m[\u001b[0m\u001b[0mi\u001b[0m\u001b[0;34m]\u001b[0m\u001b[0;34m\u001b[0m\u001b[0;34m\u001b[0m\u001b[0m\n\u001b[1;32m     13\u001b[0m             \u001b[0mrem\u001b[0m\u001b[0;34m-=\u001b[0m\u001b[0;36m1\u001b[0m\u001b[0;34m\u001b[0m\u001b[0;34m\u001b[0m\u001b[0m\n",
      "\u001b[0;31mIndexError\u001b[0m: list index out of range"
     ]
    }
   ],
   "source": [
    "# 큰 수 만들기\n",
    "\n",
    "def solution(number, k):\n",
    "    string = str(number)\n",
    "    answer = []\n",
    "    idx = 0\n",
    "    answer.append(string[0])\n",
    "    rem = k\n",
    "    cur_idx = 1\n",
    "    for i in range(1, len(string)):\n",
    "        if answer[idx] < string[i]:\n",
    "            answer[idx] = string[i]\n",
    "            rem-=1\n",
    "            print(answer)\n",
    "        elif answer[idx] == string[i]:\n",
    "            idx+=1\n",
    "            answer.append(string[i])\n",
    "        else:\n",
    "            rem-=1\n",
    "        cur_idx+=1\n",
    "        \n",
    "        if rem==0:\n",
    "            break\n",
    "            \n",
    "    answer.append(string[cur_idx:])\n",
    "\n",
    "    \n",
    "    return answer\n",
    "\n",
    "print(solution(4177252841, 4))\n",
    "# ? .."
   ]
  },
  {
   "cell_type": "code",
   "execution_count": 16,
   "id": "9342358e",
   "metadata": {},
   "outputs": [],
   "source": [
    "# 구명 보트\n",
    "\n",
    "def solution(people, limit):\n",
    "    answer = 0\n",
    "    \n",
    "    people.sort()\n",
    "    i = 0\n",
    "    print(people)\n",
    "    while i<len(people):\n",
    "        cur = 0\n",
    "        cur_p = 0\n",
    "        while 1:\n",
    "            if i >= len(people) or cur_p ==2: break\n",
    "            if cur+people[i] > limit:\n",
    "                break\n",
    "            cur+=people[i]\n",
    "            cur_p+=1\n",
    "            i+=1\n",
    "        answer+=1\n",
    "        \n",
    "    return answer"
   ]
  },
  {
   "cell_type": "code",
   "execution_count": null,
   "id": "bff01a6e",
   "metadata": {},
   "outputs": [],
   "source": []
  }
 ],
 "metadata": {
  "kernelspec": {
   "display_name": "Python 3 (ipykernel)",
   "language": "python",
   "name": "python3"
  },
  "language_info": {
   "codemirror_mode": {
    "name": "ipython",
    "version": 3
   },
   "file_extension": ".py",
   "mimetype": "text/x-python",
   "name": "python",
   "nbconvert_exporter": "python",
   "pygments_lexer": "ipython3",
   "version": "3.10.0"
  }
 },
 "nbformat": 4,
 "nbformat_minor": 5
}
