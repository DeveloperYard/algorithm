{
 "cells": [
  {
   "cell_type": "code",
   "execution_count": null,
   "id": "b0c88ddb",
   "metadata": {},
   "outputs": [],
   "source": [
    "from collections import deque\n",
    "\n",
    "def solution(cacheSize, cities):\n",
    "    answer = 0\n",
    "    if cacheSize == 0:\n",
    "        return 5*len(cities)\n",
    "    cache = deque()\n",
    "    for i in range(len(cities)):\n",
    "        cities[i] = cities[i].lower()\n",
    "    \n",
    "    for city in cities:\n",
    "        if not cache:\n",
    "            cache.append(city)\n",
    "            answer+=5\n",
    "        elif city in cache:\n",
    "            del cache[cache.index(city)]\n",
    "            cache.append(city)\n",
    "            answer+=1\n",
    "        elif city not in cache:\n",
    "            if len(cache) < cacheSize:\n",
    "                cache.append(city)\n",
    "                answer+=5\n",
    "            else:\n",
    "                cache.popleft()\n",
    "                cache.append(city)\n",
    "                answer+=5\n",
    "    \n",
    "    \n",
    "    return answer\n",
    "\n",
    "# cacheSize = int(input())\n",
    "# cities = list(map(str, input().split()))\n",
    "\n",
    "cacheSize = 3\n",
    "cities = [\"Jeju\", \"Pangyo\", \"Seoul\", \"Jeju\", \"Pangyo\", \"Seoul\", \"Jeju\", \"Pangyo\", \"Seoul\"]\n",
    "\n",
    "print(solution(cacheSize, cities))"
   ]
  }
 ],
 "metadata": {
  "kernelspec": {
   "display_name": "Python 3 (ipykernel)",
   "language": "python",
   "name": "python3"
  },
  "language_info": {
   "codemirror_mode": {
    "name": "ipython",
    "version": 3
   },
   "file_extension": ".py",
   "mimetype": "text/x-python",
   "name": "python",
   "nbconvert_exporter": "python",
   "pygments_lexer": "ipython3",
   "version": "3.10.0"
  }
 },
 "nbformat": 4,
 "nbformat_minor": 5
}
