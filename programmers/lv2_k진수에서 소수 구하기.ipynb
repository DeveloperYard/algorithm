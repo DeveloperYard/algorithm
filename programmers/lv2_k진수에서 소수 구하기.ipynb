{
 "cells": [
  {
   "cell_type": "code",
   "execution_count": 97,
   "id": "390ac444",
   "metadata": {},
   "outputs": [
    {
     "name": "stdout",
     "output_type": "stream",
     "text": [
      "1000000 3\n",
      "212210202001\n",
      "['21221', '2', '2', '', '1']\n",
      "3\n"
     ]
    }
   ],
   "source": [
    "# def toPrime(): \n",
    "#     length = 1000000\n",
    "#     primeNum = [0]*length\n",
    "#     for i in range(2, length):\n",
    "#         if primeNum[i] == 0:\n",
    "#             for j in range(i+i, length, i):\n",
    "#                 if primeNum[j] == 0:\n",
    "#                     primeNum[j] = j\n",
    "                    \n",
    "#     return primeNum\n",
    "\n",
    "# 에라토스테네스의 체 방법이 검사할 수의 범위가 좁다면 채용할만 하지만, 큰 경우에는 메모리를 너무 많이 잡아먹어\n",
    "# 테스트 케이스에서 실패가 발생할 수 있다!\n",
    "\n",
    "def convert(n, k):\n",
    "    string = \"\"\n",
    "    while 1:\n",
    "#         print(string)\n",
    "        string = str(n%k)+string\n",
    "        if n//k == 0:\n",
    "            break\n",
    "        n//=k\n",
    "        \n",
    "    return string\n",
    "\n",
    "\n",
    "# 소수 판별 시 해당 숫자의 제곱근까지 검사하여 실행시간을 반으로 줄일 수 있다! O(N) -> O(N/2)\n",
    "def prime(n):\n",
    "    for i in range(2, int(math.sqrt(n))+1):\n",
    "        if n % i == 0:\n",
    "            return False\n",
    "        \n",
    "    return True\n",
    "\n",
    "def solution(n, k):\n",
    "    answer = 0\n",
    "    \n",
    "    string = convert(n, k)\n",
    "    val = string.split('0')\n",
    "#     print(string)\n",
    "#     print(val)\n",
    "    for i in range(len(val)):\n",
    "        if val[i] == '' or int(val[i]) < 2:\n",
    "            continue\n",
    "        if prime(int(val[i])):\n",
    "            answer+=1\n",
    "    \n",
    "    return answer\n",
    "\n",
    "n, k = map(int, input().split())\n",
    "print(solution(n, k))"
   ]
  },
  {
   "cell_type": "markdown",
   "id": "46535abf",
   "metadata": {},
   "source": [
    "#### 1"
   ]
  }
 ],
 "metadata": {
  "kernelspec": {
   "display_name": "Python 3 (ipykernel)",
   "language": "python",
   "name": "python3"
  },
  "language_info": {
   "codemirror_mode": {
    "name": "ipython",
    "version": 3
   },
   "file_extension": ".py",
   "mimetype": "text/x-python",
   "name": "python",
   "nbconvert_exporter": "python",
   "pygments_lexer": "ipython3",
   "version": "3.10.0"
  }
 },
 "nbformat": 4,
 "nbformat_minor": 5
}
