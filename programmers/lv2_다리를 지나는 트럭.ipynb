{
 "cells": [
  {
   "cell_type": "code",
   "execution_count": 19,
   "id": "2fa7f96f",
   "metadata": {},
   "outputs": [
    {
     "name": "stdout",
     "output_type": "stream",
     "text": [
      "2 10\n",
      "7 4 5 6\n",
      "8\n"
     ]
    }
   ],
   "source": [
    "from collections import deque\n",
    "\n",
    "# Debugging to Time complexity\n",
    "\n",
    "def solution(bridge_length, weight, truck_weights):\n",
    "    answer = 0\n",
    "    \n",
    "    q = deque()\n",
    "    \n",
    "    q.append(truck_weights[0])\n",
    "    \n",
    "    for _ in range(bridge_length-1):\n",
    "        q.appendleft(0)\n",
    "    \n",
    "    i = 0\n",
    "    idx = 1\n",
    "    cur_weight = 0\n",
    "    cur_weight += truck_weights[0]\n",
    "    while idx < len(truck_weights):\n",
    "        outVal = q.popleft()\n",
    "        cur_weight -= outVal\n",
    "        # if not use cur_weight variable, and use sum(q)\n",
    "        # you'll get result time exceed.\n",
    "        # Use result variable! not use function\n",
    "        \n",
    "        if cur_weight + truck_weights[idx] > weight:\n",
    "            q.append(0)\n",
    "        else:\n",
    "            q.append(truck_weights[idx])\n",
    "            cur_weight += truck_weights[idx]\n",
    "            idx+=1\n",
    "        i+=1\n",
    "        \n",
    "    answer = i+bridge_length+1\n",
    "    return answer\n",
    "\n",
    "length, weight = map(int, input().split())\n",
    "\n",
    "t_weight = list(map(int, input().split()))\n",
    "\n",
    "print(solution(length, weight, t_weight))"
   ]
  }
 ],
 "metadata": {
  "kernelspec": {
   "display_name": "Python 3 (ipykernel)",
   "language": "python",
   "name": "python3"
  },
  "language_info": {
   "codemirror_mode": {
    "name": "ipython",
    "version": 3
   },
   "file_extension": ".py",
   "mimetype": "text/x-python",
   "name": "python",
   "nbconvert_exporter": "python",
   "pygments_lexer": "ipython3",
   "version": "3.10.0"
  }
 },
 "nbformat": 4,
 "nbformat_minor": 5
}
