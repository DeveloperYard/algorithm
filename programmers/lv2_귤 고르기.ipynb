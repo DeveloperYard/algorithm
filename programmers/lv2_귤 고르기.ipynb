{
 "cells": [
  {
   "cell_type": "code",
   "execution_count": 9,
   "id": "6b78538b",
   "metadata": {},
   "outputs": [
    {
     "name": "stdout",
     "output_type": "stream",
     "text": [
      "2\n",
      "2\n",
      "2\n",
      "3\n"
     ]
    }
   ],
   "source": [
    "def solution(k, tangerine):\n",
    "    answer = 0    \n",
    "    d = dict()\n",
    "    arr = []\n",
    "    for i in tangerine:\n",
    "        if i in d.keys():\n",
    "            d[i] += 1\n",
    "        else:\n",
    "            d[i] = 1\n",
    "    \n",
    "    for val in d.values():\n",
    "        arr.append(val)\n",
    "        \n",
    "    arr.sort(reverse=True)\n",
    "    sum = 0\n",
    "    for num in arr:\n",
    "        sum += num\n",
    "        answer+=1\n",
    "        if sum >= k:\n",
    "            break\n",
    "    \n",
    "\n",
    "    return answer\n",
    "\n",
    "print(solution(6,[1, 3, 2, 5, 4, 5, 2, 3]))\n"
   ]
  },
  {
   "cell_type": "code",
   "execution_count": 5,
   "id": "ba7b2867",
   "metadata": {},
   "outputs": [
    {
     "name": "stdout",
     "output_type": "stream",
     "text": [
      "1\n"
     ]
    }
   ],
   "source": [
    "c = dict()\n",
    "c[1] = 1\n",
    "if 1 in c.keys():\n",
    "    print(1)"
   ]
  },
  {
   "cell_type": "code",
   "execution_count": null,
   "id": "fae8aec2",
   "metadata": {},
   "outputs": [],
   "source": []
  }
 ],
 "metadata": {
  "kernelspec": {
   "display_name": "Python 3 (ipykernel)",
   "language": "python",
   "name": "python3"
  },
  "language_info": {
   "codemirror_mode": {
    "name": "ipython",
    "version": 3
   },
   "file_extension": ".py",
   "mimetype": "text/x-python",
   "name": "python",
   "nbconvert_exporter": "python",
   "pygments_lexer": "ipython3",
   "version": "3.10.0"
  }
 },
 "nbformat": 4,
 "nbformat_minor": 5
}
