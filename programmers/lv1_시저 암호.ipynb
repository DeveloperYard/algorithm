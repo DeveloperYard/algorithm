{
 "cells": [
  {
   "cell_type": "code",
   "execution_count": 23,
   "id": "0460bff3",
   "metadata": {},
   "outputs": [
    {
     "name": "stdout",
     "output_type": "stream",
     "text": [
      "z\n",
      "1\n",
      "['z']\n",
      "a\n"
     ]
    }
   ],
   "source": [
    "def solution(s, n):\n",
    "    answer = []\n",
    "    s = list(s)\n",
    "    for c in s:\n",
    "        if c == ' ':\n",
    "            answer.append(' ')\n",
    "        # 소문자인 경우\n",
    "        elif ord(c) >= 97 and ord(c) <= 122:\n",
    "            num = ord(c)\n",
    "            num+=n\n",
    "            if num > 122:\n",
    "                num%=123\n",
    "                num+=97\n",
    "            answer.append(chr(num))\n",
    "        # big letter\n",
    "        else:\n",
    "            num = ord(c)\n",
    "            num+=n\n",
    "            if num > 90:\n",
    "                num%=91\n",
    "                num+=65\n",
    "            answer.append(chr(num))\n",
    "    \n",
    "    answer=\"\".join(answer)\n",
    "    return answer\n",
    "\n",
    "s = input()\n",
    "n = int(input())\n",
    "print(solution(s, n))"
   ]
  },
  {
   "cell_type": "code",
   "execution_count": null,
   "id": "bbdd7e58",
   "metadata": {},
   "outputs": [],
   "source": []
  }
 ],
 "metadata": {
  "kernelspec": {
   "display_name": "Python 3 (ipykernel)",
   "language": "python",
   "name": "python3"
  },
  "language_info": {
   "codemirror_mode": {
    "name": "ipython",
    "version": 3
   },
   "file_extension": ".py",
   "mimetype": "text/x-python",
   "name": "python",
   "nbconvert_exporter": "python",
   "pygments_lexer": "ipython3",
   "version": "3.10.0"
  }
 },
 "nbformat": 4,
 "nbformat_minor": 5
}
