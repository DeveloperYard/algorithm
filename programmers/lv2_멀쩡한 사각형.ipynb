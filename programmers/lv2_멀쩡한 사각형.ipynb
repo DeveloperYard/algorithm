{
 "cells": [
  {
   "cell_type": "code",
   "execution_count": 2,
   "id": "dcf63fea",
   "metadata": {},
   "outputs": [
    {
     "name": "stdout",
     "output_type": "stream",
     "text": [
      "8 12\n",
      "96\n"
     ]
    }
   ],
   "source": [
    "def solution(w,h):\n",
    "    answer = 1\n",
    "    \n",
    "    tri = (w*h)/2\n",
    "    answer = int(tri)*2\n",
    "    \n",
    "    \n",
    "    return answer\n",
    "\n",
    "\n",
    "w, h = map(int, input().split())\n",
    "\n",
    "print(solution(w, h))"
   ]
  },
  {
   "cell_type": "code",
   "execution_count": 1,
   "id": "d5850e02",
   "metadata": {},
   "outputs": [
    {
     "name": "stdout",
     "output_type": "stream",
     "text": [
      "1\n"
     ]
    }
   ],
   "source": [
    "print(int(1.5))"
   ]
  },
  {
   "cell_type": "code",
   "execution_count": null,
   "id": "78a3f432",
   "metadata": {},
   "outputs": [],
   "source": []
  }
 ],
 "metadata": {
  "kernelspec": {
   "display_name": "Python 3 (ipykernel)",
   "language": "python",
   "name": "python3"
  },
  "language_info": {
   "codemirror_mode": {
    "name": "ipython",
    "version": 3
   },
   "file_extension": ".py",
   "mimetype": "text/x-python",
   "name": "python",
   "nbconvert_exporter": "python",
   "pygments_lexer": "ipython3",
   "version": "3.10.0"
  }
 },
 "nbformat": 4,
 "nbformat_minor": 5
}
