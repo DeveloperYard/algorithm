{
 "cells": [
  {
   "cell_type": "code",
   "execution_count": null,
   "id": "e2acee94",
   "metadata": {},
   "outputs": [],
   "source": [
    "# import sys\n",
    "# input = sys.stdin.readline\n",
    "\n",
    "def solution(phone_book):\n",
    "    answer = True\n",
    "    hashDict = {}\n",
    "    \n",
    "    for pn in phone_book:\n",
    "        hashDict[pn] = hash(pn)\n",
    "    \n",
    "    \n",
    "    \n",
    "    return answer\n",
    "\n",
    "# hash를 이용해서 풀 수 있는 방법을 찾자! 그리고 파이썬을 이용한 자료구조도 한 번 다시 점검 겸 공부해보자!"
   ]
  }
 ],
 "metadata": {
  "kernelspec": {
   "display_name": "Python 3 (ipykernel)",
   "language": "python",
   "name": "python3"
  },
  "language_info": {
   "codemirror_mode": {
    "name": "ipython",
    "version": 3
   },
   "file_extension": ".py",
   "mimetype": "text/x-python",
   "name": "python",
   "nbconvert_exporter": "python",
   "pygments_lexer": "ipython3",
   "version": "3.10.0"
  }
 },
 "nbformat": 4,
 "nbformat_minor": 5
}
