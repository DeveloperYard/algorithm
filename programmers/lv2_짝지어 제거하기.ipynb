{
 "cells": [
  {
   "cell_type": "code",
   "execution_count": 48,
   "id": "0d7cca78",
   "metadata": {},
   "outputs": [
    {
     "name": "stdout",
     "output_type": "stream",
     "text": [
      "cddcdd\n",
      "0\n"
     ]
    }
   ],
   "source": [
    "# Delete 하는게 O(N)이라서 시간 복잡도 해결하려고 del을 빼고 새로운 배열을 통해 비교하려고 했는데도 시간초과가 뜬다..\n",
    "# loop를 한 개만 사용해서 구현하는 방법은 없을까?\n",
    "\n",
    "def solution(s):\n",
    "    answer = 1\n",
    "    delBool = [False]*len(s)\n",
    "    s = list(s)\n",
    "    if len(s)%2 == 1:\n",
    "        return 0\n",
    "    \n",
    "    while 1:\n",
    "        flag = 0\n",
    "        i = 0\n",
    "        tmp = ''\n",
    "        while i < len(s)-1: # O(N)\n",
    "            if delBool[i] == False and delBool[i+1] == False and s[i] == s[i+1]: # O(1)\n",
    "                delBool[i] = True\n",
    "                delBool[i+1]= True\n",
    "                flag = 1\n",
    "                \n",
    "            elif delBool[i] == False and delBool[i+1] == True:\n",
    "                tmpidx = i\n",
    "                i+=1\n",
    "                while delBool[i] == True and i < len(s)-1: # O(N)\n",
    "                    i+=1\n",
    "                if s[tmpidx] == s[i]:\n",
    "                    delBool[tmpidx] = True\n",
    "                    delBool[i] = True\n",
    "                    flag = 1\n",
    "                else:\n",
    "                    tmpidx = i\n",
    "            i+=1\n",
    "        if flag == 0:\n",
    "            break\n",
    "\n",
    "        \n",
    "                    \n",
    "    if len(delBool) == delBool.count(True):\n",
    "        return 1\n",
    "    else:\n",
    "        return 0\n",
    "\n",
    "\n",
    "s = input()\n",
    "\n",
    "print(solution(s))\n",
    "\n",
    "# Test code were solved, but rejected submit code"
   ]
  }
 ],
 "metadata": {
  "kernelspec": {
   "display_name": "Python 3 (ipykernel)",
   "language": "python",
   "name": "python3"
  },
  "language_info": {
   "codemirror_mode": {
    "name": "ipython",
    "version": 3
   },
   "file_extension": ".py",
   "mimetype": "text/x-python",
   "name": "python",
   "nbconvert_exporter": "python",
   "pygments_lexer": "ipython3",
   "version": "3.10.0"
  }
 },
 "nbformat": 4,
 "nbformat_minor": 5
}
