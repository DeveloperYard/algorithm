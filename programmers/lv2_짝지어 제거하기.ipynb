{
 "cells": [
  {
   "cell_type": "code",
   "execution_count": 48,
   "id": "0d7cca78",
   "metadata": {},
   "outputs": [
    {
     "name": "stdout",
     "output_type": "stream",
     "text": [
      "cddcdd\n",
      "0\n"
     ]
    }
   ],
   "source": [
    "# Delete 하는게 O(N)이라서 시간 복잡도 해결하려고 del을 빼고 새로운 배열을 통해 비교하려고 했는데도 시간초과가 뜬다..\n",
    "# loop를 한 개만 사용해서 구현하는 방법은 없을까?\n",
    "\n",
    "def solution(s):\n",
    "    answer = 1\n",
    "    delBool = [False]*len(s)\n",
    "    s = list(s)\n",
    "    if len(s)%2 == 1:\n",
    "        return 0\n",
    "    \n",
    "    while 1:\n",
    "        flag = 0\n",
    "        i = 0\n",
    "        tmp = ''\n",
    "        while i < len(s)-1: # O(N)\n",
    "            if delBool[i] == False and delBool[i+1] == False and s[i] == s[i+1]: # O(1)\n",
    "                delBool[i] = True\n",
    "                delBool[i+1]= True\n",
    "                flag = 1\n",
    "                \n",
    "            elif delBool[i] == False and delBool[i+1] == True:\n",
    "                tmpidx = i\n",
    "                i+=1\n",
    "                while delBool[i] == True and i < len(s)-1: # O(N)\n",
    "                    i+=1\n",
    "                if s[tmpidx] == s[i]:\n",
    "                    delBool[tmpidx] = True\n",
    "                    delBool[i] = True\n",
    "                    flag = 1\n",
    "                else:\n",
    "                    tmpidx = i\n",
    "            i+=1\n",
    "        \n",
    "        if flag == 0: # 바뀐게 없으면 break!\n",
    "            break\n",
    "\n",
    "        \n",
    "                    \n",
    "    if len(delBool) == delBool.count(True):\n",
    "        return 1\n",
    "    else:\n",
    "        return 0\n",
    "\n",
    "\n",
    "s = input()\n",
    "\n",
    "print(solution(s))\n",
    "\n",
    "# Test code were solved, but rejected submit code"
   ]
  },
  {
   "cell_type": "code",
   "execution_count": 38,
   "id": "3d2e2a4d",
   "metadata": {},
   "outputs": [
    {
     "name": "stdout",
     "output_type": "stream",
     "text": [
      "dddsssssmmdddmm\n",
      "dddsssssmmdddmm\n",
      "dddsssssmmdddmm\n",
      "dddsssssmmdddmm\n",
      "dsssssmmdmm\n",
      "dsssssmmdmm\n",
      "dsssssmmdmm\n",
      "dsssssmmdmm\n",
      "dsssssmmdmm\n",
      "dsssssmmdmm\n",
      "dsssssmmdmm\n",
      "dsssssmmdmm\n",
      "dsssssmmdmm\n",
      "dsssssd\n",
      "dsssssd\n",
      "dsssssd\n",
      "dsssssd\n",
      "dsssssd\n",
      "dsssssd\n",
      "dsd\n",
      "dsd\n",
      "dsd\n",
      "dsd\n",
      "dsd\n",
      "dsd\n",
      "dsd\n",
      "dsd\n",
      "0\n"
     ]
    }
   ],
   "source": [
    "def solution(s):\n",
    "    answer = -1\n",
    "    \n",
    "#     if len(s)%2 == 1:\n",
    "#         return 0\n",
    "    \n",
    "    # loop 1번만 써서 해결할 수 있는 방법이 없을까? -> 시간 복잡도 고려!\n",
    "    # 시간 복잡도 문제는 해결했는데 왜 실패가 뜰까..? 반례가 있나?\n",
    "    for i in range(97, 123):\n",
    "        targetStr = chr(i)+chr(i)\n",
    "        s = s.replace(targetStr, '')\n",
    "        \n",
    "    if len(s) > 0:\n",
    "        answer = 0\n",
    "    else:\n",
    "        answer = 1\n",
    "            \n",
    "    return answer\n",
    "\n",
    "\n",
    "s = input()\n",
    "\n",
    "print(solution(s))\n",
    "\n",
    "\n",
    "# solve했으나 실패함.. 어떤 테케에서 실패하는지 모르곘음"
   ]
  },
  {
   "cell_type": "code",
   "execution_count": 2,
   "id": "35fb25c5",
   "metadata": {},
   "outputs": [
    {
     "name": "stdout",
     "output_type": "stream",
     "text": [
      "z\n"
     ]
    }
   ],
   "source": [
    "print(chr(122))"
   ]
  },
  {
   "cell_type": "code",
   "execution_count": 3,
   "id": "d4826c5d",
   "metadata": {},
   "outputs": [
    {
     "name": "stdout",
     "output_type": "stream",
     "text": [
      "abbabb\n",
      "1\n"
     ]
    }
   ],
   "source": [
    "from collections import deque\n",
    "\n",
    "def solution(s):\n",
    "    if len(s)%2 == 1:\n",
    "        return 0\n",
    "    \n",
    "    q = deque()\n",
    "    \n",
    "    for i in s:\n",
    "        if len(q) == 0:\n",
    "            q.append(i)\n",
    "        else:\n",
    "            if q[-1] == i: # 이와 같이 [-1] 인덱스를 활용하자! -> 시간복잡도에 도움이 됨\n",
    "                q.pop()\n",
    "            else:\n",
    "                q.append(i)\n",
    "    \n",
    "    if len(q) > 0:\n",
    "        return 0\n",
    "    else:\n",
    "        return 1\n",
    "\n",
    "s = input()\n",
    "print(solution(s))\n",
    "\n",
    "# solve!"
   ]
  }
 ],
 "metadata": {
  "kernelspec": {
   "display_name": "Python 3 (ipykernel)",
   "language": "python",
   "name": "python3"
  },
  "language_info": {
   "codemirror_mode": {
    "name": "ipython",
    "version": 3
   },
   "file_extension": ".py",
   "mimetype": "text/x-python",
   "name": "python",
   "nbconvert_exporter": "python",
   "pygments_lexer": "ipython3",
   "version": "3.10.0"
  }
 },
 "nbformat": 4,
 "nbformat_minor": 5
}
