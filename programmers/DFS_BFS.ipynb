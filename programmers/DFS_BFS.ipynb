{
 "cells": [
  {
   "cell_type": "code",
   "execution_count": 13,
   "id": "e6dac8c7",
   "metadata": {},
   "outputs": [
    {
     "name": "stdout",
     "output_type": "stream",
     "text": [
      "5\n",
      "1 0 1 0 1\n",
      "0 1 0 1 0\n",
      "1 0 1 1 0\n",
      "0 1 0 1 0\n",
      "1 0 0 0 1\n",
      "1\n"
     ]
    }
   ],
   "source": [
    "# 1. network\n",
    "\n",
    "n = int(input())\n",
    "\n",
    "computers = [[] for _ in range(n)]\n",
    "\n",
    "for i in range(n):\n",
    "    computers[i] = list(map(int, input().split()))\n",
    "\n",
    "def bfs(x, coms, visited):\n",
    "    q = []\n",
    "    q.append(x)\n",
    "    visited[x] = True\n",
    "    n = len(coms[0])\n",
    "    while q:\n",
    "        cur = q.pop(0)\n",
    "        for i in range(n):\n",
    "            if not visited[i] and coms[cur][i] == 1:\n",
    "                q.append(i)\n",
    "                visited[i] = True\n",
    "    \n",
    "def solution(n, coms):\n",
    "    answer = 0\n",
    "    \n",
    "    visited = [False]*n\n",
    "    \n",
    "    for i in range(n):\n",
    "        for j in range(n):\n",
    "            if not visited[j] and coms[i][j] == 1:\n",
    "                bfs(j, coms, visited)\n",
    "                answer+=1\n",
    "    \n",
    "    \n",
    "    return answer\n",
    "        \n",
    "    \n",
    "    \n",
    "print(solution(n, computers))\n",
    "\n",
    "# solve! bfs로 하면 됨"
   ]
  },
  {
   "cell_type": "code",
   "execution_count": 23,
   "id": "f0cfe14e",
   "metadata": {},
   "outputs": [
    {
     "name": "stdout",
     "output_type": "stream",
     "text": [
      "0\n",
      "1 1 1 1\n",
      "1\n",
      "1 1 1 1\n",
      "2\n",
      "1 1 1 1 \n",
      "3\n"
     ]
    }
   ],
   "source": [
    "coms = [[] for _ in range(3)]\n",
    "\n",
    "for i in range(3):\n",
    "    print(i)\n",
    "    coms[i] = list(map(int, input().split()))\n",
    "\n",
    "print(len(coms))"
   ]
  },
  {
   "cell_type": "code",
   "execution_count": null,
   "id": "af205019",
   "metadata": {},
   "outputs": [],
   "source": []
  }
 ],
 "metadata": {
  "kernelspec": {
   "display_name": "Python 3 (ipykernel)",
   "language": "python",
   "name": "python3"
  },
  "language_info": {
   "codemirror_mode": {
    "name": "ipython",
    "version": 3
   },
   "file_extension": ".py",
   "mimetype": "text/x-python",
   "name": "python",
   "nbconvert_exporter": "python",
   "pygments_lexer": "ipython3",
   "version": "3.10.0"
  }
 },
 "nbformat": 4,
 "nbformat_minor": 5
}
