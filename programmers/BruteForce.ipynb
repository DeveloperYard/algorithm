{
 "cells": [
  {
   "cell_type": "code",
   "execution_count": null,
   "id": "dd2234a9",
   "metadata": {},
   "outputs": [],
   "source": [
    "# 1. 모의고사\n",
    "\n",
    "# 각자의 방식\n",
    "\n",
    "def solution(ans):\n",
    "    fir = [1, 2, 3, 4, 5]\n",
    "    sec = [2, 1, 2, 3, 2, 4, 2 ,5]\n",
    "    thr = [3, 3, 1, 1, 2, 2, 4, 4, 5, 5]\n",
    "\n",
    "    correct_num = [0]*3\n",
    "\n",
    "    for i in range(len(ans)):\n",
    "        if fir[i%len(fir)] == ans[i]:\n",
    "            correct_num[0] += 1\n",
    "        \n",
    "    for i in range(len(ans)):\n",
    "        if sec[i%len(sec)] == ans[i]:\n",
    "            correct_num[1] += 1\n",
    "        \n",
    "    for i in range(len(ans)):\n",
    "        if thr[i%len(thr)] == ans[i]:\n",
    "            correct_num[2] += 1\n",
    "            \n",
    "    max_val = max(correct_num)\n",
    "    answer = []\n",
    "    for i in range(3):\n",
    "        if max_val == correct_num[i]:\n",
    "            answer.append(i+1)\n",
    "    return answer"
   ]
  },
  {
   "cell_type": "code",
   "execution_count": null,
   "id": "91e72bb9",
   "metadata": {},
   "outputs": [],
   "source": [
    "# 2. 소수 찾기\n",
    "\n"
   ]
  }
 ],
 "metadata": {
  "kernelspec": {
   "display_name": "Python 3 (ipykernel)",
   "language": "python",
   "name": "python3"
  },
  "language_info": {
   "codemirror_mode": {
    "name": "ipython",
    "version": 3
   },
   "file_extension": ".py",
   "mimetype": "text/x-python",
   "name": "python",
   "nbconvert_exporter": "python",
   "pygments_lexer": "ipython3",
   "version": "3.10.0"
  }
 },
 "nbformat": 4,
 "nbformat_minor": 5
}
