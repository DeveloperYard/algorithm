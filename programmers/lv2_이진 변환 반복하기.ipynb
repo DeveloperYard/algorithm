{
 "cells": [
  {
   "cell_type": "code",
   "execution_count": 7,
   "id": "5ff5ebf1",
   "metadata": {},
   "outputs": [
    {
     "name": "stdout",
     "output_type": "stream",
     "text": [
      "1111111\n",
      "[4, 1]\n"
     ]
    }
   ],
   "source": [
    "def solution(s):\n",
    "    answer = []\n",
    "    \n",
    "    convCnt = 0\n",
    "    remZeroCnt = 0\n",
    "    while s != \"1\":\n",
    "        s = list(s)\n",
    "        convCnt+=1\n",
    "        i = 0\n",
    "        while i < len(s):\n",
    "            if s[i] == \"0\":\n",
    "                del s[i]\n",
    "                i -= 1\n",
    "                remZeroCnt += 1\n",
    "            i+=1\n",
    "        s = bin(len(s))[2:]\n",
    "    \n",
    "    answer.append(convCnt)\n",
    "    answer.append(remZeroCnt)\n",
    "    return answer\n",
    "\n",
    "s = input()\n",
    "\n",
    "print(solution(s))"
   ]
  },
  {
   "cell_type": "code",
   "execution_count": 3,
   "id": "7670a4fd",
   "metadata": {},
   "outputs": [
    {
     "name": "stdout",
     "output_type": "stream",
     "text": [
      "<class 'str'>\n",
      "0b1010\n",
      "1010\n"
     ]
    }
   ],
   "source": [
    "print(type(bin(10)))\n",
    "print(bin(10))\n",
    "print(bin(10)[2:])"
   ]
  },
  {
   "cell_type": "code",
   "execution_count": null,
   "id": "ee84f1f2",
   "metadata": {},
   "outputs": [],
   "source": [
    "def solution(s):\n",
    "    zero = 0   # 0의 개수\n",
    "    conver = 0 # 이진 변환 횟수\n",
    "    \n",
    "    # s가 '1'이 될 때까지\n",
    "    while s != '1':\n",
    "        if '0' in s: # '0' 이 있으면\n",
    "            zero += s.count('0')  # '0'의 개수를 더하고\n",
    "            s = s.replace('0','') # 공백으로 바꾸기\n",
    "            \n",
    "        length = len(s) # 문자열의 길이\n",
    "        s = str(format(length,'b')) # 2진수로 변환\n",
    "        conver += 1 # 이진 변환 횟수 +1\n",
    "\n",
    "    return [conver,zero]\n",
    "\n",
    "# 시간 복잡도 측면에서 훨씬 우세! 이진 변환하는 법도 알아놓고, replace 함수도 생각할 것"
   ]
  }
 ],
 "metadata": {
  "kernelspec": {
   "display_name": "Python 3 (ipykernel)",
   "language": "python",
   "name": "python3"
  },
  "language_info": {
   "codemirror_mode": {
    "name": "ipython",
    "version": 3
   },
   "file_extension": ".py",
   "mimetype": "text/x-python",
   "name": "python",
   "nbconvert_exporter": "python",
   "pygments_lexer": "ipython3",
   "version": "3.10.0"
  }
 },
 "nbformat": 4,
 "nbformat_minor": 5
}
