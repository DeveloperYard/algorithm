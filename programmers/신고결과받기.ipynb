{
 "cells": [
  {
   "cell_type": "code",
   "execution_count": 9,
   "id": "d9902ad9",
   "metadata": {},
   "outputs": [
    {
     "name": "stdout",
     "output_type": "stream",
     "text": [
      "m a z\n",
      "a z\n",
      "m z\n",
      "m\n",
      "2\n",
      "['m', 'z']\n",
      "[1, 2, 1]\n"
     ]
    }
   ],
   "source": [
    "def solution(id_list, rep, k):\n",
    "    answer = []\n",
    "    \n",
    "    report = [[] for _ in range(len(id_list))]\n",
    "    \n",
    "    for _id in rep:\n",
    "        me, you = _id.split()\n",
    "        # a to b , a가 b를 신고한 것을 파싱해서 레포트를 만들것!\n",
    "        # 레포트 형식 : report[\"id\"] = [\"신고한 유저1\", \"신고한 유저2\"]\n",
    "        report[id_list.index(me)].append(you)\n",
    "    \n",
    "    reportedId = [0]*len(id_list)\n",
    "    haltedId = []\n",
    "    \n",
    "    for i in range(len(id_list)):\n",
    "         report[i] = list(set(report[i]))   \n",
    "    \n",
    "    for r in report:\n",
    "        for _id in r:\n",
    "            reportedId[id_list.index(_id)]+=1\n",
    "    \n",
    "    for i in range(len(reportedId)):\n",
    "        if reportedId[i]>=k:\n",
    "            haltedId.append(id_list[i])\n",
    "    \n",
    "    for lis in report:\n",
    "        res = 0\n",
    "        for hId in haltedId:\n",
    "            if lis.__contains__(hId):\n",
    "                res+=1\n",
    "        answer.append(res)\n",
    "    \n",
    "    print(haltedId)\n",
    "    \n",
    "    return answer\n",
    "\n",
    "id_list = list(map(str, input().split()))\n",
    "\n",
    "report = []\n",
    "for _ in range(len(id_list)):\n",
    "    repList = list(map(str, input().split()))\n",
    "    report.append(repList)\n",
    "    \n",
    "k = int(input())\n",
    "\n",
    "print(solution(id_list, report, k))"
   ]
  },
  {
   "cell_type": "markdown",
   "id": "39953847",
   "metadata": {},
   "source": [
    "# "
   ]
  }
 ],
 "metadata": {
  "kernelspec": {
   "display_name": "Python 3 (ipykernel)",
   "language": "python",
   "name": "python3"
  },
  "language_info": {
   "codemirror_mode": {
    "name": "ipython",
    "version": 3
   },
   "file_extension": ".py",
   "mimetype": "text/x-python",
   "name": "python",
   "nbconvert_exporter": "python",
   "pygments_lexer": "ipython3",
   "version": "3.10.0"
  }
 },
 "nbformat": 4,
 "nbformat_minor": 5
}
