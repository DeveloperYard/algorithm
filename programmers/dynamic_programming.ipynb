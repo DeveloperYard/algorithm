{
 "cells": [
  {
   "cell_type": "code",
   "execution_count": null,
   "id": "82470a8b",
   "metadata": {},
   "outputs": [],
   "source": [
    "n, number = map(int, input().split())\n",
    "\n",
    "d = [0]*(number+1)\n",
    "\n",
    "count = 0\n",
    "d[1] = 2\n",
    "for i in range(2, number+1):\n",
    "    d[i] = min()\n",
    "    "
   ]
  }
 ],
 "metadata": {
  "kernelspec": {
   "display_name": "Python 3 (ipykernel)",
   "language": "python",
   "name": "python3"
  },
  "language_info": {
   "codemirror_mode": {
    "name": "ipython",
    "version": 3
   },
   "file_extension": ".py",
   "mimetype": "text/x-python",
   "name": "python",
   "nbconvert_exporter": "python",
   "pygments_lexer": "ipython3",
   "version": "3.10.0"
  }
 },
 "nbformat": 4,
 "nbformat_minor": 5
}
