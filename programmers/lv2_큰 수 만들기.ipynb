{
 "cells": [
  {
   "cell_type": "code",
   "execution_count": 16,
   "id": "6a6bf4cf",
   "metadata": {},
   "outputs": [
    {
     "name": "stdout",
     "output_type": "stream",
     "text": [
      "4177252841\n",
      "4\n",
      "775841\n"
     ]
    }
   ],
   "source": [
    "import sys\n",
    "input = sys.stdin.readline\n",
    "\n",
    "def solution(number, k):\n",
    "    answer = ''\n",
    "    \n",
    "    number = list(number)\n",
    "    \n",
    "    varLen = len(number)\n",
    "    \n",
    "    i = 0\n",
    "    while k > 0 and i < varLen:\n",
    "        if ord(number[i]) < ord(number[i+1]): # 한 개를 삭제하고 나면 처음부터 가서 다시 실행함!!\n",
    "            # 방법은 잘 구상했으나 시간을 고려하지 못한 코드..\n",
    "            del number[i]\n",
    "            k-=1\n",
    "            varLen -= 1\n",
    "            i = 0\n",
    "        else:\n",
    "            i+=1\n",
    "    \n",
    "    # 문자 리스트를 어떻게 문자열로 바꿀지가 관건! 그럼 해결\n",
    "    # 해결인 줄 알았으나 시간 초과! 그럴 줄 알았다..\n",
    "    for num in number:\n",
    "        answer+=num\n",
    "    \n",
    "    return answer\n",
    "\n",
    "num = input()\n",
    "k = int(input())\n",
    "\n",
    "print(solution(num, k))"
   ]
  },
  {
   "cell_type": "code",
   "execution_count": 13,
   "id": "b15a6f0a",
   "metadata": {},
   "outputs": [
    {
     "name": "stdout",
     "output_type": "stream",
     "text": [
      "['1', '2']\n"
     ]
    }
   ],
   "source": [
    "a = ['1', '2']\n",
    "print(str(a))"
   ]
  }
 ],
 "metadata": {
  "kernelspec": {
   "display_name": "Python 3 (ipykernel)",
   "language": "python",
   "name": "python3"
  },
  "language_info": {
   "codemirror_mode": {
    "name": "ipython",
    "version": 3
   },
   "file_extension": ".py",
   "mimetype": "text/x-python",
   "name": "python",
   "nbconvert_exporter": "python",
   "pygments_lexer": "ipython3",
   "version": "3.10.0"
  }
 },
 "nbformat": 4,
 "nbformat_minor": 5
}
