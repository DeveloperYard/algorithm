{
 "cells": [
  {
   "cell_type": "code",
   "execution_count": 69,
   "id": "e284c9e8",
   "metadata": {},
   "outputs": [
    {
     "name": "stdout",
     "output_type": "stream",
     "text": [
      "126\n",
      "4\n",
      "22\n"
     ]
    }
   ],
   "source": [
    "import copy\n",
    "\n",
    "def threeSquareRet(n):\n",
    "    i = 0\n",
    "    while 3**i <= n:\n",
    "        i+=1\n",
    "        \n",
    "    return i-1\n",
    "\n",
    "def solution(n):\n",
    "    answer = 0\n",
    "    maxSqr = threeSquareRet(n)\n",
    "    \n",
    "    # 3보다 작으면 어떻게 처리할까?\n",
    "    \n",
    "    if n == 1:\n",
    "        return 1\n",
    "    elif n == 2:\n",
    "        return 2\n",
    "    elif n == 3:\n",
    "        return 3\n",
    "    \n",
    "    # 1인 경우와 최대값인 경우를 생각해야함!\n",
    "    \n",
    "    # 제곱이 왜 처리가 안되지? .. 어떻게 해결할 것인가!\n",
    "    arr = [0]*(maxSqr+1)\n",
    "    if 3**maxSqr == n:\n",
    "        return 1\n",
    "    \n",
    "    print(maxSqr)\n",
    "    idx = 0\n",
    "    for i in range(maxSqr, -1, -1):\n",
    "        for j in range(4):\n",
    "            if (3**i)*j > n:\n",
    "                arr[idx] = j-1\n",
    "                n -= ((3**i)*(j-1))\n",
    "                idx+=1\n",
    "                break\n",
    "    \n",
    "#    arrCp = copy.deepcopy(arr)\n",
    "#     for i in range(len(arr)):\n",
    "#         arr[i] = arrCp[len(arr)-i-1]\n",
    "    \n",
    "#     for i in range(len(arr)-1, -1, -1):\n",
    "#         answer+=((3**i)*arrCp[i])\n",
    "        \n",
    "    for i in range(len(arr)):\n",
    "        answer+=((3**i)*arr[i])\n",
    "    \n",
    "#     print(arr)\n",
    "        \n",
    "#     print(arrCp)\n",
    "    return answer\n",
    "\n",
    "n = int(input())\n",
    "print(solution(n))"
   ]
  }
 ],
 "metadata": {
  "kernelspec": {
   "display_name": "Python 3 (ipykernel)",
   "language": "python",
   "name": "python3"
  },
  "language_info": {
   "codemirror_mode": {
    "name": "ipython",
    "version": 3
   },
   "file_extension": ".py",
   "mimetype": "text/x-python",
   "name": "python",
   "nbconvert_exporter": "python",
   "pygments_lexer": "ipython3",
   "version": "3.10.0"
  }
 },
 "nbformat": 4,
 "nbformat_minor": 5
}
