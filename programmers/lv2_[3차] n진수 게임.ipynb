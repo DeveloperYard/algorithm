{
 "cells": [
  {
   "cell_type": "code",
   "execution_count": 39,
   "id": "7b6c4a69",
   "metadata": {},
   "outputs": [
    {
     "name": "stdout",
     "output_type": "stream",
     "text": [
      "16 16 2 1\n",
      "['0', '1', '2', '3', '4', '5', '6', '7', '8', '9', 'A', 'B', 'C', 'D', 'E', 'F', '1', '0', '1', '1', '1', '2', '1', '3', '1', '4', '1', '5', '1', '6', '1', '7', '1', '8', '1', '9', '1', 'A', '1', 'B', '1', 'C', '1', 'D', '1', 'E', '1', 'F', '2', '0']\n",
      "02468ACE11111111\n"
     ]
    }
   ],
   "source": [
    "def convert(n, k):\n",
    "    s = \"\"\n",
    "    \n",
    "    while 1:\n",
    "        tmp = n%k\n",
    "        if tmp >= 10:\n",
    "            tmp += 55\n",
    "            \n",
    "        if tmp >= 65:\n",
    "            s = chr(tmp)+s\n",
    "        else:\n",
    "            s = str(tmp)+s\n",
    "        \n",
    "        if n//k == 0:\n",
    "            break\n",
    "        \n",
    "        n//=k\n",
    "    \n",
    "    return s\n",
    "    \n",
    "\n",
    "def solution(n, t, m, p):\n",
    "    answer = ''\n",
    "    solArr = []\n",
    "    \n",
    "    for i in range(m*t+1):\n",
    "        num = convert(i, n)\n",
    "        if len(num) == 1:\n",
    "            solArr.append(num)\n",
    "        else:\n",
    "            solArr+=list(num)\n",
    "\n",
    "    print(solArr)\n",
    "    for i in range(p-1, t*m, m):\n",
    "        answer += solArr[i]\n",
    "    \n",
    "    return answer\n",
    "\n",
    "n, t, m, p = map(int, input().split())\n",
    "print(solution(n, t, m, p))"
   ]
  },
  {
   "cell_type": "code",
   "execution_count": 10,
   "id": "61bcc121",
   "metadata": {},
   "outputs": [
    {
     "name": "stdout",
     "output_type": "stream",
     "text": [
      "64\n"
     ]
    }
   ],
   "source": [
    "def convert(n, k):\n",
    "    s = \"\"\n",
    "    \n",
    "    while 1:\n",
    "        tmp = n%k\n",
    "        if tmp >= 10:\n",
    "            tmp += 55\n",
    "            \n",
    "        if tmp > 65:\n",
    "            s += chr(tmp)+s\n",
    "        else:\n",
    "            s = str(tmp)+s\n",
    "        \n",
    "        \n",
    "        \n",
    "        if n//k == 0:\n",
    "            break\n",
    "        \n",
    "        n//=k\n",
    "    \n",
    "    return s\n",
    "\n",
    "print(convert(100, 16))"
   ]
  },
  {
   "cell_type": "code",
   "execution_count": 8,
   "id": "d6024d92",
   "metadata": {},
   "outputs": [
    {
     "name": "stdout",
     "output_type": "stream",
     "text": [
      "\t\n"
     ]
    }
   ],
   "source": [
    "print(chr(9))"
   ]
  },
  {
   "cell_type": "code",
   "execution_count": null,
   "id": "b8c82f5d",
   "metadata": {},
   "outputs": [],
   "source": []
  }
 ],
 "metadata": {
  "kernelspec": {
   "display_name": "Python 3 (ipykernel)",
   "language": "python",
   "name": "python3"
  },
  "language_info": {
   "codemirror_mode": {
    "name": "ipython",
    "version": 3
   },
   "file_extension": ".py",
   "mimetype": "text/x-python",
   "name": "python",
   "nbconvert_exporter": "python",
   "pygments_lexer": "ipython3",
   "version": "3.10.0"
  }
 },
 "nbformat": 4,
 "nbformat_minor": 5
}
