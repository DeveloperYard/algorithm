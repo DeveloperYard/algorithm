{
 "cells": [
  {
   "cell_type": "code",
   "execution_count": 74,
   "id": "7b17afc0",
   "metadata": {},
   "outputs": [
    {
     "name": "stdout",
     "output_type": "stream",
     "text": [
      "aa_bb\n",
      "ababv\n",
      "aa_bb\n",
      "ababv\n",
      "{'aa': 1, 'bb': 1}\n",
      "{'ab': 2, 'ba': 1, 'bv': 1}\n",
      "aabbababbabv\n",
      "\n",
      "0\n"
     ]
    }
   ],
   "source": [
    "import math\n",
    "\n",
    "def solution(str1, str2):\n",
    "    answer = 0\n",
    "    \n",
    "    str1 = str1.lower()\n",
    "    str2 = str2.lower()\n",
    "    \n",
    "#     str1 = strProcessing(str1)\n",
    "#     str2 = strProcessing(str2)\n",
    "    \n",
    "    strD1 = dict()\n",
    "    strD2 = dict()\n",
    "    \n",
    "    unionSet = \"\"\n",
    "    joinSet = \"\"\n",
    "    \n",
    "\n",
    "    \n",
    "    for i in range(len(str1)-1):\n",
    "        curVal = str1[i:i+2]\n",
    "#         if not 97<=ord(curVal[0])<=122 or not 97<=ord(curVal[1])<=122:\n",
    "#             continue\n",
    "        if not curVal.isalpha():\n",
    "            continue\n",
    "        if curVal not in strD1:\n",
    "            strD1[curVal] = 1\n",
    "        else:\n",
    "            strD1[curVal]+=1\n",
    "        \n",
    "    for i in range(len(str2)-1):\n",
    "        curVal = str2[i:i+2]\n",
    "#         if not 97<=ord(curVal[0])<=122 or not 97<=ord(curVal[1])<=122:\n",
    "#             continue\n",
    "        if not curVal.isalpha():\n",
    "            continue\n",
    "        if curVal not in strD2:\n",
    "            strD2[curVal] = 1\n",
    "        else:\n",
    "            strD2[curVal]+=1\n",
    "    \n",
    "\n",
    "    if len(strD1) == 0 and len(strD2) == 0:\n",
    "        return 1*65536\n",
    "    \n",
    "    for key,val in strD1.items():\n",
    "        if key not in strD2:\n",
    "            unionSet += key*val\n",
    "        else:\n",
    "            joinSet+=key*min(strD1[key], strD2[key])\n",
    "            unionSet+=key*max(strD1[key], strD2[key])\n",
    "\n",
    "    for key,val in strD2.items():\n",
    "        if key not in strD1:\n",
    "            unionSet += key*val\n",
    "\n",
    "#     print(str1)\n",
    "#     print(str2)            \n",
    "#     print(strD1)\n",
    "#     print(strD2)\n",
    "#     print(unionSet)\n",
    "#     print(joinSet)\n",
    "#     if len(unionSet) == 0 and len(joinSet) == 0:\n",
    "#         return 1\n",
    "    \n",
    "    if len(unionSet) == 0 and len(joinSet) == 0:\n",
    "        return 65536\n",
    "    else:\n",
    "        return math.floor((len(joinSet)/len(unionSet))*65536)\n",
    "    return answer\n",
    "\n",
    "\n",
    "\n",
    "str1 = input()\n",
    "str2 = input()\n",
    "\n",
    "print(solution(str1, str2))"
   ]
  },
  {
   "cell_type": "code",
   "execution_count": 71,
   "id": "c459f273",
   "metadata": {},
   "outputs": [
    {
     "name": "stdout",
     "output_type": "stream",
     "text": [
      "3\n"
     ]
    }
   ],
   "source": [
    "import math\n",
    "print(math.floor(3.9999))"
   ]
  },
  {
   "cell_type": "code",
   "execution_count": 45,
   "id": "3dcb0a24",
   "metadata": {},
   "outputs": [
    {
     "name": "stdout",
     "output_type": "stream",
     "text": [
      "FRANCE\n",
      "french\n",
      "['f', 'r', 'a', 'n', 'c', 'e']\n",
      "['f', 'r', 'e', 'n', 'c', 'h']\n",
      "inter : 5 union : 7\n",
      "46811\n"
     ]
    }
   ],
   "source": [
    "def processingStr(string):\n",
    "    string = string.lower()\n",
    "    string = list(string)\n",
    "    i = 0\n",
    "    while i < len(string):\n",
    "        if ord(string[i]) > 122 or ord(string[i]) < 97:\n",
    "            del string[i]\n",
    "            i-=1\n",
    "        i+=1\n",
    "            \n",
    "    print(string)\n",
    "    return string\n",
    "\n",
    "def solution(str1, str2):\n",
    "    answer = 0\n",
    "    str1 = processingStr(str1)\n",
    "    str2 = processingStr(str2)\n",
    "    \n",
    "    union = 0\n",
    "    \n",
    "    \n",
    "    \n",
    "\n",
    "    print(\"inter : \" + str(intersect) + \" union : \" + str(union))\n",
    "    answer = round(65536*intersect/union)\n",
    "    \n",
    "    return answer\n",
    "\n",
    "str1 = input()\n",
    "str2 = input()\n",
    "\n",
    "print(solution(str1, str2))"
   ]
  },
  {
   "cell_type": "code",
   "execution_count": 23,
   "id": "42d94f4b",
   "metadata": {},
   "outputs": [
    {
     "name": "stdout",
     "output_type": "stream",
     "text": [
      "HI\n"
     ]
    }
   ],
   "source": [
    "print(\"hi\".upper())"
   ]
  },
  {
   "cell_type": "code",
   "execution_count": 9,
   "id": "008096dc",
   "metadata": {},
   "outputs": [
    {
     "ename": "TypeError",
     "evalue": "unsupported operand type(s) for &: 'str' and 'str'",
     "output_type": "error",
     "traceback": [
      "\u001b[0;31m---------------------------------------------------------------------------\u001b[0m",
      "\u001b[0;31mTypeError\u001b[0m                                 Traceback (most recent call last)",
      "\u001b[0;32m/var/folders/kn/gg6frwt12s7gcf_n79d00hy80000gn/T/ipykernel_81981/3082073681.py\u001b[0m in \u001b[0;36m<module>\u001b[0;34m\u001b[0m\n\u001b[1;32m      2\u001b[0m \u001b[0mb\u001b[0m \u001b[0;34m=\u001b[0m \u001b[0;34m\"ok\"\u001b[0m\u001b[0;34m\u001b[0m\u001b[0;34m\u001b[0m\u001b[0m\n\u001b[1;32m      3\u001b[0m \u001b[0;34m\u001b[0m\u001b[0m\n\u001b[0;32m----> 4\u001b[0;31m \u001b[0mprint\u001b[0m\u001b[0;34m(\u001b[0m\u001b[0ma\u001b[0m\u001b[0;34m&\u001b[0m\u001b[0mb\u001b[0m\u001b[0;34m)\u001b[0m\u001b[0;34m\u001b[0m\u001b[0;34m\u001b[0m\u001b[0m\n\u001b[0m",
      "\u001b[0;31mTypeError\u001b[0m: unsupported operand type(s) for &: 'str' and 'str'"
     ]
    }
   ],
   "source": [
    "a = \"hia\"\n",
    "b = \"ok\"\n",
    "\n",
    "for i in range(len(a),)"
   ]
  },
  {
   "cell_type": "code",
   "execution_count": 33,
   "id": "f68e74a6",
   "metadata": {},
   "outputs": [
    {
     "name": "stdout",
     "output_type": "stream",
     "text": [
      "32\n"
     ]
    }
   ],
   "source": [
    "print(ord(\" \"))"
   ]
  },
  {
   "cell_type": "code",
   "execution_count": 31,
   "id": "13e8657a",
   "metadata": {},
   "outputs": [
    {
     "name": "stdout",
     "output_type": "stream",
     "text": [
      "2\n"
     ]
    }
   ],
   "source": [
    "s = \"aaaa\"\n",
    "print(s.count(\"aa\"))"
   ]
  },
  {
   "cell_type": "code",
   "execution_count": null,
   "id": "c6aa0ff7",
   "metadata": {},
   "outputs": [],
   "source": []
  }
 ],
 "metadata": {
  "kernelspec": {
   "display_name": "Python 3 (ipykernel)",
   "language": "python",
   "name": "python3"
  },
  "language_info": {
   "codemirror_mode": {
    "name": "ipython",
    "version": 3
   },
   "file_extension": ".py",
   "mimetype": "text/x-python",
   "name": "python",
   "nbconvert_exporter": "python",
   "pygments_lexer": "ipython3",
   "version": "3.10.0"
  }
 },
 "nbformat": 4,
 "nbformat_minor": 5
}
