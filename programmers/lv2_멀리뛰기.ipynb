{
 "cells": [
  {
   "cell_type": "code",
   "execution_count": 4,
   "id": "4bbd7411",
   "metadata": {},
   "outputs": [
    {
     "name": "stdout",
     "output_type": "stream",
     "text": [
      "4\n",
      "0\n",
      "1\n",
      "2\n",
      "3\n",
      "5\n"
     ]
    }
   ],
   "source": [
    "def solution(n):\n",
    "    answer = 0\n",
    "    \n",
    "    answerArr = [0]*2001\n",
    "    \n",
    "    answerArr[1] = 1\n",
    "    answerArr[2] = 2\n",
    "    for i in range(3, n+1):\n",
    "        answerArr[i] = (answerArr[i-1] + answerArr[i-2])%1234567\n",
    "    \n",
    "    answer = answerArr[n]\n",
    "    \n",
    "#     for i in range(n):\n",
    "#         print(answerArr[i])\n",
    "    return answer\n",
    "\n",
    "n = int(input())\n",
    "print(solution(n))"
   ]
  },
  {
   "cell_type": "code",
   "execution_count": null,
   "id": "277a1e2c",
   "metadata": {},
   "outputs": [],
   "source": []
  }
 ],
 "metadata": {
  "kernelspec": {
   "display_name": "Python 3 (ipykernel)",
   "language": "python",
   "name": "python3"
  },
  "language_info": {
   "codemirror_mode": {
    "name": "ipython",
    "version": 3
   },
   "file_extension": ".py",
   "mimetype": "text/x-python",
   "name": "python",
   "nbconvert_exporter": "python",
   "pygments_lexer": "ipython3",
   "version": "3.10.0"
  }
 },
 "nbformat": 4,
 "nbformat_minor": 5
}
