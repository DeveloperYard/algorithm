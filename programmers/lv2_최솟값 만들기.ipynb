{
 "cells": [
  {
   "cell_type": "code",
   "execution_count": 4,
   "id": "ac0ffe1f",
   "metadata": {},
   "outputs": [
    {
     "name": "stdout",
     "output_type": "stream",
     "text": [
      "1 2\n",
      "3 4\n",
      "deque([1, 2]) deque([3, 4])\n",
      "deque([2]) deque([3])\n",
      "4\n"
     ]
    }
   ],
   "source": [
    "from collections import deque\n",
    "\n",
    "def solution(A,B):\n",
    "    answer = 0\n",
    "    \n",
    "    A.sort()\n",
    "    B.sort()\n",
    "\n",
    "    A = deque(A)\n",
    "    B = deque(B)\n",
    "    \n",
    "    while A or B:\n",
    "        print(A, B)\n",
    "        if A[0]*B[len(B)-1] < B[0]*A[len(A)-1]:\n",
    "            first = A.popleft()\n",
    "            second = B.pop()\n",
    "            answer+=first*second\n",
    "        else:\n",
    "            first = B.popleft()\n",
    "            second = A.pop()\n",
    "            answer+=first*second\n",
    "            \n",
    "\n",
    "    return answer\n",
    "\n",
    "\n",
    "a = list(map(int, input().split()))\n",
    "b = list(map(int, input().split()))\n",
    "\n",
    "print(solution(a, b))"
   ]
  },
  {
   "cell_type": "code",
   "execution_count": null,
   "id": "34bed4d5",
   "metadata": {},
   "outputs": [],
   "source": []
  }
 ],
 "metadata": {
  "kernelspec": {
   "display_name": "Python 3 (ipykernel)",
   "language": "python",
   "name": "python3"
  },
  "language_info": {
   "codemirror_mode": {
    "name": "ipython",
    "version": 3
   },
   "file_extension": ".py",
   "mimetype": "text/x-python",
   "name": "python",
   "nbconvert_exporter": "python",
   "pygments_lexer": "ipython3",
   "version": "3.10.0"
  }
 },
 "nbformat": 4,
 "nbformat_minor": 5
}
