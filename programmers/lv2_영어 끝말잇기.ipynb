{
 "cells": [
  {
   "cell_type": "code",
   "execution_count": null,
   "id": "1f92c113",
   "metadata": {},
   "outputs": [],
   "source": [
    "def solution(n, words):\n",
    "    answer = []\n",
    "    \n",
    "    curSeq = 1\n",
    "    curLotate = 1\n",
    "    wordList = []\n",
    "    \n",
    "    wordList.append(words[0])\n",
    "    \n",
    "    for i in range(1, len(words)):\n",
    "        if words[i] not in wordList and words[i-1][-1] == words[i][0]:\n",
    "            curSeq+=1\n",
    "            if curSeq == n:\n",
    "                curSeq%=n\n",
    "                curLotate+=1\n",
    "            wordList.append(words[i])\n",
    "        else:\n",
    "            answer.append(curSeq+1)\n",
    "            answer.append(curLotate)\n",
    "            break\n",
    "\n",
    "    if not answer:\n",
    "        answer = [0, 0]\n",
    "    return answer\n",
    "\n",
    "\n",
    "n = int(input())\n",
    "\n",
    "words = list(map(str, input().split()))"
   ]
  },
  {
   "cell_type": "code",
   "execution_count": 2,
   "id": "01b48f79",
   "metadata": {},
   "outputs": [
    {
     "name": "stdout",
     "output_type": "stream",
     "text": [
      "k\n"
     ]
    }
   ],
   "source": [
    "words = [\"tank\", \"kilo\"]\n",
    "\n",
    "print(words[0][-1])"
   ]
  },
  {
   "cell_type": "code",
   "execution_count": null,
   "id": "ea27ca3e",
   "metadata": {},
   "outputs": [],
   "source": []
  }
 ],
 "metadata": {
  "kernelspec": {
   "display_name": "Python 3 (ipykernel)",
   "language": "python",
   "name": "python3"
  },
  "language_info": {
   "codemirror_mode": {
    "name": "ipython",
    "version": 3
   },
   "file_extension": ".py",
   "mimetype": "text/x-python",
   "name": "python",
   "nbconvert_exporter": "python",
   "pygments_lexer": "ipython3",
   "version": "3.10.0"
  }
 },
 "nbformat": 4,
 "nbformat_minor": 5
}
