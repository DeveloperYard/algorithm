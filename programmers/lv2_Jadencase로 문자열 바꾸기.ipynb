{
 "cells": [
  {
   "cell_type": "code",
   "execution_count": 8,
   "id": "79fdda9a",
   "metadata": {},
   "outputs": [
    {
     "name": "stdout",
     "output_type": "stream",
     "text": [
      "    ssss s sss sss    s\n",
      "    Ssss S Sss Sss    S\n"
     ]
    }
   ],
   "source": [
    "def solution(s):\n",
    "    \n",
    "    s = list(s)\n",
    "    spaceFlag = False\n",
    "    \n",
    "    for i in range(len(s)):\n",
    "        if i == 0 and ord(s[i])>=97 and ord(s[i])<=122:\n",
    "            s[i] = chr(ord(s[i])-32)\n",
    "            continue\n",
    "        elif i == 0 and ord(s[i])>=65 and ord(s[i])<=90:\n",
    "            continue\n",
    "        elif i == 0:\n",
    "            continue\n",
    "        \n",
    "        if s[i-1] == ' ':\n",
    "            spaceFlag = True\n",
    "            if s[i] == ' ':\n",
    "                continue\n",
    "            elif (ord(s[i]) >= 97 and ord(s[i]) <= 122) and spaceFlag:\n",
    "                s[i] = chr(ord(s[i])-32)\n",
    "                spaceFlag = False\n",
    "        elif ord(s[i]) >= 65 and ord(s[i]) <= 90:\n",
    "            s[i] = chr(ord(s[i])+32)\n",
    "\n",
    "    s = \"\".join(s)\n",
    "    return s\n",
    "\n",
    "s = input()\n",
    "print(solution(s))"
   ]
  },
  {
   "cell_type": "code",
   "execution_count": null,
   "id": "6f5a8bbd",
   "metadata": {},
   "outputs": [],
   "source": []
  },
  {
   "cell_type": "code",
   "execution_count": null,
   "id": "ce35d7b3",
   "metadata": {},
   "outputs": [],
   "source": []
  }
 ],
 "metadata": {
  "kernelspec": {
   "display_name": "Python 3 (ipykernel)",
   "language": "python",
   "name": "python3"
  },
  "language_info": {
   "codemirror_mode": {
    "name": "ipython",
    "version": 3
   },
   "file_extension": ".py",
   "mimetype": "text/x-python",
   "name": "python",
   "nbconvert_exporter": "python",
   "pygments_lexer": "ipython3",
   "version": "3.10.0"
  }
 },
 "nbformat": 4,
 "nbformat_minor": 5
}
