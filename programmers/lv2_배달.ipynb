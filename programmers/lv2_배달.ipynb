{
 "cells": [
  {
   "cell_type": "code",
   "execution_count": 31,
   "id": "fb8b9f44",
   "metadata": {},
   "outputs": [
    {
     "name": "stdout",
     "output_type": "stream",
     "text": [
      "[0, 600000, 600000, 600000, 600000, 600000, 600000]\n",
      "[600000, 0, 1, 2, 5, 4, 5]\n",
      "[600000, 1, 0, 2, 5, 4, 5]\n",
      "[600000, 2, 2, 0, 3, 2, 3]\n",
      "[600000, 5, 5, 3, 0, 5, 6]\n",
      "[600000, 4, 4, 2, 5, 0, 1]\n",
      "[600000, 5, 5, 3, 6, 1, 0]\n",
      "4\n"
     ]
    }
   ],
   "source": [
    "def solution(N, road, K): # Using Floyd Algorithm\n",
    "    answer = 0\n",
    "    \n",
    "    INF = 600000\n",
    "    \n",
    "    dist = [[INF]*(N+1) for _ in range(N+1)]\n",
    "    \n",
    "    for i in range(N+1):\n",
    "        dist[i][i] = 0\n",
    "    \n",
    "    for info in road:\n",
    "        a, b, c = info\n",
    "        if dist[a][b] > c:\n",
    "            dist[a][b] = c\n",
    "            dist[b][a] = c\n",
    "    \n",
    "    for k in range(N+1):\n",
    "        for i in range(N+1):\n",
    "            for j in range(N+1):\n",
    "                dist[i][j] = min(dist[i][j], dist[i][k] + dist[k][j])\n",
    "\n",
    "\n",
    "#     for i in range(N+1):\n",
    "#         print(dist[i])\n",
    "        \n",
    "    for i in dist[1]:\n",
    "        if i <= K:\n",
    "            answer+=1\n",
    "    return answer\n",
    "\n",
    "road = [[1,2,1],[1,3,2],[2,3,2],[3,4,3],[3,5,2],[3,5,3],[5,6,1]]\n",
    "N = 6\n",
    "K = 4\n",
    "\n",
    "print(solution(N, road, K))\n"
   ]
  },
  {
   "cell_type": "code",
   "execution_count": 1,
   "id": "88e3b109",
   "metadata": {},
   "outputs": [
    {
     "name": "stdout",
     "output_type": "stream",
     "text": [
      "[[1, 2, 1], [5, 3, 1], [5, 2, 2], [1, 4, 2], [5, 4, 2], [2, 3, 3]]\n"
     ]
    }
   ],
   "source": [
    "road = [[1,2,1],[2,3,3],[5,2,2],[1,4,2],[5,3,1],[5,4,2]]\n",
    "\n",
    "road.sort(key=lambda x: x[2])\n",
    "\n",
    "print(road)"
   ]
  },
  {
   "cell_type": "code",
   "execution_count": null,
   "id": "e757d30b",
   "metadata": {},
   "outputs": [],
   "source": []
  }
 ],
 "metadata": {
  "kernelspec": {
   "display_name": "Python 3 (ipykernel)",
   "language": "python",
   "name": "python3"
  },
  "language_info": {
   "codemirror_mode": {
    "name": "ipython",
    "version": 3
   },
   "file_extension": ".py",
   "mimetype": "text/x-python",
   "name": "python",
   "nbconvert_exporter": "python",
   "pygments_lexer": "ipython3",
   "version": "3.10.0"
  }
 },
 "nbformat": 4,
 "nbformat_minor": 5
}
