{
 "cells": [
  {
   "cell_type": "code",
   "execution_count": 37,
   "id": "1c8c76ef",
   "metadata": {},
   "outputs": [
    {
     "name": "stdout",
     "output_type": "stream",
     "text": [
      "5 4 3 2 1\n",
      "deque([])\n",
      "[]\n",
      "deque([1, 2, 3, 4])\n",
      "[5]\n",
      "deque([1, 2, 3])\n",
      "[5, 4]\n",
      "deque([1, 2])\n",
      "[5, 4, 3]\n",
      "deque([1])\n",
      "[5, 4, 3, 2]\n",
      "deque([])\n",
      "[5, 4, 3, 2, 1]\n",
      "5\n"
     ]
    }
   ],
   "source": [
    "from collections import deque\n",
    "\n",
    "def solution(order):\n",
    "    answer = 0\n",
    "    \n",
    "    arr = []\n",
    "    q = deque()\n",
    "    resArr = []\n",
    "    \n",
    "    inputFlag = 0\n",
    "    \n",
    "    for i in range(1, len(order)+1):\n",
    "        arr.append(i)\n",
    "    idx = 0\n",
    "    for i in order:\n",
    "#         print(q)\n",
    "#         print(resArr)\n",
    "        # 보조 컨테니어에 있는지 확인\n",
    "        if q and i == q[len(q)-1]:\n",
    "            resArr.append(q.pop())\n",
    "            inputFlag = 1\n",
    "        else:\n",
    "            # 컨베이어 벨트 확인 작업\n",
    "            while idx < len(arr):\n",
    "                if i == arr[idx]:\n",
    "                    resArr.append(i)\n",
    "                    idx+=1\n",
    "                    inputFlag = 1\n",
    "                    break\n",
    "                q.append(arr[idx])\n",
    "                idx+=1\n",
    "                \n",
    "        if inputFlag == 0:\n",
    "            break\n",
    "        inputFlag = 0\n",
    "                \n",
    "#     print(q)\n",
    "#     print(resArr)\n",
    "    return len(resArr)\n",
    "\n",
    "arr = list(map(int, input().split()))\n",
    "print(solution(arr))"
   ]
  },
  {
   "cell_type": "code",
   "execution_count": 1,
   "id": "39dbe046",
   "metadata": {},
   "outputs": [
    {
     "data": {
      "text/plain": [
       "1"
      ]
     },
     "execution_count": 1,
     "metadata": {},
     "output_type": "execute_result"
    }
   ],
   "source": [
    "from collections import deque\n",
    "\n",
    "d = deque()\n",
    "\n",
    "d.append(1)\n",
    "d.pop()"
   ]
  },
  {
   "cell_type": "code",
   "execution_count": null,
   "id": "b02ba319",
   "metadata": {},
   "outputs": [],
   "source": []
  }
 ],
 "metadata": {
  "kernelspec": {
   "display_name": "Python 3 (ipykernel)",
   "language": "python",
   "name": "python3"
  },
  "language_info": {
   "codemirror_mode": {
    "name": "ipython",
    "version": 3
   },
   "file_extension": ".py",
   "mimetype": "text/x-python",
   "name": "python",
   "nbconvert_exporter": "python",
   "pygments_lexer": "ipython3",
   "version": "3.10.0"
  }
 },
 "nbformat": 4,
 "nbformat_minor": 5
}
