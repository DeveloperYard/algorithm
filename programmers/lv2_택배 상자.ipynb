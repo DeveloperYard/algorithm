{
 "cells": [
  {
   "cell_type": "code",
   "execution_count": 12,
   "id": "f458a0a0",
   "metadata": {},
   "outputs": [
    {
     "name": "stdout",
     "output_type": "stream",
     "text": [
      "4 3 1 2 5\n",
      "[]\n",
      "------\n",
      "deque([])\n",
      "4\n",
      "[4]\n",
      "------\n",
      "deque([1, 2, 3])\n",
      "3\n",
      "[4, 3]\n",
      "------\n",
      "deque([1, 2])\n",
      "1\n",
      "2\n"
     ]
    }
   ],
   "source": [
    "from collections import deque\n",
    "\n",
    "def solution(order):\n",
    "    answer = 0\n",
    "    \n",
    "    arr = []\n",
    "    \n",
    "    for i in range(1, len(order)+1):\n",
    "        arr.append(i)\n",
    "    \n",
    "    resArr = []\n",
    "    q = deque()\n",
    "    length = len(order)\n",
    "    idx = 0\n",
    "    for i in order:\n",
    "        val = len(resArr)\n",
    "        # if i in sub container top\n",
    "        if q and q[len(q)-1]==i:\n",
    "            resArr.append(q.pop())\n",
    "            answer+=1\n",
    "        else:\n",
    "            while idx < len(arr):\n",
    "                if arr[idx] == i:\n",
    "                    resArr.append(i)\n",
    "                    answer+=1\n",
    "                    idx+=1\n",
    "                    break\n",
    "                else:\n",
    "                    q.append(arr[idx])\n",
    "                    idx+=1\n",
    "        if val == len(resArr):\n",
    "            break\n",
    "            \n",
    "    return answer\n",
    "\n",
    "arr = list(map(int, input().split()))\n",
    "print(solution(arr))"
   ]
  },
  {
   "cell_type": "code",
   "execution_count": null,
   "id": "146d7a04",
   "metadata": {},
   "outputs": [],
   "source": [
    "from collections import deque\n",
    "\n",
    "def solution(order):\n",
    "    answer = 0\n",
    "    \n",
    "    arr = []\n",
    "    q = deque()\n",
    "    resArr = []\n",
    "    \n",
    "    inputFlag = 0\n",
    "    \n",
    "    for i in range(1, len(order)+1):\n",
    "        arr.append(i)\n",
    "    idx = 0\n",
    "    for i in order:\n",
    "#         print(q)\n",
    "#         print(resArr)\n",
    "        # 보조 컨테니어에 있는지 확인\n",
    "        if q and i == q[len(q)-1]:\n",
    "            resArr.append(q.pop())\n",
    "            inputFlag = 1\n",
    "        else:\n",
    "            # 컨베이어 벨트 확인 작업\n",
    "            while idx < len(arr):\n",
    "                if i == arr[idx]:\n",
    "                    resArr.append(i)\n",
    "                    idx+=1\n",
    "                    inputFlag = 1\n",
    "                    break\n",
    "                q.append(arr[idx])\n",
    "                idx+=1\n",
    "                \n",
    "        if inputFlag == 0:\n",
    "            break\n",
    "        inputFlag = 0\n",
    "                \n",
    "#     print(q)\n",
    "#     print(resArr)\n",
    "    return len(resArr)\n",
    "\n",
    "arr = list(map(int, input().split()))\n",
    "print(solution(arr))"
   ]
  },
  {
   "cell_type": "code",
   "execution_count": 1,
   "id": "760f3fd0",
   "metadata": {},
   "outputs": [
    {
     "data": {
      "text/plain": [
       "1"
      ]
     },
     "execution_count": 1,
     "metadata": {},
     "output_type": "execute_result"
    }
   ],
   "source": [
    "from collections import deque\n",
    "\n",
    "d = deque()\n",
    "\n",
    "d.append(1)\n",
    "d.pop()"
   ]
  },
  {
   "cell_type": "code",
   "execution_count": null,
   "id": "29fa4242",
   "metadata": {},
   "outputs": [],
   "source": []
  }
 ],
 "metadata": {
  "kernelspec": {
   "display_name": "Python 3 (ipykernel)",
   "language": "python",
   "name": "python3"
  },
  "language_info": {
   "codemirror_mode": {
    "name": "ipython",
    "version": 3
   },
   "file_extension": ".py",
   "mimetype": "text/x-python",
   "name": "python",
   "nbconvert_exporter": "python",
   "pygments_lexer": "ipython3",
   "version": "3.10.0"
  }
 },
 "nbformat": 4,
 "nbformat_minor": 5
}
