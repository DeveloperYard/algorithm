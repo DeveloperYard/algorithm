{
 "cells": [
  {
   "cell_type": "code",
   "execution_count": 1,
   "id": "5fc0bfd3",
   "metadata": {},
   "outputs": [
    {
     "name": "stdout",
     "output_type": "stream",
     "text": [
      "3 20 4\n",
      "10\n"
     ]
    }
   ],
   "source": [
    "def solution(price, money, count):\n",
    "    answer = -1\n",
    "\n",
    "    res = 0\n",
    "    for i in range(1, count+1):\n",
    "        res+=price*i\n",
    "    \n",
    "    res = res-money\n",
    "    answer = res if res > 0 else 0\n",
    "    return answer\n",
    "\n",
    "price, money, count = map(int, input().split())\n",
    "print(solution(price, money, count))"
   ]
  }
 ],
 "metadata": {
  "kernelspec": {
   "display_name": "Python 3 (ipykernel)",
   "language": "python",
   "name": "python3"
  },
  "language_info": {
   "codemirror_mode": {
    "name": "ipython",
    "version": 3
   },
   "file_extension": ".py",
   "mimetype": "text/x-python",
   "name": "python",
   "nbconvert_exporter": "python",
   "pygments_lexer": "ipython3",
   "version": "3.10.0"
  }
 },
 "nbformat": 4,
 "nbformat_minor": 5
}
