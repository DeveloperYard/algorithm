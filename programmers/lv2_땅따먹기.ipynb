{
 "cells": [
  {
   "cell_type": "code",
   "execution_count": 17,
   "id": "c1da1605",
   "metadata": {},
   "outputs": [
    {
     "name": "stdout",
     "output_type": "stream",
     "text": [
      "3\n",
      "1 2 3 5\n",
      "5 6 7 8\n",
      "4 3 2 1\n",
      "[1, 2, 3, 5]\n",
      "[10, 11, 12, 11]\n",
      "[16, 15, 13, 13]\n",
      "16\n"
     ]
    }
   ],
   "source": [
    "def solution(land):\n",
    "\n",
    "    for i in range(1, len(land)):\n",
    "        for j in range(4):\n",
    "            compArr = land[i-1][:j]+land[i-1][j+1:]\n",
    "            land[i][j] = land[i][j] + max(compArr)\n",
    "                \n",
    "    answer = max(land[len(land)-1])\n",
    "                \n",
    "#     for i in range(len(land)):\n",
    "#         print(land[i])\n",
    "        \n",
    "    return answer\n",
    "\n",
    "n = int(input())\n",
    "\n",
    "arr = []\n",
    "for _ in range(n):\n",
    "    arr.append(list(map(int, input().split())))\n",
    "    \n",
    "print(solution(arr))"
   ]
  },
  {
   "cell_type": "code",
   "execution_count": 16,
   "id": "902d9017",
   "metadata": {},
   "outputs": [
    {
     "name": "stdout",
     "output_type": "stream",
     "text": [
      "[2, 5, 3, 4, 5]\n",
      "[]\n",
      "[2, 5, 3, 4]\n"
     ]
    }
   ],
   "source": [
    "arr = [2, 5, 3, 4, 5]\n",
    "j = 4\n",
    "print(arr[:j]+arr[j:])\n",
    "print(arr[j+1:])\n",
    "print(max(arr[:j], arr[j+1:]))"
   ]
  },
  {
   "cell_type": "code",
   "execution_count": null,
   "id": "2e9be6df",
   "metadata": {},
   "outputs": [],
   "source": []
  }
 ],
 "metadata": {
  "kernelspec": {
   "display_name": "Python 3 (ipykernel)",
   "language": "python",
   "name": "python3"
  },
  "language_info": {
   "codemirror_mode": {
    "name": "ipython",
    "version": 3
   },
   "file_extension": ".py",
   "mimetype": "text/x-python",
   "name": "python",
   "nbconvert_exporter": "python",
   "pygments_lexer": "ipython3",
   "version": "3.10.0"
  }
 },
 "nbformat": 4,
 "nbformat_minor": 5
}
