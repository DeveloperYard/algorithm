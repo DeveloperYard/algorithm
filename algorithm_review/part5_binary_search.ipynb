{
 "cells": [
  {
   "cell_type": "code",
   "execution_count": null,
   "id": "2aa48197",
   "metadata": {},
   "outputs": [],
   "source": [
    "# 재귀함수로 구현하는 이진탐색\n",
    "\n",
    "def binary_search(arr, target, start, end):\n",
    "    if start > end:\n",
    "        return None\n",
    "    mid = (start + mid)//2\n",
    "    \n",
    "    if arr[mid] == target:\n",
    "        return mid\n",
    "    elif arr[mid] > target:\n",
    "        end = mid-1\n",
    "        return binary_search(arr, target, start, end)\n",
    "    else:\n",
    "        start = mid+1\n",
    "        return binary_search(arr, target, start, mid)"
   ]
  },
  {
   "cell_type": "code",
   "execution_count": 1,
   "id": "212b8790",
   "metadata": {},
   "outputs": [
    {
     "name": "stdout",
     "output_type": "stream",
     "text": [
      "8 3 7 9 2\n",
      "5 7 9\n",
      "No\n",
      "2\n",
      "YES\n",
      "4\n",
      "YES\n"
     ]
    }
   ],
   "source": [
    "# 실전 문제 - 부품 찾기\n",
    "# import sys\n",
    "# input = sys.stdin.readline().rstrip()\n",
    "\n",
    "def binary_search(have, toFind, start, end):\n",
    "    if start > end:\n",
    "        return None\n",
    "    mid = (start + end)//2\n",
    "    if have[mid] == toFind:\n",
    "        return mid\n",
    "    elif have[mid] > toFind:\n",
    "        end = mid-1\n",
    "        return binary_search(have, toFind, start, end)\n",
    "    else:\n",
    "        start = mid+1\n",
    "        return binary_search(have, toFind, start, end)\n",
    "\n",
    "have = list(map(int, input().split()))\n",
    "have.sort()\n",
    "\n",
    "toFindArr = list(map(int, input().split()))\n",
    "\n",
    "for option in toFindArr:\n",
    "    val = binary_search(have, option, 0, len(have)-1)\n",
    "    if val:\n",
    "        print(val)\n",
    "        print(\"YES\")\n",
    "    else:\n",
    "        print(\"No\")"
   ]
  },
  {
   "cell_type": "code",
   "execution_count": null,
   "id": "c019034f",
   "metadata": {},
   "outputs": [],
   "source": []
  }
 ],
 "metadata": {
  "kernelspec": {
   "display_name": "Python 3 (ipykernel)",
   "language": "python",
   "name": "python3"
  },
  "language_info": {
   "codemirror_mode": {
    "name": "ipython",
    "version": 3
   },
   "file_extension": ".py",
   "mimetype": "text/x-python",
   "name": "python",
   "nbconvert_exporter": "python",
   "pygments_lexer": "ipython3",
   "version": "3.10.0"
  }
 },
 "nbformat": 4,
 "nbformat_minor": 5
}
