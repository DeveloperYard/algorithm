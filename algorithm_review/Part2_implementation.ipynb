{
 "cells": [
  {
   "cell_type": "code",
   "execution_count": 6,
   "id": "b48e9667",
   "metadata": {},
   "outputs": [
    {
     "name": "stdout",
     "output_type": "stream",
     "text": [
      "5\n",
      "R R R U D D\n",
      "0 1\n",
      "0 2\n",
      "0 3\n",
      "-1 3\n",
      "1 3\n",
      "2 3\n",
      "[3, 4]\n"
     ]
    }
   ],
   "source": [
    "# 상하좌우\n",
    "\n",
    "def solution(n, paths):\n",
    "    \n",
    "    maxSize = n-1\n",
    "    x, y = 0, 0\n",
    "    for path in paths:\n",
    "        dx, dy = 0, 0\n",
    "        if path == 'L':\n",
    "            dx = -1\n",
    "        elif path == 'R':\n",
    "            dx = 1\n",
    "        elif path == 'U':\n",
    "            dy = -1\n",
    "        else:\n",
    "            dy = 1\n",
    "            \n",
    "        nx = x + dx\n",
    "        ny = y + dy\n",
    "        if nx >= maxSize or nx < 0 or ny >= maxSize or ny < 0:\n",
    "            continue\n",
    "            \n",
    "        x = nx\n",
    "        y = ny\n",
    "    \n",
    "    answer = [y+1, x+1]\n",
    "    \n",
    "    return answer\n",
    "\n",
    "n = int(input())\n",
    "paths = list(map(str, input().split()))\n",
    "\n",
    "print(solution(n, paths))"
   ]
  },
  {
   "cell_type": "code",
   "execution_count": null,
   "id": "eca5e9bf",
   "metadata": {},
   "outputs": [],
   "source": []
  }
 ],
 "metadata": {
  "kernelspec": {
   "display_name": "Python 3 (ipykernel)",
   "language": "python",
   "name": "python3"
  },
  "language_info": {
   "codemirror_mode": {
    "name": "ipython",
    "version": 3
   },
   "file_extension": ".py",
   "mimetype": "text/x-python",
   "name": "python",
   "nbconvert_exporter": "python",
   "pygments_lexer": "ipython3",
   "version": "3.10.0"
  }
 },
 "nbformat": 4,
 "nbformat_minor": 5
}
