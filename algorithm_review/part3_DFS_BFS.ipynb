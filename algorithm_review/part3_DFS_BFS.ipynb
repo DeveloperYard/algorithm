{
 "cells": [
  {
   "cell_type": "code",
   "execution_count": 5,
   "id": "883b09a9",
   "metadata": {},
   "outputs": [
    {
     "name": "stdout",
     "output_type": "stream",
     "text": [
      "4 5\n",
      "0 0 1 1 0\n",
      "0 0 0 1 1\n",
      "1 1 1 1 1\n",
      "0 0 0 0 0\n",
      "0 0\n",
      "[[1, 1, 1, 1, 0], [1, 1, 1, 1, 1], [1, 1, 1, 1, 1], [0, 0, 0, 0, 0]]\n",
      "0 4\n",
      "[[1, 1, 1, 1, 1], [1, 1, 1, 1, 1], [1, 1, 1, 1, 1], [0, 0, 0, 0, 0]]\n",
      "3 0\n",
      "[[1, 1, 1, 1, 1], [1, 1, 1, 1, 1], [1, 1, 1, 1, 1], [1, 1, 1, 1, 1]]\n",
      "3\n"
     ]
    }
   ],
   "source": [
    "# 3. 실전 문제 - 음료수 얼려 먹기\n",
    "\n",
    "def dfs(graph, y, x):\n",
    "    dx = [-1, 0, 1, 0]\n",
    "    dy = [0, 1, 0, -1]\n",
    "    \n",
    "    for n in range(4):\n",
    "        nx = x+dx[n]\n",
    "        ny = y+dy[n]\n",
    "        \n",
    "        if nx >= len(graph[0]) or ny >= len(graph) or nx < 0 or ny < 0:\n",
    "            continue\n",
    "        \n",
    "        if graph[ny][nx] == 1:\n",
    "            continue\n",
    "        else:\n",
    "            graph[ny][nx] = 1\n",
    "            dfs(graph, ny, nx)\n",
    "    return\n",
    "        \n",
    "\n",
    "def solution(graph):\n",
    "    answer = 0\n",
    "    \n",
    "    for i in range(len(graph)):\n",
    "        for j in range(len(graph[0])):\n",
    "            if graph[i][j] == 0:\n",
    "                graph[i][j] = 1\n",
    "                dfs(graph, i, j)\n",
    "                print(i, j)\n",
    "                print(graph)\n",
    "                answer+=1\n",
    "    \n",
    "    return answer\n",
    "\n",
    "\n",
    "n, m = map(int, input().split())\n",
    "\n",
    "graph = []\n",
    "\n",
    "for _ in range(n):\n",
    "    graph.append(list(map(int, input().split())))\n",
    "\n",
    "print(solution(graph))\n",
    "\n",
    "    \n",
    "    "
   ]
  },
  {
   "cell_type": "code",
   "execution_count": null,
   "id": "fa341ca8",
   "metadata": {},
   "outputs": [],
   "source": []
  }
 ],
 "metadata": {
  "kernelspec": {
   "display_name": "Python 3 (ipykernel)",
   "language": "python",
   "name": "python3"
  },
  "language_info": {
   "codemirror_mode": {
    "name": "ipython",
    "version": 3
   },
   "file_extension": ".py",
   "mimetype": "text/x-python",
   "name": "python",
   "nbconvert_exporter": "python",
   "pygments_lexer": "ipython3",
   "version": "3.10.0"
  }
 },
 "nbformat": 4,
 "nbformat_minor": 5
}
