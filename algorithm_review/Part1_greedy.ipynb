{
 "cells": [
  {
   "cell_type": "code",
   "execution_count": 2,
   "id": "ca50c2dd",
   "metadata": {},
   "outputs": [
    {
     "name": "stdout",
     "output_type": "stream",
     "text": [
      "2 4 5 4 6\n",
      "8 3\n",
      "46\n"
     ]
    }
   ],
   "source": [
    "#1 큰 수의 법칙\n",
    "\n",
    "def solution(arr, n, k):\n",
    "    \n",
    "    arr.sort()\n",
    "    \n",
    "    length = len(arr)-1\n",
    "    \n",
    "    maxVal = n//k\n",
    "    \n",
    "    answer = arr[length]*maxVal*k + arr[length-1]*(n-maxVal*k)\n",
    "    \n",
    "    return answer\n",
    "\n",
    "arr = list(map(int, input().split()))\n",
    "n, k = map(int, input().split())\n",
    "\n",
    "print(solution(arr, n, k))"
   ]
  },
  {
   "cell_type": "code",
   "execution_count": null,
   "id": "434b03d2",
   "metadata": {},
   "outputs": [],
   "source": []
  }
 ],
 "metadata": {
  "kernelspec": {
   "display_name": "Python 3 (ipykernel)",
   "language": "python",
   "name": "python3"
  },
  "language_info": {
   "codemirror_mode": {
    "name": "ipython",
    "version": 3
   },
   "file_extension": ".py",
   "mimetype": "text/x-python",
   "name": "python",
   "nbconvert_exporter": "python",
   "pygments_lexer": "ipython3",
   "version": "3.10.0"
  }
 },
 "nbformat": 4,
 "nbformat_minor": 5
}
