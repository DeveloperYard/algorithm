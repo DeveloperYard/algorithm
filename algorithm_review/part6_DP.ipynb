{
 "cells": [
  {
   "cell_type": "code",
   "execution_count": 5,
   "id": "0867c163",
   "metadata": {},
   "outputs": [
    {
     "name": "stdout",
     "output_type": "stream",
     "text": [
      "26\n",
      "4\n"
     ]
    }
   ],
   "source": [
    "# 실전 문제 - 1로 만들기\n",
    "\n",
    "d = [30001]*30001\n",
    "\n",
    "def solution(n):\n",
    "    \n",
    "    for i in range(2, n+1):\n",
    "        d[i] = d[i-1]+1\n",
    "        if i % 5 == 0:\n",
    "            d[i] = min(d[i], d[i//5]+1)\n",
    "        elif i % 3 == 0:\n",
    "            d[i] = min(d[i], d[i//3]+1)\n",
    "        elif i % 2 == 0:\n",
    "            d[i] = min(d[i], d[i//2]+1)\n",
    "    \n",
    "    answer = d[n]\n",
    "    return answer\n",
    "\n",
    "n = int(input())\n",
    "\n",
    "print(solution(n))"
   ]
  },
  {
   "cell_type": "code",
   "execution_count": null,
   "id": "d834b0ba",
   "metadata": {},
   "outputs": [],
   "source": []
  }
 ],
 "metadata": {
  "kernelspec": {
   "display_name": "Python 3 (ipykernel)",
   "language": "python",
   "name": "python3"
  },
  "language_info": {
   "codemirror_mode": {
    "name": "ipython",
    "version": 3
   },
   "file_extension": ".py",
   "mimetype": "text/x-python",
   "name": "python",
   "nbconvert_exporter": "python",
   "pygments_lexer": "ipython3",
   "version": "3.10.0"
  }
 },
 "nbformat": 4,
 "nbformat_minor": 5
}
