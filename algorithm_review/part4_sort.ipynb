{
 "cells": [
  {
   "cell_type": "code",
   "execution_count": 2,
   "id": "4973c07c",
   "metadata": {},
   "outputs": [
    {
     "name": "stdout",
     "output_type": "stream",
     "text": [
      "[0, 1, 2, 3, 4, 5, 6, 7, 8, 9]\n"
     ]
    }
   ],
   "source": [
    "# Quick sort\n",
    "\n",
    "arr = [5, 7, 9, 0, 3, 1, 6, 2, 4, 8]\n",
    "\n",
    "def quick_sort(arr):\n",
    "    if len(arr) <= 1:\n",
    "        return arr\n",
    "    \n",
    "    pivot = arr[0]\n",
    "    tail = arr[1:]\n",
    "    \n",
    "    left_side = [x for x in tail if x <= pivot]\n",
    "    right_side = [x for x in tail if x > pivot]\n",
    "    \n",
    "    return quick_sort(left_side) + [pivot] + quick_sort(right_side)\n",
    "\n",
    "print(quick_sort(arr))"
   ]
  },
  {
   "cell_type": "code",
   "execution_count": 3,
   "id": "b6d4b584",
   "metadata": {},
   "outputs": [
    {
     "name": "stdout",
     "output_type": "stream",
     "text": [
      "[0, 3, 1, 2, 4]\n"
     ]
    }
   ],
   "source": [
    "arr = [5, 7, 9, 0, 3, 1, 6, 2, 4, 8]\n",
    "\n",
    "pivot = arr[0]\n",
    "tail = arr[1:]\n",
    "\n",
    "left_side = [x for x in tail if x <= pivot]\n",
    "\n",
    "print(left_side)"
   ]
  },
  {
   "cell_type": "code",
   "execution_count": 4,
   "id": "f8a25dc9",
   "metadata": {},
   "outputs": [
    {
     "name": "stdout",
     "output_type": "stream",
     "text": [
      "[] 0 [3, 1, 2, 4]\n"
     ]
    }
   ],
   "source": [
    "arr = [0, 3, 1, 2, 4]\n",
    "\n",
    "pivot = arr[0]\n",
    "tail = arr[1:]\n",
    "\n",
    "left_side = [x for x in tail if x <= pivot]\n",
    "right_side = [x for x in tail if x > pivot]\n",
    "\n",
    "print(left_side, pivot, right_side)"
   ]
  },
  {
   "cell_type": "code",
   "execution_count": 6,
   "id": "67b51e48",
   "metadata": {},
   "outputs": [
    {
     "name": "stdout",
     "output_type": "stream",
     "text": [
      "15 27 12\n",
      "[27, 15, 12]\n"
     ]
    }
   ],
   "source": [
    "# 2. 위에서 아래로\n",
    "\n",
    "def solution(arr):\n",
    "    arr.sort(reverse=True)\n",
    "    \n",
    "    return arr\n",
    "\n",
    "arr = list(map(int, input().split()))\n",
    "\n",
    "print(solution(arr))"
   ]
  },
  {
   "cell_type": "code",
   "execution_count": null,
   "id": "6623c23a",
   "metadata": {},
   "outputs": [],
   "source": []
  }
 ],
 "metadata": {
  "kernelspec": {
   "display_name": "Python 3 (ipykernel)",
   "language": "python",
   "name": "python3"
  },
  "language_info": {
   "codemirror_mode": {
    "name": "ipython",
    "version": 3
   },
   "file_extension": ".py",
   "mimetype": "text/x-python",
   "name": "python",
   "nbconvert_exporter": "python",
   "pygments_lexer": "ipython3",
   "version": "3.10.0"
  }
 },
 "nbformat": 4,
 "nbformat_minor": 5
}
