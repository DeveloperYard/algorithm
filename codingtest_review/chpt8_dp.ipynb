{
 "cells": [
  {
   "cell_type": "code",
   "execution_count": 9,
   "id": "fda0140f",
   "metadata": {},
   "outputs": [
    {
     "name": "stdout",
     "output_type": "stream",
     "text": [
      "3000\n",
      "7\n"
     ]
    }
   ],
   "source": [
    "# actual 2 ) 1로 만들기\n",
    "def sol(n):\n",
    "    ans = 0\n",
    "    \n",
    "    mem = [0]*(n+1)\n",
    "    \n",
    "    for i in range(2, n+1):\n",
    "        if i % 5 == 0:\n",
    "            mem[i] = min(mem[i//5], mem[i-1])+1\n",
    "        elif i % 3 == 0:\n",
    "            mem[i] = min(mem[i//3], mem[i-1])+1\n",
    "        elif i % 2 == 0:\n",
    "            mem[i] = min(mem[i//2], mem[i-1])+1\n",
    "        else:\n",
    "            mem[i] = mem[i-1]+1\n",
    "    \n",
    "    ans = mem[n]\n",
    "    return ans\n",
    "\n",
    "\n",
    "n = int(input())\n",
    "\n",
    "print(sol(n))"
   ]
  },
  {
   "cell_type": "code",
   "execution_count": 10,
   "id": "03d2d5cc",
   "metadata": {},
   "outputs": [
    {
     "name": "stdout",
     "output_type": "stream",
     "text": [
      "3000\n",
      "7\n"
     ]
    }
   ],
   "source": [
    "# actual 2 ) 1로 만들기 in book\n",
    "def sol(n):\n",
    "    ans = 0\n",
    "    \n",
    "    mem = [0]*(n+1)\n",
    "    \n",
    "    for i in range(2, n+1):\n",
    "        mem[i] = mem[i-1]+1\n",
    "        \n",
    "        if i % 5 == 0:\n",
    "            mem[i] = min(mem[i//5]+1, mem[i])\n",
    "        elif i % 3 == 0:\n",
    "            mem[i] = min(mem[i//3]+1, mem[i])\n",
    "        elif i % 2 == 0:\n",
    "            mem[i] = min(mem[i//2]+1, mem[i])\n",
    "    \n",
    "    ans = mem[n]\n",
    "    return ans\n",
    "\n",
    "\n",
    "n = int(input())\n",
    "\n",
    "print(sol(n))"
   ]
  },
  {
   "cell_type": "code",
   "execution_count": 13,
   "id": "52b71023",
   "metadata": {},
   "outputs": [
    {
     "name": "stdout",
     "output_type": "stream",
     "text": [
      "1 3 1 5\n",
      "[1, 3, 1, 5]\n",
      "8\n"
     ]
    }
   ],
   "source": [
    "def sol(arr):\n",
    "    ans = 0\n",
    "    d = [0]*len(arr)\n",
    "    \n",
    "    d[0] = arr[0]\n",
    "    d[1] = max(arr[0], arr[1])\n",
    "    \n",
    "    for i in range(2, len(arr)):\n",
    "        d[i] = max(d[i-1], d[i-2]+arr[i])\n",
    "    \n",
    "    print(arr)\n",
    "        \n",
    "    ans = d[len(arr)-1]\n",
    "    return ans\n",
    "\n",
    "\n",
    "arr = list(map(int, input().split()))\n",
    "print(sol(arr))"
   ]
  },
  {
   "cell_type": "code",
   "execution_count": 25,
   "id": "4723c42d",
   "metadata": {},
   "outputs": [
    {
     "name": "stdout",
     "output_type": "stream",
     "text": [
      "3\n",
      "[0, 1, 3, 5]\n",
      "5\n"
     ]
    }
   ],
   "source": [
    "# actual 4 ) 바닥 공사\n",
    "\n",
    "def sol(n):\n",
    "    ans = 0\n",
    "    d = [0]*1001\n",
    "    \n",
    "    d[1] = 1\n",
    "    d[2] = 3\n",
    "    for i in range(3, n+1):\n",
    "        d[i] = d[i-1] + d[i-2]*2\n",
    "    \n",
    "    print(d[:4])\n",
    "    ans = d[n]\n",
    "    \n",
    "    return ans\n",
    "\n",
    "\n",
    "n = int(input())\n",
    "print(sol(n))"
   ]
  },
  {
   "cell_type": "code",
   "execution_count": 32,
   "id": "51cb122c",
   "metadata": {},
   "outputs": [
    {
     "name": "stdout",
     "output_type": "stream",
     "text": [
      "2 15\n",
      "2\n",
      "3\n",
      "[99999, 99999, 1, 1, 2, 2, 2, 3, 3, 3, 4, 4, 4, 5, 5, 5]\n",
      "5\n"
     ]
    }
   ],
   "source": [
    "# actual 5 ) 효율적인 화폐 구성\n",
    "\n",
    "def sol(arr, m):\n",
    "    INF = 99999\n",
    "    d = [INF]*(m+1)\n",
    "    \n",
    "    arr.sort()\n",
    "    \n",
    "    for i in arr:\n",
    "        d[i] = 1\n",
    "    \n",
    "    for i in range(min(arr), m+1):\n",
    "        res = INF\n",
    "        for j in arr:\n",
    "            if d[i-j] > 0:\n",
    "                res = min(res, d[i-j]+1)\n",
    "        if res != INF:\n",
    "            d[i] = res\n",
    "    print(d)\n",
    "    if d[m] == INF:\n",
    "        return -1\n",
    "    else:\n",
    "        return d[m]\n",
    "    \n",
    "\n",
    "n, m = map(int, input().split())\n",
    "arr = []\n",
    "for i in range(n):\n",
    "    arr.append(int(input()))\n",
    "    \n",
    "print(sol(arr, m))"
   ]
  },
  {
   "cell_type": "code",
   "execution_count": null,
   "id": "7406c998",
   "metadata": {},
   "outputs": [],
   "source": [
    "# # actual 5 ) 효율적인 화폐 구성\n",
    "\n",
    "# def sol(arr, m):\n",
    "#     INF = 99999\n",
    "#     d = [INF]*(m+1)\n",
    "    \n",
    "#     arr.sort()\n",
    "    \n",
    "#     for i in arr:\n",
    "#         d[i] = 1\n",
    "    \n",
    "#     for i in range(arr[0], m+1):\n",
    "        \n",
    "#     print(d)\n",
    "#     if d[m] == INF:\n",
    "#         return -1\n",
    "#     else:\n",
    "#         return d[m]\n",
    "    \n",
    "\n",
    "# n, m = map(int, input().split())\n",
    "# arr = []\n",
    "# for i in range(n):\n",
    "#     arr.append(int(input()))\n",
    "    \n",
    "# print(sol(arr, m))"
   ]
  },
  {
   "cell_type": "code",
   "execution_count": null,
   "id": "028b9aba",
   "metadata": {},
   "outputs": [],
   "source": [
    "\n",
    "\n",
    "\n",
    "\n",
    "\n",
    "\n",
    "\n",
    "\n",
    "\n",
    "\n",
    "\n",
    "\n",
    "\n",
    "\n",
    "\n",
    "\n",
    "\n",
    "\n",
    "\n",
    "\n",
    "\n",
    "\n",
    "\n",
    "\n",
    "\n",
    "\n",
    "\n"
   ]
  }
 ],
 "metadata": {
  "kernelspec": {
   "display_name": "Python 3 (ipykernel)",
   "language": "python",
   "name": "python3"
  },
  "language_info": {
   "codemirror_mode": {
    "name": "ipython",
    "version": 3
   },
   "file_extension": ".py",
   "mimetype": "text/x-python",
   "name": "python",
   "nbconvert_exporter": "python",
   "pygments_lexer": "ipython3",
   "version": "3.10.0"
  }
 },
 "nbformat": 4,
 "nbformat_minor": 5
}
