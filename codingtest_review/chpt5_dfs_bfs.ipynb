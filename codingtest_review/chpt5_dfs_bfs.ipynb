{
 "cells": [
  {
   "cell_type": "code",
   "execution_count": 3,
   "id": "ec14a820",
   "metadata": {},
   "outputs": [
    {
     "name": "stdout",
     "output_type": "stream",
     "text": [
      "4\n",
      "0 0 1 1 0\n",
      "0 0 0 1 1\n",
      "1 1 1 1 1\n",
      "0 0 0 0 0\n",
      "[1, 1, 1, 1, 0]\n",
      "[1, 1, 1, 1, 1]\n",
      "[1, 1, 1, 1, 1]\n",
      "[0, 0, 0, 0, 0]\n",
      "[1, 1, 1, 1, 1]\n",
      "[1, 1, 1, 1, 1]\n",
      "[1, 1, 1, 1, 1]\n",
      "[0, 0, 0, 0, 0]\n",
      "[1, 1, 1, 1, 1]\n",
      "[1, 1, 1, 1, 1]\n",
      "[1, 1, 1, 1, 1]\n",
      "[1, 1, 1, 1, 1]\n",
      "3\n"
     ]
    }
   ],
   "source": [
    "# actual 3 ) 음료수 얼려 먹기\n",
    "from collections import deque\n",
    "\n",
    "def bfs(arr, y, x):\n",
    "    q = deque()\n",
    "    \n",
    "    q.append((y, x))\n",
    "    \n",
    "    dy = [-1, 0, 1, 0]\n",
    "    dx = [0, -1, 0 ,1]\n",
    "    \n",
    "    while q:\n",
    "        y, x = q.popleft()\n",
    "        arr[y][x] = 1\n",
    "        for i in range(4):\n",
    "            ny = y + dy[i]\n",
    "            nx = x + dx[i]\n",
    "            \n",
    "            if ny < 0 or nx < 0 or ny >= len(arr) or nx >= len(arr[0]):\n",
    "                continue\n",
    "            if arr[ny][nx] == 1:\n",
    "                continue\n",
    "            else:\n",
    "                arr[ny][nx] = 1\n",
    "                q.append((ny, nx))\n",
    "\n",
    "def sol(arr):\n",
    "    \n",
    "    ans = 0\n",
    "    for i in range(len(arr)):\n",
    "        for j in range(len(arr[0])):\n",
    "            if arr[i][j] == 0:\n",
    "                bfs(arr, i, j)\n",
    "                ans += 1\n",
    "                for k in range(len(arr)):\n",
    "                    print(arr[k])\n",
    "    \n",
    "    \n",
    "    \n",
    "    return ans\n",
    "\n",
    "n = int(input())\n",
    "arr = [list(map(int, input().split())) for _ in range(n)]\n",
    "\n",
    "print(sol(arr))"
   ]
  },
  {
   "cell_type": "code",
   "execution_count": null,
   "id": "e1c931b6",
   "metadata": {},
   "outputs": [],
   "source": []
  },
  {
   "cell_type": "code",
   "execution_count": null,
   "id": "c1e1c71d",
   "metadata": {},
   "outputs": [],
   "source": [
    "\n",
    "\n",
    "\n",
    "\n",
    "\n",
    "\n",
    "\n",
    "\n",
    "\n",
    "\n",
    "\n",
    "\n",
    "\n",
    "\n",
    "\n",
    "\n",
    "\n",
    "\n",
    "\n",
    "\n",
    "\n",
    "\n",
    "\n"
   ]
  }
 ],
 "metadata": {
  "kernelspec": {
   "display_name": "Python 3 (ipykernel)",
   "language": "python",
   "name": "python3"
  },
  "language_info": {
   "codemirror_mode": {
    "name": "ipython",
    "version": 3
   },
   "file_extension": ".py",
   "mimetype": "text/x-python",
   "name": "python",
   "nbconvert_exporter": "python",
   "pygments_lexer": "ipython3",
   "version": "3.10.0"
  }
 },
 "nbformat": 4,
 "nbformat_minor": 5
}
