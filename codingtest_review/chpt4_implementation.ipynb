{
 "cells": [
  {
   "cell_type": "code",
   "execution_count": 4,
   "id": "79c55f83",
   "metadata": {},
   "outputs": [
    {
     "name": "stdout",
     "output_type": "stream",
     "text": [
      "5\n",
      "R R R U D D\n",
      "[3, 4]\n"
     ]
    }
   ],
   "source": [
    "# ex 4-1) 상하좌우\n",
    "def sol(n, arr):\n",
    "    dx = [1, -1, 0, 0] # RLUD\n",
    "    dy = [0, 0, -1, 1]\n",
    "    move_types = ['R', 'L', 'U', 'D']\n",
    "    y, x = 0, 0\n",
    "    for move in arr:\n",
    "        for i in range(len(move_types)):\n",
    "            if move_types[i] == move:\n",
    "                nx = x + dx[i]\n",
    "                ny = y + dy[i]\n",
    "                \n",
    "                if nx < 0 or ny < 0 or nx >= n or ny >= n:\n",
    "                    continue\n",
    "                else:\n",
    "                    x = nx\n",
    "                    y = ny\n",
    "\n",
    "    return [y+1, x+1]\n",
    "\n",
    "n = int(input())\n",
    "\n",
    "arr = input().split()\n",
    "\n",
    "print(sol(n, arr))"
   ]
  },
  {
   "cell_type": "code",
   "execution_count": 8,
   "id": "e2cad454",
   "metadata": {},
   "outputs": [
    {
     "name": "stdout",
     "output_type": "stream",
     "text": [
      "5\n",
      "11475\n"
     ]
    }
   ],
   "source": [
    "# ex 4-2) 시각\n",
    "\n",
    "def checkThree(n):\n",
    "    while n > 0:\n",
    "        if n%10 == 3:\n",
    "            return True\n",
    "        n //= 10\n",
    "    return False\n",
    "\n",
    "def sol(n):\n",
    "    ans = 0\n",
    "    h = 0\n",
    "    m = 0\n",
    "    s = 0\n",
    "    \n",
    "    for h in range(n+1):\n",
    "        for m in range(60):\n",
    "            for s in range(60):\n",
    "                if '3' in str(h)+str(m)+str(s):\n",
    "                    ans += 1\n",
    "        \n",
    "    return ans\n",
    "    \n",
    "    \n",
    "\n",
    "\n",
    "n = int(input())\n",
    "print(sol(n))"
   ]
  },
  {
   "cell_type": "code",
   "execution_count": null,
   "id": "c6dd0155",
   "metadata": {},
   "outputs": [],
   "source": []
  },
  {
   "cell_type": "code",
   "execution_count": null,
   "id": "d87fa3ec",
   "metadata": {},
   "outputs": [],
   "source": [
    "\n",
    "\n",
    "\n",
    "\n",
    "\n",
    "\n",
    "\n",
    "\n",
    "\n",
    "\n",
    "\n",
    "\n",
    "\n",
    "\n",
    "\n",
    "\n",
    "\n",
    "\n",
    "\n",
    "\n",
    "\n",
    "\n"
   ]
  }
 ],
 "metadata": {
  "kernelspec": {
   "display_name": "Python 3 (ipykernel)",
   "language": "python",
   "name": "python3"
  },
  "language_info": {
   "codemirror_mode": {
    "name": "ipython",
    "version": 3
   },
   "file_extension": ".py",
   "mimetype": "text/x-python",
   "name": "python",
   "nbconvert_exporter": "python",
   "pygments_lexer": "ipython3",
   "version": "3.10.0"
  }
 },
 "nbformat": 4,
 "nbformat_minor": 5
}
