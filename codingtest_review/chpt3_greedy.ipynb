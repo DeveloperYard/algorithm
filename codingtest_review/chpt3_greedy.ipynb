{
 "cells": [
  {
   "cell_type": "code",
   "execution_count": 1,
   "id": "afee34fe",
   "metadata": {},
   "outputs": [
    {
     "name": "stdout",
     "output_type": "stream",
     "text": [
      "1260\n",
      "6\n"
     ]
    }
   ],
   "source": [
    "# ex) 3-1, 거스름돈\n",
    "\n",
    "def sol(n):\n",
    "    ans = 0\n",
    "    \n",
    "    coinArr = [500, 100, 50, 10]\n",
    "    idx = 0\n",
    "    while n > 0:\n",
    "        if coinArr[idx] > n:\n",
    "            idx+=1\n",
    "        ans += n//coinArr[idx]\n",
    "        n%=coinArr[idx]\n",
    "        \n",
    "    \n",
    "    return ans\n",
    "\n",
    "\n",
    "n = int(input())\n",
    "print(sol(n))\n",
    "    \n",
    "    "
   ]
  },
  {
   "cell_type": "code",
   "execution_count": 11,
   "id": "9ffd7972",
   "metadata": {},
   "outputs": [
    {
     "name": "stdout",
     "output_type": "stream",
     "text": [
      "5 8 3\n",
      "2 4 5 4 6\n",
      "46\n"
     ]
    }
   ],
   "source": [
    "# actual ) 2, 큰 수의 법칙\n",
    "\n",
    "def sol(n, m, k, arr):\n",
    "    ans = 0\n",
    "    \n",
    "    arr = sorted(arr, reverse=True)\n",
    "    i = 0\n",
    "    maxFirst = arr[0]\n",
    "    maxSec = arr[1]\n",
    "    \n",
    "    ans = maxFirst * (m - m%k) + maxSec * (m%k)\n",
    "    \n",
    "    \n",
    "    return ans\n",
    "\n",
    "n, m, k = map(int, input().split())\n",
    "arr = list(map(int, input().split()))\n",
    "\n",
    "print(sol(n, m, k, arr))\n"
   ]
  },
  {
   "cell_type": "code",
   "execution_count": 15,
   "id": "7f2d5b88",
   "metadata": {},
   "outputs": [
    {
     "name": "stdout",
     "output_type": "stream",
     "text": [
      "2 4\n",
      "7 3 1 8\n",
      "3 3 3 4\n",
      "3\n"
     ]
    }
   ],
   "source": [
    "# actual ) 3, 숫자 카드 게임\n",
    "\n",
    "\n",
    "def sol(n, m, arr):\n",
    "    ans = 0\n",
    "    \n",
    "    findMinFromArr = -9999\n",
    "    \n",
    "    for i in range(n):\n",
    "        if findMinFromArr < min(arr[i]):\n",
    "            findMinFromArr = min(arr[i])\n",
    "    \n",
    "    ans = findMinFromArr\n",
    "    \n",
    "    return ans\n",
    "\n",
    "\n",
    "n, m = map(int, input().split())\n",
    "\n",
    "arr = [list(map(int, input().split())) for _ in range(n)]\n",
    "\n",
    "print(sol(n, m, arr))"
   ]
  },
  {
   "cell_type": "code",
   "execution_count": 17,
   "id": "96d9dbf3",
   "metadata": {},
   "outputs": [
    {
     "name": "stdout",
     "output_type": "stream",
     "text": [
      "25 5\n",
      "2\n"
     ]
    }
   ],
   "source": [
    "# actual 4) N이 1이 될 때까지\n",
    "\n",
    "def sol(n, k):\n",
    "    ans = 0\n",
    "    \n",
    "    ans += n%k\n",
    "    n -= n%k\n",
    "    while n > 1:\n",
    "        n //= k\n",
    "        ans += 1\n",
    "    \n",
    "    return ans\n",
    "\n",
    "n, k = map(int, input().split())\n",
    "print(sol(n, k))"
   ]
  }
 ],
 "metadata": {
  "kernelspec": {
   "display_name": "Python 3 (ipykernel)",
   "language": "python",
   "name": "python3"
  },
  "language_info": {
   "codemirror_mode": {
    "name": "ipython",
    "version": 3
   },
   "file_extension": ".py",
   "mimetype": "text/x-python",
   "name": "python",
   "nbconvert_exporter": "python",
   "pygments_lexer": "ipython3",
   "version": "3.10.0"
  }
 },
 "nbformat": 4,
 "nbformat_minor": 5
}
