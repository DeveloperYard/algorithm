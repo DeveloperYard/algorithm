{
 "cells": [
  {
   "cell_type": "code",
   "execution_count": 2,
   "id": "215340a9",
   "metadata": {},
   "outputs": [
    {
     "name": "stdout",
     "output_type": "stream",
     "text": [
      "[0, 1, 2, 3, 4, 5, 6, 7, 8, 9]\n"
     ]
    }
   ],
   "source": [
    "# Selection sort\n",
    "\n",
    "arr = [7, 5, 9, 0, 3, 1, 6, 2, 4, 8]\n",
    "\n",
    "for i in range(len(arr)):\n",
    "    curVal = arr[i]\n",
    "    curIdx = i\n",
    "    for j in range(i, len(arr)):\n",
    "        if arr[j] < curVal:\n",
    "            curVal = arr[j]\n",
    "            curIdx = j\n",
    "    arr[i], arr[curIdx] = arr[curIdx], arr[i]\n",
    "\n",
    "print(arr)"
   ]
  },
  {
   "cell_type": "code",
   "execution_count": 4,
   "id": "1103e136",
   "metadata": {},
   "outputs": [
    {
     "name": "stdout",
     "output_type": "stream",
     "text": [
      "[0, 1, 2, 3, 4, 5, 6, 7, 8, 9]\n"
     ]
    }
   ],
   "source": [
    "# Insertion sort\n",
    "\n",
    "arr = [7, 5, 9, 0, 3, 1, 6, 2, 4, 8]\n",
    "\n",
    "for i in range(len(arr)-1):\n",
    "    for j in range(i+1, 0, -1):\n",
    "        if arr[j-1] < arr[j]:\n",
    "            break\n",
    "        arr[j-1], arr[j] = arr[j], arr[j-1]\n",
    "\n",
    "print(arr)\n",
    "        "
   ]
  },
  {
   "cell_type": "code",
   "execution_count": 33,
   "id": "9c9fb95e",
   "metadata": {},
   "outputs": [
    {
     "name": "stdout",
     "output_type": "stream",
     "text": [
      "pivot : 0\n",
      "[5, 7, 9, 0, 3, 1, 6, 2, 4, 8]\n",
      "pivot : 0\n",
      "[5, 4, 9, 0, 3, 1, 6, 2, 7, 8]\n",
      "pivot : 0\n",
      "[5, 4, 2, 0, 3, 1, 6, 9, 7, 8]\n",
      "pivot : 0\n",
      "[1, 4, 2, 0, 3, 5, 6, 9, 7, 8]\n",
      "pivot : 0\n",
      "[1, 0, 2, 4, 3, 5, 6, 9, 7, 8]\n",
      "pivot : 2\n",
      "[0, 1, 2, 4, 3, 5, 6, 9, 7, 8]\n",
      "pivot : 3\n",
      "[0, 1, 2, 4, 3, 5, 6, 9, 7, 8]\n",
      "pivot : 6\n",
      "[0, 1, 2, 3, 4, 5, 6, 9, 7, 8]\n",
      "pivot : 7\n",
      "[0, 1, 2, 3, 4, 5, 6, 9, 7, 8]\n",
      "pivot : 7\n",
      "[0, 1, 2, 3, 4, 5, 6, 8, 7, 9]\n",
      "[0, 1, 2, 3, 4, 5, 6, 7, 8, 9]\n"
     ]
    }
   ],
   "source": [
    "# Quick sort\n",
    "\n",
    "arr = [5, 7, 9, 0, 3, 1, 6, 2, 4, 8]\n",
    "\n",
    "def qs(start, end, arr):\n",
    "    if start >= end:\n",
    "        return\n",
    "    \n",
    "    pivot = start\n",
    "    left = start+1\n",
    "    right = end\n",
    "    \n",
    "    while left <= right:\n",
    "        print(\"pivot : \"+str(pivot))\n",
    "        print(arr)\n",
    "        while left <= end and arr[left] < arr[pivot]:\n",
    "            left += 1\n",
    "        while right > start and arr[right] > arr[pivot]:\n",
    "            right -= 1\n",
    "        \n",
    "        if right < left:\n",
    "            arr[right], arr[pivot] = arr[pivot], arr[right]\n",
    "            # right value be pivot value\n",
    "            qs(start, right-1, arr)\n",
    "            qs(right+1, end, arr)\n",
    "        else:\n",
    "            arr[left], arr[right] = arr[right], arr[left]\n",
    "#             left = start+1\n",
    "#             right = end\n",
    "            \n",
    "\n",
    "qs(0, len(arr)-1, arr)\n",
    "print(arr)\n",
    "    "
   ]
  },
  {
   "cell_type": "code",
   "execution_count": 40,
   "id": "455cecae",
   "metadata": {},
   "outputs": [
    {
     "name": "stdout",
     "output_type": "stream",
     "text": [
      "0 0 1 1 2 2 3 4 5 5 6 7 8 9 9 "
     ]
    }
   ],
   "source": [
    "# Counting sort\n",
    "\n",
    "arr = [7,5,9,0,3,1,6,2,9,1,4,8,0,5,2]\n",
    "\n",
    "# sortingArr = [0]*(max(arr)+1)\n",
    "\n",
    "# for i in arr:\n",
    "#     sortingArr[i]+=1\n",
    "    \n",
    "# for i in range(len(sortingArr)):\n",
    "#     if sortingArr[i] == 0:\n",
    "#         continue\n",
    "#     else:\n",
    "#         for n in range(sortingArr[i]):\n",
    "#             print(i, end=\" \")\n",
    "\n",
    "d = dict()\n",
    "\n",
    "for i in arr:\n",
    "    if i not in d:\n",
    "        d[i] = 1\n",
    "    else:\n",
    "        d[i] += 1\n",
    "\n",
    "d = dict(sorted(d.items()))\n",
    "\n",
    "for key, val in d.items():\n",
    "    for i in range(val):\n",
    "        print(key, end=' ')\n",
    "    "
   ]
  },
  {
   "cell_type": "code",
   "execution_count": null,
   "id": "065ae69a",
   "metadata": {},
   "outputs": [],
   "source": [
    "\n",
    "\n",
    "\n",
    "\n",
    "\n",
    "\n",
    "\n",
    "\n",
    "\n",
    "\n",
    "\n",
    "\n",
    "\n",
    "\n",
    "\n",
    "\n",
    "\n",
    "\n",
    "\n",
    "\n",
    "\n"
   ]
  }
 ],
 "metadata": {
  "kernelspec": {
   "display_name": "Python 3 (ipykernel)",
   "language": "python",
   "name": "python3"
  },
  "language_info": {
   "codemirror_mode": {
    "name": "ipython",
    "version": 3
   },
   "file_extension": ".py",
   "mimetype": "text/x-python",
   "name": "python",
   "nbconvert_exporter": "python",
   "pygments_lexer": "ipython3",
   "version": "3.10.0"
  }
 },
 "nbformat": 4,
 "nbformat_minor": 5
}
