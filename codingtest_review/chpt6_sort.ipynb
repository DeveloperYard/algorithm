{
 "cells": [
  {
   "cell_type": "code",
   "execution_count": 2,
   "id": "c525484d",
   "metadata": {},
   "outputs": [
    {
     "name": "stdout",
     "output_type": "stream",
     "text": [
      "[0, 1, 2, 3, 4, 5, 6, 7, 8, 9]\n"
     ]
    }
   ],
   "source": [
    "# Selection sort\n",
    "\n",
    "arr = [7, 5, 9, 0, 3, 1, 6, 2, 4, 8]\n",
    "\n",
    "for i in range(len(arr)):\n",
    "    curVal = arr[i]\n",
    "    curIdx = i\n",
    "    for j in range(i, len(arr)):\n",
    "        if arr[j] < curVal:\n",
    "            curVal = arr[j]\n",
    "            curIdx = j\n",
    "    arr[i], arr[curIdx] = arr[curIdx], arr[i]\n",
    "\n",
    "print(arr)"
   ]
  },
  {
   "cell_type": "code",
   "execution_count": 4,
   "id": "5e01d065",
   "metadata": {},
   "outputs": [
    {
     "name": "stdout",
     "output_type": "stream",
     "text": [
      "[0, 1, 2, 3, 4, 5, 6, 7, 8, 9]\n"
     ]
    }
   ],
   "source": [
    "# Insertion sort\n",
    "\n",
    "arr = [7, 5, 9, 0, 3, 1, 6, 2, 4, 8]\n",
    "\n",
    "for i in range(len(arr)-1):\n",
    "    for j in range(i+1, 0, -1):\n",
    "        if arr[j-1] < arr[j]:\n",
    "            break\n",
    "        arr[j-1], arr[j] = arr[j], arr[j-1]\n",
    "\n",
    "print(arr)\n",
    "        "
   ]
  },
  {
   "cell_type": "code",
   "execution_count": 33,
   "id": "b1c60eed",
   "metadata": {},
   "outputs": [
    {
     "name": "stdout",
     "output_type": "stream",
     "text": [
      "pivot : 0\n",
      "[5, 7, 9, 0, 3, 1, 6, 2, 4, 8]\n",
      "pivot : 0\n",
      "[5, 4, 9, 0, 3, 1, 6, 2, 7, 8]\n",
      "pivot : 0\n",
      "[5, 4, 2, 0, 3, 1, 6, 9, 7, 8]\n",
      "pivot : 0\n",
      "[1, 4, 2, 0, 3, 5, 6, 9, 7, 8]\n",
      "pivot : 0\n",
      "[1, 0, 2, 4, 3, 5, 6, 9, 7, 8]\n",
      "pivot : 2\n",
      "[0, 1, 2, 4, 3, 5, 6, 9, 7, 8]\n",
      "pivot : 3\n",
      "[0, 1, 2, 4, 3, 5, 6, 9, 7, 8]\n",
      "pivot : 6\n",
      "[0, 1, 2, 3, 4, 5, 6, 9, 7, 8]\n",
      "pivot : 7\n",
      "[0, 1, 2, 3, 4, 5, 6, 9, 7, 8]\n",
      "pivot : 7\n",
      "[0, 1, 2, 3, 4, 5, 6, 8, 7, 9]\n",
      "[0, 1, 2, 3, 4, 5, 6, 7, 8, 9]\n"
     ]
    }
   ],
   "source": [
    "# Quick sort\n",
    "\n",
    "arr = [5, 7, 9, 0, 3, 1, 6, 2, 4, 8]\n",
    "\n",
    "def qs(start, end, arr):\n",
    "    if start >= end:\n",
    "        return\n",
    "    \n",
    "    pivot = start\n",
    "    left = start+1\n",
    "    right = end\n",
    "    \n",
    "    while left <= right:\n",
    "        print(\"pivot : \"+str(pivot))\n",
    "        print(arr)\n",
    "        while left <= end and arr[left] < arr[pivot]:\n",
    "            left += 1\n",
    "        while right > start and arr[right] > arr[pivot]:\n",
    "            right -= 1\n",
    "        \n",
    "        if right < left:\n",
    "            arr[right], arr[pivot] = arr[pivot], arr[right]\n",
    "            # right value be pivot value\n",
    "            qs(start, right-1, arr)\n",
    "            qs(right+1, end, arr)\n",
    "        else:\n",
    "            arr[left], arr[right] = arr[right], arr[left]\n",
    "#             left = start+1\n",
    "#             right = end\n",
    "            \n",
    "\n",
    "qs(0, len(arr)-1, arr)\n",
    "print(arr)\n",
    "    "
   ]
  },
  {
   "cell_type": "code",
   "execution_count": 40,
   "id": "11497c72",
   "metadata": {},
   "outputs": [
    {
     "name": "stdout",
     "output_type": "stream",
     "text": [
      "0 0 1 1 2 2 3 4 5 5 6 7 8 9 9 "
     ]
    }
   ],
   "source": [
    "# Counting sort\n",
    "\n",
    "arr = [7,5,9,0,3,1,6,2,9,1,4,8,0,5,2]\n",
    "\n",
    "# sortingArr = [0]*(max(arr)+1)\n",
    "\n",
    "# for i in arr:\n",
    "#     sortingArr[i]+=1\n",
    "    \n",
    "# for i in range(len(sortingArr)):\n",
    "#     if sortingArr[i] == 0:\n",
    "#         continue\n",
    "#     else:\n",
    "#         for n in range(sortingArr[i]):\n",
    "#             print(i, end=\" \")\n",
    "\n",
    "d = dict()\n",
    "\n",
    "for i in arr:\n",
    "    if i not in d:\n",
    "        d[i] = 1\n",
    "    else:\n",
    "        d[i] += 1\n",
    "\n",
    "d = dict(sorted(d.items()))\n",
    "\n",
    "for key, val in d.items():\n",
    "    for i in range(val):\n",
    "        print(key, end=' ')\n",
    "    "
   ]
  },
  {
   "cell_type": "code",
   "execution_count": 45,
   "id": "e6b464a1",
   "metadata": {},
   "outputs": [
    {
     "name": "stdout",
     "output_type": "stream",
     "text": [
      "[0, 0, 0, 1, 1, 1, 2, 2, 2, 3, 4, 5, 5, 5, 6, 7, 8, 9, 9, 9]\n"
     ]
    }
   ],
   "source": [
    "# QuickSort in book, using pythoic code\n",
    "\n",
    "arr = [7,5,9,0,3,1,6,2,9,1,4,8,0,5,2]\n",
    "\n",
    "def quick_sort(arr):\n",
    "    \n",
    "    if len(arr) <= 1:\n",
    "        return arr\n",
    "    \n",
    "    pivot = arr[0]\n",
    "    tails = arr[1:]\n",
    "    \n",
    "    left_side = [x for x in tails if x <= pivot]\n",
    "    right_side = [x for x in tails if x > pivot]\n",
    "    \n",
    "    return quick_sort(left_side)+[pivot]+quick_sort(right_side)\n",
    "\n",
    "print(quick_sort(arr))"
   ]
  },
  {
   "cell_type": "code",
   "execution_count": 48,
   "id": "12467b5d",
   "metadata": {},
   "outputs": [
    {
     "name": "stdout",
     "output_type": "stream",
     "text": [
      "3\n",
      "15\n",
      "27\n",
      "12\n",
      "[27, 15, 12]\n"
     ]
    }
   ],
   "source": [
    "# actual 2 ) 위에서 아래로\n",
    "\n",
    "# 수열을 내림차순으로 정렬\n",
    "\n",
    "def sortFunc(arr):\n",
    "    \n",
    "    arr = sorted(arr, reverse=True)\n",
    "    \n",
    "    return arr\n",
    "\n",
    "n = int(input())\n",
    "arr = []\n",
    "for i in range(n):\n",
    "    arr.append(int(input()))\n",
    "    \n",
    "print(sortFunc(arr))"
   ]
  },
  {
   "cell_type": "code",
   "execution_count": 52,
   "id": "6ab0d41e",
   "metadata": {},
   "outputs": [
    {
     "name": "stdout",
     "output_type": "stream",
     "text": [
      "2\n",
      "홍길동 95\n",
      "이순신 77\n",
      "['이순신', '홍길동']\n"
     ]
    }
   ],
   "source": [
    "# actual 3 ) 성적이 낮은 순서로 학생 출력하기\n",
    "\n",
    "def sortingFunc(arr):\n",
    "    \n",
    "    arr = sorted(arr, key=lambda x:x[1])\n",
    "    \n",
    "    ans = []\n",
    "    \n",
    "    for d in arr:\n",
    "        name, num = d\n",
    "        ans.append(name)\n",
    "    return ans\n",
    "    \n",
    "    \n",
    "arr = []\n",
    "n = int(input())\n",
    "for i in range(n):\n",
    "    name, num = map(str, input().split())\n",
    "    arr.append((name, int(num)))\n",
    "    \n",
    "print(sortingFunc(arr))"
   ]
  },
  {
   "cell_type": "code",
   "execution_count": 54,
   "id": "4010c66b",
   "metadata": {},
   "outputs": [
    {
     "name": "stdout",
     "output_type": "stream",
     "text": [
      "5 3\n",
      "1 2 5 4 3\n",
      "5 5 6 6 5\n",
      "26\n"
     ]
    }
   ],
   "source": [
    "# actual 4 ) 두 배열의 원소 교체\n",
    "\n",
    "def sortFunc(arr1, arr2, k):\n",
    "    \n",
    "    arr1 = sorted(arr1)\n",
    "    arr2 = sorted(arr2, reverse=True)\n",
    "    \n",
    "    for i in range(k):\n",
    "        arr1[i], arr2[i] = arr2[i], arr1[i]\n",
    "    \n",
    "    ans = sum(arr1)\n",
    "    \n",
    "    return ans\n",
    "\n",
    "n, k = map(int, input().split())\n",
    "\n",
    "arr1 = list(map(int, input().split()))\n",
    "arr2 = list(map(int, input().split()))\n",
    "\n",
    "print(sortFunc(arr1, arr2, k))"
   ]
  }
 ],
 "metadata": {
  "kernelspec": {
   "display_name": "Python 3 (ipykernel)",
   "language": "python",
   "name": "python3"
  },
  "language_info": {
   "codemirror_mode": {
    "name": "ipython",
    "version": 3
   },
   "file_extension": ".py",
   "mimetype": "text/x-python",
   "name": "python",
   "nbconvert_exporter": "python",
   "pygments_lexer": "ipython3",
   "version": "3.10.0"
  }
 },
 "nbformat": 4,
 "nbformat_minor": 5
}
