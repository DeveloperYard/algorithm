{
 "cells": [
  {
   "cell_type": "code",
   "execution_count": 5,
   "id": "321ebd5e",
   "metadata": {},
   "outputs": [
    {
     "name": "stdout",
     "output_type": "stream",
     "text": [
      "4 2\n",
      "1 3\n",
      "2 4\n",
      "3 4\n",
      "[1000000000, 0, 1000000000, 1, 1000000000]\n",
      "[1000000000, 1000000000, 0, 1000000000, 1]\n",
      "[1000000000, 1, 1000000000, 0, 1000000000]\n",
      "[1000000000, 1000000000, 1, 1000000000, 0]\n",
      "-1\n"
     ]
    }
   ],
   "source": [
    "# 9-2 / 실전 문제 / 미래 도시\n",
    "\n",
    "n, m = map(int, input().split())\n",
    "INF = int(1e9)\n",
    "\n",
    "graph = [[INF]*(n+1) for _ in range(n+1)]\n",
    " \n",
    "for i in range(n+1):\n",
    "    for j in range(n+1):\n",
    "        if i == j:\n",
    "            graph[i][j] = 0\n",
    "            \n",
    "\n",
    "for i in range(m):\n",
    "    a, b = map(int, input().split())\n",
    "    graph[a][b] = 1\n",
    "    graph[b][a] = 1\n",
    "    \n",
    "x, k = map(int, input().split())\n",
    "\n",
    "for t in range(1, n+1):\n",
    "    for i in range(1, n+1):\n",
    "        for j in range(1, n+1):\n",
    "            graph[i][j] = min(graph[i][j], graph[i][t]+graph[t][j])\n",
    "            \n",
    "            \n",
    "for i in range(1, n+1):\n",
    "    print(graph[i])\n",
    "    \n",
    "res = graph[1][k]+graph[k][x]\n",
    "if res >= INF:\n",
    "    print(\"-1\")\n",
    "else:\n",
    "    print(res)\n",
    "\n",
    "# solve!!"
   ]
  },
  {
   "cell_type": "code",
   "execution_count": 8,
   "id": "a67f6dab",
   "metadata": {},
   "outputs": [
    {
     "name": "stdout",
     "output_type": "stream",
     "text": [
      "3 2 1\n",
      "1 2 4\n",
      "1 3 2\n",
      "[1000000000, 0, 4, 2]\n",
      "2 4\n"
     ]
    }
   ],
   "source": [
    "# 9-3 / 실전 문제 / 전보\n",
    "import heapq\n",
    "\n",
    "n, m, start = map(int, input().split())\n",
    "graph = [[] for _ in range(n+1)]\n",
    "INF = int(1e9)\n",
    "\n",
    "distance = [INF]*(n+1)\n",
    "\n",
    "\n",
    "for _ in range(m):\n",
    "    x, y, z = map(int, input().split())\n",
    "    graph[x].append((y, z))\n",
    "    \n",
    "def dijkstra(start):\n",
    "    q = []\n",
    "    distance[start] = 0\n",
    "    heapq.heappush(q, (0, start))\n",
    "    \n",
    "    while q:\n",
    "        dist, now = heapq.heappop(q)\n",
    "        if distance[now] > dist:\n",
    "            continue\n",
    "        \n",
    "        for i in graph[now]:\n",
    "            cost = distance[now]+i[1]\n",
    "            if cost < distance[i[0]]:\n",
    "                distance[i[0]] = cost\n",
    "                heapq.heappush(q, (cost, i[0]))\n",
    "                \n",
    "\n",
    "dijkstra(start)\n",
    "print(distance)\n",
    "count = 0\n",
    "maxValue = 0\n",
    "\n",
    "for i in range(1, n+1):\n",
    "    if distance[i] != INF:\n",
    "        if distance[i] != 0:\n",
    "            count+=1\n",
    "        if distance[i] > maxValue:\n",
    "            maxValue = distance[i]\n",
    "            \n",
    "            \n",
    "print(count, maxValue)\n",
    "\n",
    "# solve!!"
   ]
  }
 ],
 "metadata": {
  "kernelspec": {
   "display_name": "Python 3 (ipykernel)",
   "language": "python",
   "name": "python3"
  },
  "language_info": {
   "codemirror_mode": {
    "name": "ipython",
    "version": 3
   },
   "file_extension": ".py",
   "mimetype": "text/x-python",
   "name": "python",
   "nbconvert_exporter": "python",
   "pygments_lexer": "ipython3",
   "version": "3.10.0"
  }
 },
 "nbformat": 4,
 "nbformat_minor": 5
}
