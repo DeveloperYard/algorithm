{
 "cells": [
  {
   "cell_type": "code",
   "execution_count": 7,
   "id": "2f9e0a03",
   "metadata": {},
   "outputs": [
    {
     "name": "stdout",
     "output_type": "stream",
     "text": [
      "[0, 5, 9, 7, 3, 1, 6, 2, 4, 8]\n",
      "[0, 1, 9, 7, 3, 5, 6, 2, 4, 8]\n",
      "[0, 1, 2, 7, 3, 5, 6, 9, 4, 8]\n",
      "[0, 1, 2, 3, 7, 5, 6, 9, 4, 8]\n",
      "[0, 1, 2, 3, 4, 5, 6, 9, 7, 8]\n",
      "[0, 1, 2, 3, 4, 5, 6, 9, 7, 8]\n",
      "[0, 1, 2, 3, 4, 5, 6, 9, 7, 8]\n",
      "[0, 1, 2, 3, 4, 5, 6, 7, 9, 8]\n",
      "[0, 1, 2, 3, 4, 5, 6, 7, 8, 9]\n",
      "[0, 1, 2, 3, 4, 5, 6, 7, 8, 9]\n",
      "[0, 1, 2, 3, 4, 5, 6, 7, 8, 9]\n"
     ]
    }
   ],
   "source": [
    "# selection sort written by me\n",
    "array = [7, 5, 9, 0, 3, 1, 6, 2, 4, 8]\n",
    "\n",
    "# 처리되지 않은 원소 중 가장 작은 것을 앞에 것과 바꾼다\n",
    "\n",
    "\n",
    "for i in range(len(array)):\n",
    "    min_num = array[i]\n",
    "    min_idx = i\n",
    "    for j in range(i+1, len(array)):\n",
    "        if min_num > array[j]:\n",
    "            min_num = array[j]\n",
    "            min_idx = j\n",
    "    array[i], array[min_idx] = array[min_idx], array[i]\n",
    "    print(array)\n",
    "\n",
    "print(array)"
   ]
  },
  {
   "cell_type": "code",
   "execution_count": 8,
   "id": "2db711d1",
   "metadata": {},
   "outputs": [
    {
     "name": "stdout",
     "output_type": "stream",
     "text": [
      "[0, 1, 2, 3, 4, 5, 6, 7, 8, 9]\n"
     ]
    }
   ],
   "source": [
    "# selection sort written by author\n",
    "\n",
    "array = [7, 5, 9, 0, 3, 1, 6, 2, 4, 8]\n",
    "\n",
    "for i in range(len(array)):\n",
    "    min_idx = i\n",
    "    for j in range(i+1, len(array)):\n",
    "        if array[min_idx] > array[j]:\n",
    "            min_idx = j\n",
    "            \n",
    "    array[i], array[min_idx] = array[min_idx], array[i]\n",
    "    \n",
    "print(array)"
   ]
  },
  {
   "cell_type": "code",
   "execution_count": 11,
   "id": "84e3ec02",
   "metadata": {},
   "outputs": [
    {
     "name": "stdout",
     "output_type": "stream",
     "text": [
      "[0, 1, 2, 3, 4, 5, 6, 7, 8, 9]\n"
     ]
    }
   ],
   "source": [
    "# insertion sort written by me\n",
    "\n",
    "# 데이터를 하나씩 확인하며, 각 데이터를 적절한 위치에 삽입\n",
    "\n",
    "array = [7, 5, 9, 0, 3, 1, 6, 2, 4, 8]\n",
    "\n",
    "for i in range(1, len(array)):\n",
    "    \n",
    "    for j in range(i, 0, -1):\n",
    "        if array[j] < array[j-1]:\n",
    "            array[j], array[j-1] = array[j-1],array[j]\n",
    "            \n",
    "print(array)"
   ]
  },
  {
   "cell_type": "code",
   "execution_count": 12,
   "id": "42bb9b4e",
   "metadata": {},
   "outputs": [
    {
     "name": "stdout",
     "output_type": "stream",
     "text": [
      "[0, 1, 2, 3, 4, 5, 6, 7, 8, 9]\n"
     ]
    }
   ],
   "source": [
    "# insertion sort written by author\n",
    "\n",
    "# 데이터를 하나씩 확인하며, 각 데이터를 적절한 위치에 삽입\n",
    "\n",
    "array = [7, 5, 9, 0, 3, 1, 6, 2, 4, 8]\n",
    "\n",
    "for i in range(1, len(array)):\n",
    "    \n",
    "    for j in range(i, 0, -1): # i-1, i-2, ... , 1까지?\n",
    "        # j가 0이 되었을 때 j-1을 하면 out of index 아닌가? 어떻게 비교하는 거지?\n",
    "        if array[j] < array[j-1]:\n",
    "            array[j], array[j-1] = array[j-1],array[j]\n",
    "        else: break\n",
    "            \n",
    "print(array)"
   ]
  },
  {
   "cell_type": "code",
   "execution_count": 13,
   "id": "c4f80ab9",
   "metadata": {},
   "outputs": [
    {
     "name": "stdout",
     "output_type": "stream",
     "text": [
      "5 4\n",
      "4 3\n",
      "3 2\n",
      "2 1\n",
      "1 0\n"
     ]
    }
   ],
   "source": [
    "for i in range(5, 0, -1):\n",
    "    print(i, i-1) # i가 0일 때는 수행 안됨?\n",
    "    \n",
    "    \n",
    "# parameters of range are consisted in start, end, step.\n",
    "# if step is -1, starting start index, decrease until end+1 index.\n",
    "# 즉, (5, 0, -1)이라면 5, 4, ... , 1까지 진행!!"
   ]
  },
  {
   "cell_type": "code",
   "execution_count": 14,
   "id": "b8d4625a",
   "metadata": {},
   "outputs": [
    {
     "ename": "RecursionError",
     "evalue": "maximum recursion depth exceeded in comparison",
     "output_type": "error",
     "traceback": [
      "\u001b[0;31m---------------------------------------------------------------------------\u001b[0m",
      "\u001b[0;31mRecursionError\u001b[0m                            Traceback (most recent call last)",
      "\u001b[0;32m/var/folders/kn/gg6frwt12s7gcf_n79d00hy80000gn/T/ipykernel_7775/2658874766.py\u001b[0m in \u001b[0;36m<module>\u001b[0;34m\u001b[0m\n\u001b[1;32m     23\u001b[0m     \u001b[0;32mreturn\u001b[0m \u001b[0;32mNone\u001b[0m\u001b[0;34m\u001b[0m\u001b[0;34m\u001b[0m\u001b[0m\n\u001b[1;32m     24\u001b[0m \u001b[0;34m\u001b[0m\u001b[0m\n\u001b[0;32m---> 25\u001b[0;31m \u001b[0mquick_sort\u001b[0m\u001b[0;34m(\u001b[0m\u001b[0marray\u001b[0m\u001b[0;34m,\u001b[0m \u001b[0;36m0\u001b[0m\u001b[0;34m,\u001b[0m \u001b[0mlen\u001b[0m\u001b[0;34m(\u001b[0m\u001b[0marray\u001b[0m\u001b[0;34m)\u001b[0m\u001b[0;34m)\u001b[0m\u001b[0;34m\u001b[0m\u001b[0;34m\u001b[0m\u001b[0m\n\u001b[0m\u001b[1;32m     26\u001b[0m \u001b[0mprint\u001b[0m\u001b[0;34m(\u001b[0m\u001b[0marray\u001b[0m\u001b[0;34m)\u001b[0m\u001b[0;34m\u001b[0m\u001b[0;34m\u001b[0m\u001b[0m\n\u001b[1;32m     27\u001b[0m \u001b[0;34m\u001b[0m\u001b[0m\n",
      "\u001b[0;32m/var/folders/kn/gg6frwt12s7gcf_n79d00hy80000gn/T/ipykernel_7775/2658874766.py\u001b[0m in \u001b[0;36mquick_sort\u001b[0;34m(array, start, end)\u001b[0m\n\u001b[1;32m     19\u001b[0m             \u001b[0marray\u001b[0m\u001b[0;34m[\u001b[0m\u001b[0mleft\u001b[0m\u001b[0;34m]\u001b[0m\u001b[0;34m,\u001b[0m \u001b[0marray\u001b[0m\u001b[0;34m[\u001b[0m\u001b[0mright\u001b[0m\u001b[0;34m]\u001b[0m \u001b[0;34m=\u001b[0m \u001b[0marray\u001b[0m\u001b[0;34m[\u001b[0m\u001b[0mright\u001b[0m\u001b[0;34m]\u001b[0m\u001b[0;34m,\u001b[0m \u001b[0marray\u001b[0m\u001b[0;34m[\u001b[0m\u001b[0mleft\u001b[0m\u001b[0;34m]\u001b[0m\u001b[0;34m\u001b[0m\u001b[0;34m\u001b[0m\u001b[0m\n\u001b[1;32m     20\u001b[0m \u001b[0;34m\u001b[0m\u001b[0m\n\u001b[0;32m---> 21\u001b[0;31m     \u001b[0mquick_sort\u001b[0m\u001b[0;34m(\u001b[0m\u001b[0marray\u001b[0m\u001b[0;34m,\u001b[0m \u001b[0mright\u001b[0m\u001b[0;34m,\u001b[0m \u001b[0mend\u001b[0m\u001b[0;34m)\u001b[0m\u001b[0;34m\u001b[0m\u001b[0;34m\u001b[0m\u001b[0m\n\u001b[0m\u001b[1;32m     22\u001b[0m     \u001b[0mquick_sort\u001b[0m\u001b[0;34m(\u001b[0m\u001b[0marray\u001b[0m\u001b[0;34m,\u001b[0m \u001b[0mstart\u001b[0m\u001b[0;34m,\u001b[0m \u001b[0mright\u001b[0m\u001b[0;34m-\u001b[0m\u001b[0;36m1\u001b[0m\u001b[0;34m)\u001b[0m\u001b[0;34m\u001b[0m\u001b[0;34m\u001b[0m\u001b[0m\n\u001b[1;32m     23\u001b[0m     \u001b[0;32mreturn\u001b[0m \u001b[0;32mNone\u001b[0m\u001b[0;34m\u001b[0m\u001b[0;34m\u001b[0m\u001b[0m\n",
      "... last 1 frames repeated, from the frame below ...\n",
      "\u001b[0;32m/var/folders/kn/gg6frwt12s7gcf_n79d00hy80000gn/T/ipykernel_7775/2658874766.py\u001b[0m in \u001b[0;36mquick_sort\u001b[0;34m(array, start, end)\u001b[0m\n\u001b[1;32m     19\u001b[0m             \u001b[0marray\u001b[0m\u001b[0;34m[\u001b[0m\u001b[0mleft\u001b[0m\u001b[0;34m]\u001b[0m\u001b[0;34m,\u001b[0m \u001b[0marray\u001b[0m\u001b[0;34m[\u001b[0m\u001b[0mright\u001b[0m\u001b[0;34m]\u001b[0m \u001b[0;34m=\u001b[0m \u001b[0marray\u001b[0m\u001b[0;34m[\u001b[0m\u001b[0mright\u001b[0m\u001b[0;34m]\u001b[0m\u001b[0;34m,\u001b[0m \u001b[0marray\u001b[0m\u001b[0;34m[\u001b[0m\u001b[0mleft\u001b[0m\u001b[0;34m]\u001b[0m\u001b[0;34m\u001b[0m\u001b[0;34m\u001b[0m\u001b[0m\n\u001b[1;32m     20\u001b[0m \u001b[0;34m\u001b[0m\u001b[0m\n\u001b[0;32m---> 21\u001b[0;31m     \u001b[0mquick_sort\u001b[0m\u001b[0;34m(\u001b[0m\u001b[0marray\u001b[0m\u001b[0;34m,\u001b[0m \u001b[0mright\u001b[0m\u001b[0;34m,\u001b[0m \u001b[0mend\u001b[0m\u001b[0;34m)\u001b[0m\u001b[0;34m\u001b[0m\u001b[0;34m\u001b[0m\u001b[0m\n\u001b[0m\u001b[1;32m     22\u001b[0m     \u001b[0mquick_sort\u001b[0m\u001b[0;34m(\u001b[0m\u001b[0marray\u001b[0m\u001b[0;34m,\u001b[0m \u001b[0mstart\u001b[0m\u001b[0;34m,\u001b[0m \u001b[0mright\u001b[0m\u001b[0;34m-\u001b[0m\u001b[0;36m1\u001b[0m\u001b[0;34m)\u001b[0m\u001b[0;34m\u001b[0m\u001b[0;34m\u001b[0m\u001b[0m\n\u001b[1;32m     23\u001b[0m     \u001b[0;32mreturn\u001b[0m \u001b[0;32mNone\u001b[0m\u001b[0;34m\u001b[0m\u001b[0;34m\u001b[0m\u001b[0m\n",
      "\u001b[0;31mRecursionError\u001b[0m: maximum recursion depth exceeded in comparison"
     ]
    }
   ],
   "source": [
    "# quick sort written by me, using pivot index\n",
    "# 기준 데이터를 설정하고 그 기준보다 큰 데이터와 작은 데이터의 위치를 바꾸면 어떨까?\n",
    "\n",
    "array = [7, 5, 9, 0, 3, 1, 6, 2, 4, 8]\n",
    "\n",
    "def quick_sort(array, start, end):\n",
    "    pivot = start\n",
    "    left = start+1\n",
    "    right = end-1\n",
    "    \n",
    "    while left < right:\n",
    "        while left <= end and array[pivot]>array[left]:\n",
    "            left+=1\n",
    "        while right > start and array[pivot]<array[right]:\n",
    "            right-=1\n",
    "        if right <= left:\n",
    "            array[pivot], array[right] = array[right], array[pivot]\n",
    "        else:\n",
    "            array[left], array[right] = array[right], array[left]\n",
    "    \n",
    "    quick_sort(array, right, end)\n",
    "    quick_sort(array, start, right-1)\n",
    "    return None\n",
    "\n",
    "quick_sort(array, 0, len(array))\n",
    "print(array)\n",
    "        \n",
    "# quick sort 다시 구현해보기!"
   ]
  },
  {
   "cell_type": "code",
   "execution_count": null,
   "id": "f9c1edfa",
   "metadata": {},
   "outputs": [],
   "source": []
  }
 ],
 "metadata": {
  "kernelspec": {
   "display_name": "Python 3 (ipykernel)",
   "language": "python",
   "name": "python3"
  },
  "language_info": {
   "codemirror_mode": {
    "name": "ipython",
    "version": 3
   },
   "file_extension": ".py",
   "mimetype": "text/x-python",
   "name": "python",
   "nbconvert_exporter": "python",
   "pygments_lexer": "ipython3",
   "version": "3.10.0"
  }
 },
 "nbformat": 4,
 "nbformat_minor": 5
}
