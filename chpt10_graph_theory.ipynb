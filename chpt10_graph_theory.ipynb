{
 "cells": [
  {
   "cell_type": "code",
   "execution_count": 3,
   "id": "dbe0918c",
   "metadata": {},
   "outputs": [
    {
     "name": "stdout",
     "output_type": "stream",
     "text": [
      "6 4\n",
      "1 4\n",
      "2 3\n",
      "2 4\n",
      "5 6\n",
      "각 원소가 속한 집합:  1 1 1 1 5 5 \n",
      "부모 테이블:  1 1 2 1 5 5 "
     ]
    }
   ],
   "source": [
    "# 10-1.py 기본적인 서로소 집합 알고리즘 소스코드\n",
    "\n",
    "# 특정 원소가 속한 집합을 찾기\n",
    "def find_parent(parent, x):\n",
    "    # 루트노드가 아니라면, 루트노드를 찾을 때까지 재귀적으로 호출\n",
    "    if parent[x] != x:\n",
    "        return find_parent(parent, parent[x])\n",
    "    return x\n",
    "\n",
    "\n",
    "# 두 원소가 속한 집합을 합치기\n",
    "def union_parent(parent, a, b):\n",
    "    a = find_parent(parent, a)\n",
    "    b = find_parent(parent, b)\n",
    "    if a < b:\n",
    "        parent[b] = a\n",
    "    else:\n",
    "        parent[a] = b\n",
    "        \n",
    "# 노드의 개수와 간선(union 연산)의 개수 입력받기\n",
    "v, e = map(int, input().split())\n",
    "parent = [0]*(v+1)\n",
    "\n",
    "# 부모 테이블 상에서, 부모를 자기 자신으로 초기화\n",
    "for i in range(1,v+1):\n",
    "    parent[i] = i\n",
    "    \n",
    "# union연산을 각각 수행\n",
    "for i in range(e):\n",
    "    a, b = map(int, input().split())\n",
    "    union_parent(parent, a, b)\n",
    "    \n",
    "# 각 원소가 속한 집합 출력\n",
    "print('각 원소가 속한 집합: ', end = ' ')\n",
    "for i in range(1, v+1):\n",
    "    print(find_parent(parent, i), end=' ')\n",
    "\n",
    "print()\n",
    "\n",
    "# 부모 테이블 내용 출력\n",
    "print('부모 테이블: ', end=' ')\n",
    "for i in range(1, v+1):\n",
    "    print(parent[i], end=' ')"
   ]
  },
  {
   "cell_type": "code",
   "execution_count": 4,
   "id": "78ae95fb",
   "metadata": {},
   "outputs": [
    {
     "name": "stdout",
     "output_type": "stream",
     "text": [
      "6 4\n",
      "1 4\n",
      "2 3\n",
      "2 4\n",
      "5 6\n",
      "각 원소가 속한 집합:  1 1 1 1 5 5 \n",
      "부모 테이블:  1 1 1 1 5 5 "
     ]
    }
   ],
   "source": [
    "# 10-2.py 경로 압축 기법 소스코드 / 꼭 숙지하는 것이 좋음!\n",
    "\n",
    "# 특정 원소가 속한 집합을 찾기\n",
    "def find_parent(parent, x):\n",
    "    # 루트노드가 아니라면, 루트노드를 찾을 때까지 재귀적으로 호출\n",
    "    if parent[x] != x:\n",
    "        parent[x] = find_parent(parent, parent[x])\n",
    "    return parent[x]\n",
    "\n",
    "\n",
    "# 두 원소가 속한 집합을 합치기\n",
    "def union_parent(parent, a, b):\n",
    "    a = find_parent(parent, a)\n",
    "    b = find_parent(parent, b)\n",
    "    if a < b:\n",
    "        parent[b] = a\n",
    "    else:\n",
    "        parent[a] = b\n",
    "        \n",
    "# 노드의 개수와 간선(union 연산)의 개수 입력받기\n",
    "v, e = map(int, input().split())\n",
    "parent = [0]*(v+1)\n",
    "\n",
    "# 부모 테이블 상에서, 부모를 자기 자신으로 초기화\n",
    "for i in range(1,v+1):\n",
    "    parent[i] = i\n",
    "    \n",
    "# union연산을 각각 수행\n",
    "for i in range(e):\n",
    "    a, b = map(int, input().split())\n",
    "    union_parent(parent, a, b)\n",
    "    \n",
    "# 각 원소가 속한 집합 출력\n",
    "print('각 원소가 속한 집합: ', end = ' ')\n",
    "for i in range(1, v+1):\n",
    "    print(find_parent(parent, i), end=' ')\n",
    "\n",
    "print()\n",
    "\n",
    "# 부모 테이블 내용 출력\n",
    "print('부모 테이블: ', end=' ')\n",
    "for i in range(1, v+1):\n",
    "    print(parent[i], end=' ')"
   ]
  },
  {
   "cell_type": "code",
   "execution_count": 5,
   "id": "58bdf0a1",
   "metadata": {},
   "outputs": [
    {
     "name": "stdout",
     "output_type": "stream",
     "text": [
      "3 3 \n",
      "1 2\n",
      "1 3\n",
      "2 3\n",
      "cycle occured\n"
     ]
    }
   ],
   "source": [
    "# 10-3.py 서로소 집합을 활용한 사이클 판별 소스코드\n",
    "\n",
    "def find_parent(parent, x):\n",
    "    if parent[x] != x:\n",
    "        parent[x] = find_parent(parent, parent[x])\n",
    "    return parent[x]\n",
    "\n",
    "def union_parent(parent, a, b):\n",
    "    a = find_parent(parent, a)\n",
    "    b = find_parent(parent, b)\n",
    "    if a < b:\n",
    "        parent[b] = a\n",
    "    else:\n",
    "        parent[a] = b\n",
    "        \n",
    "v, e = map(int, input().split())\n",
    "parent = [0]*(v+1)\n",
    "\n",
    "for i in range(1, v+1):\n",
    "    parent[i] = i\n",
    "    \n",
    "cycle = False\n",
    "\n",
    "# cycle determining part\n",
    "for i in range(e):\n",
    "    a, b = map(int, input().split())\n",
    "    # if entered edge, but already has same parent\n",
    "    if find_parent(parent, a) == find_parent(parent, b):\n",
    "        cycle = True\n",
    "        break\n",
    "    else:\n",
    "        union_parent(parent, a, b)\n",
    "\n",
    "if cycle:\n",
    "    print(\"cycle occured\")\n",
    "else:\n",
    "    print(\"cycle not occured\")"
   ]
  }
 ],
 "metadata": {
  "kernelspec": {
   "display_name": "Python 3 (ipykernel)",
   "language": "python",
   "name": "python3"
  },
  "language_info": {
   "codemirror_mode": {
    "name": "ipython",
    "version": 3
   },
   "file_extension": ".py",
   "mimetype": "text/x-python",
   "name": "python",
   "nbconvert_exporter": "python",
   "pygments_lexer": "ipython3",
   "version": "3.10.0"
  }
 },
 "nbformat": 4,
 "nbformat_minor": 5
}
