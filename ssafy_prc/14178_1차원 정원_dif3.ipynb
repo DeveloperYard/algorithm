{
 "cells": [
  {
   "cell_type": "code",
   "execution_count": 4,
   "id": "dc6642bd",
   "metadata": {},
   "outputs": [
    {
     "name": "stdout",
     "output_type": "stream",
     "text": [
      "3\n",
      "5 1\n",
      "#1 2\n",
      "5 2\n",
      "#2 1\n",
      "100 3\n",
      "#3 15\n"
     ]
    }
   ],
   "source": [
    "def sol(n, d):\n",
    "    ans = 0\n",
    "    ran = 2*d+1\n",
    "    \n",
    "    i = 1\n",
    "    \n",
    "    while i*ran < n:\n",
    "        i+=1\n",
    "    \n",
    "    ans = i\n",
    "    return ans\n",
    "\n",
    "n = int(input())\n",
    "\n",
    "for i in range(1, n+1):\n",
    "    n, d = map(int, input().split())\n",
    "    res = sol(n, d)\n",
    "    print(\"#\"+str(i)+ \" \"+str(res))"
   ]
  },
  {
   "cell_type": "code",
   "execution_count": 1,
   "id": "0b192a46",
   "metadata": {},
   "outputs": [
    {
     "name": "stdout",
     "output_type": "stream",
     "text": [
      "14\n"
     ]
    }
   ],
   "source": []
  },
  {
   "cell_type": "code",
   "execution_count": null,
   "id": "fba42eb4",
   "metadata": {},
   "outputs": [],
   "source": []
  }
 ],
 "metadata": {
  "kernelspec": {
   "display_name": "Python 3 (ipykernel)",
   "language": "python",
   "name": "python3"
  },
  "language_info": {
   "codemirror_mode": {
    "name": "ipython",
    "version": 3
   },
   "file_extension": ".py",
   "mimetype": "text/x-python",
   "name": "python",
   "nbconvert_exporter": "python",
   "pygments_lexer": "ipython3",
   "version": "3.10.0"
  }
 },
 "nbformat": 4,
 "nbformat_minor": 5
}
