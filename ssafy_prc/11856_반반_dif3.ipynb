{
 "cells": [
  {
   "cell_type": "code",
   "execution_count": 5,
   "id": "fd59a0d1",
   "metadata": {},
   "outputs": [
    {
     "name": "stdout",
     "output_type": "stream",
     "text": [
      "5\n",
      "ABAB\n",
      "{'A': 2, 'B': 2}\n",
      "2\n",
      "#1 Yes\n",
      "CCDD\n",
      "{'C': 2, 'D': 2}\n",
      "2\n",
      "#2 Yes\n",
      "EFFE\n",
      "{'E': 2, 'F': 2}\n",
      "2\n",
      "#3 Yes\n",
      "EEEE\n",
      "{'E': 4}\n",
      "1\n",
      "#4 No\n",
      "NONE\n",
      "{'N': 2, 'O': 1, 'E': 1}\n",
      "3\n",
      "#5 No\n"
     ]
    }
   ],
   "source": [
    "def sol(a):\n",
    "    d = dict()\n",
    "    \n",
    "    a = list(a)\n",
    "    for i in a:\n",
    "        if i not in d:\n",
    "            d[i]=1\n",
    "        else:\n",
    "            d[i]+=1\n",
    "    \n",
    "    if len(d) != 2:\n",
    "        return False\n",
    "    \n",
    "    for key, val in d.items():\n",
    "        if val != 2:\n",
    "            return False\n",
    "    \n",
    "    return True\n",
    "\n",
    "\n",
    "n = int(input())\n",
    "for i in range(1, n+1):\n",
    "    a = input()\n",
    "    \n",
    "    res = \"Yes\" if sol(a) else \"No\"\n",
    "    print(\"#\"+str(i)+\" \"+res)"
   ]
  },
  {
   "cell_type": "code",
   "execution_count": null,
   "id": "4cd9dd15",
   "metadata": {},
   "outputs": [],
   "source": []
  }
 ],
 "metadata": {
  "kernelspec": {
   "display_name": "Python 3 (ipykernel)",
   "language": "python",
   "name": "python3"
  },
  "language_info": {
   "codemirror_mode": {
    "name": "ipython",
    "version": 3
   },
   "file_extension": ".py",
   "mimetype": "text/x-python",
   "name": "python",
   "nbconvert_exporter": "python",
   "pygments_lexer": "ipython3",
   "version": "3.10.0"
  }
 },
 "nbformat": 4,
 "nbformat_minor": 5
}
