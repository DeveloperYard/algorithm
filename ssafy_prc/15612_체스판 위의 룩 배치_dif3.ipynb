{
 "cells": [
  {
   "cell_type": "code",
   "execution_count": null,
   "id": "dd3c847b",
   "metadata": {},
   "outputs": [],
   "source": [
    "def sol(arr):\n",
    "    liedRook = [False]*8\n",
    "    \n",
    "    for i in range(8):\n",
    "        arr[i] = list(arr[i])\n",
    "    \n",
    "    for i in range(8):\n",
    "        print(arr[i])\n",
    "        print(liedRook)\n",
    "        if arr[i].count('O') != 1:\n",
    "            return False\n",
    "        else:\n",
    "            if liedRook[arr[i].index('O')] == True:\n",
    "                return False\n",
    "            else:\n",
    "                liedRook[arr[i].index('O')] = True\n",
    "    return True\n",
    "\n",
    "\n",
    "n = int(input())\n",
    "for i in range(1, n+1):\n",
    "    arr = [input() for _ in range(8)]\n",
    "    res = \"yes\" if sol(arr) else \"no\"\n",
    "    print(\"#\"+str(i)+\" \"+res)"
   ]
  }
 ],
 "metadata": {
  "kernelspec": {
   "display_name": "Python 3 (ipykernel)",
   "language": "python",
   "name": "python3"
  },
  "language_info": {
   "codemirror_mode": {
    "name": "ipython",
    "version": 3
   },
   "file_extension": ".py",
   "mimetype": "text/x-python",
   "name": "python",
   "nbconvert_exporter": "python",
   "pygments_lexer": "ipython3",
   "version": "3.10.0"
  }
 },
 "nbformat": 4,
 "nbformat_minor": 5
}
