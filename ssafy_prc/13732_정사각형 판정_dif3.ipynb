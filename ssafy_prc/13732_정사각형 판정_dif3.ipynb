{
 "cells": [
  {
   "cell_type": "code",
   "execution_count": 12,
   "id": "9cb6e893",
   "metadata": {},
   "outputs": [
    {
     "name": "stdout",
     "output_type": "stream",
     "text": [
      "1\n",
      "3\n",
      "...\n",
      ".##\n",
      ".##\n",
      "2\n",
      "startY : 1\n",
      "startX : 1\n",
      "#1 no\n"
     ]
    }
   ],
   "source": [
    "import math\n",
    "\n",
    "def sol(arr):\n",
    "    ans = 0\n",
    "    \n",
    "    cnt = 0\n",
    "    n = len(arr)\n",
    "    startY = -1\n",
    "    startX = -1\n",
    "    for i in range(n):\n",
    "        for j in range(n):\n",
    "            if arr[i][j] == '#':\n",
    "                cnt+=1\n",
    "                if startX == -1 and startY == -1:\n",
    "                    startY = i\n",
    "                    startX = j\n",
    "    \n",
    "    befPowVal = int(math.sqrt(cnt))\n",
    "    if befPowVal**2 != cnt:\n",
    "        return False\n",
    "    \n",
    "    print(befPowVal)\n",
    "    print(\"startY : \" + str(startY))\n",
    "    print(\"startX : \" + str(startX))\n",
    "    for i in range(startY, startY+befPowVal):\n",
    "        for j in range(startX, startX+befPowVal):\n",
    "            if i >= n or j >= n:\n",
    "                return False\n",
    "            if arr[i][j] == '.':\n",
    "                return False\n",
    "    \n",
    "    \n",
    "    return ans\n",
    "\n",
    "\n",
    "n = int(input())\n",
    "\n",
    "for i in range(1, n+1):\n",
    "    num = int(input())\n",
    "    arr = [list(input()) for _ in range(num)]\n",
    "    res = \"yes\" if sol(arr) else \"no\"\n",
    "    print(\"#\"+str(i)+\" \"+res)"
   ]
  },
  {
   "cell_type": "code",
   "execution_count": 7,
   "id": "9721a125",
   "metadata": {},
   "outputs": [
    {
     "name": "stdout",
     "output_type": "stream",
     "text": [
      "False\n"
     ]
    }
   ],
   "source": [
    "import math\n",
    "\n",
    "print(int(math.sqrt(8)) == 3)"
   ]
  },
  {
   "cell_type": "code",
   "execution_count": null,
   "id": "622b2347",
   "metadata": {},
   "outputs": [],
   "source": []
  }
 ],
 "metadata": {
  "kernelspec": {
   "display_name": "Python 3 (ipykernel)",
   "language": "python",
   "name": "python3"
  },
  "language_info": {
   "codemirror_mode": {
    "name": "ipython",
    "version": 3
   },
   "file_extension": ".py",
   "mimetype": "text/x-python",
   "name": "python",
   "nbconvert_exporter": "python",
   "pygments_lexer": "ipython3",
   "version": "3.10.0"
  }
 },
 "nbformat": 4,
 "nbformat_minor": 5
}
