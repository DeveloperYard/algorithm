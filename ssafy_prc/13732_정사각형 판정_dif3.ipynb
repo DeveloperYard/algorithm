{
 "cells": [
  {
   "cell_type": "code",
   "execution_count": 14,
   "id": "770f1fc4",
   "metadata": {},
   "outputs": [
    {
     "name": "stdout",
     "output_type": "stream",
     "text": [
      "1\n",
      "5\n",
      ".....\n",
      ".###.\n",
      ".###.\n",
      ".###.\n",
      ".....\n",
      "3\n",
      "startY : 1\n",
      "startX : 1\n",
      "#1 yes\n"
     ]
    }
   ],
   "source": [
    "import math\n",
    "\n",
    "def sol(arr):\n",
    "    ans = 0\n",
    "    \n",
    "    cnt = 0\n",
    "    n = len(arr)\n",
    "    startY = -1\n",
    "    startX = -1\n",
    "    for i in range(n):\n",
    "        for j in range(n):\n",
    "            if arr[i][j] == '#':\n",
    "                cnt+=1\n",
    "                if startX == -1 and startY == -1:\n",
    "                    startY = i\n",
    "                    startX = j\n",
    "    \n",
    "    befPowVal = int(math.sqrt(cnt))\n",
    "    if befPowVal**2 != cnt:\n",
    "        return False\n",
    "    \n",
    "    for i in range(startY, startY+befPowVal):\n",
    "        for j in range(startX, startX+befPowVal):\n",
    "            if i >= n or j >= n:\n",
    "                return False\n",
    "            if arr[i][j] == '.':\n",
    "                return False\n",
    "    \n",
    "    \n",
    "    return True\n",
    "\n",
    "\n",
    "n = int(input())\n",
    "\n",
    "for i in range(1, n+1):\n",
    "    num = int(input())\n",
    "    arr = [list(input()) for _ in range(num)]\n",
    "    res = \"yes\" if sol(arr) else \"no\"\n",
    "    print(\"#\"+str(i)+\" \"+res)"
   ]
  },
  {
   "cell_type": "code",
   "execution_count": 7,
   "id": "469160a4",
   "metadata": {},
   "outputs": [
    {
     "name": "stdout",
     "output_type": "stream",
     "text": [
      "False\n"
     ]
    }
   ],
   "source": [
    "import math\n",
    "\n",
    "print(int(math.sqrt(8)) == 3)"
   ]
  },
  {
   "cell_type": "code",
   "execution_count": null,
   "id": "95ea37f9",
   "metadata": {},
   "outputs": [],
   "source": []
  }
 ],
 "metadata": {
  "kernelspec": {
   "display_name": "Python 3 (ipykernel)",
   "language": "python",
   "name": "python3"
  },
  "language_info": {
   "codemirror_mode": {
    "name": "ipython",
    "version": 3
   },
   "file_extension": ".py",
   "mimetype": "text/x-python",
   "name": "python",
   "nbconvert_exporter": "python",
   "pygments_lexer": "ipython3",
   "version": "3.10.0"
  }
 },
 "nbformat": 4,
 "nbformat_minor": 5
}
