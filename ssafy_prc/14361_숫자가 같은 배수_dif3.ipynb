{
 "cells": [
  {
   "cell_type": "code",
   "execution_count": 3,
   "id": "4b8c2ca7",
   "metadata": {},
   "outputs": [
    {
     "name": "stdout",
     "output_type": "stream",
     "text": [
      "3\n",
      "142857\n",
      "#1 possible\n",
      "1\n",
      "#2 impossible\n",
      "1035\n",
      "#3 possible\n"
     ]
    }
   ],
   "source": [
    "def convertNum(n):\n",
    "    arr = []\n",
    "    while n > 0:\n",
    "        arr.append(n%10)\n",
    "        n//=10\n",
    "    return arr\n",
    "\n",
    "def sol(n):\n",
    "    numArr = convertNum(n)\n",
    "    numArr.sort()\n",
    "    for i in range(2, 10):\n",
    "        tmpNum = n*i\n",
    "        tmpArr = convertNum(tmpNum)\n",
    "        tmpArr.sort()\n",
    "        if len(tmpArr) > len(numArr):\n",
    "            return False\n",
    "        if numArr == tmpArr:\n",
    "            return True\n",
    "        \n",
    "    \n",
    "    return False\n",
    "\n",
    "\n",
    "n = int(input())\n",
    "for i in range(1, n+1):\n",
    "    num = int(input())\n",
    "    res = \"possible\" if sol(num) else \"impossible\"\n",
    "    print(\"#\"+str(i)+\" \"+res)\n",
    "    \n",
    "    "
   ]
  },
  {
   "cell_type": "code",
   "execution_count": 1,
   "id": "7fae2cff",
   "metadata": {},
   "outputs": [
    {
     "name": "stdout",
     "output_type": "stream",
     "text": [
      "True\n"
     ]
    }
   ],
   "source": [
    "arr = [1, 2, 3]\n",
    "brr = [1, 2, 3]\n",
    "print(arr==brr)"
   ]
  },
  {
   "cell_type": "code",
   "execution_count": null,
   "id": "8f7cb452",
   "metadata": {},
   "outputs": [],
   "source": []
  }
 ],
 "metadata": {
  "kernelspec": {
   "display_name": "Python 3 (ipykernel)",
   "language": "python",
   "name": "python3"
  },
  "language_info": {
   "codemirror_mode": {
    "name": "ipython",
    "version": 3
   },
   "file_extension": ".py",
   "mimetype": "text/x-python",
   "name": "python",
   "nbconvert_exporter": "python",
   "pygments_lexer": "ipython3",
   "version": "3.10.0"
  }
 },
 "nbformat": 4,
 "nbformat_minor": 5
}
