{
 "cells": [
  {
   "cell_type": "code",
   "execution_count": 7,
   "id": "f38436c9",
   "metadata": {},
   "outputs": [
    {
     "name": "stdout",
     "output_type": "stream",
     "text": [
      "1\n",
      "1\n",
      "1\n",
      "1\n",
      "#1 Yes\n"
     ]
    }
   ],
   "source": [
    "import math\n",
    "\n",
    "def sol(a):\n",
    "    length = int(math.sqrt(a))+1\n",
    "    \n",
    "    for i in range(1, length):\n",
    "        if a%i == 0:\n",
    "            if a//i < 10 and i < 10:\n",
    "                return True\n",
    "    return False\n",
    "\n",
    "n = int(input())\n",
    "for i in range(1, n+1):\n",
    "    a = int(input())\n",
    "    \n",
    "    res = \"Yes\" if sol(a) else \"No\"\n",
    "    print(\"#\"+str(i)+\" \"+res)"
   ]
  },
  {
   "cell_type": "code",
   "execution_count": null,
   "id": "8c229339",
   "metadata": {},
   "outputs": [],
   "source": []
  }
 ],
 "metadata": {
  "kernelspec": {
   "display_name": "Python 3 (ipykernel)",
   "language": "python",
   "name": "python3"
  },
  "language_info": {
   "codemirror_mode": {
    "name": "ipython",
    "version": 3
   },
   "file_extension": ".py",
   "mimetype": "text/x-python",
   "name": "python",
   "nbconvert_exporter": "python",
   "pygments_lexer": "ipython3",
   "version": "3.10.0"
  }
 },
 "nbformat": 4,
 "nbformat_minor": 5
}
