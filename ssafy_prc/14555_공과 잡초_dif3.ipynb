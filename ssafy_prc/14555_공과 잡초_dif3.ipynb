{
 "cells": [
  {
   "cell_type": "code",
   "execution_count": 15,
   "id": "e27a5bbe",
   "metadata": {},
   "outputs": [
    {
     "name": "stdout",
     "output_type": "stream",
     "text": [
      "3\n",
      "||||||\n",
      "#1 0\n",
      "(|..|)\n",
      "#2 2\n",
      ".|.(|...||)|...()..\n",
      "#3 3\n"
     ]
    }
   ],
   "source": [
    "from collections import deque\n",
    "\n",
    "def sol(s):\n",
    "    ans = 0\n",
    "    s = list(s)\n",
    "    q = deque()\n",
    "    \n",
    "    openP = 0\n",
    "    i = 0\n",
    "    while i < len(s):\n",
    "        if s[i] == '(':\n",
    "            ans += 1\n",
    "            i+=1\n",
    "        elif s[i] == ')':\n",
    "            ans += 1\n",
    "        \n",
    "        i+=1\n",
    "            \n",
    "    return ans\n",
    "\n",
    "n = int(input())\n",
    "for i in range(1, n+1):\n",
    "    s = input()\n",
    "    res = sol(s)\n",
    "    \n",
    "    print(\"#\"+str(i) + \" \" + str(res))"
   ]
  },
  {
   "cell_type": "code",
   "execution_count": null,
   "id": "f0dfbf2f",
   "metadata": {},
   "outputs": [],
   "source": []
  }
 ],
 "metadata": {
  "kernelspec": {
   "display_name": "Python 3 (ipykernel)",
   "language": "python",
   "name": "python3"
  },
  "language_info": {
   "codemirror_mode": {
    "name": "ipython",
    "version": 3
   },
   "file_extension": ".py",
   "mimetype": "text/x-python",
   "name": "python",
   "nbconvert_exporter": "python",
   "pygments_lexer": "ipython3",
   "version": "3.10.0"
  }
 },
 "nbformat": 4,
 "nbformat_minor": 5
}
