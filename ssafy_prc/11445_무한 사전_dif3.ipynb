{
 "cells": [
  {
   "cell_type": "code",
   "execution_count": null,
   "id": "33e79e7f",
   "metadata": {},
   "outputs": [
    {
     "name": "stdout",
     "output_type": "stream",
     "text": [
      "2\n",
      "cat\n",
      "dig\n",
      "#1 Y\n"
     ]
    }
   ],
   "source": [
    "def sol(s1, s2):\n",
    "    \n",
    "    if s1+\"a\" == s2:\n",
    "        return False\n",
    "    else:\n",
    "        return True\n",
    "\n",
    "n = int(input())\n",
    "\n",
    "\n",
    "for i in range(1, n+1):\n",
    "    s1 = input().rstrip()\n",
    "    s2 = input().rstrip()\n",
    "    res = \"Y\" if sol(s1, s2) else \"N\"\n",
    "    \n",
    "    print(\"#\"+str(i)+\" \"+res)"
   ]
  },
  {
   "cell_type": "code",
   "execution_count": 2,
   "id": "46032ac3",
   "metadata": {},
   "outputs": [
    {
     "name": "stdout",
     "output_type": "stream",
     "text": [
      "True\n"
     ]
    }
   ],
   "source": [
    "a = \"dog\"\n",
    "b = \"cat\"\n",
    "\n",
    "print(b<a)"
   ]
  },
  {
   "cell_type": "code",
   "execution_count": null,
   "id": "db1b6d8d",
   "metadata": {},
   "outputs": [],
   "source": []
  }
 ],
 "metadata": {
  "kernelspec": {
   "display_name": "Python 3 (ipykernel)",
   "language": "python",
   "name": "python3"
  },
  "language_info": {
   "codemirror_mode": {
    "name": "ipython",
    "version": 3
   },
   "file_extension": ".py",
   "mimetype": "text/x-python",
   "name": "python",
   "nbconvert_exporter": "python",
   "pygments_lexer": "ipython3",
   "version": "3.10.0"
  }
 },
 "nbformat": 4,
 "nbformat_minor": 5
}
