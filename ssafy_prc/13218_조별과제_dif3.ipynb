{
 "cells": [
  {
   "cell_type": "code",
   "execution_count": 1,
   "id": "b045d595",
   "metadata": {},
   "outputs": [
    {
     "name": "stdout",
     "output_type": "stream",
     "text": [
      "3\n",
      "100\n",
      "#1 33\n",
      "10\n",
      "#2 3\n",
      "1\n",
      "#3 0\n"
     ]
    }
   ],
   "source": [
    "def sol(n):\n",
    "    ans = n//3\n",
    "    \n",
    "    return ans\n",
    "\n",
    "n = int(input())\n",
    "\n",
    "for i in range(1, n+1):\n",
    "    num = int(input())\n",
    "    res = sol(num)\n",
    "    print(\"#\"+str(i)+\" \"+str(res))"
   ]
  },
  {
   "cell_type": "code",
   "execution_count": null,
   "id": "1a83f6b0",
   "metadata": {},
   "outputs": [],
   "source": []
  }
 ],
 "metadata": {
  "kernelspec": {
   "display_name": "Python 3 (ipykernel)",
   "language": "python",
   "name": "python3"
  },
  "language_info": {
   "codemirror_mode": {
    "name": "ipython",
    "version": 3
   },
   "file_extension": ".py",
   "mimetype": "text/x-python",
   "name": "python",
   "nbconvert_exporter": "python",
   "pygments_lexer": "ipython3",
   "version": "3.10.0"
  }
 },
 "nbformat": 4,
 "nbformat_minor": 5
}
