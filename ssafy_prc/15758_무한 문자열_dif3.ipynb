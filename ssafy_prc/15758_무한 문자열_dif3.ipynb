{
 "cells": [
  {
   "cell_type": "code",
   "execution_count": 13,
   "id": "e2e97782",
   "metadata": {},
   "outputs": [
    {
     "name": "stdout",
     "output_type": "stream",
     "text": [
      "1\n",
      "ababababa ab\n",
      "ababababaababababa\n",
      "ababababababababab\n",
      "#1 no\n"
     ]
    }
   ],
   "source": [
    "def sol(str1, str2):\n",
    "    s = str1 if len(str1)>=len(str2) else str2\n",
    "    t = str2 if s == str1 else str1\n",
    "    \n",
    "    lcm = len(s)*len(t)\n",
    "    lenS = len(s)\n",
    "    lenT = len(t)\n",
    "    while len(s) < lcm:\n",
    "        s += s[:lenS]\n",
    "    \n",
    "    while len(t) < lcm:\n",
    "        t += t[:lenT]\n",
    "    \n",
    "    \n",
    "    print(s)\n",
    "    print(t)\n",
    "    if s == t:\n",
    "        return True\n",
    "    else:\n",
    "        return False\n",
    "        \n",
    "        \n",
    "    \n",
    "n = int(input())\n",
    "for i in range(1, n+1):\n",
    "    sArr = input().split()\n",
    "    str1 = sArr[0]\n",
    "    str2 = sArr[1]\n",
    "    res = \"yes\" if sol(str1, str2) else \"no\"\n",
    "    print(\"#\"+str(i)+\" \"+res)\n",
    "    "
   ]
  },
  {
   "cell_type": "code",
   "execution_count": null,
   "id": "5acb3b55",
   "metadata": {},
   "outputs": [],
   "source": []
  }
 ],
 "metadata": {
  "kernelspec": {
   "display_name": "Python 3 (ipykernel)",
   "language": "python",
   "name": "python3"
  },
  "language_info": {
   "codemirror_mode": {
    "name": "ipython",
    "version": 3
   },
   "file_extension": ".py",
   "mimetype": "text/x-python",
   "name": "python",
   "nbconvert_exporter": "python",
   "pygments_lexer": "ipython3",
   "version": "3.10.0"
  }
 },
 "nbformat": 4,
 "nbformat_minor": 5
}
