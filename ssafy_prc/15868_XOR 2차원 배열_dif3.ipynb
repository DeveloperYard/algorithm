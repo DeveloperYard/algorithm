{
 "cells": [
  {
   "cell_type": "code",
   "execution_count": 5,
   "id": "009bccf7",
   "metadata": {},
   "outputs": [
    {
     "name": "stdout",
     "output_type": "stream",
     "text": [
      "2\n",
      "2 2\n",
      "0 1\n",
      "1 1\n",
      "#0 no\n",
      "3 4\n",
      "0 1 0 0\n",
      "1 0 1 1\n",
      "0 1 0 0\n",
      "[0, 1, 0]\n",
      "[0, 1, 0, 0]\n",
      "#1 yes\n"
     ]
    }
   ],
   "source": [
    "def sol(arr, n, m):\n",
    "    a = [-1]*n\n",
    "    b = [-1]*m\n",
    "    \n",
    "    # arr[i][j] == 0 -> a[i]=0, b[j]=0\n",
    "    # arr[i][j] == 1 -> a[i]=0, b[j]=1\n",
    "    flag = 0\n",
    "    for i in range(n):\n",
    "        for j in range(m):\n",
    "            if arr[i][j] == 0:\n",
    "                if a[i] == -1 and b[j] == -1:\n",
    "                    a[i] = 0\n",
    "                    b[j] = 0\n",
    "                    continue\n",
    "                elif a[i] != -1 and b[i] != -1:\n",
    "                    if a[i] != b[i]:\n",
    "                        return False\n",
    "                \n",
    "                if a[i] == -1: # b가 비워져 있는 경우는 위에서 체크, \n",
    "                    a[i] = b[j]\n",
    "                    \n",
    "                if b[j] == -1: \n",
    "                    b[j] = a[i]\n",
    "            else:\n",
    "                if a[i] == -1 and b[j] == -1:\n",
    "                    a[i] = 0\n",
    "                    b[j] = 1\n",
    "                    continue\n",
    "                elif a[i] != -1 and b[j] != -1:\n",
    "                    if a[i] == b[j]:\n",
    "                        return False\n",
    "                if a[i] == -1:\n",
    "                    a[i] = 1 if b[j]==0 else 0\n",
    "                if b[j] == -1:\n",
    "                    b[j] = 1 if a[i]==0 else 0\n",
    "    \n",
    "#     print(a)\n",
    "#     print(b)\n",
    "\n",
    "    \n",
    "    return True\n",
    "\n",
    "\n",
    "\n",
    "n = int(input())\n",
    "for i in range(1, n):\n",
    "    a, b = map(int, input().split())\n",
    "    arr = [list(map(int, input().split())) for _ in range(a)]\n",
    "    res = \"yes\" if sol(arr, a, b) else \"no\"\n",
    "    print(\"#\"+str(i)+\" \"+res)"
   ]
  },
  {
   "cell_type": "markdown",
   "id": "3a5b4d0a",
   "metadata": {},
   "source": [
    "### "
   ]
  }
 ],
 "metadata": {
  "kernelspec": {
   "display_name": "Python 3 (ipykernel)",
   "language": "python",
   "name": "python3"
  },
  "language_info": {
   "codemirror_mode": {
    "name": "ipython",
    "version": 3
   },
   "file_extension": ".py",
   "mimetype": "text/x-python",
   "name": "python",
   "nbconvert_exporter": "python",
   "pygments_lexer": "ipython3",
   "version": "3.10.0"
  }
 },
 "nbformat": 4,
 "nbformat_minor": 5
}
