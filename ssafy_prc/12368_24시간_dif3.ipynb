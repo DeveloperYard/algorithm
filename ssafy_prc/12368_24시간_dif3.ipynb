{
 "cells": [
  {
   "cell_type": "code",
   "execution_count": 1,
   "id": "6dd76e88",
   "metadata": {},
   "outputs": [
    {
     "name": "stdout",
     "output_type": "stream",
     "text": [
      "3\n",
      "1 9\n",
      "#1 10\n",
      "7 17\n",
      "#2 0\n",
      "23 23\n",
      "#3 22\n"
     ]
    }
   ],
   "source": [
    "def sol(a, b):\n",
    "    ans = (a+b)%24\n",
    "    \n",
    "    return ans\n",
    "\n",
    "\n",
    "n = int(input())\n",
    "for i in range(1, n+1):\n",
    "    a, b = map(int, input().split())\n",
    "    \n",
    "    res = sol(a,b)\n",
    "    print(\"#\"+str(i)+\" \"+str(res))"
   ]
  },
  {
   "cell_type": "code",
   "execution_count": null,
   "id": "791bae89",
   "metadata": {},
   "outputs": [],
   "source": []
  }
 ],
 "metadata": {
  "kernelspec": {
   "display_name": "Python 3 (ipykernel)",
   "language": "python",
   "name": "python3"
  },
  "language_info": {
   "codemirror_mode": {
    "name": "ipython",
    "version": 3
   },
   "file_extension": ".py",
   "mimetype": "text/x-python",
   "name": "python",
   "nbconvert_exporter": "python",
   "pygments_lexer": "ipython3",
   "version": "3.10.0"
  }
 },
 "nbformat": 4,
 "nbformat_minor": 5
}
