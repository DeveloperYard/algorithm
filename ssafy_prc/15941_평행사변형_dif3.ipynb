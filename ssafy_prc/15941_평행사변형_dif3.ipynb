{
 "cells": [
  {
   "cell_type": "code",
   "execution_count": null,
   "id": "c87b6c57",
   "metadata": {},
   "outputs": [],
   "source": [
    "def sol(n):\n",
    "    return n**2\n",
    "\n",
    "n = int(input())\n",
    "for i in range(n):\n",
    "    val = sol(int(input()))\n",
    "    print(\"#\"+str(i)+\" \"+str(val))"
   ]
  }
 ],
 "metadata": {
  "kernelspec": {
   "display_name": "Python 3 (ipykernel)",
   "language": "python",
   "name": "python3"
  },
  "language_info": {
   "codemirror_mode": {
    "name": "ipython",
    "version": 3
   },
   "file_extension": ".py",
   "mimetype": "text/x-python",
   "name": "python",
   "nbconvert_exporter": "python",
   "pygments_lexer": "ipython3",
   "version": "3.10.0"
  }
 },
 "nbformat": 4,
 "nbformat_minor": 5
}
