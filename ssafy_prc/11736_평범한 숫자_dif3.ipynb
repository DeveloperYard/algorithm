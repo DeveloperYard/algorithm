{
 "cells": [
  {
   "cell_type": "code",
   "execution_count": 4,
   "id": "0b8a2a00",
   "metadata": {},
   "outputs": [
    {
     "name": "stdout",
     "output_type": "stream",
     "text": [
      "2\n",
      "3\n",
      "1 3 2\n",
      "#1 0\n",
      "5\n",
      "1 3 5 4 2\n",
      "#2 2\n"
     ]
    }
   ],
   "source": [
    "def sol(a):\n",
    "    ans = 0\n",
    "    \n",
    "    for i in range(1, len(a)-1):\n",
    "        val = a[i]\n",
    "        compLs = a[i-1:i+2]\n",
    "        if val != min(compLs) and val != max(compLs):\n",
    "            ans += 1\n",
    "    \n",
    "    return ans\n",
    "\n",
    "n = int(input())\n",
    "for i in range(1, n+1):\n",
    "    s = int(input())\n",
    "    a = list(map(int, input().split()))\n",
    "    \n",
    "    res = sol(a)\n",
    "    print(\"#\"+str(i)+\" \"+str(res))"
   ]
  },
  {
   "cell_type": "code",
   "execution_count": 2,
   "id": "f134b0ed",
   "metadata": {},
   "outputs": [
    {
     "name": "stdout",
     "output_type": "stream",
     "text": [
      "[1, 2, 3]\n",
      "[2, 3, 4]\n"
     ]
    }
   ],
   "source": [
    "a = [1, 2, 3, 4]\n",
    "\n",
    "for i in range(1, len(a)-1):\n",
    "    print(a[i-1:i+2])"
   ]
  },
  {
   "cell_type": "code",
   "execution_count": null,
   "id": "cf05b203",
   "metadata": {},
   "outputs": [],
   "source": []
  }
 ],
 "metadata": {
  "kernelspec": {
   "display_name": "Python 3 (ipykernel)",
   "language": "python",
   "name": "python3"
  },
  "language_info": {
   "codemirror_mode": {
    "name": "ipython",
    "version": 3
   },
   "file_extension": ".py",
   "mimetype": "text/x-python",
   "name": "python",
   "nbconvert_exporter": "python",
   "pygments_lexer": "ipython3",
   "version": "3.10.0"
  }
 },
 "nbformat": 4,
 "nbformat_minor": 5
}
