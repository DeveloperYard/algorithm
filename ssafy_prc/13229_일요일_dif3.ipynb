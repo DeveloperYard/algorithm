{
 "cells": [
  {
   "cell_type": "code",
   "execution_count": 3,
   "id": "9ba727a3",
   "metadata": {},
   "outputs": [
    {
     "name": "stdout",
     "output_type": "stream",
     "text": [
      "1\n",
      "SUN\n",
      "#1 7\n"
     ]
    }
   ],
   "source": [
    "def sol(s):\n",
    "    days = [\"MON\", \"TUE\", \"WED\", \"THU\", \"FRI\", \"SAT\", \"SUN\"]\n",
    "    \n",
    "    ans = 6-days.index(s)\n",
    "    if ans == 0:\n",
    "        return 7\n",
    "    else:\n",
    "        return ans\n",
    "    \n",
    "\n",
    "\n",
    "n = int(input())\n",
    "\n",
    "for i in range(1, n+1):\n",
    "    s = input()\n",
    "    res = sol(s)\n",
    "    print(\"#\"+str(i)+\" \"+str(res))"
   ]
  },
  {
   "cell_type": "code",
   "execution_count": null,
   "id": "317b49d9",
   "metadata": {},
   "outputs": [],
   "source": []
  }
 ],
 "metadata": {
  "kernelspec": {
   "display_name": "Python 3 (ipykernel)",
   "language": "python",
   "name": "python3"
  },
  "language_info": {
   "codemirror_mode": {
    "name": "ipython",
    "version": 3
   },
   "file_extension": ".py",
   "mimetype": "text/x-python",
   "name": "python",
   "nbconvert_exporter": "python",
   "pygments_lexer": "ipython3",
   "version": "3.10.0"
  }
 },
 "nbformat": 4,
 "nbformat_minor": 5
}
