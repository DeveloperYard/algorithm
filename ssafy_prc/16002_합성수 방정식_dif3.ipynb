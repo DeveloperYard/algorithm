{
 "cells": [
  {
   "cell_type": "code",
   "execution_count": 24,
   "id": "37d0ca21",
   "metadata": {},
   "outputs": [
    {
     "name": "stdout",
     "output_type": "stream",
     "text": [
      "101\n",
      "True\n"
     ]
    }
   ],
   "source": [
    "# 합성수 -> 1이상의 소수가 아닌 수\n",
    "\n",
    "import math\n",
    "\n",
    "def judgeNotPrime(n):\n",
    "    rangeN = int(math.sqrt(n))+1\n",
    "    for i in range(2, rangeN):\n",
    "        if n%i == 0:\n",
    "            return True\n",
    "    \n",
    "    return False\n",
    "\n",
    "def sol(n):\n",
    "    ans = []\n",
    "    \n",
    "    for i in range(2, 10**9-n):\n",
    "        if judgeNotPrime(i) and judgeNotPrime(i+n):\n",
    "            ans.append(i+n)\n",
    "            ans.append(i)\n",
    "            return ans\n",
    "        \n",
    "n = int(input())\n",
    "for i in range(1, n+1):\n",
    "    val  = sol(int(input()))\n",
    "\n",
    "    print(\"#\"+str(i)+\" \"+str(val[0])+\" \"+str(val[1]))\n",
    "\n",
    "# print(judgeNotPrime(10201))"
   ]
  }
 ],
 "metadata": {
  "kernelspec": {
   "display_name": "Python 3 (ipykernel)",
   "language": "python",
   "name": "python3"
  },
  "language_info": {
   "codemirror_mode": {
    "name": "ipython",
    "version": 3
   },
   "file_extension": ".py",
   "mimetype": "text/x-python",
   "name": "python",
   "nbconvert_exporter": "python",
   "pygments_lexer": "ipython3",
   "version": "3.10.0"
  }
 },
 "nbformat": 4,
 "nbformat_minor": 5
}
