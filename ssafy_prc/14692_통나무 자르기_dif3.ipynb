{
 "cells": [
  {
   "cell_type": "code",
   "execution_count": 6,
   "id": "e9c4a7e2",
   "metadata": {},
   "outputs": [
    {
     "name": "stdout",
     "output_type": "stream",
     "text": [
      "5\n",
      "2\n",
      "0\n",
      "#1 Alice\n",
      "3\n",
      "#2 Bob\n",
      "10\n",
      "0\n",
      "#3 Alice\n",
      "50\n",
      "0\n",
      "#4 Alice\n",
      "100\n",
      "1\n",
      "#5 Bob\n"
     ]
    }
   ],
   "source": [
    "def sol(n):\n",
    "    flag = 0\n",
    "    if n%2 == 1:\n",
    "        return \"Bob\"\n",
    "    else:\n",
    "        return \"Alice\"\n",
    "                \n",
    "        \n",
    "    \n",
    "\n",
    "\n",
    "n = int(input())\n",
    "\n",
    "for i in range(1, n+1):\n",
    "    num = int(input())\n",
    "    res = sol(num)\n",
    "    print(\"#\"+str(i)+\" \"+res)"
   ]
  },
  {
   "cell_type": "code",
   "execution_count": null,
   "id": "0d067e63",
   "metadata": {},
   "outputs": [],
   "source": []
  }
 ],
 "metadata": {
  "kernelspec": {
   "display_name": "Python 3 (ipykernel)",
   "language": "python",
   "name": "python3"
  },
  "language_info": {
   "codemirror_mode": {
    "name": "ipython",
    "version": 3
   },
   "file_extension": ".py",
   "mimetype": "text/x-python",
   "name": "python",
   "nbconvert_exporter": "python",
   "pygments_lexer": "ipython3",
   "version": "3.10.0"
  }
 },
 "nbformat": 4,
 "nbformat_minor": 5
}
