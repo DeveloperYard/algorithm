{
 "cells": [
  {
   "cell_type": "code",
   "execution_count": 1,
   "id": "63088a27",
   "metadata": {},
   "outputs": [
    {
     "name": "stdout",
     "output_type": "stream",
     "text": [
      "4\n",
      "2 5\n",
      "#1 10\n",
      "5 10\n",
      "#2 -1\n",
      "10 10\n",
      "#3 -1\n",
      "9 9\n",
      "#4 81\n"
     ]
    }
   ],
   "source": [
    "def sol(a, b):\n",
    "    if a >= 10 or b >= 10:\n",
    "        return -1\n",
    "    else:\n",
    "        return a*b\n",
    "\n",
    "\n",
    "n = int(input())\n",
    "for i in range(1, n+1):\n",
    "    a, b = map(int, input().split())\n",
    "    \n",
    "    res = sol(a,b)\n",
    "    print(\"#\"+str(i)+\" \"+str(res))"
   ]
  },
  {
   "cell_type": "code",
   "execution_count": null,
   "id": "f6a2ebb0",
   "metadata": {},
   "outputs": [],
   "source": []
  }
 ],
 "metadata": {
  "kernelspec": {
   "display_name": "Python 3 (ipykernel)",
   "language": "python",
   "name": "python3"
  },
  "language_info": {
   "codemirror_mode": {
    "name": "ipython",
    "version": 3
   },
   "file_extension": ".py",
   "mimetype": "text/x-python",
   "name": "python",
   "nbconvert_exporter": "python",
   "pygments_lexer": "ipython3",
   "version": "3.10.0"
  }
 },
 "nbformat": 4,
 "nbformat_minor": 5
}
