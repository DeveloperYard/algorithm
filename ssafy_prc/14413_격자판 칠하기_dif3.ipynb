{
 "cells": [
  {
   "cell_type": "code",
   "execution_count": 13,
   "id": "4ed5ff57",
   "metadata": {},
   "outputs": [
    {
     "name": "stdout",
     "output_type": "stream",
     "text": [
      "1\n",
      "3 3\n",
      "?.?\n",
      "???\n",
      "???\n",
      "['#', '.', '#']\n",
      "['.', '#', '.']\n",
      "['#', '.', '#']\n",
      "#1 possible\n"
     ]
    }
   ],
   "source": [
    "def bfs(cur, y, x, arr):\n",
    "    dx = [-1, 0, 1, 0]\n",
    "    dy = [0, -1, 0, 1]\n",
    "    for i in range(4):\n",
    "        nx = x + dx[i]\n",
    "        ny = y + dy[i]\n",
    "        \n",
    "        if nx < 0 or ny < 0 or nx >= len(arr[0]) or ny >= len(arr):\n",
    "            continue\n",
    "        if arr[ny][nx] == cur:\n",
    "            return False\n",
    "        if arr[ny][nx] != cur:\n",
    "            if arr[ny][nx] == '?':\n",
    "                arr[ny][nx] = '#' if cur=='.' else '.'\n",
    "            else:\n",
    "                continue\n",
    "        bfs(arr[ny][nx], ny, nx, arr)\n",
    "    return True\n",
    "\n",
    "def sol(arr):\n",
    "    ans = 0\n",
    "    res = True\n",
    "    for i in range(len(arr)):\n",
    "        for j in range(len(arr[0])):\n",
    "            if arr[i][j] == '#' or arr[i][j] == '.':\n",
    "                if not bfs(arr[i][j], i, j, arr):\n",
    "                    res = False\n",
    "                    break\n",
    "    \n",
    "    for i in range(len(arr)):\n",
    "        print(arr[i])\n",
    "    return res\n",
    "\n",
    "\n",
    "n = int(input())\n",
    "\n",
    "for i in range(1, n+1):\n",
    "    n, m = map(int, input().split())\n",
    "    arr = [list(input()) for _ in range(n)]\n",
    "    res = \"possible\" if sol(arr) else \"impossible\"\n",
    "    print(\"#\"+str(i)+\" \"+res)\n",
    "    \n",
    "    "
   ]
  },
  {
   "cell_type": "code",
   "execution_count": null,
   "id": "467e5298",
   "metadata": {},
   "outputs": [],
   "source": []
  }
 ],
 "metadata": {
  "kernelspec": {
   "display_name": "Python 3 (ipykernel)",
   "language": "python",
   "name": "python3"
  },
  "language_info": {
   "codemirror_mode": {
    "name": "ipython",
    "version": 3
   },
   "file_extension": ".py",
   "mimetype": "text/x-python",
   "name": "python",
   "nbconvert_exporter": "python",
   "pygments_lexer": "ipython3",
   "version": "3.10.0"
  }
 },
 "nbformat": 4,
 "nbformat_minor": 5
}
