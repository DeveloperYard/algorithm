{
 "cells": [
  {
   "cell_type": "code",
   "execution_count": 2,
   "id": "cf5feb7f",
   "metadata": {},
   "outputs": [
    {
     "name": "stdout",
     "output_type": "stream",
     "text": [
      "3\n",
      "L\n",
      "#1 1 2\n",
      "RRRRRRRRRRRRRRRRRRRRRRRRRRLRRR\n",
      "#2 111 28\n",
      "LLRLLRLRLLRRRRLRLRLLRLLRLRLLRR\n",
      "#3 618347 259846\n"
     ]
    }
   ],
   "source": [
    "def sol(s):\n",
    "    ans = []\n",
    "    a, b = 1, 1\n",
    "    \n",
    "    s = list(s)\n",
    "    \n",
    "    for i in s:\n",
    "        if i == 'L':\n",
    "            b = a+b\n",
    "        else:\n",
    "            a = a+b\n",
    "    \n",
    "    ans.append(a)\n",
    "    ans.append(b)\n",
    "    \n",
    "    return ans\n",
    "\n",
    "n = int(input())\n",
    "\n",
    "\n",
    "for i in range(1, n+1):\n",
    "    s = input()\n",
    "    res = sol(s)\n",
    "    print(\"#\"+str(i)+\" \"+str(res[0])+\" \"+str(res[1]))"
   ]
  },
  {
   "cell_type": "code",
   "execution_count": null,
   "id": "e218aacb",
   "metadata": {},
   "outputs": [],
   "source": []
  }
 ],
 "metadata": {
  "kernelspec": {
   "display_name": "Python 3 (ipykernel)",
   "language": "python",
   "name": "python3"
  },
  "language_info": {
   "codemirror_mode": {
    "name": "ipython",
    "version": 3
   },
   "file_extension": ".py",
   "mimetype": "text/x-python",
   "name": "python",
   "nbconvert_exporter": "python",
   "pygments_lexer": "ipython3",
   "version": "3.10.0"
  }
 },
 "nbformat": 4,
 "nbformat_minor": 5
}
