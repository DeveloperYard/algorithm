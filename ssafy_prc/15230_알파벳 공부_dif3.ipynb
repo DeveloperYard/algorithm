{
 "cells": [
  {
   "cell_type": "code",
   "execution_count": 12,
   "id": "a815efcb",
   "metadata": {},
   "outputs": [
    {
     "name": "stdout",
     "output_type": "stream",
     "text": [
      "3\n",
      "abcdefghijklmnopqrstu\n",
      "#1 21\n",
      "abcefghijk\n",
      "#2 3\n",
      "absolute\n",
      "#3 2\n"
     ]
    }
   ],
   "source": [
    "def sol(s):\n",
    "    s = list(s)\n",
    "    \n",
    "    ans = 0\n",
    "    \n",
    "    alpArr = [0]*26\n",
    "\n",
    "    if s[0] != 'a':\n",
    "        return 0\n",
    "    \n",
    "    alpArr[0] = 1\n",
    "    ans += 1\n",
    "    for i in range(1, len(s)):\n",
    "        if alpArr[ord(s[i])-97] == 1:\n",
    "            break\n",
    "        \n",
    "        if s[i] != 'a' and alpArr[ord(s[i])-98] == 0:\n",
    "            break\n",
    "        alpArr[ord(s[i])-97] = 1\n",
    "        ans += 1\n",
    "    \n",
    "    return ans\n",
    "\n",
    "\n",
    "n = int(input())\n",
    "\n",
    "for i in range(1, n+1):\n",
    "    s = input()\n",
    "    res = sol(s)\n",
    "    print(\"#\"+str(i)+\" \"+str(res))"
   ]
  },
  {
   "cell_type": "code",
   "execution_count": null,
   "id": "4edff7f9",
   "metadata": {},
   "outputs": [],
   "source": []
  }
 ],
 "metadata": {
  "kernelspec": {
   "display_name": "Python 3 (ipykernel)",
   "language": "python",
   "name": "python3"
  },
  "language_info": {
   "codemirror_mode": {
    "name": "ipython",
    "version": 3
   },
   "file_extension": ".py",
   "mimetype": "text/x-python",
   "name": "python",
   "nbconvert_exporter": "python",
   "pygments_lexer": "ipython3",
   "version": "3.10.0"
  }
 },
 "nbformat": 4,
 "nbformat_minor": 5
}
