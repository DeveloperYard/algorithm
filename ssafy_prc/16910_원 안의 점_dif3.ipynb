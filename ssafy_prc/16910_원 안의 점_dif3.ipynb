{
 "cells": [
  {
   "cell_type": "code",
   "execution_count": 6,
   "id": "9ebaf152",
   "metadata": {},
   "outputs": [
    {
     "name": "stdout",
     "output_type": "stream",
     "text": [
      "3\n",
      "1\n",
      "#0 5\n",
      "10\n",
      "#1 317\n",
      "100\n",
      "#2 31417\n"
     ]
    }
   ],
   "source": [
    "# pass\n",
    "\n",
    "def sol(n):\n",
    "    ans = 0\n",
    "    \n",
    "    # 1사분면의 축을 제외한 격자의 개수 세기\n",
    "    \n",
    "    for x in range(1, n+1):\n",
    "        for y in range(1, n+1):\n",
    "            if x**2 + y**2 <= n**2:\n",
    "                ans += 1\n",
    "                \n",
    "    ans *= 4 # 4개 사분면의 격자\n",
    "    ans += 4*n # 축에 있는 격자의 수\n",
    "    ans += 1 # (0, 0) 격자\n",
    "    \n",
    "    \n",
    "    return ans\n",
    "\n",
    "n = int(input())\n",
    "\n",
    "for i in range(n):\n",
    "    num = int(input())\n",
    "    print(\"#\"+str(i+1)+\" \"+str(sol(num)))\n",
    "\n",
    "# print(math.floor(1.8))"
   ]
  }
 ],
 "metadata": {
  "kernelspec": {
   "display_name": "Python 3 (ipykernel)",
   "language": "python",
   "name": "python3"
  },
  "language_info": {
   "codemirror_mode": {
    "name": "ipython",
    "version": 3
   },
   "file_extension": ".py",
   "mimetype": "text/x-python",
   "name": "python",
   "nbconvert_exporter": "python",
   "pygments_lexer": "ipython3",
   "version": "3.10.0"
  }
 },
 "nbformat": 4,
 "nbformat_minor": 5
}
