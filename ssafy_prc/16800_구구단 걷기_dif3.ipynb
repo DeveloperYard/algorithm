{
 "cells": [
  {
   "cell_type": "code",
   "execution_count": 30,
   "id": "2138c5d1",
   "metadata": {},
   "outputs": [
    {
     "name": "stdout",
     "output_type": "stream",
     "text": [
      "3\n",
      "10\n",
      "5\n",
      "#1 5\n",
      "5\n",
      "1\n",
      "#2 4\n",
      "100\n",
      "10\n",
      "#3 18\n"
     ]
    }
   ],
   "source": [
    "def sol(n):\n",
    "    ans = 0\n",
    "    \n",
    "    rangeN = math.ceil(math.sqrt(n))+1\n",
    "    for i in range(rangeN, 0, -1):\n",
    "        if n % i == 0:\n",
    "            ans += i\n",
    "            ans += n//i\n",
    "            break\n",
    "                   \n",
    "    return ans-2\n",
    "\n",
    "T = int(input())\n",
    "\n",
    "\n",
    "for test_case in range(1, T + 1):\n",
    "    val = int(input())\n",
    "    print(\"#\"+str(test_case)+\" \"+str(sol(val)))\n"
   ]
  }
 ],
 "metadata": {
  "kernelspec": {
   "display_name": "Python 3 (ipykernel)",
   "language": "python",
   "name": "python3"
  },
  "language_info": {
   "codemirror_mode": {
    "name": "ipython",
    "version": 3
   },
   "file_extension": ".py",
   "mimetype": "text/x-python",
   "name": "python",
   "nbconvert_exporter": "python",
   "pygments_lexer": "ipython3",
   "version": "3.10.0"
  }
 },
 "nbformat": 4,
 "nbformat_minor": 5
}
