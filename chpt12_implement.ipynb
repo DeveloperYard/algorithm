{
 "cells": [
  {
   "cell_type": "code",
   "execution_count": 12,
   "id": "59ce1cbb",
   "metadata": {},
   "outputs": [
    {
     "name": "stdout",
     "output_type": "stream",
     "text": [
      "123402\n",
      "LUCKY\n"
     ]
    }
   ],
   "source": [
    "# Q7. Lucky straight\n",
    "import math\n",
    "\n",
    "n = int(input())\n",
    "\n",
    "length = int(math.log10(n))+1\n",
    "\n",
    "half = length/2\n",
    "\n",
    "pre, post = 0, 0\n",
    "\n",
    "pr, ps = 0, 0\n",
    "while ps < half:\n",
    "    post += (n)%10\n",
    "    n//=10\n",
    "    ps+=1\n",
    "    \n",
    "while pr < half:\n",
    "    pre += (n)%10\n",
    "    n//=10\n",
    "    pr+=1\n",
    "\n",
    "if post == pre:\n",
    "    print(\"LUCKY\")\n",
    "else:\n",
    "    print(\"READY\")\n",
    "\n",
    "# solve!!"
   ]
  },
  {
   "cell_type": "code",
   "execution_count": 33,
   "id": "6ee76259",
   "metadata": {},
   "outputs": [
    {
     "name": "stdout",
     "output_type": "stream",
     "text": [
      "K1KA5CB7\n",
      "ABCKK13\n"
     ]
    }
   ],
   "source": [
    "# Q8. String resort\n",
    "\n",
    "answer = input()\n",
    "\n",
    "num = []\n",
    "string = []\n",
    "\n",
    "for i in answer:\n",
    "    if ord(i) - 65 < 0:\n",
    "        num.append(i)\n",
    "    else:\n",
    "        string.append(i)\n",
    "        \n",
    "string.sort()\n",
    "\n",
    "result = \"\"\n",
    "\n",
    "for i in string:\n",
    "    result+=i\n",
    "    \n",
    "summ = 0\n",
    "for j in num:\n",
    "    summ += int(j)\n",
    "\n",
    "result+=str(summ)\n",
    "    \n",
    "print(result)\n",
    "\n",
    "# solve!"
   ]
  },
  {
   "cell_type": "code",
   "execution_count": 57,
   "id": "1e32c820",
   "metadata": {},
   "outputs": [
    {
     "name": "stdout",
     "output_type": "stream",
     "text": [
      "aaaabbcc\n",
      "1\n",
      "\n",
      "2\n",
      "\n",
      "3\n",
      "\n",
      "4\n",
      "4a\n",
      "5\n",
      "4a\n",
      "6\n",
      "4a2b\n",
      "7\n",
      "4a2b\n",
      "8\n",
      "2\n",
      "\n",
      "4\n",
      "2aa\n",
      "6\n",
      "2aabb\n",
      "8\n",
      "3\n",
      "aaa\n",
      "6\n",
      "4\n",
      "aaaa\n",
      "8\n",
      "5\n",
      "6\n",
      "7\n",
      "4\n"
     ]
    }
   ],
   "source": [
    "# Q8. String zipping\n",
    "\n",
    "st = input()\n",
    "length = len(st)\n",
    "min_len = 99999\n",
    "result = 0\n",
    "\n",
    "for i in range(1, length):\n",
    "    j = i\n",
    "    pre = st[:j]\n",
    "    zip_str = \"\"\n",
    "    cur = j\n",
    "    repeat = 1\n",
    "    while 1:\n",
    "        print(cur)\n",
    "        if cur+j > length:\n",
    "            if len(zip_str)==0:\n",
    "                zip_str += (pre + st[cur:])\n",
    "            else:\n",
    "                zip_str += st[cur:]\n",
    "            break\n",
    "        else:\n",
    "            if st[cur:cur+j] == pre:\n",
    "                repeat+=1\n",
    "                cur+=j\n",
    "            else:\n",
    "                # 반복되는 문자열이 끝났을 때\n",
    "                if repeat == 1:\n",
    "                    zip_str += pre\n",
    "                else:\n",
    "                    zip_str += (str(repeat) + pre)\n",
    "                    \n",
    "                pre = st[cur:cur+j]\n",
    "                repeat = 1\n",
    "                cur+=j\n",
    "        print(zip_str)\n",
    "    if len(zip_str) < min_len:\n",
    "        min_len = len(zip_str)\n",
    "        \n",
    "print(min_len)"
   ]
  },
  {
   "cell_type": "code",
   "execution_count": null,
   "id": "c96d1c5d",
   "metadata": {},
   "outputs": [],
   "source": []
  }
 ],
 "metadata": {
  "kernelspec": {
   "display_name": "Python 3 (ipykernel)",
   "language": "python",
   "name": "python3"
  },
  "language_info": {
   "codemirror_mode": {
    "name": "ipython",
    "version": 3
   },
   "file_extension": ".py",
   "mimetype": "text/x-python",
   "name": "python",
   "nbconvert_exporter": "python",
   "pygments_lexer": "ipython3",
   "version": "3.10.0"
  }
 },
 "nbformat": 4,
 "nbformat_minor": 5
}
