{
 "cells": [
  {
   "cell_type": "code",
   "execution_count": 2,
   "id": "50277bc3",
   "metadata": {},
   "outputs": [
    {
     "name": "stdout",
     "output_type": "stream",
     "text": [
      "5 8 3\n",
      "2 4 5 4 6\n",
      "46\n"
     ]
    }
   ],
   "source": [
    "# 큰 수의 법칙\n",
    "\n",
    "n, m, k = list(map(int, input().split()))\n",
    "\n",
    "arr = list(map(int, input().split()))\n",
    "\n",
    "# 가장 큰 수와 그것과 같거나 그것보다 작은 수 중 가장 큰 수를 구함\n",
    "\n",
    "first_idx = 0\n",
    "first = max(arr)\n",
    "\n",
    "for i in range(len(arr)):\n",
    "    if first == arr[i]:\n",
    "        first_idx = i\n",
    "        break\n",
    "        \n",
    "second = 0\n",
    "for i in range(len(arr)):\n",
    "    if i != first_idx:\n",
    "        if arr[i] >= second:\n",
    "            second = arr[i]\n",
    "    \n",
    "result = (first*k + second)*(m//(k+1)) + first*(m%(k+1))\n",
    "print(result)\n",
    "\n",
    "# solve!"
   ]
  },
  {
   "cell_type": "code",
   "execution_count": 4,
   "id": "a494c525",
   "metadata": {},
   "outputs": [
    {
     "name": "stdout",
     "output_type": "stream",
     "text": [
      "2 4\n",
      "7 3 1 8\n",
      "3 3 3 4\n",
      "3\n"
     ]
    }
   ],
   "source": [
    "# 숫자 카드 게임\n",
    "\n",
    "# map(int, input().split())과 list(map(int, input().split()))의 차이는?\n",
    "\n",
    "n, m = map(int, input().split())\n",
    "\n",
    "data = []\n",
    "\n",
    "for i in range(n):\n",
    "    data.append(list(map(int, input().split())))\n",
    "\n",
    "max_of_min = 0\n",
    "\n",
    "for i in range(n):\n",
    "    if max_of_min <= min(data[i]):\n",
    "        max_of_min = min(data[i])\n",
    "        \n",
    "print(max_of_min)\n",
    "\n",
    "# solve!"
   ]
  },
  {
   "cell_type": "code",
   "execution_count": 10,
   "id": "bb68583f",
   "metadata": {},
   "outputs": [
    {
     "name": "stdout",
     "output_type": "stream",
     "text": [
      "27 4\n",
      "7\n"
     ]
    }
   ],
   "source": [
    "# 1이 될 때까지\n",
    "\n",
    "n, k = map(int, input().split())\n",
    "count = 0\n",
    "\n",
    "while n > 1:\n",
    "    if n%k == 0:\n",
    "        count+=1\n",
    "        n//=k\n",
    "    else:\n",
    "        count+=1\n",
    "        n-=1\n",
    "    \n",
    "    if n==1:\n",
    "        break\n",
    "\n",
    "print(count)\n",
    "\n",
    "# solve!"
   ]
  },
  {
   "cell_type": "code",
   "execution_count": null,
   "id": "0a98519f",
   "metadata": {},
   "outputs": [],
   "source": []
  }
 ],
 "metadata": {
  "kernelspec": {
   "display_name": "Python 3 (ipykernel)",
   "language": "python",
   "name": "python3"
  },
  "language_info": {
   "codemirror_mode": {
    "name": "ipython",
    "version": 3
   },
   "file_extension": ".py",
   "mimetype": "text/x-python",
   "name": "python",
   "nbconvert_exporter": "python",
   "pygments_lexer": "ipython3",
   "version": "3.10.0"
  }
 },
 "nbformat": 4,
 "nbformat_minor": 5
}
