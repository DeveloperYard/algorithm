{
 "cells": [
  {
   "cell_type": "code",
   "execution_count": 1,
   "id": "73990fc2",
   "metadata": {},
   "outputs": [
    {
     "name": "stdout",
     "output_type": "stream",
     "text": [
      "3\n",
      "100 0 1\n",
      "#1 100\n",
      "200 12 10\n",
      "#2 3080\n",
      "10000 100 100\n",
      "#3 50500000\n"
     ]
    }
   ],
   "source": [
    "def sol(d, l, n):\n",
    "    ans = 0\n",
    "    for i in range(n):\n",
    "        ans += (d + d*l*i//100)\n",
    "    \n",
    "    return ans\n",
    "\n",
    "n = int(input())\n",
    "\n",
    "for i in range(1, n+1):\n",
    "    d, l, n = map(int, input().split())\n",
    "    res = sol(d, l, n)\n",
    "    print(\"#\"+str(i)+\" \"+str(res))"
   ]
  },
  {
   "cell_type": "code",
   "execution_count": null,
   "id": "9dcc2c59",
   "metadata": {},
   "outputs": [],
   "source": []
  }
 ],
 "metadata": {
  "kernelspec": {
   "display_name": "Python 3 (ipykernel)",
   "language": "python",
   "name": "python3"
  },
  "language_info": {
   "codemirror_mode": {
    "name": "ipython",
    "version": 3
   },
   "file_extension": ".py",
   "mimetype": "text/x-python",
   "name": "python",
   "nbconvert_exporter": "python",
   "pygments_lexer": "ipython3",
   "version": "3.10.0"
  }
 },
 "nbformat": 4,
 "nbformat_minor": 5
}
