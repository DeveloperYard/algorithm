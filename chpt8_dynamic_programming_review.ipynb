{
 "cells": [
  {
   "cell_type": "code",
   "execution_count": 13,
   "id": "246cfcd1",
   "metadata": {},
   "outputs": [
    {
     "name": "stdout",
     "output_type": "stream",
     "text": [
      "26\n",
      "[0, 0, 1, 1, 2, 1, 2, 3, 3, 2, 2, 3, 3, 4, 4, 2, 3, 4, 3, 4, 3, 4, 4, 5, 4, 2, 3]\n",
      "3\n"
     ]
    }
   ],
   "source": [
    "# 8-2 / 실전 문제 / 1로 만들기 written by me\n",
    "# DP -> 현재의 경우, 어떤 경우로 만들어 질 수 있는 경우인가를 분석해보기!\n",
    "\n",
    "n = int(input())\n",
    "\n",
    "array = [0]*(n+1)\n",
    "\n",
    "for i in range(2, n+1):\n",
    "    array[i] = array[i-1]+1\n",
    "    if i % 5 == 0:\n",
    "        array[i] = min(array[i], array[i//5]+1)\n",
    "    elif i % 3 == 0:\n",
    "        array[i] = min(array[i], array[i//3]+1)\n",
    "    elif i % 2 == 0:\n",
    "        array[i] = min(array[i], array[i//2]+1)\n",
    "        \n",
    "print(array)\n",
    "print(array[n])"
   ]
  },
  {
   "cell_type": "code",
   "execution_count": 12,
   "id": "393ea2b5",
   "metadata": {},
   "outputs": [
    {
     "name": "stdout",
     "output_type": "stream",
     "text": [
      "26\n",
      "3\n"
     ]
    }
   ],
   "source": [
    "# 8-2 / 실전 문제 / 1로 만들기 written by author\n",
    "\n",
    "x = int(input())\n",
    "\n",
    "d = [0]*30001\n",
    "\n",
    "for i in range(2, x+1):\n",
    "    d[i] = d[i-1]+1\n",
    "    \n",
    "    if i % 2 == 0:\n",
    "        d[i] = min(d[i], d[i//2]+1)\n",
    "    if i % 3 == 0:\n",
    "        d[i] = min(d[i], d[i//3]+1)\n",
    "    if i % 5 == 0:\n",
    "        d[i] = min(d[i], d[i//5]+1)\n",
    "\n",
    "        \n",
    "print(d[x])"
   ]
  }
 ],
 "metadata": {
  "kernelspec": {
   "display_name": "Python 3 (ipykernel)",
   "language": "python",
   "name": "python3"
  },
  "language_info": {
   "codemirror_mode": {
    "name": "ipython",
    "version": 3
   },
   "file_extension": ".py",
   "mimetype": "text/x-python",
   "name": "python",
   "nbconvert_exporter": "python",
   "pygments_lexer": "ipython3",
   "version": "3.10.0"
  }
 },
 "nbformat": 4,
 "nbformat_minor": 5
}
