{
 "cells": [
  {
   "cell_type": "code",
   "execution_count": 1,
   "id": "6cd4535d",
   "metadata": {},
   "outputs": [
    {
     "name": "stdout",
     "output_type": "stream",
     "text": [
      "생성할 원소 개수를 입력한 다음 한 칸 띄고 찾을 문자열을 입력하시오.\n",
      "5 Dongbin\n",
      "앞서 적은 원소 개수만큼 문자열을 입력하시오. 구분은 띄어쓰기 한 칸으로 합니다.\n",
      "Hanul Jonggu Dongbin Taeil Sangwook\n",
      "3\n"
     ]
    }
   ],
   "source": [
    "# 7-1. 순차 탐색 소스코드\n",
    "\n",
    "# 순차 탐색 소스코드 구현\n",
    "\n",
    "def sequential_search(n, target, array):\n",
    "    for i in range(n):\n",
    "        if array[i] == target:\n",
    "            return i+1\n",
    "        \n",
    "print(\"생성할 원소 개수를 입력한 다음 한 칸 띄고 찾을 문자열을 입력하시오.\")\n",
    "\n",
    "input_data = input().split()\n",
    "n = int(input_data[0])\n",
    "target = input_data[1]\n",
    "\n",
    "print(\"앞서 적은 원소 개수만큼 문자열을 입력하시오. 구분은 띄어쓰기 한 칸으로 합니다.\")\n",
    "array = input().split()\n",
    "\n",
    "print(sequential_search(n, target, array))\n"
   ]
  },
  {
   "cell_type": "code",
   "execution_count": 2,
   "id": "52fa8414",
   "metadata": {},
   "outputs": [
    {
     "name": "stdout",
     "output_type": "stream",
     "text": [
      "10 7\n",
      "1 3 5 7 9 11 13 15 17 19\n",
      "4\n"
     ]
    }
   ],
   "source": [
    "# 7-2. 재귀 함수로 구현한 이진 탐색 소스코드\n",
    "\n",
    "def binary_search(array, target, start, end):\n",
    "    if start > end:\n",
    "        return None\n",
    "    \n",
    "    mid = (start+end)//2 # 나머지 버림\n",
    "    \n",
    "    if array[mid] == target:\n",
    "        return mid\n",
    "    # 중간점의 값보다 찾고자 하는 값이 작은 경우 왼쪽 확인\n",
    "    elif array[mid]>target:\n",
    "        return binary_search(array, target, start, mid-1)\n",
    "    # 중간점의 값보다 찾고자 하는 값이 큰 경우 오른쪽 확인\n",
    "    else:\n",
    "        return binary_search(array, target, mid+1, end)\n",
    "\n",
    "# 원소의 개수와 target을 입력받기\n",
    "n, target = list(map(int, input().split()))\n",
    "\n",
    "# 전체 원소 입력받기\n",
    "array = list(map(int, input().split()))\n",
    "\n",
    "# 이진 탐색 수행 결과 출력\n",
    "result = binary_search(array, target, 0, n-1)\n",
    "if result == None:\n",
    "    print(\"Target isn't existed.\")\n",
    "else:\n",
    "    print(result + 1)\n"
   ]
  },
  {
   "cell_type": "code",
   "execution_count": null,
   "id": "23d68530",
   "metadata": {},
   "outputs": [],
   "source": [
    "# 7-3. 반복문으로 구현한 이진 탐색 소스코드\n",
    "\n",
    "def binary_search(array, target, start, end):\n",
    "    while start <= end:\n",
    "        mid = (start+end)//2\n",
    "        \n",
    "        if array[mid] == target:\n",
    "            return mid\n",
    "        elif array[mid]>target:\n",
    "            end = mid-1\n",
    "        else:\n",
    "            start = mid+1\n",
    "    return None\n",
    "\n",
    "n, target = list(map(int, input().split()))\n",
    "\n",
    "array = list(map(int, input().split()))\n",
    "\n",
    "result = binary_search(array, target, 0, n-1)\n",
    "if result == None:\n",
    "    print(\"Target isn't existed.\")\n",
    "else:\n",
    "    print(result + 1)"
   ]
  },
  {
   "cell_type": "code",
   "execution_count": 5,
   "id": "8ecdc2df",
   "metadata": {},
   "outputs": [
    {
     "name": "stdout",
     "output_type": "stream",
     "text": [
      "\n"
     ]
    }
   ],
   "source": [
    "# 7-4. 한 줄 입력받아 출력하는 소스코드\n",
    "\n",
    "import sys\n",
    "\n",
    "# 하나의 문자열 데이터 입력받기\n",
    "input_data = sys.stdin.readline().rstrip()\n",
    "\n",
    "print(input_data)"
   ]
  },
  {
   "cell_type": "code",
   "execution_count": 6,
   "id": "e59ee3d6",
   "metadata": {},
   "outputs": [
    {
     "name": "stdout",
     "output_type": "stream",
     "text": [
      "5\n",
      "8 3 7 9 2\n",
      "3\n",
      "5 7 9\n",
      "no yes yes "
     ]
    }
   ],
   "source": [
    "# 7-2 / 실전 문제 / 부품 찾기 written by me\n",
    "\n",
    "def binary_search(array, target, start, end):\n",
    "    if start >= end:\n",
    "        return None\n",
    "    mid = (start + end) // 2\n",
    "    if array[mid] == target:\n",
    "        return mid+1\n",
    "    elif array[mid] > target:\n",
    "        return binary_search(array, target, start, mid-1)\n",
    "    else:\n",
    "        return binary_search(array, target, mid+1, end)\n",
    "\n",
    "n = int(input())\n",
    "haveParts = list(map(int, input().split()))\n",
    "\n",
    "m = int(input())\n",
    "wantParts = list(map(int, input().split()))\n",
    "\n",
    "haveParts.sort()\n",
    "\n",
    "for i in wantParts:\n",
    "    if binary_search(haveParts, i, 0, n-1):\n",
    "        print(\"yes\", end=' ')\n",
    "    else:\n",
    "        print(\"no\", end=' ')"
   ]
  },
  {
   "cell_type": "code",
   "execution_count": null,
   "id": "5527a470",
   "metadata": {},
   "outputs": [],
   "source": [
    "# 7-5. 답안 예시 written by author\n",
    "\n",
    "def binary_search(array, target, start, end):\n",
    "    while start<=end:\n",
    "        mid = (start+end)//2\n",
    "        if array[mid] == target:\n",
    "            return mid\n",
    "        elif array[mid] > target:\n",
    "            end = mid-1\n",
    "        else:\n",
    "            start = mid+1\n",
    "    return None\n",
    "\n",
    "n = int(input())\n",
    "\n",
    "array = list(map(int, input().split()))\n",
    "\n",
    "array.sort()\n",
    "\n",
    "m = int(input())\n",
    "\n",
    "x = list(map(int, input().split()))\n",
    "\n",
    "for i in x:\n",
    "    result = binary_search(array, i, 0, n-1)\n",
    "    if result != None:\n",
    "        print('yes', end = ' ')\n",
    "    else:\n",
    "        print('no', end = ' ') \n",
    "        \n",
    "# 198p까지!, 계수 정렬 답안 예시는 작성해야 함"
   ]
  }
 ],
 "metadata": {
  "kernelspec": {
   "display_name": "Python 3 (ipykernel)",
   "language": "python",
   "name": "python3"
  },
  "language_info": {
   "codemirror_mode": {
    "name": "ipython",
    "version": 3
   },
   "file_extension": ".py",
   "mimetype": "text/x-python",
   "name": "python",
   "nbconvert_exporter": "python",
   "pygments_lexer": "ipython3",
   "version": "3.10.0"
  }
 },
 "nbformat": 4,
 "nbformat_minor": 5
}
