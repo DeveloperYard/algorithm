{
 "cells": [
  {
   "cell_type": "code",
   "execution_count": 1,
   "id": "ebed703a",
   "metadata": {},
   "outputs": [
    {
     "name": "stdout",
     "output_type": "stream",
     "text": [
      "4 4 2 1\n",
      "1 2\n",
      "1 3\n",
      "2 3\n",
      "2 4\n",
      "4\n"
     ]
    }
   ],
   "source": [
    "# Q15. 특정 거리 도시 찾기\n",
    "import heapq\n",
    "\n",
    "n, m, k, x = map(int, input().split())\n",
    "graph = [[] for _ in range(n+1)]\n",
    "INF = int(1e9)\n",
    "distance = [INF]*(n+1)\n",
    "\n",
    "for _ in range(m):\n",
    "    a, b = map(int, input().split())\n",
    "    graph[a].append((b, 1))\n",
    "    \n",
    "def dijkstra(x):\n",
    "    distance[x] = 0\n",
    "    \n",
    "    q = []\n",
    "    heapq.heappush(q, (0, x))\n",
    "    \n",
    "    while q:\n",
    "        dist, now = heapq.heappop(q)\n",
    "        if distance[now] < dist:\n",
    "            continue\n",
    "        \n",
    "        for g in graph[now]:\n",
    "            cost = distance[now]+g[1]\n",
    "            if distance[g[0]] > cost:\n",
    "                distance[g[0]] = cost\n",
    "                heapq.heappush(q, (cost, g[0]))\n",
    "        \n",
    "dijkstra(x)\n",
    "flag = 0\n",
    "\n",
    "for i in range(1, n+1):\n",
    "    if distance[i] == k:\n",
    "        flag = 1\n",
    "        print(i)\n",
    "            \n",
    "if flag == 0:\n",
    "    print(-1)\n",
    "    \n",
    "# solve"
   ]
  },
  {
   "cell_type": "code",
   "execution_count": null,
   "id": "01145037",
   "metadata": {},
   "outputs": [],
   "source": [
    "# Q16. 연구소 리뷰 필요\n",
    "\n",
    "\n",
    "\n"
   ]
  },
  {
   "cell_type": "code",
   "execution_count": 23,
   "id": "e577ce89",
   "metadata": {},
   "outputs": [
    {
     "name": "stdout",
     "output_type": "stream",
     "text": [
      "3 3\n",
      "1 0 2\n",
      "0 0 0\n",
      "3 0 0\n",
      "1 2 2\n",
      "[[1, 1, 2], [1, 0, 2], [3, 3, 0]]\n",
      "0\n"
     ]
    }
   ],
   "source": [
    "# Q17. 경쟁적 전염\n",
    "\n",
    "def dfs(graph, x, y, value, ref, visited):\n",
    "    if value == 1:\n",
    "        return\n",
    "    if x >= len(graph) or y >= len(graph) or x < 0 or y < 0:\n",
    "        return\n",
    "    if visited[x][y] == True:\n",
    "        return\n",
    "    if graph[x][y] != 0:\n",
    "        return\n",
    "    graph[x][y] = value\n",
    "    \n",
    "    \n",
    "def solution():\n",
    "    answer = 0\n",
    "    \n",
    "    return answer\n"
   ]
  },
  {
   "cell_type": "code",
   "execution_count": null,
   "id": "3a5a8a0c",
   "metadata": {},
   "outputs": [],
   "source": [
    "# Q17. 경쟁적 전염 write by author\n",
    "\n",
    "from collections import deque\n",
    "\n",
    "n, k = map(int, input().split())\n",
    "\n",
    "graph = []\n",
    "data = []\n",
    "\n",
    "for i in range(n):\n",
    "    graph.append(list(map(int, input().split())))\n",
    "    for j in range(n):\n",
    "        # 해당 위치에 바이러스가 존재하는 경우\n",
    "        if graph[i][j] != 0:\n",
    "            # (바이러스 종류, 시간, 위치 X, 위치 Y 삽입)\n",
    "            data.append((graph[i][j], i, j))\n",
    "# 정렬 이후에 큐로 옮기기, 낮은 번호의 바이러스가 먼저 증식하므로\n",
    "data.sort()\n",
    "q = deque(data)\n",
    "\n",
    "target_s, target_x, target_y = map(int, input().split())\n",
    "\n",
    "dx = [-1, 0, 1, 0]\n",
    "dy = [0, 1, 0, -1]\n",
    "\n",
    "while q:\n",
    "    virus, s, x, y = q.popleft()\n",
    "    \n",
    "    if s == target_s:\n",
    "        break\n",
    "    for i in range(4):\n",
    "        nx = x + dx[i]\n",
    "        ny = y + dy[i]\n",
    "        \n",
    "        if 0 <= nx and 0 <= ny and nx < n and ny < n:\n",
    "            if graph[nx][ny] == 0:\n",
    "                graph[nx][ny] = virus\n",
    "                q.append((virus, s+1, nx, ny))\n",
    "\n",
    "print(graph[target_x-1][target_y-1])"
   ]
  },
  {
   "cell_type": "code",
   "execution_count": null,
   "id": "dffd3a3b",
   "metadata": {},
   "outputs": [],
   "source": [
    "# Q18. 괄호 변환"
   ]
  }
 ],
 "metadata": {
  "kernelspec": {
   "display_name": "Python 3 (ipykernel)",
   "language": "python",
   "name": "python3"
  },
  "language_info": {
   "codemirror_mode": {
    "name": "ipython",
    "version": 3
   },
   "file_extension": ".py",
   "mimetype": "text/x-python",
   "name": "python",
   "nbconvert_exporter": "python",
   "pygments_lexer": "ipython3",
   "version": "3.10.0"
  }
 },
 "nbformat": 4,
 "nbformat_minor": 5
}
