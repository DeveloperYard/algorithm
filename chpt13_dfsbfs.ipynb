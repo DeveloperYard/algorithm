{
 "cells": [
  {
   "cell_type": "code",
   "execution_count": 11,
   "id": "ebed703a",
   "metadata": {},
   "outputs": [
    {
     "name": "stdout",
     "output_type": "stream",
     "text": [
      "4 4 1 1\n",
      "1 2\n",
      "1 3\n",
      "2 3\n",
      "2 4\n",
      "2\n",
      "3\n"
     ]
    }
   ],
   "source": [
    "# Q15. 특정 거리 도시 찾기\n",
    "import heapq\n",
    "\n",
    "n, m, k, x = map(int, input().split())\n",
    "graph = [[] for _ in range(n+1)]\n",
    "INF = int(1e9)\n",
    "distance = [INF]*(n+1)\n",
    "\n",
    "for _ in range(m):\n",
    "    a, b = map(int, input().split())\n",
    "    graph[a].append((b, 1))\n",
    "    \n",
    "def dijkstra(x):\n",
    "    distance[x] = 0\n",
    "    \n",
    "    q = []\n",
    "    heapq.heappush(q, (0, x))\n",
    "    \n",
    "    while q:\n",
    "        dist, now = heapq.heappop(q)\n",
    "        if distance[now] < dist:\n",
    "            continue\n",
    "        \n",
    "        for g in graph[now]:\n",
    "            cost = distance[now]+g[1]\n",
    "            if distance[g[0]] > cost:\n",
    "                distance[g[0]] = cost\n",
    "                heapq.heappush(q, (cost, g[0]))\n",
    "        \n",
    "dijkstra(x)\n",
    "flag = 0\n",
    "\n",
    "for i in range(1, n+1):\n",
    "    if distance[i] == k:\n",
    "        flag = 1\n",
    "        print(i)\n",
    "            \n",
    "if flag == 0:\n",
    "    print(-1)"
   ]
  },
  {
   "cell_type": "code",
   "execution_count": null,
   "id": "01145037",
   "metadata": {},
   "outputs": [],
   "source": [
    "# Q16. 연구소 리뷰 필요"
   ]
  },
  {
   "cell_type": "code",
   "execution_count": 20,
   "id": "e577ce89",
   "metadata": {},
   "outputs": [
    {
     "name": "stdout",
     "output_type": "stream",
     "text": [
      "3 3\n",
      "1 0 2\n",
      "0 0 0\n",
      "3 0 0\n",
      "2 3 2\n",
      "[[0, 0, 0], [0, 0, 0], [0, 0, 0]]\n",
      "[[1, 0, 2], [0, 0, 0], [3, 0, 0]]\n",
      "0\n"
     ]
    }
   ],
   "source": [
    "# Q17. 경쟁적 전염 리뷰 필요\n",
    "\n",
    "n, k = map(int, input().split())\n",
    "\n",
    "# def dfs(arr, x, y, value):\n",
    "#     global n\n",
    "#     if x >= n or y >= n or x < 0 or y < 0:\n",
    "#         return\n",
    "#     if arr[x][y] != 0:\n",
    "#         return\n",
    "#     arr[x][y] = value\n",
    "#     dfs(arr, x-1, y, value)\n",
    "#     dfs(arr, x+1, y, value)\n",
    "#     dfs(arr, x, y-1, value)\n",
    "#     dfs(arr, x, y+1, value)\n",
    "\n",
    "graph = [[] for _ in range(n)]\n",
    "for i in range(n):\n",
    "    lis = list(map(int, input().split()))\n",
    "    graph[i] = lis\n",
    "    \n",
    "s, rx, ry = map(int, input().split())\n",
    "visited = [[0]*n for _ in range(n)]\n",
    "\n",
    "def insertValue(graph, x, y, value, s):\n",
    "    if x >= n or y >= n or x < 0 or y < 0:\n",
    "        return\n",
    "    if graph[x][y] != 0:\n",
    "        return\n",
    "    if visited[x][y] != s:\n",
    "        return\n",
    "    else:\n",
    "        visited[x][y] = s+1\n",
    "        graph[x][y] = value\n",
    "\n",
    "def solution(graph, s, rx, ry):\n",
    "    for i in range(s):\n",
    "        for j in range(1, k+1):\n",
    "            for x in range(n):\n",
    "                for y in range(n):\n",
    "                    if graph[x][y] == j and visited[x][y] == s:\n",
    "                        insertValue(graph, x-1, y, j, s)\n",
    "                        insertValue(graph, x, y-1, j, s)\n",
    "                        insertValue(graph, x+1, y, j, s)\n",
    "                        insertValue(graph, x, y+1, j, s)\n",
    "    print(visited)\n",
    "    print(graph)\n",
    "    return graph[rx-1][ry-1]\n",
    "\n",
    "\n",
    "print(solution(graph, s, rx, ry))"
   ]
  },
  {
   "cell_type": "code",
   "execution_count": null,
   "id": "dffd3a3b",
   "metadata": {},
   "outputs": [],
   "source": []
  }
 ],
 "metadata": {
  "kernelspec": {
   "display_name": "Python 3 (ipykernel)",
   "language": "python",
   "name": "python3"
  },
  "language_info": {
   "codemirror_mode": {
    "name": "ipython",
    "version": 3
   },
   "file_extension": ".py",
   "mimetype": "text/x-python",
   "name": "python",
   "nbconvert_exporter": "python",
   "pygments_lexer": "ipython3",
   "version": "3.10.0"
  }
 },
 "nbformat": 4,
 "nbformat_minor": 5
}
