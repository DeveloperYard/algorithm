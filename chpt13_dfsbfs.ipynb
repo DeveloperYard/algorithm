{
 "cells": [
  {
   "cell_type": "code",
   "execution_count": 1,
   "id": "ebed703a",
   "metadata": {},
   "outputs": [
    {
     "name": "stdout",
     "output_type": "stream",
     "text": [
      "4 4 2 1\n",
      "1 2\n",
      "1 3\n",
      "2 3\n",
      "2 4\n",
      "4\n"
     ]
    }
   ],
   "source": [
    "# Q15. 특정 거리 도시 찾기\n",
    "import heapq\n",
    "\n",
    "n, m, k, x = map(int, input().split())\n",
    "graph = [[] for _ in range(n+1)]\n",
    "INF = int(1e9)\n",
    "distance = [INF]*(n+1)\n",
    "\n",
    "for _ in range(m):\n",
    "    a, b = map(int, input().split())\n",
    "    graph[a].append((b, 1))\n",
    "    \n",
    "def dijkstra(x):\n",
    "    distance[x] = 0\n",
    "    \n",
    "    q = []\n",
    "    heapq.heappush(q, (0, x))\n",
    "    \n",
    "    while q:\n",
    "        dist, now = heapq.heappop(q)\n",
    "        if distance[now] < dist:\n",
    "            continue\n",
    "        \n",
    "        for g in graph[now]:\n",
    "            cost = distance[now]+g[1]\n",
    "            if distance[g[0]] > cost:\n",
    "                distance[g[0]] = cost\n",
    "                heapq.heappush(q, (cost, g[0]))\n",
    "        \n",
    "dijkstra(x)\n",
    "flag = 0\n",
    "\n",
    "for i in range(1, n+1):\n",
    "    if distance[i] == k:\n",
    "        flag = 1\n",
    "        print(i)\n",
    "            \n",
    "if flag == 0:\n",
    "    print(-1)\n",
    "    \n",
    "# solve"
   ]
  },
  {
   "cell_type": "code",
   "execution_count": null,
   "id": "01145037",
   "metadata": {},
   "outputs": [],
   "source": [
    "# Q16. 연구소 리뷰 필요\n",
    "\n",
    "\n",
    "\n"
   ]
  },
  {
   "cell_type": "code",
   "execution_count": 6,
   "id": "e577ce89",
   "metadata": {},
   "outputs": [
    {
     "name": "stdout",
     "output_type": "stream",
     "text": [
      "3 3\n",
      "1 0 2\n",
      "0 0 0\n",
      "3 0 0\n",
      "2 3 2\n"
     ]
    },
    {
     "ename": "AttributeError",
     "evalue": "'collections.deque' object has no attribute 'sort'",
     "output_type": "error",
     "traceback": [
      "\u001b[0;31m---------------------------------------------------------------------------\u001b[0m",
      "\u001b[0;31mAttributeError\u001b[0m                            Traceback (most recent call last)",
      "\u001b[0;32m/var/folders/kn/gg6frwt12s7gcf_n79d00hy80000gn/T/ipykernel_6482/2820509973.py\u001b[0m in \u001b[0;36m<module>\u001b[0;34m\u001b[0m\n\u001b[1;32m     17\u001b[0m \u001b[0ms\u001b[0m\u001b[0;34m,\u001b[0m \u001b[0mtarget_x\u001b[0m\u001b[0;34m,\u001b[0m \u001b[0mtarget_y\u001b[0m \u001b[0;34m=\u001b[0m \u001b[0mmap\u001b[0m\u001b[0;34m(\u001b[0m\u001b[0mint\u001b[0m\u001b[0;34m,\u001b[0m \u001b[0minput\u001b[0m\u001b[0;34m(\u001b[0m\u001b[0;34m)\u001b[0m\u001b[0;34m.\u001b[0m\u001b[0msplit\u001b[0m\u001b[0;34m(\u001b[0m\u001b[0;34m)\u001b[0m\u001b[0;34m)\u001b[0m\u001b[0;34m\u001b[0m\u001b[0;34m\u001b[0m\u001b[0m\n\u001b[1;32m     18\u001b[0m \u001b[0;34m\u001b[0m\u001b[0m\n\u001b[0;32m---> 19\u001b[0;31m \u001b[0mq\u001b[0m\u001b[0;34m.\u001b[0m\u001b[0msort\u001b[0m\u001b[0;34m(\u001b[0m\u001b[0;34m)\u001b[0m\u001b[0;34m\u001b[0m\u001b[0;34m\u001b[0m\u001b[0m\n\u001b[0m\u001b[1;32m     20\u001b[0m \u001b[0;34m\u001b[0m\u001b[0m\n\u001b[1;32m     21\u001b[0m \u001b[0mstep\u001b[0m \u001b[0;34m=\u001b[0m \u001b[0;34m[\u001b[0m\u001b[0;34m(\u001b[0m\u001b[0;34m-\u001b[0m\u001b[0;36m1\u001b[0m\u001b[0;34m,\u001b[0m \u001b[0;36m0\u001b[0m\u001b[0;34m)\u001b[0m\u001b[0;34m,\u001b[0m \u001b[0;34m(\u001b[0m\u001b[0;36m1\u001b[0m\u001b[0;34m,\u001b[0m \u001b[0;36m0\u001b[0m\u001b[0;34m)\u001b[0m\u001b[0;34m,\u001b[0m \u001b[0;34m(\u001b[0m\u001b[0;36m0\u001b[0m\u001b[0;34m,\u001b[0m \u001b[0;34m-\u001b[0m\u001b[0;36m1\u001b[0m\u001b[0;34m)\u001b[0m\u001b[0;34m,\u001b[0m \u001b[0;34m(\u001b[0m\u001b[0;36m0\u001b[0m\u001b[0;34m,\u001b[0m \u001b[0;36m1\u001b[0m\u001b[0;34m)\u001b[0m\u001b[0;34m]\u001b[0m\u001b[0;34m\u001b[0m\u001b[0;34m\u001b[0m\u001b[0m\n",
      "\u001b[0;31mAttributeError\u001b[0m: 'collections.deque' object has no attribute 'sort'"
     ]
    }
   ],
   "source": [
    "# Q17. 경쟁적 전염\n",
    "\n",
    "\n"
   ]
  },
  {
   "cell_type": "code",
   "execution_count": 8,
   "id": "b54a99cc",
   "metadata": {},
   "outputs": [
    {
     "name": "stdout",
     "output_type": "stream",
     "text": [
      "3 3\n",
      "1 0 2\n",
      "0 0 0\n",
      "3 0 0\n",
      "2 3 2\n",
      "3\n"
     ]
    }
   ],
   "source": [
    "### Q17. 경쟁적 전염 write by author\n",
    "\n",
    "from collections import deque\n",
    "\n",
    "n, k = map(int, input().split())\n",
    "\n",
    "graph = []\n",
    "data = []\n",
    "\n",
    "for i in range(n):\n",
    "    graph.append(list(map(int, input().split())))\n",
    "    for j in range(n):\n",
    "        # 해당 위치에 바이러스가 존재하는 경우\n",
    "        if graph[i][j] != 0:\n",
    "            # (바이러스 종류, 시간, 위치 X, 위치 Y 삽입)\n",
    "            data.append((graph[i][j], 0, i, j))\n",
    "\n",
    "data.sort()\n",
    "q = deque(data)\n",
    "\n",
    "target_s, target_x, target_y = map(int, input().split())\n",
    "\n",
    "dx = [-1, 0, 1, 0]\n",
    "dy = [0, 1, 0, -1]\n",
    "\n",
    "while q:\n",
    "    virus, s, x, y = q.popleft()\n",
    "    \n",
    "    if s == target_s:\n",
    "        break\n",
    "    for i in range(4):\n",
    "        nx = x + dx[i]\n",
    "        ny = y + dy[i]\n",
    "        \n",
    "        if 0 <= nx and 0 <= ny and nx < n and ny < n:\n",
    "            if graph[nx][ny] == 0:\n",
    "                graph[nx][ny] = virus\n",
    "                q.append((virus, s+1, nx, ny))\n",
    "\n",
    "print(graph[target_x-1][target_y-1])"
   ]
  },
  {
   "cell_type": "code",
   "execution_count": 12,
   "id": "dffd3a3b",
   "metadata": {},
   "outputs": [
    {
     "name": "stdout",
     "output_type": "stream",
     "text": [
      "()))((()\n",
      "()()()\n"
     ]
    }
   ],
   "source": [
    "# Q18. 괄호 변환\n",
    "        \n",
    "    \n",
    "def balanced_check(p):\n",
    "    count = 0\n",
    "    for i in range(len(p)):\n",
    "        if p[i] == '(':\n",
    "            count+=1\n",
    "            \n",
    "        else:\n",
    "            count-=1\n",
    "            \n",
    "        if count == 0:\n",
    "            return i\n",
    "\n",
    "def right_check(p):\n",
    "    count = 0\n",
    "    for s in p:\n",
    "        if s == '(':\n",
    "            count+=1\n",
    "        else:\n",
    "            count-=1\n",
    "            \n",
    "        if count < 0:\n",
    "            return False\n",
    "        \n",
    "    return True\n",
    "\n",
    "def solution(w):\n",
    "    answer = \"\"\n",
    "    if right_check(p):\n",
    "        return p\n",
    "    \n",
    "    if w == \"\":\n",
    "        return \"\"\n",
    "    idx = balanced_check(w)\n",
    "    u = w[:idx+1]\n",
    "    v = w[idx+1:]\n",
    "    \n",
    "    if right_check(u):\n",
    "        answer += u\n",
    "        answer += solution(v)\n",
    "    else:\n",
    "        data = \"\"\n",
    "        data += '('\n",
    "        v = solution(v)\n",
    "        data += ')'\n",
    "        u = u[1:-1]\n",
    "        for i in u:\n",
    "            if i == '(':\n",
    "                data += ')'\n",
    "            else:\n",
    "                data += '('\n",
    "                \n",
    "        \n",
    "        return data\n",
    "    return answer\n",
    "\n",
    "string = input()\n",
    "print(solution(string))"
   ]
  },
  {
   "cell_type": "code",
   "execution_count": null,
   "id": "577b1dc5",
   "metadata": {},
   "outputs": [],
   "source": []
  }
 ],
 "metadata": {
  "kernelspec": {
   "display_name": "Python 3 (ipykernel)",
   "language": "python",
   "name": "python3"
  },
  "language_info": {
   "codemirror_mode": {
    "name": "ipython",
    "version": 3
   },
   "file_extension": ".py",
   "mimetype": "text/x-python",
   "name": "python",
   "nbconvert_exporter": "python",
   "pygments_lexer": "ipython3",
   "version": "3.10.0"
  }
 },
 "nbformat": 4,
 "nbformat_minor": 5
}
