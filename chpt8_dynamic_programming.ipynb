{
 "cells": [
  {
   "cell_type": "code",
   "execution_count": 4,
   "id": "93504925",
   "metadata": {},
   "outputs": [
    {
     "name": "stdout",
     "output_type": "stream",
     "text": [
      "3\n"
     ]
    }
   ],
   "source": [
    "# 8-1. fibonacci by recursive function\n",
    "\n",
    "def fibo(x):\n",
    "    if x==1 or x == 2:\n",
    "        return 1\n",
    "    else:\n",
    "        return fibo(x-1)+fibo(x-2)\n",
    "    \n",
    "    \n",
    "print(fibo(4))"
   ]
  },
  {
   "cell_type": "code",
   "execution_count": 8,
   "id": "f7fe8865",
   "metadata": {},
   "outputs": [
    {
     "name": "stdout",
     "output_type": "stream",
     "text": [
      "218922995834555169026\n"
     ]
    }
   ],
   "source": [
    "# 8-2. fibonacci by recursive function and memoization\n",
    "\n",
    "# 한 번 계산된 결과를 메모이제이션하기 위한 리스트 초기화\n",
    "\n",
    "d = [0]*100\n",
    "\n",
    "# 피보나치 함수를 재귀함수로 구현(탑다운 동적 계획법)\n",
    "def fibo(x):\n",
    "    if x==1 or x==2:\n",
    "        return 1\n",
    "    if d[x]!=0:\n",
    "        return d[x]\n",
    "    \n",
    "    d[x] = fibo(x-2)+fibo(x-1)\n",
    "    return d[x]\n",
    "\n",
    "        \n",
    "print(fibo(99))"
   ]
  },
  {
   "cell_type": "code",
   "execution_count": 9,
   "id": "db6da76e",
   "metadata": {},
   "outputs": [
    {
     "name": "stdout",
     "output_type": "stream",
     "text": [
      "f(6) f(4) f(2) f(3) f(1) f(2) f(5) f(3) f(4) "
     ]
    },
    {
     "data": {
      "text/plain": [
       "8"
      ]
     },
     "execution_count": 9,
     "metadata": {},
     "output_type": "execute_result"
    }
   ],
   "source": [
    "# 8-3. 호출되는 함수 확인, implement with top down method\n",
    "\n",
    "d = [0]*100\n",
    "\n",
    "def pibo(x):\n",
    "    print('f(' + str(x) + ')', end=' ')\n",
    "    if x == 1 or x == 2:\n",
    "        return 1\n",
    "    if d[x] != 0:\n",
    "        return d[x]\n",
    "    \n",
    "    d[x] = pibo(x-2)+pibo(x-1)\n",
    "    return d[x]\n",
    "\n",
    "pibo(6)\n"
   ]
  },
  {
   "cell_type": "code",
   "execution_count": 14,
   "id": "8ac7d14d",
   "metadata": {},
   "outputs": [
    {
     "name": "stdout",
     "output_type": "stream",
     "text": [
      "218922995834555169026\n"
     ]
    }
   ],
   "source": [
    "# 8-4. 피보나치 수열 소스 코드, implement with bottom up\n",
    "\n",
    "d = [0]*100\n",
    "\n",
    "d[1] = 1\n",
    "d[2] = 1\n",
    "n = 99\n",
    "\n",
    "for i in range(3, n+1):\n",
    "    d[i] = d[i-1]+d[i-2]\n",
    "    \n",
    "print(d[n])"
   ]
  },
  {
   "cell_type": "code",
   "execution_count": 19,
   "id": "384b7b66",
   "metadata": {},
   "outputs": [
    {
     "name": "stdout",
     "output_type": "stream",
     "text": [
      "26\n",
      "6382\n"
     ]
    }
   ],
   "source": [
    "# 8-2 / 1로 만들기 / 실전 문제 / written by me\n",
    "\n",
    "x = int(input())\n",
    "count = 0\n",
    "\n",
    "def minOper(x):\n",
    "    if x < 1: return 1\n",
    "    return minOper(x//5)+minOper(x//3)+minOper(x//2)+minOper(x-1)\n",
    "    \n",
    "count = minOper(x)\n",
    "print(count)\n",
    "\n",
    "# fail.. 다이나믹 프로그래밍 원리 생각하면서 다시 한 번 풀어보기!!!\n"
   ]
  },
  {
   "cell_type": "code",
   "execution_count": 25,
   "id": "012b4d0d",
   "metadata": {},
   "outputs": [
    {
     "name": "stdout",
     "output_type": "stream",
     "text": [
      "26\n",
      "3\n"
     ]
    }
   ],
   "source": [
    "# 8-2 / 1로 만들기 / 실전 문제 / written by author\n",
    "\n",
    "x = int(input())\n",
    "\n",
    "d = [0]*30001\n",
    "\n",
    "# 다이나믹 프로그래밍 진행 (바텀 업)\n",
    "for i in range(2, x+1):\n",
    "    # 현재의 수에서 1을 빼는 경우\n",
    "    d[i] = d[i-1]+1\n",
    "    # 현재의 수가 2로 나눠지는 경우\n",
    "    if i%2 == 0:\n",
    "        d[i] = min(d[i], d[i//2]+1)\n",
    "    # 현재의 수가 3으로 나눠지는 경우\n",
    "    if i%3 == 0:\n",
    "        d[i] = min(d[i], d[i//3]+1)\n",
    "    # 현재의 수가 5로 나눠지는 경우\n",
    "    if i%5 == 0:\n",
    "        d[i] = min(d[i], d[i//5]+1)\n",
    "        \n",
    "print(d[x])\n",
    "        "
   ]
  },
  {
   "cell_type": "code",
   "execution_count": null,
   "id": "0ea31345",
   "metadata": {},
   "outputs": [],
   "source": []
  }
 ],
 "metadata": {
  "kernelspec": {
   "display_name": "Python 3 (ipykernel)",
   "language": "python",
   "name": "python3"
  },
  "language_info": {
   "codemirror_mode": {
    "name": "ipython",
    "version": 3
   },
   "file_extension": ".py",
   "mimetype": "text/x-python",
   "name": "python",
   "nbconvert_exporter": "python",
   "pygments_lexer": "ipython3",
   "version": "3.10.0"
  }
 },
 "nbformat": 4,
 "nbformat_minor": 5
}
