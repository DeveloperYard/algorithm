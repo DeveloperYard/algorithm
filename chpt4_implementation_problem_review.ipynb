{
 "cells": [
  {
   "cell_type": "code",
   "execution_count": 3,
   "id": "695b1549",
   "metadata": {},
   "outputs": [
    {
     "name": "stdout",
     "output_type": "stream",
     "text": [
      "5\n",
      "R R R U D D\n",
      "3 4\n"
     ]
    }
   ],
   "source": [
    "# 예제 4-1, 상하좌우\n",
    "\n",
    "n = int(input())\n",
    "\n",
    "plans = list(input().split())\n",
    "\n",
    "# 순서대로 L, R, U, D 구현\n",
    "\n",
    "dx = [0, 0, -1, 1]\n",
    "dy = [-1, 1, 0, 0]\n",
    "\n",
    "x, y = 0, 0\n",
    "\n",
    "# 딕셔너리 형태로 만들면 조금 더 간결하게 구현할 수 있지 않을까?\n",
    "# 그것보다 아래와 같이 구현하면 더 간결!\n",
    "\n",
    "move_type = ['L', 'R', 'U', 'D']\n",
    "\n",
    "# move_type[i] == dx[i] dy[i]\n",
    "for plan in plans:\n",
    "    if plan == 'L':\n",
    "        nx = x + dx[0]\n",
    "        ny = y + dy[0]\n",
    "    elif plan == 'R':\n",
    "        nx = x + dx[1]\n",
    "        ny = y + dy[1]\n",
    "    elif plan == 'U':\n",
    "        nx = x + dx[2]\n",
    "        ny = y + dy[2]\n",
    "    else:\n",
    "        nx = x + dx[3]\n",
    "        ny = y + dy[3]\n",
    "    \n",
    "    if nx < 0 or ny < 0 or nx >= n or ny >= n:\n",
    "        continue\n",
    "    else:\n",
    "        x = nx\n",
    "        y = ny\n",
    "\n",
    "print(x+1, y+1)\n",
    "\n",
    "# solve!"
   ]
  },
  {
   "cell_type": "code",
   "execution_count": 7,
   "id": "c57b4743",
   "metadata": {},
   "outputs": [
    {
     "name": "stdout",
     "output_type": "stream",
     "text": [
      "5\n",
      "11475\n"
     ]
    }
   ],
   "source": [
    "# 예제 4-2, 시각\n",
    "\n",
    "n = int(input())\n",
    "count = 0\n",
    "\n",
    "for i in range(n+1):\n",
    "    for j in range(60):\n",
    "        for k in range(60):\n",
    "            if '3' in str(i)+str(j)+str(k):\n",
    "                count += 1\n",
    "\n",
    "print(count)\n",
    "\n",
    "# in 조건을 사용하여 해결!\n",
    "\n",
    "# solve!"
   ]
  },
  {
   "cell_type": "code",
   "execution_count": 13,
   "id": "b1fc5c93",
   "metadata": {},
   "outputs": [
    {
     "name": "stdout",
     "output_type": "stream",
     "text": [
      "a1\n",
      "1 2\n",
      "2 1\n",
      "2\n"
     ]
    }
   ],
   "source": [
    "# 4-2, 실전 문제 / 왕실의 나이트\n",
    "\n",
    "coord = input()\n",
    "x = ord(coord[0])-97\n",
    "y = int(coord[1])-1\n",
    "count = 0\n",
    "\n",
    "dx = [-2, -2, -1, 1, 2, 2, 1, -1]\n",
    "dy = [-1, 1, 2, 2, 1, -1, -2, -2]\n",
    "\n",
    "for i in range(8):\n",
    "    nx = x + dx[i]\n",
    "    ny = y + dy[i]\n",
    "    if nx < 0 or ny < 0 or nx >= 8 or ny >= 8:\n",
    "        continue\n",
    "    else:\n",
    "        count+=1\n",
    "        \n",
    "print(count)\n",
    "\n",
    "# solve!\n"
   ]
  },
  {
   "cell_type": "code",
   "execution_count": 21,
   "id": "03fd237f",
   "metadata": {},
   "outputs": [
    {
     "name": "stdout",
     "output_type": "stream",
     "text": [
      "4 4\n",
      "1 1 0\n",
      "1 1 1 1\n",
      "1 0 0 1\n",
      "1 1 0 1\n",
      "1 1 1 1\n",
      "1 2\n"
     ]
    },
    {
     "ename": "KeyboardInterrupt",
     "evalue": "",
     "output_type": "error",
     "traceback": [
      "\u001b[0;31m---------------------------------------------------------------------------\u001b[0m",
      "\u001b[0;31mKeyboardInterrupt\u001b[0m                         Traceback (most recent call last)",
      "\u001b[0;32m/var/folders/kn/gg6frwt12s7gcf_n79d00hy80000gn/T/ipykernel_875/2436812016.py\u001b[0m in \u001b[0;36m<module>\u001b[0;34m\u001b[0m\n\u001b[1;32m     37\u001b[0m \u001b[0;34m\u001b[0m\u001b[0m\n\u001b[1;32m     38\u001b[0m     \u001b[0;31m# 바다가 아니고, 가보지 않은 칸이라면 전진, 안가봤으면 회전만 수행\u001b[0m\u001b[0;34m\u001b[0m\u001b[0;34m\u001b[0m\u001b[0m\n\u001b[0;32m---> 39\u001b[0;31m     \u001b[0;32mif\u001b[0m \u001b[0mmaps\u001b[0m\u001b[0;34m[\u001b[0m\u001b[0mnx\u001b[0m\u001b[0;34m]\u001b[0m\u001b[0;34m[\u001b[0m\u001b[0mny\u001b[0m\u001b[0;34m]\u001b[0m\u001b[0;34m==\u001b[0m\u001b[0;36m0\u001b[0m \u001b[0;32mand\u001b[0m \u001b[0mvisited\u001b[0m\u001b[0;34m[\u001b[0m\u001b[0mnx\u001b[0m\u001b[0;34m]\u001b[0m\u001b[0;34m[\u001b[0m\u001b[0mny\u001b[0m\u001b[0;34m]\u001b[0m\u001b[0;34m==\u001b[0m\u001b[0;36m0\u001b[0m\u001b[0;34m:\u001b[0m\u001b[0;34m\u001b[0m\u001b[0;34m\u001b[0m\u001b[0m\n\u001b[0m\u001b[1;32m     40\u001b[0m         \u001b[0mx\u001b[0m \u001b[0;34m=\u001b[0m \u001b[0mnx\u001b[0m\u001b[0;34m\u001b[0m\u001b[0;34m\u001b[0m\u001b[0m\n\u001b[1;32m     41\u001b[0m         \u001b[0my\u001b[0m \u001b[0;34m=\u001b[0m \u001b[0mny\u001b[0m\u001b[0;34m\u001b[0m\u001b[0;34m\u001b[0m\u001b[0m\n",
      "\u001b[0;31mKeyboardInterrupt\u001b[0m: "
     ]
    }
   ],
   "source": [
    "# 4-3, 실전 문제 / 게임 개발\n",
    "\n",
    "n, m = map(int, input().split())\n",
    "\n",
    "x, y, direction = map(int, input().split())\n",
    "\n",
    "maps = []\n",
    "\n",
    "for i in range(n):\n",
    "    maps.append(list(map(int, input().split())))\n",
    "\n",
    "visited = [[0]*m]*n\n",
    "# 방문 했는지 검사할 행렬\n",
    "\n",
    "# 북, 서, 남, 동 순\n",
    "dx = [-1, 0, 1, 0]\n",
    "dy = [0, -1, 0, 1]\n",
    "\n",
    "d = [0, 3, 2, 1]\n",
    "def turn_left(direction):\n",
    "    direction -= 1\n",
    "    if direction < 0:\n",
    "        direction = 3\n",
    "    return direction\n",
    "\n",
    "turn_count = 0\n",
    "visited[x][y] = 1\n",
    "result = 0\n",
    "\n",
    "while True:\n",
    "\n",
    "    direction = turn_left(direction)\n",
    "    turn_count+=1\n",
    "    \n",
    "    nx = x + dx[direction]\n",
    "    ny = y + dy[direction]\n",
    "    \n",
    "    # 바다가 아니고, 가보지 않은 칸이라면 전진, 안가봤으면 회전만 수행\n",
    "    if maps[nx][ny]==0 and visited[nx][ny]==0:\n",
    "        x = nx\n",
    "        y = ny\n",
    "        print(x, y)\n",
    "        visited[x][y] = 1\n",
    "        turn_count = 0\n",
    "        result+=1\n",
    "    # 바다거나, 이미 가본 칸이라면 1단계로!\n",
    "#     elif maps[nx][ny]==1 or visited[nx][ny]==1:\n",
    "#         turn_count += 1\n",
    "    # 네 방향 전부 체크했는데 갈 수 있는 곳이 없다면 돌지 않고 뒤로 가되, 그 뒤가 바다라면 break!\n",
    "    if turn_count == 4:\n",
    "        pre_x = x - dx[direction]\n",
    "        pre_y = y - dy[direction]\n",
    "        \n",
    "        if maps[pre_x][pre_y] == 1:\n",
    "            break\n",
    "        else:\n",
    "            x = pre_x\n",
    "            y = pre_y\n",
    "    \n",
    "print(visited)\n",
    "print(result)\n",
    "\n",
    "# 아직 해결 못함!!"
   ]
  },
  {
   "cell_type": "markdown",
   "id": "281fda00",
   "metadata": {},
   "source": [
    "# "
   ]
  }
 ],
 "metadata": {
  "kernelspec": {
   "display_name": "Python 3 (ipykernel)",
   "language": "python",
   "name": "python3"
  },
  "language_info": {
   "codemirror_mode": {
    "name": "ipython",
    "version": 3
   },
   "file_extension": ".py",
   "mimetype": "text/x-python",
   "name": "python",
   "nbconvert_exporter": "python",
   "pygments_lexer": "ipython3",
   "version": "3.10.0"
  }
 },
 "nbformat": 4,
 "nbformat_minor": 5
}
