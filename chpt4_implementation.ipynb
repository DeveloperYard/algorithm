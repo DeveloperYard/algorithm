{
 "cells": [
  {
   "cell_type": "code",
   "execution_count": 5,
   "id": "f0578af3",
   "metadata": {},
   "outputs": [
    {
     "name": "stdout",
     "output_type": "stream",
     "text": [
      "5\n",
      "R R R U D D\n",
      "3 4\n"
     ]
    }
   ],
   "source": [
    "# 4-1 상하좌우\n",
    "\n",
    "n = int(input())\n",
    "plan = list(map(str, input().split()))\n",
    "\n",
    "travel = [[0]*n]*n\n",
    "\n",
    "cur_coord = [0]*2\n",
    "for a in plan:\n",
    "    if a == 'L':\n",
    "        if cur_coord[1] != 0:\n",
    "            cur_coord[1]-=1\n",
    "    elif a == 'R':\n",
    "        if cur_coord[1] != n-1:\n",
    "            cur_coord[1]+=1\n",
    "    elif a == 'U':\n",
    "        if cur_coord[0] != 0:\n",
    "            cur_coord[0]-=1\n",
    "    elif a == 'D':\n",
    "        if cur_coord[0] != n-1:\n",
    "            cur_coord[0]+=1\n",
    "    else: print('this isn''t correct!!')\n",
    "\n",
    "print(cur_coord[0]+1, cur_coord[1]+1)"
   ]
  },
  {
   "cell_type": "code",
   "execution_count": 7,
   "id": "a515a54f",
   "metadata": {},
   "outputs": [
    {
     "name": "stdout",
     "output_type": "stream",
     "text": [
      "5\n",
      "R R R U D D\n",
      "3 4\n"
     ]
    }
   ],
   "source": [
    "# 답안 예시\n",
    "\n",
    "# N을 입력받기\n",
    "\n",
    "n = int(input())\n",
    "x, y = 1, 1\n",
    "plans = input().split() # 이런 식으로 문자열 받을 수 있음! 어차피 input()은 문자열로 받기 때문에\n",
    "\n",
    "# L, R, U, D\n",
    "dx = [0, 0, -1, 1]\n",
    "dy = [-1, 1, 0, 0]\n",
    "\n",
    "# 이렇게 좌표로서 표현될 수 있도록 하기!!\n",
    "nx, ny = 0, 0\n",
    "move_types = ['L', 'R', 'U', 'D']\n",
    "\n",
    "for plan in plans:\n",
    "    for i in range(len(move_types)):\n",
    "        if move_types[i] == plan:\n",
    "            nx = x + dx[i]\n",
    "            ny = y + dy[i]\n",
    "    \n",
    "        # 공간을 벗어나는 경우 무시\n",
    "        if nx < 1 or ny < 1 or nx > n or ny > n:\n",
    "            continue\n",
    "        x, y = nx, ny\n",
    "\n",
    "print(x, y)"
   ]
  },
  {
   "cell_type": "code",
   "execution_count": 15,
   "id": "81250d65",
   "metadata": {},
   "outputs": [
    {
     "name": "stdout",
     "output_type": "stream",
     "text": [
      "5\n",
      "1575\n",
      "3150\n",
      "4725\n",
      "8325\n",
      "9900\n",
      "11475\n",
      "11475\n"
     ]
    }
   ],
   "source": [
    "# 4-2 시각\n",
    "\n",
    "n = int(input())\n",
    "# 3이 들어가는 지는 n%10 == 3 인지를 검사!  \n",
    "result = 0\n",
    "for i in range(n+1):\n",
    "    if i%10 == 3:\n",
    "        result += 3600\n",
    "    else:\n",
    "        result += 15*60\n",
    "        result += 45*15\n",
    "    print(result)\n",
    "\n",
    "print(result)"
   ]
  },
  {
   "cell_type": "code",
   "execution_count": 16,
   "id": "c2dc037e",
   "metadata": {},
   "outputs": [
    {
     "name": "stdout",
     "output_type": "stream",
     "text": [
      "5\n",
      "11475\n"
     ]
    }
   ],
   "source": [
    "# 답안 예시\n",
    "\n",
    "h = int(input())\n",
    "\n",
    "count = 0\n",
    "for i in range(h+1):\n",
    "    for j in range(60):\n",
    "        for k in range(60):\n",
    "            if '3' in str(i)+str(j)+str(k):\n",
    "                count+=1\n",
    "\n",
    "print(count)"
   ]
  },
  {
   "cell_type": "code",
   "execution_count": 20,
   "id": "46cf314c",
   "metadata": {},
   "outputs": [
    {
     "name": "stdout",
     "output_type": "stream",
     "text": [
      "97\n"
     ]
    }
   ],
   "source": [
    "print(ord('a'))"
   ]
  },
  {
   "cell_type": "code",
   "execution_count": 29,
   "id": "c31e0043",
   "metadata": {},
   "outputs": [
    {
     "name": "stdout",
     "output_type": "stream",
     "text": [
      "e4\n",
      "8\n"
     ]
    }
   ],
   "source": [
    "# 4.2 왕실의 나이트\n",
    "knight_coord = input()\n",
    "\n",
    "dx = [-1, 1, -2, -2, -1, 1, 2, 2]\n",
    "dy = [-2, -2, -1, 1, 2, 2, 1, -1]\n",
    "\n",
    "result = 0\n",
    "\n",
    "x = ord(knight_coord[0])-97\n",
    "y = int(knight_coord[1])-1\n",
    "nx, ny = 0, 0\n",
    "\n",
    "\n",
    "for i in range(len(dx)):\n",
    "    nx = x+dx[i]\n",
    "    ny = y+dy[i]\n",
    "    if nx > 7 or ny > 7 or nx < 0 or ny < 0:\n",
    "        continue\n",
    "    \n",
    "    result+=1\n",
    "\n",
    "print(result)"
   ]
  },
  {
   "cell_type": "code",
   "execution_count": 27,
   "id": "8d8d6547",
   "metadata": {},
   "outputs": [
    {
     "name": "stdout",
     "output_type": "stream",
     "text": [
      "a1\n",
      "a 1\n"
     ]
    }
   ],
   "source": [
    "knight_coord = input()\n",
    "print(knight_coord[0], knight_coord[1])"
   ]
  },
  {
   "cell_type": "code",
   "execution_count": 31,
   "id": "5905d31b",
   "metadata": {},
   "outputs": [
    {
     "name": "stdout",
     "output_type": "stream",
     "text": [
      "a1\n",
      "2\n"
     ]
    }
   ],
   "source": [
    "# 답안 예시\n",
    "# 현재 나이트의 위치 입력받기\n",
    "input_data = input()\n",
    "row = int(input_data[1])\n",
    "column = int(ord(input_data[0]))-int(ord('a'))+1\n",
    "\n",
    "# 나이트가 이동할 수 있는 8가지 방향 정의\n",
    "steps = [(-2, -1), (-1, -2), (1, -2), (2, -1), (2, 1), (1, 2), (-1, 2), (-2, 1)]\n",
    "\n",
    "# 8가지 방향에 대하여 각 위치로 이동이 가능한지 확인\n",
    "\n",
    "result = 0\n",
    "for step in steps:\n",
    "    next_row = row+step[0]\n",
    "    next_column = column+step[1]\n",
    "    \n",
    "    #해당 위치로 이동이 가능하다면 카운트 추가\n",
    "    if next_row >= 1 and next_row <= 8 and next_column >= 1 and next_column <= 8:\n",
    "        result+=1\n",
    "\n",
    "print(result)"
   ]
  },
  {
   "cell_type": "code",
   "execution_count": 1,
   "id": "e611a27d",
   "metadata": {},
   "outputs": [
    {
     "ename": "IndentationError",
     "evalue": "expected an indented block after 'while' statement on line 18 (3011453910.py, line 21)",
     "output_type": "error",
     "traceback": [
      "\u001b[0;36m  File \u001b[0;32m\"/var/folders/kn/gg6frwt12s7gcf_n79d00hy80000gn/T/ipykernel_2807/3011453910.py\"\u001b[0;36m, line \u001b[0;32m21\u001b[0m\n\u001b[0;31m    \u001b[0m\n\u001b[0m    ^\u001b[0m\n\u001b[0;31mIndentationError\u001b[0m\u001b[0;31m:\u001b[0m expected an indented block after 'while' statement on line 18\n"
     ]
    }
   ],
   "source": [
    "# 4-3 / 게임 개발, 재 구현 해보기\n",
    "\n",
    "n, m = map(int, input().split())\n",
    "a, b, d = map(int, input().split())\n",
    "\n",
    "direction = [0, 1, 2, 3] # 북, 동, 남, 서 순\n",
    "\n",
    "alrArr = ([0]*2) # 이미 가본 곳을 체크하기 위해서! 만약 가본 곳이라면 여기에 추가\n",
    "\n",
    "mapList = [[0]*n]*m\n",
    "\n",
    "for i in range(n):\n",
    "    mapList[i] = list(map(int, input().split()))\n",
    "\n",
    "mapList.append([a,b])\n",
    "curDir = d\n",
    "\n",
    "while True:\n",
    "\n",
    "\n",
    "    \n"
   ]
  },
  {
   "cell_type": "code",
   "execution_count": null,
   "id": "30ec90bc",
   "metadata": {},
   "outputs": [],
   "source": [
    "# 4-3 답안 예시\n",
    "\n",
    "n, m = map(int, input().split())\n",
    "\n",
    "d = [[0]*m for _ in range(n)]\n",
    "# 방문한 위치를 저장하기 위한 맵을 생성하여 0으로 초기화\n",
    "\n",
    "x, y, direction = map(int, input().split())\n",
    "d[x][y] = 1 # 현재 좌표 방문 처리\n",
    "\n",
    "# 전체 map 정보 입력받기\n",
    "array = []\n",
    "for i in range(n):\n",
    "    array.append(list(map(int, input().split())))\n",
    "    \n",
    "# 북, 동, 남, 서 방향 정의\n",
    "dx = [-1, 0, 1, 0]\n",
    "dy = [0, 1, 0, -1]\n",
    "\n",
    "# 왼쪽으로 회전, 글로벌 함수로 정의\n",
    "\n",
    "\n",
    "def turn_left():\n",
    "    global direction\n",
    "    direction -= 1\n",
    "    if direction == -1:\n",
    "        direction = 3\n",
    "\n",
    "# 시뮬레이션 시작\n",
    "\n",
    "count = 1\n",
    "turn_time = 0\n",
    "while True:\n",
    "    turn_left()\n",
    "    nx = x+dx[direction]\n",
    "    ny = y+dy[direction]\n",
    "    \n",
    "    # 회전 이후 정면에 가보지 않은 칸이 존재하는 경우 이동\n",
    "    if d[nx][ny] == 0 and array[nx][ny] == 0:\n",
    "        d[nx][ny] = 1\n",
    "        x = nx\n",
    "        y = ny\n",
    "        count+=1\n",
    "        turn_time = 0\n",
    "        continue\n",
    "    # 회전한 이후 정면에 가보지 않은 칸이 없거나 바다인 경우\n",
    "    else:\n",
    "        turn_time+=1\n",
    "        \n",
    "    #네 방향 모두 갈 수 없는 경우\n",
    "    if turn_time == 4:\n",
    "        nx = x-dx[direction]\n",
    "        ny = y-dy[direction]\n",
    "        # 뒤로 갈 수 있는 경우 이동하기\n",
    "        if array[nx][ny] == 0:\n",
    "            x = nx\n",
    "            y = ny\n",
    "            \n",
    "        else:\n",
    "            break\n",
    "        turn_time = 0\n",
    "        \n",
    "print(count)\n",
    "        "
   ]
  }
 ],
 "metadata": {
  "kernelspec": {
   "display_name": "Python 3 (ipykernel)",
   "language": "python",
   "name": "python3"
  },
  "language_info": {
   "codemirror_mode": {
    "name": "ipython",
    "version": 3
   },
   "file_extension": ".py",
   "mimetype": "text/x-python",
   "name": "python",
   "nbconvert_exporter": "python",
   "pygments_lexer": "ipython3",
   "version": "3.10.0"
  }
 },
 "nbformat": 4,
 "nbformat_minor": 5
}
