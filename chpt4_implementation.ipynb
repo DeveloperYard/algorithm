{
 "cells": [
  {
   "cell_type": "code",
   "execution_count": 5,
   "id": "f0578af3",
   "metadata": {},
   "outputs": [
    {
     "name": "stdout",
     "output_type": "stream",
     "text": [
      "5\n",
      "R R R U D D\n",
      "3 4\n"
     ]
    }
   ],
   "source": [
    "# 4-1 상하좌우\n",
    "\n",
    "n = int(input())\n",
    "plan = list(map(str, input().split()))\n",
    "\n",
    "travel = [[0]*n]*n\n",
    "\n",
    "cur_coord = [0]*2\n",
    "for a in plan:\n",
    "    if a == 'L':\n",
    "        if cur_coord[1] != 0:\n",
    "            cur_coord[1]-=1\n",
    "    elif a == 'R':\n",
    "        if cur_coord[1] != n-1:\n",
    "            cur_coord[1]+=1\n",
    "    elif a == 'U':\n",
    "        if cur_coord[0] != 0:\n",
    "            cur_coord[0]-=1\n",
    "    elif a == 'D':\n",
    "        if cur_coord[0] != n-1:\n",
    "            cur_coord[0]+=1\n",
    "    else: print('this isn''t correct!!')\n",
    "\n",
    "print(cur_coord[0]+1, cur_coord[1]+1)"
   ]
  },
  {
   "cell_type": "code",
   "execution_count": 7,
   "id": "a515a54f",
   "metadata": {},
   "outputs": [
    {
     "name": "stdout",
     "output_type": "stream",
     "text": [
      "5\n",
      "R R R U D D\n",
      "3 4\n"
     ]
    }
   ],
   "source": [
    "# 답안 예시\n",
    "\n",
    "# N을 입력받기\n",
    "\n",
    "n = int(input())\n",
    "x, y = 1, 1\n",
    "plans = input().split() # 이런 식으로 문자열 받을 수 있음! 어차피 input()은 문자열로 받기 때문에\n",
    "\n",
    "# L, R, U, D\n",
    "dx = [0, 0, -1, 1]\n",
    "dy = [-1, 1, 0, 0]\n",
    "\n",
    "# 이렇게 좌표로서 표현될 수 있도록 하기!!\n",
    "nx, ny = 0, 0\n",
    "move_types = ['L', 'R', 'U', 'D']\n",
    "\n",
    "for plan in plans:\n",
    "    for i in range(len(move_types)):\n",
    "        if move_types[i] == plan:\n",
    "            nx = x + dx[i]\n",
    "            ny = y + dy[i]\n",
    "    \n",
    "        # 공간을 벗어나는 경우 무시\n",
    "        if nx < 1 or ny < 1 or nx > n or ny > n:\n",
    "            continue\n",
    "        x, y = nx, ny\n",
    "\n",
    "print(x, y)"
   ]
  },
  {
   "cell_type": "code",
   "execution_count": 15,
   "id": "81250d65",
   "metadata": {},
   "outputs": [
    {
     "name": "stdout",
     "output_type": "stream",
     "text": [
      "5\n",
      "1575\n",
      "3150\n",
      "4725\n",
      "8325\n",
      "9900\n",
      "11475\n",
      "11475\n"
     ]
    }
   ],
   "source": [
    "# 4-2 시각\n",
    "\n",
    "n = int(input())\n",
    "# 3이 들어가는 지는 n%10 == 3 인지를 검사!  \n",
    "result = 0\n",
    "for i in range(n+1):\n",
    "    if i%10 == 3:\n",
    "        result += 3600\n",
    "    else:\n",
    "        result += 15*60\n",
    "        result += 45*15\n",
    "    print(result)\n",
    "\n",
    "print(result)"
   ]
  },
  {
   "cell_type": "code",
   "execution_count": 16,
   "id": "c2dc037e",
   "metadata": {},
   "outputs": [
    {
     "name": "stdout",
     "output_type": "stream",
     "text": [
      "5\n",
      "11475\n"
     ]
    }
   ],
   "source": [
    "# 답안 예시\n",
    "\n",
    "h = int(input())\n",
    "\n",
    "count = 0\n",
    "for i in range(h+1):\n",
    "    for j in range(60):\n",
    "        for k in range(60):\n",
    "            if '3' in str(i)+str(j)+str(k):\n",
    "                count+=1\n",
    "\n",
    "print(count)"
   ]
  },
  {
   "cell_type": "code",
   "execution_count": 20,
   "id": "46cf314c",
   "metadata": {},
   "outputs": [
    {
     "name": "stdout",
     "output_type": "stream",
     "text": [
      "97\n"
     ]
    }
   ],
   "source": [
    "print(ord('a'))"
   ]
  },
  {
   "cell_type": "code",
   "execution_count": 29,
   "id": "c31e0043",
   "metadata": {},
   "outputs": [
    {
     "name": "stdout",
     "output_type": "stream",
     "text": [
      "e4\n",
      "8\n"
     ]
    }
   ],
   "source": [
    "# 4.2 왕실의 나이트\n",
    "knight_coord = input()\n",
    "\n",
    "dx = [-1, 1, -2, -2, -1, 1, 2, 2]\n",
    "dy = [-2, -2, -1, 1, 2, 2, 1, -1]\n",
    "\n",
    "result = 0\n",
    "\n",
    "x = ord(knight_coord[0])-97\n",
    "y = int(knight_coord[1])-1\n",
    "nx, ny = 0, 0\n",
    "\n",
    "\n",
    "for i in range(len(dx)):\n",
    "    nx = x+dx[i]\n",
    "    ny = y+dy[i]\n",
    "    if nx > 7 or ny > 7 or nx < 0 or ny < 0:\n",
    "        continue\n",
    "    \n",
    "    result+=1\n",
    "\n",
    "print(result)"
   ]
  },
  {
   "cell_type": "code",
   "execution_count": 27,
   "id": "8d8d6547",
   "metadata": {},
   "outputs": [
    {
     "name": "stdout",
     "output_type": "stream",
     "text": [
      "a1\n",
      "a 1\n"
     ]
    }
   ],
   "source": [
    "knight_coord = input()\n",
    "print(knight_coord[0], knight_coord[1])"
   ]
  },
  {
   "cell_type": "code",
   "execution_count": 31,
   "id": "5905d31b",
   "metadata": {},
   "outputs": [
    {
     "name": "stdout",
     "output_type": "stream",
     "text": [
      "a1\n",
      "2\n"
     ]
    }
   ],
   "source": [
    "# 답안 예시\n",
    "# 현재 나이트의 위치 입력받기\n",
    "input_data = input()\n",
    "row = int(input_data[1])\n",
    "column = int(ord(input_data[0]))-int(ord('a'))+1\n",
    "\n",
    "# 나이트가 이동할 수 있는 8가지 방향 정의\n",
    "steps = [(-2, -1), (-1, -2), (1, -2), (2, -1), (2, 1), (1, 2), (-1, 2), (-2, 1)]\n",
    "\n",
    "# 8가지 방향에 대하여 각 위치로 이동이 가능한지 확인\n",
    "\n",
    "result = 0\n",
    "for step in steps:\n",
    "    next_row = row+step[0]\n",
    "    next_column = column+step[1]\n",
    "    \n",
    "    #해당 위치로 이동이 가능하다면 카운트 추가\n",
    "    if next_row >= 1 and next_row <= 8 and next_column >= 1 and next_column <= 8:\n",
    "        result+=1\n",
    "\n",
    "print(result)"
   ]
  },
  {
   "cell_type": "code",
   "execution_count": null,
   "id": "e611a27d",
   "metadata": {},
   "outputs": [],
   "source": []
  }
 ],
 "metadata": {
  "kernelspec": {
   "display_name": "Python 3 (ipykernel)",
   "language": "python",
   "name": "python3"
  },
  "language_info": {
   "codemirror_mode": {
    "name": "ipython",
    "version": 3
   },
   "file_extension": ".py",
   "mimetype": "text/x-python",
   "name": "python",
   "nbconvert_exporter": "python",
   "pygments_lexer": "ipython3",
   "version": "3.10.0"
  }
 },
 "nbformat": 4,
 "nbformat_minor": 5
}
