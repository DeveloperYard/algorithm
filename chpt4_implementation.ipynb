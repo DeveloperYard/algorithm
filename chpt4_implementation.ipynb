{
 "cells": [
  {
   "cell_type": "code",
   "execution_count": 5,
   "id": "f0578af3",
   "metadata": {},
   "outputs": [
    {
     "name": "stdout",
     "output_type": "stream",
     "text": [
      "5\n",
      "R R R U D D\n",
      "3 4\n"
     ]
    }
   ],
   "source": [
    "# 4-1 상하좌우\n",
    "\n",
    "n = int(input())\n",
    "plan = list(map(str, input().split()))\n",
    "\n",
    "travel = [[0]*n]*n\n",
    "\n",
    "cur_coord = [0]*2\n",
    "for a in plan:\n",
    "    if a == 'L':\n",
    "        if cur_coord[1] != 0:\n",
    "            cur_coord[1]-=1\n",
    "    elif a == 'R':\n",
    "        if cur_coord[1] != n-1:\n",
    "            cur_coord[1]+=1\n",
    "    elif a == 'U':\n",
    "        if cur_coord[0] != 0:\n",
    "            cur_coord[0]-=1\n",
    "    elif a == 'D':\n",
    "        if cur_coord[0] != n-1:\n",
    "            cur_coord[0]+=1\n",
    "    else: print('this isn''t correct!!')\n",
    "\n",
    "print(cur_coord[0]+1, cur_coord[1]+1)"
   ]
  },
  {
   "cell_type": "code",
   "execution_count": 7,
   "id": "a515a54f",
   "metadata": {},
   "outputs": [
    {
     "name": "stdout",
     "output_type": "stream",
     "text": [
      "5\n",
      "R R R U D D\n",
      "3 4\n"
     ]
    }
   ],
   "source": [
    "# 답안 예시\n",
    "\n",
    "# N을 입력받기\n",
    "\n",
    "n = int(input())\n",
    "x, y = 1, 1\n",
    "plans = input().split() # 이런 식으로 문자열 받을 수 있음! 어차피 input()은 문자열로 받기 때문에\n",
    "\n",
    "# L, R, U, D\n",
    "dx = [0, 0, -1, 1]\n",
    "dy = [-1, 1, 0, 0]\n",
    "\n",
    "# 이렇게 좌표로서 표현될 수 있도록 하기!!\n",
    "nx, ny = 0, 0\n",
    "move_types = ['L', 'R', 'U', 'D']\n",
    "\n",
    "for plan in plans:\n",
    "    for i in range(len(move_types)):\n",
    "        if move_types[i] == plan:\n",
    "            nx = x + dx[i]\n",
    "            ny = y + dy[i]\n",
    "    \n",
    "        # 공간을 벗어나는 경우 무시\n",
    "        if nx < 1 or ny < 1 or nx > n or ny > n:\n",
    "            continue\n",
    "        x, y = nx, ny\n",
    "\n",
    "print(x, y)"
   ]
  },
  {
   "cell_type": "code",
   "execution_count": 15,
   "id": "81250d65",
   "metadata": {},
   "outputs": [
    {
     "name": "stdout",
     "output_type": "stream",
     "text": [
      "5\n",
      "1575\n",
      "3150\n",
      "4725\n",
      "8325\n",
      "9900\n",
      "11475\n",
      "11475\n"
     ]
    }
   ],
   "source": [
    "# 4-2 시각\n",
    "\n",
    "n = int(input())\n",
    "# 3이 들어가는 지는 n%10 == 3 인지를 검사!  \n",
    "result = 0\n",
    "for i in range(n+1):\n",
    "    if i%10 == 3:\n",
    "        result += 3600\n",
    "    else:\n",
    "        result += 15*60\n",
    "        result += 45*15\n",
    "    print(result)\n",
    "\n",
    "print(result)"
   ]
  },
  {
   "cell_type": "code",
   "execution_count": 16,
   "id": "c2dc037e",
   "metadata": {},
   "outputs": [
    {
     "name": "stdout",
     "output_type": "stream",
     "text": [
      "5\n",
      "11475\n"
     ]
    }
   ],
   "source": [
    "# 답안 예시\n",
    "\n",
    "h = int(input())\n",
    "\n",
    "count = 0\n",
    "for i in range(h+1):\n",
    "    for j in range(60):\n",
    "        for k in range(60):\n",
    "            if '3' in str(i)+str(j)+str(k):\n",
    "                count+=1\n",
    "\n",
    "print(count)"
   ]
  },
  {
   "cell_type": "code",
   "execution_count": 20,
   "id": "46cf314c",
   "metadata": {},
   "outputs": [
    {
     "name": "stdout",
     "output_type": "stream",
     "text": [
      "97\n"
     ]
    }
   ],
   "source": [
    "print(ord('a'))"
   ]
  },
  {
   "cell_type": "code",
   "execution_count": 29,
   "id": "c31e0043",
   "metadata": {},
   "outputs": [
    {
     "name": "stdout",
     "output_type": "stream",
     "text": [
      "e4\n",
      "8\n"
     ]
    }
   ],
   "source": [
    "# 4.2 왕실의 나이트\n",
    "knight_coord = input()\n",
    "\n",
    "dx = [-1, 1, -2, -2, -1, 1, 2, 2]\n",
    "dy = [-2, -2, -1, 1, 2, 2, 1, -1]\n",
    "\n",
    "result = 0\n",
    "\n",
    "x = ord(knight_coord[0])-97\n",
    "y = int(knight_coord[1])-1\n",
    "nx, ny = 0, 0\n",
    "\n",
    "\n",
    "for i in range(len(dx)):\n",
    "    nx = x+dx[i]\n",
    "    ny = y+dy[i]\n",
    "    if nx > 7 or ny > 7 or nx < 0 or ny < 0:\n",
    "        continue\n",
    "    \n",
    "    result+=1\n",
    "\n",
    "print(result)"
   ]
  },
  {
   "cell_type": "code",
   "execution_count": 27,
   "id": "8d8d6547",
   "metadata": {},
   "outputs": [
    {
     "name": "stdout",
     "output_type": "stream",
     "text": [
      "a1\n",
      "a 1\n"
     ]
    }
   ],
   "source": [
    "knight_coord = input()\n",
    "print(knight_coord[0], knight_coord[1])"
   ]
  },
  {
   "cell_type": "code",
   "execution_count": 31,
   "id": "5905d31b",
   "metadata": {},
   "outputs": [
    {
     "name": "stdout",
     "output_type": "stream",
     "text": [
      "a1\n",
      "2\n"
     ]
    }
   ],
   "source": [
    "# 답안 예시\n",
    "# 현재 나이트의 위치 입력받기\n",
    "input_data = input()\n",
    "row = int(input_data[1])\n",
    "column = int(ord(input_data[0]))-int(ord('a'))+1\n",
    "\n",
    "# 나이트가 이동할 수 있는 8가지 방향 정의\n",
    "steps = [(-2, -1), (-1, -2), (1, -2), (2, -1), (2, 1), (1, 2), (-1, 2), (-2, 1)]\n",
    "\n",
    "# 8가지 방향에 대하여 각 위치로 이동이 가능한지 확인\n",
    "\n",
    "result = 0\n",
    "for step in steps:\n",
    "    next_row = row+step[0]\n",
    "    next_column = column+step[1]\n",
    "    \n",
    "    #해당 위치로 이동이 가능하다면 카운트 추가\n",
    "    if next_row >= 1 and next_row <= 8 and next_column >= 1 and next_column <= 8:\n",
    "        result+=1\n",
    "\n",
    "print(result)"
   ]
  },
  {
   "cell_type": "code",
   "execution_count": 18,
   "id": "e611a27d",
   "metadata": {},
   "outputs": [
    {
     "name": "stdout",
     "output_type": "stream",
     "text": [
      "4 4\n",
      "1 1 0\n",
      "1 1 1 1\n",
      "1 0 0 1\n",
      "1 1 0 1\n",
      "1 1 1 1\n",
      "3\n",
      "[0, 0, 0, 0]\n",
      "[0, 1, 1, 0]\n",
      "[0, 0, 1, 0]\n",
      "[0, 0, 0, 0]\n"
     ]
    }
   ],
   "source": [
    "# 4-3 / 게임 개발, 재 구현 해보기\n",
    "\n",
    "n, m = map(int, input().split())\n",
    "x, y, direction = map(int, input().split()) # 현재 위치와 어디를 보고 있을 것인지\n",
    "\n",
    "alrArr = [[0]*m for _ in range(n)] # 가본 곳을 저장할 맵\n",
    "\n",
    "alrArr[x][y] = 1\n",
    "\n",
    "# 북동남서 이동할 배열!\n",
    "\n",
    "dx = [-1, 0, 1, 0]\n",
    "dy = [0, 1, 0, -1]\n",
    "\n",
    "def turn_left():\n",
    "    global direction\n",
    "    direction -= 1\n",
    "    if direction < 0:\n",
    "        direction = 3\n",
    "\n",
    "result = 1\n",
    "\n",
    "mapList = [0]*m\n",
    "for i in range(n):\n",
    "    mapList[i] = list(map(int, input().split()))\n",
    "\n",
    "turn_count = 0 # 네 방향을 모두 가봤는지 체크하기 위한 변수\n",
    "\n",
    "while True:\n",
    "    # 캐릭터의 왼쪽 방향으로 아직 가보지 않은 칸이 존재하면 왼쪽 방향으로 회전한 다음 왼쪽으로 한 칸을 전진.\n",
    "    # 만약 왼쪽 방향에 가보지 않은 칸이 없다면, 왼쪽 방향으로 회전만 수행하고 1단계로 돌아감\n",
    "    turn_left()\n",
    "    nx = x + dx[direction]\n",
    "    ny = y + dy[direction]\n",
    "    turn_count+=1        \n",
    "    \n",
    "    if alrArr[nx][ny] == 1 and mapList[nx][ny] == 1:\n",
    "        continue\n",
    "    \n",
    "    elif alrArr[nx][ny] == 0 and mapList[nx][ny] == 0:\n",
    "        x = nx\n",
    "        y = ny\n",
    "        turn_count = 0\n",
    "        result += 1\n",
    "        alrArr[x][y] = 1\n",
    "        \n",
    "    # 만약 네 방향 모두 가본 칸이거나 바다로 되어있는 칸인 경우 바라보는 방향을 유지한 채로 한 칸 뒤로가고 1단계로 돌아감\n",
    "    if turn_count == 4:\n",
    "        # 단, 이 뒤쪽 방향이 바다인 칸이라 뒤로 갈 수 없는 경우엔 움직임을 멈춘 후 루프를 빠져나옴\n",
    "        if mapList[dx[(direction+2)%4]][dy[(direction+2)%4]] == 1:\n",
    "            break\n",
    "        else:\n",
    "            direction += 2\n",
    "            direction %= 4\n",
    "            x += dx[direction]\n",
    "            y += dy[direction]\n",
    "\n",
    "            \n",
    "print(result)\n",
    "for i in range(n):\n",
    "    print(alrArr[i])\n",
    "\n",
    "    \n",
    "\n"
   ]
  },
  {
   "cell_type": "code",
   "execution_count": null,
   "id": "30ec90bc",
   "metadata": {},
   "outputs": [],
   "source": [
    "# 4-3 답안 예시\n",
    "\n",
    "n, m = map(int, input().split())\n",
    "\n",
    "d = [[0]*m for _ in range(n)]\n",
    "# 방문한 위치를 저장하기 위한 맵을 생성하여 0으로 초기화\n",
    "\n",
    "x, y, direction = map(int, input().split())\n",
    "d[x][y] = 1 # 현재 좌표 방문 처리\n",
    "\n",
    "# 전체 map 정보 입력받기\n",
    "array = []\n",
    "for i in range(n):\n",
    "    array.append(list(map(int, input().split())))\n",
    "    \n",
    "# 북, 동, 남, 서 방향 정의\n",
    "dx = [-1, 0, 1, 0]\n",
    "dy = [0, 1, 0, -1]\n",
    "\n",
    "# 왼쪽으로 회전, 글로벌 함수로 정의\n",
    "\n",
    "\n",
    "def turn_left():\n",
    "    global direction\n",
    "    direction -= 1\n",
    "    if direction == -1:\n",
    "        direction = 3\n",
    "\n",
    "# 시뮬레이션 시작\n",
    "\n",
    "count = 1\n",
    "turn_time = 0\n",
    "while True:\n",
    "    turn_left()\n",
    "    nx = x+dx[direction]\n",
    "    ny = y+dy[direction]\n",
    "    \n",
    "    # 회전 이후 정면에 가보지 않은 칸이 존재하는 경우 이동\n",
    "    if d[nx][ny] == 0 and array[nx][ny] == 0:\n",
    "        d[nx][ny] = 1\n",
    "        x = nx\n",
    "        y = ny\n",
    "        count+=1\n",
    "        turn_time = 0\n",
    "        continue\n",
    "    # 회전한 이후 정면에 가보지 않은 칸이 없거나 바다인 경우\n",
    "    else:\n",
    "        turn_time+=1\n",
    "        \n",
    "    #네 방향 모두 갈 수 없는 경우\n",
    "    if turn_time == 4:\n",
    "        nx = x-dx[direction]\n",
    "        ny = y-dy[direction]\n",
    "        # 뒤로 갈 수 있는 경우 이동하기\n",
    "        if array[nx][ny] == 0:\n",
    "            x = nx\n",
    "            y = ny\n",
    "            \n",
    "        else:\n",
    "            break\n",
    "        turn_time = 0\n",
    "        \n",
    "print(count)\n",
    "        "
   ]
  },
  {
   "cell_type": "code",
   "execution_count": null,
   "id": "c1af428a",
   "metadata": {},
   "outputs": [],
   "source": []
  }
 ],
 "metadata": {
  "kernelspec": {
   "display_name": "Python 3 (ipykernel)",
   "language": "python",
   "name": "python3"
  },
  "language_info": {
   "codemirror_mode": {
    "name": "ipython",
    "version": 3
   },
   "file_extension": ".py",
   "mimetype": "text/x-python",
   "name": "python",
   "nbconvert_exporter": "python",
   "pygments_lexer": "ipython3",
   "version": "3.10.0"
  }
 },
 "nbformat": 4,
 "nbformat_minor": 5
}
