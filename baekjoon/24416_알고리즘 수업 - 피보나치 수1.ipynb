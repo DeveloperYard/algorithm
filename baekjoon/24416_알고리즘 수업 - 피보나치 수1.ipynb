{
 "cells": [
  {
   "cell_type": "code",
   "execution_count": 6,
   "id": "58a11a29",
   "metadata": {},
   "outputs": [
    {
     "name": "stdout",
     "output_type": "stream",
     "text": [
      "5 3\n"
     ]
    }
   ],
   "source": [
    "cntOne = 0\n",
    "cntTwo = 0\n",
    "\n",
    "def fibOne(n):\n",
    "    global cntOne\n",
    "    if n == 1 or n == 2: # code 1\n",
    "        cntOne+=1\n",
    "        return 1\n",
    "    else:\n",
    "        return fibOne(n-1)+fibOne(n-2)\n",
    "\n",
    "\n",
    "    \n",
    "arr = [0]*41\n",
    "\n",
    "def fibTwo(n):\n",
    "    global cntTwo\n",
    "    \n",
    "    arr[1] = 1\n",
    "    arr[2] = 1\n",
    "    for i in range(3, n+1): # code 2\n",
    "        cntTwo+=1\n",
    "        arr[i] = arr[i-1]+arr[i-2]\n",
    "\n",
    "n = int(input())\n",
    "fibOne(n)\n",
    "fibTwo(n)\n",
    "\n",
    "print(str(cntOne) + \" \" + str(cntTwo))\n",
    "\n",
    "\n",
    "# -- solve! 조금 더 신경써서 읽을 것. 코드 1과 코드 2의 실행 횟수만 구해야 하는데 코드 1을 아예 함수의 실행횟수로 알고 있었음"
   ]
  }
 ],
 "metadata": {
  "kernelspec": {
   "display_name": "Python 3 (ipykernel)",
   "language": "python",
   "name": "python3"
  },
  "language_info": {
   "codemirror_mode": {
    "name": "ipython",
    "version": 3
   },
   "file_extension": ".py",
   "mimetype": "text/x-python",
   "name": "python",
   "nbconvert_exporter": "python",
   "pygments_lexer": "ipython3",
   "version": "3.10.0"
  }
 },
 "nbformat": 4,
 "nbformat_minor": 5
}
