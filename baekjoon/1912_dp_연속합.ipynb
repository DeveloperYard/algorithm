{
 "cells": [
  {
   "cell_type": "code",
   "execution_count": 3,
   "id": "d4fc2f17",
   "metadata": {},
   "outputs": [
    {
     "name": "stdout",
     "output_type": "stream",
     "text": [
      "10\n",
      "2 1 -4 3 4 -4 6 5 -5 1\n",
      "14\n"
     ]
    }
   ],
   "source": [
    "n = int(input())\n",
    "\n",
    "d = [0]*n\n",
    "\n",
    "arr = list(map(int, input().split()))\n",
    "\n",
    "d[0] = arr[0]\n",
    "\n",
    "for i in range(1, len(arr)):\n",
    "    d[i] = max(arr[i], arr[i]+d[i-1])\n",
    "    \n",
    "print(max(d))"
   ]
  },
  {
   "cell_type": "code",
   "execution_count": null,
   "id": "d5134fc2",
   "metadata": {},
   "outputs": [],
   "source": [
    "10\n",
    "10 -4 3 1 5 6 -35 12 21 -1\n",
    "10\n",
    "2 1 -4 3 4 -4 6 5 -5 1"
   ]
  }
 ],
 "metadata": {
  "kernelspec": {
   "display_name": "Python 3 (ipykernel)",
   "language": "python",
   "name": "python3"
  },
  "language_info": {
   "codemirror_mode": {
    "name": "ipython",
    "version": 3
   },
   "file_extension": ".py",
   "mimetype": "text/x-python",
   "name": "python",
   "nbconvert_exporter": "python",
   "pygments_lexer": "ipython3",
   "version": "3.10.0"
  }
 },
 "nbformat": 4,
 "nbformat_minor": 5
}
