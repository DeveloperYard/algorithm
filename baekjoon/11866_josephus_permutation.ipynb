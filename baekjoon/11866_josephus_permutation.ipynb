{
 "cells": [
  {
   "cell_type": "code",
   "execution_count": 24,
   "id": "0cedd70d",
   "metadata": {},
   "outputs": [
    {
     "name": "stdout",
     "output_type": "stream",
     "text": [
      "7 3\n",
      "deque([1, 2, 3, 4, 5, 6, 7])\n",
      "deque([3, 4, 5, 6, 7, 1, 2])\n",
      "<3, 6, 2, 7, 5, 1, 4>\n"
     ]
    }
   ],
   "source": [
    "from collections import deque\n",
    "n, k = map(int, input().split())\n",
    "\n",
    "queue = deque()\n",
    "\n",
    "for i in range(1, n+1):\n",
    "    queue.append(i)\n",
    "\n",
    "cur = k\n",
    "joList = []\n",
    "queue.rotate(-k+1)\n",
    "for i in range(n):\n",
    "    joList.append(queue[0])\n",
    "    queue.popleft()\n",
    "    queue.rotate(-k+1)\n",
    "\n",
    "\n",
    "print('<', end='')\n",
    "for i in range(n):\n",
    "    if i < n-1:\n",
    "        print(joList[i], end=', ')\n",
    "    else:\n",
    "        print(joList[i], end='')\n",
    "print('>')"
   ]
  },
  {
   "cell_type": "code",
   "execution_count": null,
   "id": "a4d67118",
   "metadata": {},
   "outputs": [],
   "source": []
  }
 ],
 "metadata": {
  "kernelspec": {
   "display_name": "Python 3 (ipykernel)",
   "language": "python",
   "name": "python3"
  },
  "language_info": {
   "codemirror_mode": {
    "name": "ipython",
    "version": 3
   },
   "file_extension": ".py",
   "mimetype": "text/x-python",
   "name": "python",
   "nbconvert_exporter": "python",
   "pygments_lexer": "ipython3",
   "version": "3.10.0"
  }
 },
 "nbformat": 4,
 "nbformat_minor": 5
}
