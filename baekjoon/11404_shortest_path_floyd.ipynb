{
 "cells": [
  {
   "cell_type": "code",
   "execution_count": 9,
   "id": "285e362b",
   "metadata": {},
   "outputs": [
    {
     "name": "stdout",
     "output_type": "stream",
     "text": [
      "5\n",
      "14\n",
      "1 2 2\n",
      "1 3 3\n",
      "1 4 1\n",
      "1 5 10\n",
      "2 4 2\n",
      "3 4 1\n",
      "3 5 1\n",
      "4 5 3\n",
      "3 5 10\n",
      "3 1 8\n",
      "1 4 2\n",
      "5 1 7\n",
      "3 4 2\n",
      "5 2 4\n",
      "1000000000 2 3 1 10 \n",
      "1000000000 1000000000 1000000000 2 1000000000 \n",
      "8 1000000000 1000000000 1 1 \n",
      "1000000000 1000000000 1000000000 1000000000 3 \n",
      "7 4 1000000000 1000000000 1000000000 \n",
      "0 2 3 1 4 \n",
      "12 0 15 2 5 \n",
      "8 5 0 1 1 \n",
      "10 7 13 0 3 \n",
      "7 4 10 6 0 \n"
     ]
    }
   ],
   "source": [
    "n = int(input())\n",
    "INF = int(1e9)\n",
    "graph = [[] for _ in range(n+1)]\n",
    "distance = [[INF]*(n+1) for _ in range(n+1)]\n",
    "m = int(input())\n",
    "\n",
    "for _ in range(m):\n",
    "    a, b, c = map(int, input().split())\n",
    "    graph[a].append((b,c))\n",
    "\n",
    "for i in range(1, n+1):\n",
    "    for j in graph[i]:\n",
    "        if distance[i][j[0]] > j[1]:\n",
    "            distance[i][j[0]] = j[1]\n",
    "    \n",
    "for i in range(1, n+1):\n",
    "    for j in range(1, n+1):\n",
    "        if i == j:\n",
    "            distance[i][j] = 0\n",
    "\n",
    "for k in range(1, n+1):\n",
    "    for i in range(1, n+1):\n",
    "        for j in range(1, n+1):\n",
    "            distance[i][j] = min(distance[i][j], distance[i][k]+distance[k][j])\n",
    "            \n",
    "for i in range(1, n+1):\n",
    "    for j in range(1, n+1):\n",
    "        if distance[i][j] == INF:\n",
    "            print(0, end=' ')\n",
    "        else:\n",
    "            print(distance[i][j], end=' ')\n",
    "    print()"
   ]
  },
  {
   "cell_type": "code",
   "execution_count": null,
   "id": "714b2b56",
   "metadata": {},
   "outputs": [],
   "source": [
    "5\n",
    "14\n",
    "1 2 2\n",
    "1 3 3\n",
    "1 4 1\n",
    "1 5 10\n",
    "2 4 2\n",
    "3 4 1\n",
    "3 5 1\n",
    "4 5 3\n",
    "3 5 10\n",
    "3 1 8\n",
    "1 4 2\n",
    "5 1 7\n",
    "3 4 2\n",
    "5 2 4"
   ]
  }
 ],
 "metadata": {
  "kernelspec": {
   "display_name": "Python 3 (ipykernel)",
   "language": "python",
   "name": "python3"
  },
  "language_info": {
   "codemirror_mode": {
    "name": "ipython",
    "version": 3
   },
   "file_extension": ".py",
   "mimetype": "text/x-python",
   "name": "python",
   "nbconvert_exporter": "python",
   "pygments_lexer": "ipython3",
   "version": "3.10.0"
  }
 },
 "nbformat": 4,
 "nbformat_minor": 5
}
