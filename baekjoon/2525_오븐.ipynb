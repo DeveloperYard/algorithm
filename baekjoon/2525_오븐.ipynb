{
 "cells": [
  {
   "cell_type": "code",
   "execution_count": 3,
   "id": "28c8941d",
   "metadata": {},
   "outputs": [
    {
     "name": "stdout",
     "output_type": "stream",
     "text": [
      "23 48\n",
      "25\n",
      "0 13\n"
     ]
    }
   ],
   "source": [
    "hour, minute = map(int, input().split())\n",
    "time = int(input())\n",
    "\n",
    "res_hour = 0\n",
    "res_minute = 0\n",
    "\n",
    "res_minute = (minute+time)%60\n",
    "res_hour = hour + (minute+time)//60\n",
    "res_hour = (res_hour)%24\n",
    "\n",
    "print(res_hour, res_minute)"
   ]
  },
  {
   "cell_type": "code",
   "execution_count": null,
   "id": "538d7672",
   "metadata": {},
   "outputs": [],
   "source": []
  }
 ],
 "metadata": {
  "kernelspec": {
   "display_name": "Python 3 (ipykernel)",
   "language": "python",
   "name": "python3"
  },
  "language_info": {
   "codemirror_mode": {
    "name": "ipython",
    "version": 3
   },
   "file_extension": ".py",
   "mimetype": "text/x-python",
   "name": "python",
   "nbconvert_exporter": "python",
   "pygments_lexer": "ipython3",
   "version": "3.10.0"
  }
 },
 "nbformat": 4,
 "nbformat_minor": 5
}
