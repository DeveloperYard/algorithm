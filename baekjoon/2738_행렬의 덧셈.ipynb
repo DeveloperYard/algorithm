{
 "cells": [
  {
   "cell_type": "code",
   "execution_count": null,
   "id": "ab5ae5ce",
   "metadata": {},
   "outputs": [],
   "source": [
    "n, m = map(int, input().split())\n",
    "\n",
    "arrOne = []\n",
    "arrTwo = []\n",
    "res = [[0]*m for _ in range(n)]\n",
    "\n",
    "\n",
    "for _ in range(n):\n",
    "    arrOne.append(list(map(int, input().split())))\n",
    "\n",
    "for _ in range(n):\n",
    "    arrTwo.append(list(map(int, input().split())))\n",
    "    \n",
    "for i in range(n):\n",
    "    for j in range(m):\n",
    "        res[i][j] = arrOne[i][j] + arrTwo[i][j]\n",
    "\n",
    "for i in range(n):\n",
    "    for j in range(m):\n",
    "        print(res[i][j], end=\" \")"
   ]
  }
 ],
 "metadata": {
  "kernelspec": {
   "display_name": "Python 3 (ipykernel)",
   "language": "python",
   "name": "python3"
  },
  "language_info": {
   "codemirror_mode": {
    "name": "ipython",
    "version": 3
   },
   "file_extension": ".py",
   "mimetype": "text/x-python",
   "name": "python",
   "nbconvert_exporter": "python",
   "pygments_lexer": "ipython3",
   "version": "3.10.0"
  }
 },
 "nbformat": 4,
 "nbformat_minor": 5
}
