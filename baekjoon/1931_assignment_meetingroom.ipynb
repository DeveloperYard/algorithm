{
 "cells": [
  {
   "cell_type": "code",
   "execution_count": 12,
   "id": "30c18064",
   "metadata": {},
   "outputs": [
    {
     "name": "stdout",
     "output_type": "stream",
     "text": [
      "3\n",
      "0 12\n",
      "5 7\n",
      "8 12\n",
      "2\n"
     ]
    }
   ],
   "source": [
    "n = int(input())\n",
    "\n",
    "array = []\n",
    "\n",
    "for i in range(n):\n",
    "    start, end = map(int, input().split())\n",
    "    array.append((start, end))\n",
    "\n",
    "array = sorted(array, key= lambda x:(x[1]))\n",
    "array_2 = sorted(array, key=lambda x: x[0])\n",
    "\n",
    "meetList = []\n",
    "meetList_2 = []\n",
    "\n",
    "meetList.append(array[0])\n",
    "meetList_2.append(array_2[0])\n",
    "\n",
    "endTime = array[0][1]\n",
    "for i in range(1, n):\n",
    "    if endTime > array[i][0]:\n",
    "        continue\n",
    "    else:\n",
    "        endTime = array[i][1]\n",
    "        meetList.append(array[i])\n",
    "\n",
    "endTime_2 = array_2[0][1]\n",
    "for i in range(1, n):\n",
    "    if endTime_2 > array_2[i][0]:\n",
    "        continue\n",
    "    else:\n",
    "        endTime_2 = array_2[i][1]\n",
    "        meetList_2.append(array_2[i])\n",
    "\n",
    "\n",
    "print(max(len(meetList), len(meetList_2)))\n",
    "\n",
    "# 시작하는 것 기준 정렬, 끝나는 시간 기준 정렬해서 두 가지 중 뭘 더 많이 쓸 수 있는지 비교해서 최댓값 출력!"
   ]
  },
  {
   "cell_type": "code",
   "execution_count": null,
   "id": "8c555c3d",
   "metadata": {},
   "outputs": [],
   "source": [
    "11\n",
    "1 4\n",
    "3 5\n",
    "0 6\n",
    "5 7\n",
    "3 8\n",
    "5 9\n",
    "6 10\n",
    "8 11\n",
    "8 12\n",
    "2 13\n",
    "12 14"
   ]
  }
 ],
 "metadata": {
  "kernelspec": {
   "display_name": "Python 3 (ipykernel)",
   "language": "python",
   "name": "python3"
  },
  "language_info": {
   "codemirror_mode": {
    "name": "ipython",
    "version": 3
   },
   "file_extension": ".py",
   "mimetype": "text/x-python",
   "name": "python",
   "nbconvert_exporter": "python",
   "pygments_lexer": "ipython3",
   "version": "3.10.0"
  }
 },
 "nbformat": 4,
 "nbformat_minor": 5
}
