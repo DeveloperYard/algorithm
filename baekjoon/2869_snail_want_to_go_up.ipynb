{
 "cells": [
  {
   "cell_type": "code",
   "execution_count": 10,
   "id": "296b7e9d",
   "metadata": {},
   "outputs": [
    {
     "name": "stdout",
     "output_type": "stream",
     "text": [
      "5 1 6\n",
      "1\n"
     ]
    }
   ],
   "source": [
    "a, b, v = map(int, input().split())\n",
    "    \n",
    "val = (v-a)/(a-b)\n",
    "if v == a:\n",
    "    print(1)\n",
    "else:\n",
    "    answer = round((v-a)/(a-b)) + 1 if round((v-a)/(a-b)) < (v-a)/(a-b) else round((v-a)/(a-b))\n",
    "    answer+=1\n",
    "    print(answer)"
   ]
  }
 ],
 "metadata": {
  "kernelspec": {
   "display_name": "Python 3 (ipykernel)",
   "language": "python",
   "name": "python3"
  },
  "language_info": {
   "codemirror_mode": {
    "name": "ipython",
    "version": 3
   },
   "file_extension": ".py",
   "mimetype": "text/x-python",
   "name": "python",
   "nbconvert_exporter": "python",
   "pygments_lexer": "ipython3",
   "version": "3.10.0"
  }
 },
 "nbformat": 4,
 "nbformat_minor": 5
}
