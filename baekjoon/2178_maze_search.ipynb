{
 "cells": [
  {
   "cell_type": "code",
   "execution_count": 8,
   "id": "56bf1156",
   "metadata": {},
   "outputs": [
    {
     "name": "stdout",
     "output_type": "stream",
     "text": [
      "7 7\n",
      "1011111\n",
      "1110001\n",
      "1000001\n",
      "1000001\n",
      "1000001\n",
      "1000001\n",
      "1111111\n",
      "13\n"
     ]
    }
   ],
   "source": [
    "n, m = map(int, input().split())\n",
    "maze = []\n",
    "for i in range(n):\n",
    "    maze.append(list(map(int, input())))\n",
    "\n",
    "INF = int(1e9)\n",
    "distance = [[INF]*m for _ in range(n)]\n",
    "distance[0][0] = 1\n",
    "\n",
    "def dfs(x, y, n, m, val, maze, distance):\n",
    "    if x < 0 or y < 0 or x >= n or y >= m or maze[x][y] == 0:\n",
    "        return\n",
    "    if val > distance[x][y]:\n",
    "        return\n",
    "    else:\n",
    "        distance[x][y] = val\n",
    "        dfs(x-1, y, n, m, val+1, maze, distance)\n",
    "        dfs(x, y-1, n, m, val+1, maze, distance)\n",
    "        dfs(x+1, y, n, m, val+1, maze, distance)\n",
    "        dfs(x, y+1, n, m, val+1, maze, distance)\n",
    "    \n",
    "dfs(0, 0, n, m, 1, maze, distance)\n",
    "print(distance[n-1][m-1])\n"
   ]
  },
  {
   "cell_type": "code",
   "execution_count": 16,
   "id": "deeafab1",
   "metadata": {},
   "outputs": [
    {
     "name": "stdout",
     "output_type": "stream",
     "text": [
      "4 6\n",
      "110110\n",
      "110110\n",
      "111111\n",
      "111101\n",
      "9\n"
     ]
    }
   ],
   "source": [
    "from collections import deque\n",
    "\n",
    "n, m = map(int, input().split())\n",
    "INF = int(1e9)\n",
    "maze = []\n",
    "steps = [(-1, 0), (1, 0), (0, -1), (0, 1)]\n",
    "\n",
    "for i in range(n):\n",
    "    maze.append(list(map(int, input())))\n",
    "    \n",
    "\n",
    "def bfs(x, y):\n",
    "    q = deque()\n",
    "    q.append((x, y))\n",
    "    \n",
    "    while q:\n",
    "        x, y = q.popleft()\n",
    "        for step in steps:\n",
    "            nx, ny = step\n",
    "            dx = x+nx\n",
    "            dy = y+ny\n",
    "            \n",
    "            if dx < 0 or dy < 0 or dx >= n or dy >= m:\n",
    "                continue\n",
    "            if maze[dx][dy] == 0:\n",
    "                continue\n",
    "            else:\n",
    "                if maze[dx][dy] == 1:\n",
    "                    maze[dx][dy] = maze[x][y]+1\n",
    "                    q.append((dx, dy))\n",
    "                \n",
    "    return maze[n-1][m-1]\n",
    "\n",
    "print(bfs(0,0))\n",
    "    "
   ]
  },
  {
   "cell_type": "code",
   "execution_count": 4,
   "id": "f823d670",
   "metadata": {},
   "outputs": [
    {
     "name": "stdout",
     "output_type": "stream",
     "text": [
      "4 6\n",
      "101111\n",
      "101010\n",
      "101011\n",
      "111011\n",
      "[3, 0, 9, 10, 11, 12]\n",
      "[2, 0, 8, 0, 12, 0]\n",
      "[3, 0, 7, 0, 13, 14]\n",
      "[4, 5, 6, 0, 14, 15]\n",
      "15\n"
     ]
    }
   ],
   "source": [
    "from collections import deque\n",
    "\n",
    "n, m = map(int, input().split())\n",
    "graph = []\n",
    "for _ in range(n):\n",
    "    graph.append(list(map(int, input())))\n",
    "    \n",
    "steps = [(-1, 0), (1, 0), (0, -1), (0, 1)]\n",
    "def bfs(x, y):\n",
    "    q = deque()\n",
    "    \n",
    "    q.append((x, y))\n",
    "    while q:\n",
    "        x, y = q.popleft()\n",
    "        for step in steps:\n",
    "            dx, dy = step\n",
    "            nx = x + dx\n",
    "            ny = y + dy\n",
    "            \n",
    "            if nx < 0 or ny < 0 or nx >= n or ny >= m:\n",
    "                continue\n",
    "            if graph[nx][ny] == 0:\n",
    "                continue\n",
    "            if graph[nx][ny] == 1:\n",
    "                graph[nx][ny] = graph[x][y]+1\n",
    "                q.append((nx, ny))\n",
    "    \n",
    "    return graph[n-1][m-1]\n",
    "\n",
    "\n",
    "print(bfs(0,0))"
   ]
  },
  {
   "cell_type": "code",
   "execution_count": null,
   "id": "145ab47b",
   "metadata": {},
   "outputs": [],
   "source": []
  }
 ],
 "metadata": {
  "kernelspec": {
   "display_name": "Python 3 (ipykernel)",
   "language": "python",
   "name": "python3"
  },
  "language_info": {
   "codemirror_mode": {
    "name": "ipython",
    "version": 3
   },
   "file_extension": ".py",
   "mimetype": "text/x-python",
   "name": "python",
   "nbconvert_exporter": "python",
   "pygments_lexer": "ipython3",
   "version": "3.10.0"
  }
 },
 "nbformat": 4,
 "nbformat_minor": 5
}
