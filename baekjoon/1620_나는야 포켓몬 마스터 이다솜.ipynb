{
 "cells": [
  {
   "cell_type": "code",
   "execution_count": 34,
   "id": "2fea9d29",
   "metadata": {},
   "outputs": [
    {
     "name": "stdout",
     "output_type": "stream",
     "text": [
      "3 1\n",
      "p\n",
      "k\n",
      "m\n",
      "3\n",
      "m\n"
     ]
    }
   ],
   "source": [
    "# 2023.02.06\n",
    "\n",
    "d = dict()\n",
    "p = dict()\n",
    "n, m = map(int, input().split())\n",
    "\n",
    "for i in range(1, n+1):\n",
    "    s = input()\n",
    "    d[str(i)] = s\n",
    "    p[s] = str(i)\n",
    "    \n",
    "for _ in range(m):\n",
    "    s = input()\n",
    "    if s in d:\n",
    "        print(d[s])\n",
    "    else:\n",
    "        # dict에 key로 없는 것은 문자열이므로 문자열 속에서 찾아야 함!\n",
    "#         print([k for k, v in d.items() if v == s][0]) # 여기서 시간 초과가 나는 것 같음\n",
    "        print(p[s])\n",
    "    \n",
    "# 시간이 오래 걸린다면 dictionary를 두 개 만들어서 해결!\n",
    "# 다른 해결 방법이 뭐가 있을 지 생각해서 다시 풀어보기!\n",
    "\n",
    "# -- solve!"
   ]
  },
  {
   "cell_type": "code",
   "execution_count": 33,
   "id": "2a735e3a",
   "metadata": {},
   "outputs": [
    {
     "ename": "TypeError",
     "evalue": "'dict_items' object is not subscriptable",
     "output_type": "error",
     "traceback": [
      "\u001b[0;31m---------------------------------------------------------------------------\u001b[0m",
      "\u001b[0;31mTypeError\u001b[0m                                 Traceback (most recent call last)",
      "\u001b[0;32m/var/folders/kn/gg6frwt12s7gcf_n79d00hy80000gn/T/ipykernel_68596/1627351484.py\u001b[0m in \u001b[0;36m<module>\u001b[0;34m\u001b[0m\n\u001b[1;32m      2\u001b[0m \u001b[0md\u001b[0m\u001b[0;34m[\u001b[0m\u001b[0;36m1\u001b[0m\u001b[0;34m]\u001b[0m \u001b[0;34m=\u001b[0m \u001b[0;34m\"dsds\"\u001b[0m\u001b[0;34m\u001b[0m\u001b[0;34m\u001b[0m\u001b[0m\n\u001b[1;32m      3\u001b[0m \u001b[0;34m\u001b[0m\u001b[0m\n\u001b[0;32m----> 4\u001b[0;31m \u001b[0mprint\u001b[0m\u001b[0;34m(\u001b[0m\u001b[0md\u001b[0m\u001b[0;34m.\u001b[0m\u001b[0mitems\u001b[0m\u001b[0;34m(\u001b[0m\u001b[0;34m)\u001b[0m\u001b[0;34m[\u001b[0m\u001b[0;36m0\u001b[0m\u001b[0;34m]\u001b[0m\u001b[0;34m)\u001b[0m\u001b[0;34m\u001b[0m\u001b[0;34m\u001b[0m\u001b[0m\n\u001b[0m",
      "\u001b[0;31mTypeError\u001b[0m: 'dict_items' object is not subscriptable"
     ]
    }
   ],
   "source": [
    "d = dict()\n",
    "d[1] = \"dsds\"\n",
    "\n",
    "print(d.items()[0])"
   ]
  },
  {
   "cell_type": "code",
   "execution_count": 21,
   "id": "bc8a9927",
   "metadata": {},
   "outputs": [
    {
     "name": "stdout",
     "output_type": "stream",
     "text": [
      "3\n"
     ]
    }
   ],
   "source": [
    "print(\"3\".lower())"
   ]
  },
  {
   "cell_type": "code",
   "execution_count": null,
   "id": "4e6b3093",
   "metadata": {},
   "outputs": [],
   "source": []
  }
 ],
 "metadata": {
  "kernelspec": {
   "display_name": "Python 3 (ipykernel)",
   "language": "python",
   "name": "python3"
  },
  "language_info": {
   "codemirror_mode": {
    "name": "ipython",
    "version": 3
   },
   "file_extension": ".py",
   "mimetype": "text/x-python",
   "name": "python",
   "nbconvert_exporter": "python",
   "pygments_lexer": "ipython3",
   "version": "3.10.0"
  }
 },
 "nbformat": 4,
 "nbformat_minor": 5
}
