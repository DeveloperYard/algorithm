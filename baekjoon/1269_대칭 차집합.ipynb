{
 "cells": [
  {
   "cell_type": "code",
   "execution_count": 20,
   "id": "9f9b449d",
   "metadata": {},
   "outputs": [
    {
     "name": "stdout",
     "output_type": "stream",
     "text": [
      "3 5\n",
      "1 2 4\n",
      "2 3 4 5 6\n",
      "4\n"
     ]
    }
   ],
   "source": [
    "n, m = map(int ,input().split())\n",
    "\n",
    "a = set(list(map(int, input().split())))\n",
    "b = set(list(map(int, input().split())))\n",
    "deA = set()\n",
    "deB = set()\n",
    "\n",
    "deA = a - b\n",
    "deB = b - a\n",
    "\n",
    "ans = deA | deB\n",
    "\n",
    "print(len(ans))"
   ]
  },
  {
   "cell_type": "code",
   "execution_count": 14,
   "id": "b4e7eccd",
   "metadata": {},
   "outputs": [
    {
     "name": "stdout",
     "output_type": "stream",
     "text": [
      "1 2 3\n",
      "{1, 2, 3}\n"
     ]
    }
   ],
   "source": [
    "a = set(list(map(int, input().split())))\n",
    "\n",
    "print(a)"
   ]
  },
  {
   "cell_type": "code",
   "execution_count": 21,
   "id": "92f32b74",
   "metadata": {},
   "outputs": [
    {
     "name": "stdout",
     "output_type": "stream",
     "text": [
      "{1, 2, 3}\n"
     ]
    }
   ],
   "source": []
  },
  {
   "cell_type": "code",
   "execution_count": null,
   "id": "7c8bc3df",
   "metadata": {},
   "outputs": [],
   "source": []
  }
 ],
 "metadata": {
  "kernelspec": {
   "display_name": "Python 3 (ipykernel)",
   "language": "python",
   "name": "python3"
  },
  "language_info": {
   "codemirror_mode": {
    "name": "ipython",
    "version": 3
   },
   "file_extension": ".py",
   "mimetype": "text/x-python",
   "name": "python",
   "nbconvert_exporter": "python",
   "pygments_lexer": "ipython3",
   "version": "3.10.0"
  }
 },
 "nbformat": 4,
 "nbformat_minor": 5
}
