{
 "cells": [
  {
   "cell_type": "code",
   "execution_count": null,
   "id": "6cf8d6a8",
   "metadata": {},
   "outputs": [],
   "source": [
    "def solution(length, n, target):\n",
    "    ans = 0\n",
    "    for i in n:\n",
    "        if i == target:\n",
    "            ans+=1\n",
    "            \n",
    "    return ans\n",
    "\n",
    "length = int(input())\n",
    "arr = list(map(int, input().split()))\n",
    "target = int(input())\n",
    "           \n",
    "print(solution(length, arr, target))"
   ]
  }
 ],
 "metadata": {
  "kernelspec": {
   "display_name": "Python 3 (ipykernel)",
   "language": "python",
   "name": "python3"
  },
  "language_info": {
   "codemirror_mode": {
    "name": "ipython",
    "version": 3
   },
   "file_extension": ".py",
   "mimetype": "text/x-python",
   "name": "python",
   "nbconvert_exporter": "python",
   "pygments_lexer": "ipython3",
   "version": "3.10.0"
  }
 },
 "nbformat": 4,
 "nbformat_minor": 5
}
