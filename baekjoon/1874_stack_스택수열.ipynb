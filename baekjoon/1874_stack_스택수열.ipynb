{
 "cells": [
  {
   "cell_type": "code",
   "execution_count": null,
   "id": "ed49ea80",
   "metadata": {},
   "outputs": [],
   "source": [
    "from collections import deque\n",
    "\n",
    "n = int(input())\n",
    "\n",
    "s = deque()\n",
    "\n",
    "lis = []\n",
    "for _ in range(1, n+1):\n",
    "    lis.append(int(input()))\n",
    "    \n",
    "s.append(lis[1])\n",
    "i = 2\n",
    "idx = 0\n",
    "leng = 0\n",
    "while leng<=idx:\n",
    "    while lis[idx] > i:\n",
    "        s.append(i)\n",
    "        i+=1\n",
    "    if lis[idx] = i:\n",
    "        s.pop()\n",
    "        leng+=1\n",
    "        idx+=1\n",
    "    "
   ]
  }
 ],
 "metadata": {
  "kernelspec": {
   "display_name": "Python 3 (ipykernel)",
   "language": "python",
   "name": "python3"
  },
  "language_info": {
   "codemirror_mode": {
    "name": "ipython",
    "version": 3
   },
   "file_extension": ".py",
   "mimetype": "text/x-python",
   "name": "python",
   "nbconvert_exporter": "python",
   "pygments_lexer": "ipython3",
   "version": "3.10.0"
  }
 },
 "nbformat": 4,
 "nbformat_minor": 5
}
