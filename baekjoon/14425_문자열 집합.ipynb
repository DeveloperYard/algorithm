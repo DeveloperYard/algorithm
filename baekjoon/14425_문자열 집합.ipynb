{
 "cells": [
  {
   "cell_type": "code",
   "execution_count": null,
   "id": "f40d3efd",
   "metadata": {},
   "outputs": [],
   "source": [
    "ans = 0\n",
    "d = dict()\n",
    "\n",
    "n, m = map(int, input().split())\n",
    "\n",
    "for _ in range(n):\n",
    "    s = input()\n",
    "    d[s] = 1\n",
    "\n",
    "for _ in range(m):\n",
    "    s = input()\n",
    "    if s in d:\n",
    "        ans+=1\n",
    "        \n",
    "print(ans)"
   ]
  }
 ],
 "metadata": {
  "kernelspec": {
   "display_name": "Python 3 (ipykernel)",
   "language": "python",
   "name": "python3"
  },
  "language_info": {
   "codemirror_mode": {
    "name": "ipython",
    "version": 3
   },
   "file_extension": ".py",
   "mimetype": "text/x-python",
   "name": "python",
   "nbconvert_exporter": "python",
   "pygments_lexer": "ipython3",
   "version": "3.10.0"
  }
 },
 "nbformat": 4,
 "nbformat_minor": 5
}
