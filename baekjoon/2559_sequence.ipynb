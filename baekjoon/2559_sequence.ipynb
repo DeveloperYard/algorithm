{
 "cells": [
  {
   "cell_type": "code",
   "execution_count": 2,
   "id": "267f589c",
   "metadata": {},
   "outputs": [
    {
     "name": "stdout",
     "output_type": "stream",
     "text": [
      "10 5\n",
      "3 -2 -4 -9 0 3 7 13 8 -3\n",
      "31\n"
     ]
    }
   ],
   "source": [
    "import sys\n",
    "input = sys.stdin.readline\n",
    "\n",
    "n, k = map(int, input().split())\n",
    "\n",
    "lis = list(map(int, input().split()))\n",
    "if k == 1:\n",
    "    print(max(lis)) \n",
    "elif k == n:\n",
    "    print(sum(lis))\n",
    "else:\n",
    "    sumRes = []\n",
    "    sumRes.append(sum(lis[:k]))\n",
    "    i = 1\n",
    "\n",
    "    while i+k < n:\n",
    "        sumRes.append(sum(lis[i:k+i]))\n",
    "        i+=1\n",
    "    print(max(sumRes))"
   ]
  },
  {
   "cell_type": "code",
   "execution_count": null,
   "id": "12c40035",
   "metadata": {},
   "outputs": [],
   "source": []
  }
 ],
 "metadata": {
  "kernelspec": {
   "display_name": "Python 3 (ipykernel)",
   "language": "python",
   "name": "python3"
  },
  "language_info": {
   "codemirror_mode": {
    "name": "ipython",
    "version": 3
   },
   "file_extension": ".py",
   "mimetype": "text/x-python",
   "name": "python",
   "nbconvert_exporter": "python",
   "pygments_lexer": "ipython3",
   "version": "3.10.0"
  }
 },
 "nbformat": 4,
 "nbformat_minor": 5
}
