{
 "cells": [
  {
   "cell_type": "code",
   "execution_count": 5,
   "id": "b6e2c40e",
   "metadata": {},
   "outputs": [
    {
     "name": "stdout",
     "output_type": "stream",
     "text": [
      "55-50+40\n",
      "['55-50', '40']\n"
     ]
    }
   ],
   "source": [
    "fm = input()\n",
    "print(fm)\n",
    "\n",
    "i = 0\n",
    "length = len(fm)\n",
    "\n",
    "minus_flag = False\n",
    "\n",
    "result = 0\n",
    "\n",
    "while i<length:\n",
    "    cur_val = 0\n",
    "    # 0 스킵 과정\n",
    "    while i < length and cur_val == 0:\n",
    "        if fm[i] == 0:\n",
    "            i+=1\n",
    "        else:\n",
    "            break\n",
    "    # 숫자 입력 과정\n",
    "    while i < length and "
   ]
  },
  {
   "cell_type": "code",
   "execution_count": null,
   "id": "1451fb9e",
   "metadata": {},
   "outputs": [],
   "source": []
  }
 ],
 "metadata": {
  "kernelspec": {
   "display_name": "Python 3 (ipykernel)",
   "language": "python",
   "name": "python3"
  },
  "language_info": {
   "codemirror_mode": {
    "name": "ipython",
    "version": 3
   },
   "file_extension": ".py",
   "mimetype": "text/x-python",
   "name": "python",
   "nbconvert_exporter": "python",
   "pygments_lexer": "ipython3",
   "version": "3.10.0"
  }
 },
 "nbformat": 4,
 "nbformat_minor": 5
}
