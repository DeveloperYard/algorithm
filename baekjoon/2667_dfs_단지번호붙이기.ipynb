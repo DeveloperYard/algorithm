{
 "cells": [
  {
   "cell_type": "code",
   "execution_count": 13,
   "id": "414e0466",
   "metadata": {},
   "outputs": [
    {
     "name": "stdout",
     "output_type": "stream",
     "text": [
      "7\n",
      "0110100\n",
      "0110101\n",
      "1110101\n",
      "0000111\n",
      "0100000\n",
      "0111110\n",
      "0111000\n",
      "['0110100', '0110101', '1110101', '0000111', '0100000', '0111110', '0111000']\n",
      "3\n",
      "7\n",
      "8\n",
      "9\n"
     ]
    }
   ],
   "source": [
    "n = int(input())\n",
    "\n",
    "# maps = []\n",
    "# for i in range(n):\n",
    "#     maps[i].append(input())\n",
    "maps = [input() for lis in range(n)]\n",
    "\n",
    "visited = [[False]*n for _ in range(n)]\n",
    "\n",
    "count = 0 # 각 단지 내 아파트를 셀 수\n",
    "total_ap = 0 # 총 단지 수를 셀 변수\n",
    "\n",
    "beSorted = []\n",
    "\n",
    "def dfs(x, y):\n",
    "    global count\n",
    "    if x < 0 or y < 0 or x >=n or y >= n:\n",
    "        return\n",
    "    if maps[x][y] == '1' and not visited[x][y]:\n",
    "        visited[x][y] = True\n",
    "        count+=1\n",
    "        dfs(x-1, y)\n",
    "        dfs(x, y-1)\n",
    "        dfs(x+1, y)\n",
    "        dfs(x, y+1)\n",
    "    else:\n",
    "        return\n",
    "\n",
    "for i in range(n):\n",
    "    for j in range(n):\n",
    "        if maps[i][j] == '1' and not visited[i][j]:\n",
    "            dfs(i, j)\n",
    "            total_ap += 1\n",
    "            beSorted.append(count)\n",
    "            count = 0\n",
    "            \n",
    "\n",
    "beSorted.sort()\n",
    "\n",
    "print(total_ap)\n",
    "for i in range(len(beSorted)):\n",
    "    print(beSorted[i])"
   ]
  },
  {
   "cell_type": "code",
   "execution_count": null,
   "id": "254e8435",
   "metadata": {},
   "outputs": [],
   "source": [
    "7\n",
    "0110100\n",
    "0110101\n",
    "1110101\n",
    "0000111\n",
    "0100000\n",
    "0111110\n",
    "0111000"
   ]
  }
 ],
 "metadata": {
  "kernelspec": {
   "display_name": "Python 3 (ipykernel)",
   "language": "python",
   "name": "python3"
  },
  "language_info": {
   "codemirror_mode": {
    "name": "ipython",
    "version": 3
   },
   "file_extension": ".py",
   "mimetype": "text/x-python",
   "name": "python",
   "nbconvert_exporter": "python",
   "pygments_lexer": "ipython3",
   "version": "3.10.0"
  }
 },
 "nbformat": 4,
 "nbformat_minor": 5
}
