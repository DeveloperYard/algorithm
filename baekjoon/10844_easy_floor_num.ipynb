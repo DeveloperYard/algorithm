{
 "cells": [
  {
   "cell_type": "code",
   "execution_count": 101,
   "id": "695494a8",
   "metadata": {},
   "outputs": [
    {
     "name": "stdout",
     "output_type": "stream",
     "text": [
      "17\n",
      "285380\n"
     ]
    }
   ],
   "source": [
    "n = int(input())\n",
    "\n",
    "stairs = [[0]*10 for _ in range(n+1)]\n",
    "stairs[1] = [0, 1, 1, 1, 1, 1, 1, 1, 1, 1]\n",
    "for i in range(2, n+1):\n",
    "    stairs[i][0] = stairs[i-1][1]\n",
    "    stairs[i][9] = stairs[i-1][8]\n",
    "    \n",
    "    for j in range(1, 9):\n",
    "        stairs[i][j] = stairs[i-1][j-1]+stairs[i-1][j+1]\n",
    "        \n",
    "\n",
    "print(sum(stairs[n])%1000000000)\n",
    "    "
   ]
  },
  {
   "cell_type": "markdown",
   "id": "f281fa00",
   "metadata": {},
   "source": [
    "## "
   ]
  },
  {
   "cell_type": "markdown",
   "id": "1b880950",
   "metadata": {},
   "source": [
    "# "
   ]
  }
 ],
 "metadata": {
  "kernelspec": {
   "display_name": "Python 3 (ipykernel)",
   "language": "python",
   "name": "python3"
  },
  "language_info": {
   "codemirror_mode": {
    "name": "ipython",
    "version": 3
   },
   "file_extension": ".py",
   "mimetype": "text/x-python",
   "name": "python",
   "nbconvert_exporter": "python",
   "pygments_lexer": "ipython3",
   "version": "3.10.0"
  }
 },
 "nbformat": 4,
 "nbformat_minor": 5
}
