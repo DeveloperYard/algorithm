{
 "cells": [
  {
   "cell_type": "code",
   "execution_count": 5,
   "id": "21814f2c",
   "metadata": {},
   "outputs": [
    {
     "name": "stdout",
     "output_type": "stream",
     "text": [
      "6 2 5\n",
      "600\n"
     ]
    }
   ],
   "source": [
    "arr = list(map(int, input().split()))\n",
    "\n",
    "answer = 0\n",
    "max_count = 0\n",
    "if arr.count(arr[0]) == 3:\n",
    "    answer = (10000 + (arr[0]*1000))\n",
    "    \n",
    "else:\n",
    "    for a in arr:\n",
    "        cur_count = arr.count(a)\n",
    "        if cur_count > max_count:\n",
    "            max_count = cur_count\n",
    "            \n",
    "    if max_count == 1:\n",
    "        answer = max(arr)*100\n",
    "    else:\n",
    "        tmp = 0\n",
    "        for a in arr:\n",
    "            if arr.count(a) == 2:\n",
    "                tmp = a\n",
    "                break\n",
    "        answer = (1000+tmp*100)\n",
    "        \n",
    "print(answer)"
   ]
  },
  {
   "cell_type": "markdown",
   "id": "1e6ac1fd",
   "metadata": {},
   "source": [
    "###### "
   ]
  }
 ],
 "metadata": {
  "kernelspec": {
   "display_name": "Python 3 (ipykernel)",
   "language": "python",
   "name": "python3"
  },
  "language_info": {
   "codemirror_mode": {
    "name": "ipython",
    "version": 3
   },
   "file_extension": ".py",
   "mimetype": "text/x-python",
   "name": "python",
   "nbconvert_exporter": "python",
   "pygments_lexer": "ipython3",
   "version": "3.10.0"
  }
 },
 "nbformat": 4,
 "nbformat_minor": 5
}
