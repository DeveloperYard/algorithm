{
 "cells": [
  {
   "cell_type": "code",
   "execution_count": 6,
   "id": "1246a3d6",
   "metadata": {},
   "outputs": [
    {
     "name": "stdout",
     "output_type": "stream",
     "text": [
      "5\n",
      "3 4\n",
      "1 1\n",
      "1 -1\n",
      "3 3\n",
      "2 2\n",
      "1 -1\n",
      "1 1\n",
      "2 2\n",
      "3 3\n",
      "3 4\n"
     ]
    }
   ],
   "source": [
    "n = int(input())\n",
    "\n",
    "array = [[0]*2 for _ in range(n)]\n",
    "\n",
    "for i in range(n):\n",
    "    coord = input().split()\n",
    "    array[i][0] = int(coord[0])\n",
    "    array[i][1] = int(coord[1])\n",
    "    \n",
    "    \n",
    "# for i in range(1, n):\n",
    "#     for j in range(i, 0, -1):\n",
    "#         if array[j][0] < array[j-1][0]:\n",
    "#             array[j][0], array[j-1][0] = array[j-1][0], array[j][0]\n",
    "#             array[j][1], array[j-1][1] = array[j-1][1], array[j][1]\n",
    "#         elif array[j][0] == array[j-1][0]:\n",
    "#             if array[j][1] < array[j-1][1]:\n",
    "#                 array[j][0], array[j-1][0] = array[j-1][0], array[j][0]\n",
    "#                 array[j][1], array[j-1][1] = array[j-1][1], array[j][1]\n",
    "                \n",
    "array = sorted(array, key = lambda x: (x[0], x[1]))    \n",
    "# insertion sort -> time out!!\n",
    "# 내장 함수인 sorted()를 이용하였는데, lambda를 통해 정렬할 때 복수 개의 조건을 걸 수 있음!\n",
    "for i in range(n):\n",
    "    print(array[i][0], array[i][1])"
   ]
  }
 ],
 "metadata": {
  "kernelspec": {
   "display_name": "Python 3 (ipykernel)",
   "language": "python",
   "name": "python3"
  },
  "language_info": {
   "codemirror_mode": {
    "name": "ipython",
    "version": 3
   },
   "file_extension": ".py",
   "mimetype": "text/x-python",
   "name": "python",
   "nbconvert_exporter": "python",
   "pygments_lexer": "ipython3",
   "version": "3.10.0"
  }
 },
 "nbformat": 4,
 "nbformat_minor": 5
}
