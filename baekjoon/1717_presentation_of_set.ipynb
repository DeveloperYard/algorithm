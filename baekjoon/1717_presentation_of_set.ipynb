{
 "cells": [
  {
   "cell_type": "code",
   "execution_count": 2,
   "id": "3cda7d58",
   "metadata": {},
   "outputs": [
    {
     "name": "stdout",
     "output_type": "stream",
     "text": [
      "7 8\n",
      "0 1 3\n",
      "1 1 7\n",
      "NO\n",
      "0 7 6\n",
      "1 7 1\n",
      "NO\n",
      "0 3 7\n",
      "0 4 2\n",
      "0 1 1\n",
      "1 1 1\n",
      "YES\n"
     ]
    }
   ],
   "source": [
    "n, m = map(int, input().split())\n",
    "\n",
    "parent = [0]*(n+1)\n",
    "\n",
    "for i in range(1, len(parent)):\n",
    "    parent[i] = i\n",
    "\n",
    "def find_parent(parent, x):\n",
    "    if parent[x] != x:\n",
    "        parent[x] = find_parent(parent, parent[x])\n",
    "    return parent[x]\n",
    "\n",
    "def union_parent(parent, a, b):\n",
    "    a = find_parent(parent, a)\n",
    "    b = find_parent(parent, b)\n",
    "    \n",
    "    if a > b:\n",
    "        parent[a] = b\n",
    "    else:\n",
    "        parent[b] = a\n",
    "        \n",
    "for _ in range(m):\n",
    "    op, a, b = map(int, input().split())\n",
    "    if op == 0:\n",
    "        union_parent(parent, a, b)\n",
    "            \n",
    "    elif op == 1:\n",
    "        if find_parent(parent, a) == find_parent(parent, b):\n",
    "            print(\"YES\")\n",
    "        else:\n",
    "            print(\"NO\")\n",
    "    else:\n",
    "        print(\"errored input!\")"
   ]
  },
  {
   "cell_type": "code",
   "execution_count": null,
   "id": "b747b9fb",
   "metadata": {},
   "outputs": [],
   "source": []
  }
 ],
 "metadata": {
  "kernelspec": {
   "display_name": "Python 3 (ipykernel)",
   "language": "python",
   "name": "python3"
  },
  "language_info": {
   "codemirror_mode": {
    "name": "ipython",
    "version": 3
   },
   "file_extension": ".py",
   "mimetype": "text/x-python",
   "name": "python",
   "nbconvert_exporter": "python",
   "pygments_lexer": "ipython3",
   "version": "3.10.0"
  }
 },
 "nbformat": 4,
 "nbformat_minor": 5
}
