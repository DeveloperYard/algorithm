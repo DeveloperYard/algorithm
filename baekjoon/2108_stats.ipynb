{
 "cells": [
  {
   "cell_type": "code",
   "execution_count": 10,
   "id": "8b3ebd6a",
   "metadata": {},
   "outputs": [
    {
     "name": "stdout",
     "output_type": "stream",
     "text": [
      "5\n",
      "1\n",
      "3\n",
      "8\n",
      "-2\n",
      "2\n",
      "2\n",
      "2\n",
      "1\n",
      "10\n"
     ]
    }
   ],
   "source": [
    "from collections import Counter\n",
    "\n",
    "# n -> 홀수\n",
    "# 1. 산술평균 : N개의 수들의 합을 N으로 나눈 값\n",
    "# 2. 중앙값 : N개의 수들을 증가하는 순서로 나열했을 경우 그 중앙에 위치하는 값\n",
    "# 3. 최빈값 : N개의 수들 중 가장 많이 나타나는 값, 최빈값이 여러 개라면 최빈값 중 두 번째로 작은 값을 출력\n",
    "# 4. 범위 : N개의 수들 중 최댓값과 최솟값의 차이\n",
    "\n",
    "n = int(input())\n",
    "\n",
    "arr = []\n",
    "\n",
    "for i in range(n):\n",
    "    arr.append(int(input()))\n",
    "\n",
    "count = Counter(arr)\n",
    "\n",
    "result = [0]*4\n",
    "result[0] = round(sum(arr)/n)\n",
    "\n",
    "sortArr = sorted(arr)\n",
    "\n",
    "result[1]= sortArr[n//2]\n",
    "\n",
    "# count = sorted(count, key = lambda x: x[1], reverse=True)\n",
    "count = count.most_common()\n",
    "mostNum = count[0][1]\n",
    "resList = []\n",
    "\n",
    "for i in range(len(count)):\n",
    "    if mostNum == count[i][1]:\n",
    "        resList.append(count[i][0])\n",
    "    else:\n",
    "        break\n",
    "\n",
    "resList.sort()\n",
    "\n",
    "if len(resList) > 1:\n",
    "    result[2] = resList[1]\n",
    "else:\n",
    "    result[2] = resList[0]\n",
    "\n",
    "result[3] = max(arr) - min(arr)\n",
    "\n",
    "for i in range(4):\n",
    "    print(result[i])\n"
   ]
  }
 ],
 "metadata": {
  "kernelspec": {
   "display_name": "Python 3 (ipykernel)",
   "language": "python",
   "name": "python3"
  },
  "language_info": {
   "codemirror_mode": {
    "name": "ipython",
    "version": 3
   },
   "file_extension": ".py",
   "mimetype": "text/x-python",
   "name": "python",
   "nbconvert_exporter": "python",
   "pygments_lexer": "ipython3",
   "version": "3.10.0"
  }
 },
 "nbformat": 4,
 "nbformat_minor": 5
}
