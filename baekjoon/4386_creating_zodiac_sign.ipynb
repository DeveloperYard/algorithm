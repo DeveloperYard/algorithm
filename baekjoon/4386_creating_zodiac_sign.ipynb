{
 "cells": [
  {
   "cell_type": "code",
   "execution_count": 5,
   "id": "5bb73bfd",
   "metadata": {},
   "outputs": [
    {
     "name": "stdout",
     "output_type": "stream",
     "text": [
      "3\n",
      "1.0 1.0\n",
      "2.0 2.0\n",
      "2.0 4.0\n",
      "[(1.41, (1.0, 1.0), (2.0, 2.0)), (3.16, (1.0, 1.0), (2.0, 4.0)), (2.0, (2.0, 2.0), (2.0, 4.0))]\n"
     ]
    }
   ],
   "source": [
    "import math\n",
    "        \n",
    "n = int(input())\n",
    "coord = []\n",
    "for _ in range(n):\n",
    "    a, b = map(float, input().split())\n",
    "    coord.append((a, b))\n",
    "\n",
    "edges = []\n",
    "for i in range(n):\n",
    "    for j in range(i+1, n):\n",
    "        x1, y1 = coord[i]\n",
    "        x2, y2 = coord[j]\n",
    "        cost = math.sqrt(math.pow((x2-x1), 2)+math.pow((y2-y1), 2))\n",
    "        edges.append((round(cost, 2), (x1, y1), (x2, y2)))\n",
    "        \n",
    "parent = []*(v+1)\n",
    "for i in range(v+1):\n",
    "    parent.append(coord[i])\n",
    "    \n"
   ]
  },
  {
   "cell_type": "code",
   "execution_count": null,
   "id": "a73d93fb",
   "metadata": {},
   "outputs": [],
   "source": []
  }
 ],
 "metadata": {
  "kernelspec": {
   "display_name": "Python 3 (ipykernel)",
   "language": "python",
   "name": "python3"
  },
  "language_info": {
   "codemirror_mode": {
    "name": "ipython",
    "version": 3
   },
   "file_extension": ".py",
   "mimetype": "text/x-python",
   "name": "python",
   "nbconvert_exporter": "python",
   "pygments_lexer": "ipython3",
   "version": "3.10.0"
  }
 },
 "nbformat": 4,
 "nbformat_minor": 5
}
