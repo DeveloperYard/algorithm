{
 "cells": [
  {
   "cell_type": "code",
   "execution_count": 4,
   "id": "eed9c2dc",
   "metadata": {},
   "outputs": [
    {
     "name": "stdout",
     "output_type": "stream",
     "text": [
      "6\n",
      "1000 999 1000 999 1000 999\n",
      "0\n",
      "3\n",
      "1 0 1 0 1 0 "
     ]
    }
   ],
   "source": [
    "#import sys\n",
    "#input = sys.stdin.readline\n",
    "\n",
    "n = int(input())\n",
    "arr = list(map(int, input().split()))\n",
    "\n",
    "res = [0]*len(arr)\n",
    "\n",
    "sortedArr = sorted(arr)\n",
    "cur = 0\n",
    "visited = [False]*len(arr)\n",
    "count = 0\n",
    "# 아래의 방식으로는 O(N^2)를 넘어감! 이건 문제가 있음\n",
    "# 모두 다른 숫자라면 enumerate를 수행했을 때 O(N^2)가 나오므로 시간 초과가 나오는 것은 당연함!\n",
    "# 어떻게 처리할까?\n",
    "i = 0\n",
    "\n",
    "# 함수를 하나 더 만들자! 현재 인덱스의 값이 같은 것들을 찾아주는 함수를\n",
    "def findMin(arr, val):\n",
    "    # for문을 돌리지 않고도 찾을 수 있는 알고리즘이 있을까?\n",
    "    minList = [i for i, ele in enumerate(arr) if ele == val] # O(N) -> 같은 수들을 검색하는 거라서!\n",
    "    \n",
    "    return minList\n",
    "\n",
    "while i < len(sortedArr): # O(N)\n",
    "    \n",
    "    minList = findMin(arr, sortedArr[i])\n",
    "    \n",
    "    #if visited[arr.index(sortedArr[i])]: continue\n",
    "    \n",
    "    for j in minList: # O(N)\n",
    "        res[j] = cur\n",
    "        visited[j] = True\n",
    "    cur+=1\n",
    "    print(i)\n",
    "    i += len(minList) # 똑같은 수만큼 인덱스를 조정하는 매커니즘은 그대로 가져가자!\n",
    "    \n",
    "# 시간 문제를 해결하기 위해 min의 수만큼 sortedArr의 인덱스를 이동시키는 것은 어떨까??\n",
    "\n",
    "for i in res: # O(N)\n",
    "    print(i, end=' ')\n"
   ]
  },
  {
   "cell_type": "code",
   "execution_count": 18,
   "id": "19122775",
   "metadata": {},
   "outputs": [
    {
     "name": "stdout",
     "output_type": "stream",
     "text": [
      "5\n",
      "2 4 -10 4 -9\n"
     ]
    },
    {
     "ename": "TypeError",
     "evalue": "'NoneType' object is not iterable",
     "output_type": "error",
     "traceback": [
      "\u001b[0;31m---------------------------------------------------------------------------\u001b[0m",
      "\u001b[0;31mTypeError\u001b[0m                                 Traceback (most recent call last)",
      "\u001b[0;32m/var/folders/kn/gg6frwt12s7gcf_n79d00hy80000gn/T/ipykernel_3386/3012401379.py\u001b[0m in \u001b[0;36m<module>\u001b[0;34m\u001b[0m\n\u001b[1;32m     16\u001b[0m     \u001b[0;32mreturn\u001b[0m \u001b[0mlist\u001b[0m\u001b[0;34m(\u001b[0m\u001b[0mkey\u001b[0m \u001b[0;32mfor\u001b[0m \u001b[0mkey\u001b[0m\u001b[0;34m,\u001b[0m \u001b[0mvalue\u001b[0m \u001b[0;32min\u001b[0m \u001b[0mdict\u001b[0m\u001b[0;34m.\u001b[0m\u001b[0mitems\u001b[0m\u001b[0;34m(\u001b[0m\u001b[0;34m)\u001b[0m \u001b[0;32mif\u001b[0m \u001b[0mvalue\u001b[0m \u001b[0;34m==\u001b[0m \u001b[0mval\u001b[0m\u001b[0;34m)\u001b[0m\u001b[0;34m\u001b[0m\u001b[0;34m\u001b[0m\u001b[0m\n\u001b[1;32m     17\u001b[0m \u001b[0;34m\u001b[0m\u001b[0m\n\u001b[0;32m---> 18\u001b[0;31m \u001b[0marr_dict\u001b[0m \u001b[0;34m=\u001b[0m \u001b[0;34m{\u001b[0m\u001b[0mv\u001b[0m\u001b[0;34m:\u001b[0m\u001b[0mi\u001b[0m \u001b[0;32mfor\u001b[0m \u001b[0mv\u001b[0m\u001b[0;34m,\u001b[0m \u001b[0mi\u001b[0m \u001b[0;32min\u001b[0m \u001b[0menumerate\u001b[0m\u001b[0;34m(\u001b[0m\u001b[0mset\u001b[0m\u001b[0;34m(\u001b[0m\u001b[0marr\u001b[0m\u001b[0;34m.\u001b[0m\u001b[0msort\u001b[0m\u001b[0;34m(\u001b[0m\u001b[0;34m)\u001b[0m\u001b[0;34m)\u001b[0m\u001b[0;34m)\u001b[0m\u001b[0;34m}\u001b[0m\u001b[0;34m\u001b[0m\u001b[0;34m\u001b[0m\u001b[0m\n\u001b[0m\u001b[1;32m     19\u001b[0m \u001b[0mi\u001b[0m \u001b[0;34m=\u001b[0m \u001b[0;36m0\u001b[0m\u001b[0;34m\u001b[0m\u001b[0;34m\u001b[0m\u001b[0m\n\u001b[1;32m     20\u001b[0m \u001b[0mcur\u001b[0m \u001b[0;34m=\u001b[0m \u001b[0;36m0\u001b[0m\u001b[0;34m\u001b[0m\u001b[0;34m\u001b[0m\u001b[0m\n",
      "\u001b[0;31mTypeError\u001b[0m: 'NoneType' object is not iterable"
     ]
    }
   ],
   "source": [
    "# import sys\n",
    "# input = sys.stdin.readlines\n",
    "\n",
    "n = int(input())\n",
    "arr = list(map(int, input().split()))\n",
    "\n",
    "keyList = []\n",
    "for i in range(n):\n",
    "    keyList.append((arr[i], i))\n",
    "\n",
    "resList = arr\n",
    "sortedList = sorted(keyList, key=lambda x: x[0])\n",
    "dictList = {sortedList[i][1]:sortedList[i][0] for i in range(len(sortedList)) }\n",
    "\n",
    "def find_keys(dict, val):\n",
    "    return list(key for key, value in dict.items() if value == val)\n",
    "\n",
    "arr_dict = {v:i for v, i in enumerate(set(arr.sort()))}\n",
    "i = 0\n",
    "cur = 0\n",
    "while i < len(arr):\n",
    "    min_val = sortedList[i][0]\n",
    "    minList = find_keys(dictList, min_val)\n",
    "    for j in minList:\n",
    "        resList[j] = cur\n",
    "    \n",
    "    cur+=1\n",
    "    i+=len(minList)\n",
    "\n",
    "\n",
    "for i in range(len(resList)):\n",
    "    print(resList[i], end = ' ')\n"
   ]
  },
  {
   "cell_type": "code",
   "execution_count": 4,
   "id": "9cf8aa3d",
   "metadata": {},
   "outputs": [
    {
     "name": "stdout",
     "output_type": "stream",
     "text": [
      "5\n",
      "2 4 -10 4 -9\n",
      "[-10, -9, 2, 4]\n",
      "{-10: 0, -9: 1, 2: 2, 4: 3}\n",
      "2 3 0 3 1 "
     ]
    }
   ],
   "source": [
    "import sys\n",
    "\n",
    "input = sys.stdin.readline\n",
    "# print = sys.stdout.write\n",
    "\n",
    "n = int(input())\n",
    "\n",
    "arr = list(map(int, input().split()))\n",
    "# 집합 연산을 통해 중복을 제거\n",
    "arr_sort = sorted(set(arr))\n",
    "# 사전 자료형을 만드는데, 키는 arr_sort의 값, value는 인덱스로 해서 만듦\n",
    "arr_dict = {v:i for i, v in enumerate(arr_sort)}\n",
    "# 각 키에 대한 값을 출력함\n",
    "for i in arr:\n",
    "    print(f\"{arr_dict[i]}\", end=' ')"
   ]
  },
  {
   "cell_type": "code",
   "execution_count": null,
   "id": "0e01473e",
   "metadata": {},
   "outputs": [],
   "source": []
  }
 ],
 "metadata": {
  "kernelspec": {
   "display_name": "Python 3 (ipykernel)",
   "language": "python",
   "name": "python3"
  },
  "language_info": {
   "codemirror_mode": {
    "name": "ipython",
    "version": 3
   },
   "file_extension": ".py",
   "mimetype": "text/x-python",
   "name": "python",
   "nbconvert_exporter": "python",
   "pygments_lexer": "ipython3",
   "version": "3.10.0"
  }
 },
 "nbformat": 4,
 "nbformat_minor": 5
}
