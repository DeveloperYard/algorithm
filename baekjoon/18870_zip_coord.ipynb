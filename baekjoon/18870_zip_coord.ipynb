{
 "cells": [
  {
   "cell_type": "code",
   "execution_count": 39,
   "id": "0075ea8c",
   "metadata": {},
   "outputs": [
    {
     "name": "stdout",
     "output_type": "stream",
     "text": [
      "5\n",
      "2 4 -10 4 -2\n",
      "2 3 0 3 1 "
     ]
    }
   ],
   "source": [
    "n = int(input())\n",
    "arr = list(map(int, input().split()))\n",
    "\n",
    "res = [0]*len(arr)\n",
    "\n",
    "sortedArr = sorted(arr)\n",
    "cur = 0\n",
    "visited = [False]*len(arr)\n",
    "# 같은 수만 있으면 시간 많이 걸리나?\n",
    "# 1,000,000개의 수를 체크해야하는데, 아래의 \n",
    "for i in range(len(sortedArr)): # O(N)\n",
    "    min = [k for k, ele in enumerate(arr) if ele == sortedArr[i]] \n",
    "    # 가장 작은 수의 인덱스를 뽑아 옴. 여러 개여도 상관 없음\n",
    "    # min은 왜 슬라이싱이 안될까? 리스트가 아닌가?\n",
    "    if visited[arr.index(sortedArr[i])]: continue\n",
    "    # 여기서 문제!\n",
    "    # 여러 개의 인덱스들에 cur 값을 넣었는데, 그 다음 수도 같은 수가 나오면 어떻게 처리할 것인가?\n",
    "    for j in min: # O(N)\n",
    "        res[j] = cur\n",
    "        visited[j] = True\n",
    "    cur+=1\n",
    "# 시간 문제를 해결하기 위해 min의 수만큼 sortedArr의 인덱스를 이동시키는 것은 어떨까??\n",
    "\n",
    "for i in res:\n",
    "    print(i, end=' ')\n"
   ]
  },
  {
   "cell_type": "code",
   "execution_count": null,
   "id": "d34841c3",
   "metadata": {},
   "outputs": [],
   "source": []
  }
 ],
 "metadata": {
  "kernelspec": {
   "display_name": "Python 3 (ipykernel)",
   "language": "python",
   "name": "python3"
  },
  "language_info": {
   "codemirror_mode": {
    "name": "ipython",
    "version": 3
   },
   "file_extension": ".py",
   "mimetype": "text/x-python",
   "name": "python",
   "nbconvert_exporter": "python",
   "pygments_lexer": "ipython3",
   "version": "3.10.0"
  }
 },
 "nbformat": 4,
 "nbformat_minor": 5
}
