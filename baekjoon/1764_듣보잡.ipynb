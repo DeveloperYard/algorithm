{
 "cells": [
  {
   "cell_type": "code",
   "execution_count": 1,
   "id": "be469f52",
   "metadata": {},
   "outputs": [
    {
     "name": "stdout",
     "output_type": "stream",
     "text": [
      "3 4\n",
      "a\n",
      "b\n",
      "c\n",
      "a\n",
      "b\n",
      "d\n",
      "e\n",
      "2\n",
      "a\n",
      "b\n"
     ]
    }
   ],
   "source": [
    "d = dict()\n",
    "ans = 0\n",
    "ansArr = []\n",
    "n, m = map(int, input().split())\n",
    "\n",
    "for _ in range(n):\n",
    "    s = input()\n",
    "    d[s] = 1\n",
    "    \n",
    "for _ in range(m):\n",
    "    s = input()\n",
    "    if s in d:\n",
    "        ans += 1\n",
    "        ansArr.append(s)\n",
    "\n",
    "ansArr.sort()\n",
    "print(ans)\n",
    "for s in ansArr:\n",
    "    print(s)\n",
    "    \n",
    "# -- solve!\n",
    "# 사전 순으로"
   ]
  },
  {
   "cell_type": "code",
   "execution_count": null,
   "id": "2f4c7d35",
   "metadata": {},
   "outputs": [],
   "source": []
  }
 ],
 "metadata": {
  "kernelspec": {
   "display_name": "Python 3 (ipykernel)",
   "language": "python",
   "name": "python3"
  },
  "language_info": {
   "codemirror_mode": {
    "name": "ipython",
    "version": 3
   },
   "file_extension": ".py",
   "mimetype": "text/x-python",
   "name": "python",
   "nbconvert_exporter": "python",
   "pygments_lexer": "ipython3",
   "version": "3.10.0"
  }
 },
 "nbformat": 4,
 "nbformat_minor": 5
}
