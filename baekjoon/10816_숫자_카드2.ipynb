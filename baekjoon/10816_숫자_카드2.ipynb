{
 "cells": [
  {
   "cell_type": "code",
   "execution_count": 6,
   "id": "4c891c04",
   "metadata": {},
   "outputs": [
    {
     "name": "stdout",
     "output_type": "stream",
     "text": [
      "10\n",
      "6 3 2 10 10 10 -10 -10 7 3\n",
      "8\n",
      "10 9 -5 2 3 4 5 -10\n",
      "3 0 0 1 2 0 0 2 "
     ]
    }
   ],
   "source": [
    "# 2023.02.06\n",
    "\n",
    "d = dict()\n",
    "\n",
    "n = int(input())\n",
    "l = list(map(int, input().split()))\n",
    "for i in l:\n",
    "    if i not in d:\n",
    "        d[i] = 1\n",
    "    else:\n",
    "        d[i]+=1\n",
    "        \n",
    "t = int(input())\n",
    "l = list(map(int, input().split()))\n",
    "for i in l:\n",
    "    if i in d:\n",
    "        print(str(d[i]), end=\" \")\n",
    "    else:\n",
    "        print(0, end=\" \")\n",
    "        \n",
    "# using dictionary, solve this prob!!"
   ]
  },
  {
   "cell_type": "code",
   "execution_count": 12,
   "id": "6f906b88",
   "metadata": {},
   "outputs": [
    {
     "name": "stdout",
     "output_type": "stream",
     "text": [
      "10\n",
      "6 3 2 10 10 10 -10 -10 7 3\n",
      "8\n",
      "10 9 -5 2 3 4 5 -10\n",
      "3 0 0 1 2 0 0 2 [6, 7]\n"
     ]
    }
   ],
   "source": [
    "m = int(input())\n",
    "obj = list(map(int, input().split()))\n",
    "n = int(input())\n",
    "toFind = list(map(int, input().split()))\n",
    "\n",
    "obj.sort()\n",
    "\n",
    "def bi_search(arr, target):\n",
    "    \n",
    "    start = 0\n",
    "    end = len(arr)-1\n",
    "    \n",
    "    while start <= end:\n",
    "        mid = (start+end)//2\n",
    "        if arr[mid] == target:\n",
    "#             del obj[mid] -> 이거는 시간복잡도가 O(N), 따라서 N개의 숫자를 삭제하면 O(N^2)으로 좋지 못한 시간 복잡도가 나옴!\n",
    "            return True\n",
    "        elif arr[mid] > target:\n",
    "            end = mid-1\n",
    "        else:\n",
    "            start = mid+1\n",
    "    \n",
    "    return False\n",
    "\n",
    "for i in range(n):\n",
    "    count = 0\n",
    "    while(bi_search(obj, toFind[i])):\n",
    "            count+=1\n",
    "    print(count, end = ' ')\n",
    "    \n",
    "print(obj)"
   ]
  },
  {
   "cell_type": "code",
   "execution_count": null,
   "id": "bc3ba992",
   "metadata": {},
   "outputs": [],
   "source": [
    "10\n",
    "6 3 2 10 10 10 -10 -10 7 3\n",
    "8\n",
    "10 9 -5 2 3 4 5 -10"
   ]
  }
 ],
 "metadata": {
  "kernelspec": {
   "display_name": "Python 3 (ipykernel)",
   "language": "python",
   "name": "python3"
  },
  "language_info": {
   "codemirror_mode": {
    "name": "ipython",
    "version": 3
   },
   "file_extension": ".py",
   "mimetype": "text/x-python",
   "name": "python",
   "nbconvert_exporter": "python",
   "pygments_lexer": "ipython3",
   "version": "3.10.0"
  }
 },
 "nbformat": 4,
 "nbformat_minor": 5
}
