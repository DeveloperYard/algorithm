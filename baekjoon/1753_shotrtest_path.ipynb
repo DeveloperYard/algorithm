{
 "cells": [
  {
   "cell_type": "code",
   "execution_count": 6,
   "id": "041b8845",
   "metadata": {},
   "outputs": [
    {
     "name": "stdout",
     "output_type": "stream",
     "text": [
      "5 6\n",
      "1\n",
      "5 1 1\n",
      "1 2 2\n",
      "1 3 3\n",
      "2 3 4\n",
      "2 4 5\n",
      "3 4 6\n",
      "0\n",
      "2\n",
      "3\n",
      "7\n",
      "INF\n"
     ]
    }
   ],
   "source": [
    "import heapq\n",
    "\n",
    "n, m = map(int, input().split())\n",
    "start = int(input())\n",
    "INF = int(1e9)\n",
    "distance = [INF]*(n+1)\n",
    "graph = [[] for _ in range(n+1)]\n",
    "\n",
    "for _ in range(m):\n",
    "    a, b, c = map(int, input().split())\n",
    "    graph[a].append((b, c))\n",
    "    \n",
    "def dijkstra(start):\n",
    "    distance[start] = 0\n",
    "    h = []\n",
    "    heapq.heappush(h, (0, start))\n",
    "    \n",
    "    while h:\n",
    "        dist, now = heapq.heappop(h)\n",
    "        if dist > distance[now]:\n",
    "            continue\n",
    "        for i in graph[now]:\n",
    "            cost = dist+i[1]\n",
    "            if cost < distance[i[0]]:\n",
    "                distance[i[0]] = cost\n",
    "                heapq.heappush(h, (cost, i[0]))\n",
    "                \n",
    "                \n",
    "dijkstra(start)\n",
    "for i in range(1, n+1):\n",
    "    if distance[i] == INF:\n",
    "        print('INF')\n",
    "    else:\n",
    "        print(distance[i])"
   ]
  },
  {
   "cell_type": "code",
   "execution_count": null,
   "id": "4764f284",
   "metadata": {},
   "outputs": [],
   "source": [
    "5 6\n",
    "1\n",
    "5 1 1\n",
    "1 2 2\n",
    "1 3 3\n",
    "2 3 4\n",
    "2 4 5\n",
    "3 4 6"
   ]
  },
  {
   "cell_type": "markdown",
   "id": "280e3bb8",
   "metadata": {},
   "source": [
    "##### "
   ]
  }
 ],
 "metadata": {
  "kernelspec": {
   "display_name": "Python 3 (ipykernel)",
   "language": "python",
   "name": "python3"
  },
  "language_info": {
   "codemirror_mode": {
    "name": "ipython",
    "version": 3
   },
   "file_extension": ".py",
   "mimetype": "text/x-python",
   "name": "python",
   "nbconvert_exporter": "python",
   "pygments_lexer": "ipython3",
   "version": "3.10.0"
  }
 },
 "nbformat": 4,
 "nbformat_minor": 5
}
