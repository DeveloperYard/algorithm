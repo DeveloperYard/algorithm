{
 "cells": [
  {
   "cell_type": "code",
   "execution_count": null,
   "id": "9243683a",
   "metadata": {},
   "outputs": [
    {
     "name": "stdout",
     "output_type": "stream",
     "text": [
      "[(])\n",
      "no\n",
      "[[]\n",
      "no\n",
      "[[]\n",
      "no\n",
      "[]]\n",
      "no\n",
      "[[]]\n",
      "yes\n",
      "[\n",
      "no\n",
      "[[.\n",
      "no\n"
     ]
    }
   ],
   "source": [
    "from collections import deque\n",
    "\n",
    "while 1:\n",
    "    string = input()\n",
    "    if string == '.':\n",
    "        break\n",
    "    \n",
    "    d = deque()\n",
    "    flag = 0\n",
    "    print_flag = 0\n",
    "    \n",
    "    for s in string:\n",
    "        if s == '.':\n",
    "            break\n",
    "        if s =='[' or s == '(':\n",
    "            d.append(s)\n",
    "            \n",
    "        elif s == ']':\n",
    "            if len(d) == 0:\n",
    "                flag = 1\n",
    "                print('no')\n",
    "                print_flag = 1\n",
    "                break\n",
    "            comp = d.pop()\n",
    "            if comp == '[':\n",
    "                continue\n",
    "            else:\n",
    "                flag = 1\n",
    "                print('no')\n",
    "                print_flag = 1\n",
    "                break\n",
    "        elif s == ')':\n",
    "            if len(d) == 0:\n",
    "                flag = 1\n",
    "                print('no')\n",
    "                print_flag = 1\n",
    "                break\n",
    "            comp = d.pop()\n",
    "            if comp == '(':\n",
    "                continue\n",
    "            else:\n",
    "                flag = 1\n",
    "                print('no')\n",
    "                print_flag = 1\n",
    "                break\n",
    "                \n",
    "        else:\n",
    "            continue\n",
    "        \n",
    "    if len(d) == 0 and flag == 0:\n",
    "        print('yes')\n",
    "    elif len(d) > 0 and print_flag == 0:\n",
    "        print('no')\n"
   ]
  }
 ],
 "metadata": {
  "kernelspec": {
   "display_name": "Python 3 (ipykernel)",
   "language": "python",
   "name": "python3"
  },
  "language_info": {
   "codemirror_mode": {
    "name": "ipython",
    "version": 3
   },
   "file_extension": ".py",
   "mimetype": "text/x-python",
   "name": "python",
   "nbconvert_exporter": "python",
   "pygments_lexer": "ipython3",
   "version": "3.10.0"
  }
 },
 "nbformat": 4,
 "nbformat_minor": 5
}
