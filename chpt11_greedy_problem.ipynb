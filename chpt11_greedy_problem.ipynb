{
 "cells": [
  {
   "cell_type": "code",
   "execution_count": 1,
   "id": "bbca1858",
   "metadata": {},
   "outputs": [
    {
     "name": "stdout",
     "output_type": "stream",
     "text": [
      "5\n",
      "2 3 1 2 2\n",
      "2\n"
     ]
    }
   ],
   "source": [
    "# Q1. adventurer group\n",
    "\n",
    "n = int(input())\n",
    "mem = list(map(int, input().split()))\n",
    "\n",
    "mem.sort(reverse=True)\n",
    "\n",
    "group = []\n",
    "result = 0\n",
    "\n",
    "for i in range(len(mem)):\n",
    "    group.append(i)\n",
    "    if max(group) > len(group):\n",
    "        continue\n",
    "    else:\n",
    "        result += 1\n",
    "        group = []\n",
    "    \n",
    "print(result)"
   ]
  },
  {
   "cell_type": "code",
   "execution_count": null,
   "id": "eb1f025b",
   "metadata": {},
   "outputs": [],
   "source": [
    "# Q1. answer \n",
    "# 현재 그룹에 포함된 모험가의 수가 현재의 공포도 이상이라면, 그룹 결성\n",
    "n = int(input())\n",
    "data = list(map(int, input().split()))\n",
    "data.sort()\n",
    "\n",
    "result = 0\n",
    "count = 0\n",
    "\n",
    "for i in data:\n",
    "    count+=1\n",
    "    if count >= i:\n",
    "        result+=1\n",
    "        count = 0\n",
    "\n",
    "print(result)"
   ]
  },
  {
   "cell_type": "code",
   "execution_count": 6,
   "id": "fbb6e978",
   "metadata": {},
   "outputs": [
    {
     "name": "stdout",
     "output_type": "stream",
     "text": [
      "5607\n",
      "210\n"
     ]
    }
   ],
   "source": [
    "# Q2. plus or multiply\n",
    "\n",
    "li = input()\n",
    "last = int(li[0])\n",
    "result = 0\n",
    "for i in range(len(li)):\n",
    "    cur = int(li[i])\n",
    "    if cur == 0 or result == 0:\n",
    "        result += cur\n",
    "    else:\n",
    "        result *= cur\n",
    "        \n",
    "        \n",
    "print(result)"
   ]
  },
  {
   "cell_type": "code",
   "execution_count": null,
   "id": "f7c8b9fa",
   "metadata": {},
   "outputs": [],
   "source": [
    "# Q3. answer\n",
    "# 두 수에 대하여 연산을 수행할 때, 두 수 중에서 하나라도 1 이하인 경우에는 더하며, 두 수가 모두 2이상인 경우에는 곱하면 된다.\n",
    "\n",
    "data = input()\n",
    "result = int(data[0])\n",
    "\n",
    "for i in range(1, len(data)):\n",
    "    num = int(data[i])\n",
    "    if num <= 1 or result <= 1:\n",
    "        result+=num\n",
    "    else:\n",
    "        result*=num\n",
    "        \n",
    "print(result)"
   ]
  },
  {
   "cell_type": "code",
   "execution_count": 16,
   "id": "a318900a",
   "metadata": {},
   "outputs": [
    {
     "name": "stdout",
     "output_type": "stream",
     "text": [
      "0001101\n",
      "2\n"
     ]
    }
   ],
   "source": [
    "# Q3. reverse string\n",
    "\n",
    "st = input()\n",
    "minVal = ('1' if st.count('0') > st.count('1') else '0')\n",
    "    \n",
    "i = 0\n",
    "result = 0\n",
    "while i<len(st):\n",
    "    if st[i] == minVal:\n",
    "        while i < len(st) and st[i] == minVal:\n",
    "            i+=1\n",
    "        result+=1\n",
    "    else:\n",
    "        i+=1\n",
    "\n",
    "print(result)"
   ]
  },
  {
   "cell_type": "code",
   "execution_count": null,
   "id": "678a3753",
   "metadata": {},
   "outputs": [],
   "source": [
    "# Q3. answer\n",
    "# 전부 0으로 바꾸는 경우와 전부 1로 바꾸는 경우 중에서 더 적은 횟수를 가지는 경우를 계산\n",
    "data = int(input())\n",
    "count0 = 0\n",
    "count1 = 0\n",
    "\n",
    "if data[0] == '1':\n",
    "    count0+=1\n",
    "else:\n",
    "    count1+=1\n",
    "    \n",
    "for i in range(len(data)-1):\n",
    "    if data[i] != data[i+1]:\n",
    "        if data[i+1]=='1':\n",
    "            count0+=1\n",
    "        else:\n",
    "            count1 += 1\n",
    "            \n",
    "print(min(count0, count1))"
   ]
  },
  {
   "cell_type": "code",
   "execution_count": 3,
   "id": "627f8ed5",
   "metadata": {},
   "outputs": [
    {
     "name": "stdout",
     "output_type": "stream",
     "text": [
      "5\n",
      "3 2 1 1 9\n",
      "6\n"
     ]
    }
   ],
   "source": [
    "# Q4. 만들 수 없는 금액\n",
    "\n",
    "n = int(input())\n",
    "lis = list(map(int, input().split()))\n",
    "\n",
    "minList = [False]*1000000\n",
    "\n",
    "lis.sort()\n",
    "\n",
    "for i in lis:\n",
    "    minList[i] = True\n",
    "\n",
    "# 이건 세 개의 동전을 합쳐서 만들 수 있는 수를 안된다고 나옴\n",
    "# for i in range(len(lis)):\n",
    "#     for j in range(len(lis)):\n",
    "#         if i!=j:\n",
    "#             minList[lis[i]+lis[j]] = True\n",
    "\n",
    "\n",
    "for i in range(1, len(minList)):\n",
    "    if minList[i] == False:\n",
    "        print(i)\n",
    "        break\n",
    "        \n",
    "# must be reivew!"
   ]
  },
  {
   "cell_type": "code",
   "execution_count": 1,
   "id": "6e72da85",
   "metadata": {},
   "outputs": [
    {
     "name": "stdout",
     "output_type": "stream",
     "text": [
      "5\n",
      "3 2 1 1 9\n",
      "8\n"
     ]
    }
   ],
   "source": [
    "# Q4. answer\n",
    "# 단순히 동전을 화폐 단위 기준으로 정렬한 뒤에, 화폐 단위가 작은 동전부터 하나씩 확인하면서\n",
    "# 타겟 변수를 업데이트하는 방법으로 최적의 해를 계산\n",
    "\n",
    "n = int(input())\n",
    "data = list(map(int, input().split()))\n",
    "data.sort()\n",
    "\n",
    "target = 1\n",
    "for x in data:\n",
    "    if target < x:\n",
    "        break\n",
    "    target += x\n",
    "\n",
    "print(target)\n",
    "# must review"
   ]
  },
  {
   "cell_type": "code",
   "execution_count": 3,
   "id": "5c03265c",
   "metadata": {},
   "outputs": [
    {
     "name": "stdout",
     "output_type": "stream",
     "text": [
      "5 3\n",
      "1 3 2 3 2\n",
      "8\n"
     ]
    }
   ],
   "source": [
    "# Q5. 볼링공 고르기\n",
    "\n",
    "n, m = map(int, input().split())\n",
    "lis = list(map(int, input().split()))\n",
    "\n",
    "\n",
    "result = 0\n",
    "for i in range(len(lis)):\n",
    "    for j in range(i+1, len(lis)):\n",
    "        if i != j and lis[i]!=lis[j]:\n",
    "#            print(i+1, j+1, end=' ')\n",
    "            result+=1\n",
    "            \n",
    "print(result)"
   ]
  },
  {
   "cell_type": "code",
   "execution_count": null,
   "id": "8bfd2a3d",
   "metadata": {},
   "outputs": [],
   "source": [
    "# Q5. answer\n",
    "# A가 특정한 무게의 볼링 공을 선택했을 때, 이어서 B가 볼링공을 선택하는 경우를 차례대로 계산\n",
    "n, m = map(int, input().split())\n",
    "data = list(map(int, input().split()))\n",
    "\n",
    "array = [0]*11\n",
    "\n",
    "for x in data:\n",
    "    array[x]+=1 # 각 무게에 해당하는 볼링공의 개수 카운트\n",
    "    \n",
    "result = 0\n",
    "\n",
    "for i in range(1, m+1):\n",
    "    n -= array[i] # 무게가 i인 볼링공의 개수(A가 선택할 수 있는 개수) 제외\n",
    "    result += array[i]*n # B가 선택하는 경우의 수와 곱하기\n",
    "\n",
    "print(result)\n",
    "# must review!"
   ]
  },
  {
   "cell_type": "code",
   "execution_count": 34,
   "id": "0f457b07",
   "metadata": {},
   "outputs": [
    {
     "name": "stdout",
     "output_type": "stream",
     "text": [
      "3 1 10\n",
      "8\n",
      "[3, 1, 10]\n",
      "[2, 1, 10]\n",
      "[2, 0, 10]\n",
      "[2, 0, 9]\n",
      "[1, 0, 9]\n",
      "[1, 0, 9]\n",
      "[1, 0, 8]\n",
      "[0, 0, 8]\n",
      "[0, 0, 8]\n",
      "[0, 0, 7]\n",
      "[0, 0, 7]\n",
      "[0, 0, 7]\n",
      "3\n"
     ]
    }
   ],
   "source": [
    "# Q6. 무지의 먹방 라이브 \n",
    "# link : https://programmers.co.kr/learn/courses/30/lessons/42891?language=python3\n",
    "\n",
    "def solution(food_times, k):\n",
    "    answer = 0\n",
    "    \n",
    "    time = 0\n",
    "    idx = 0\n",
    "    while time < k:\n",
    "        if food_times.count(0) == len(food_times):\n",
    "            break\n",
    "            \n",
    "        if food_times[idx] <= 0:\n",
    "            idx+=1\n",
    "            idx%=(len(food_times))\n",
    "            continue\n",
    "        else:\n",
    "            food_times[idx]-=1\n",
    "            time+=1\n",
    "            idx+=1\n",
    "            idx%=(len(food_times))\n",
    "    \n",
    "    \n",
    "    if food_times.count(0) == len(food_times):\n",
    "        answer = -1\n",
    "        return answer\n",
    "\n",
    "#     idx+=1\n",
    "#     idx%=len(food_times)\n",
    "    while 1:\n",
    "        if food_times[idx]>0:\n",
    "            answer=idx+1\n",
    "            return answer\n",
    "        else:\n",
    "            idx+=1\n",
    "            idx%=len(food_times)\n",
    "            \n",
    "food_times = list(map(int, input().split()))\n",
    "k = int(input())\n",
    "\n",
    "print(solution(food_times, k))\n",
    "\n",
    "# 시간 복잡도만 한 번 효율적으로 바꿔보자!"
   ]
  },
  {
   "cell_type": "code",
   "execution_count": null,
   "id": "1929ddf6",
   "metadata": {},
   "outputs": [],
   "source": [
    "# Q6. answer\n",
    "\n",
    "import heapq\n",
    "\n",
    "def solution(food_times, k):\n",
    "    # 전체 음식을 먹는 시간보다 k가 크거나 같다면 -1\n",
    "    if sum(food_times) <= k:\n",
    "        return -1\n",
    "    \n",
    "    # 시간이 적은 음식부터 뺴야 하므로 우선순위 큐 이용\n",
    "    q = []\n",
    "    for i in range(len(food_times)):\n",
    "        # (음식 시간, 음식 번호)형태로 우선순위 큐에 삽입\n",
    "        heapq.heappush((food_times[i], i+1))\n",
    "    \n",
    "    sum_val = 0 # 먹기 위해 사용한 시간\n",
    "    pre = 0 # 직전에 다 먹은 음식 시간\n",
    "    \n",
    "    length = len(food_times)\n",
    "    # sum_val + (현재의 음식 시간 - 이전 음식 시간) * 현재 음식 개수와 k 비교\n",
    "    while sum_val + ((q[0][0] - pre)*length) <= k:\n",
    "        now = heapq.heappop(q)[0]\n",
    "        sum_val += (now-pre) * length\n",
    "        length -= 1\n",
    "        pre = now\n",
    "        \n",
    "    # 남은 음식 중에서 몇 번째 음식인지 확인하여 출력\n",
    "    result = sorted(q, key = lambda x: x[1])\n",
    "    return result[(k-sum_val)%length][1]\n",
    "\n",
    "# must review!"
   ]
  }
 ],
 "metadata": {
  "kernelspec": {
   "display_name": "Python 3 (ipykernel)",
   "language": "python",
   "name": "python3"
  },
  "language_info": {
   "codemirror_mode": {
    "name": "ipython",
    "version": 3
   },
   "file_extension": ".py",
   "mimetype": "text/x-python",
   "name": "python",
   "nbconvert_exporter": "python",
   "pygments_lexer": "ipython3",
   "version": "3.10.0"
  }
 },
 "nbformat": 4,
 "nbformat_minor": 5
}
