{
 "cells": [
  {
   "cell_type": "code",
   "execution_count": 1,
   "id": "bbca1858",
   "metadata": {},
   "outputs": [
    {
     "name": "stdout",
     "output_type": "stream",
     "text": [
      "5\n",
      "2 3 1 2 2\n",
      "2\n"
     ]
    }
   ],
   "source": [
    "# Q1. adventurer group\n",
    "\n",
    "n = int(input())\n",
    "mem = list(map(int, input().split()))\n",
    "\n",
    "mem.sort(reverse=True)\n",
    "\n",
    "group = []\n",
    "result = 0\n",
    "\n",
    "for i in range(len(mem)):\n",
    "    group.append(i)\n",
    "    if max(group) > len(group):\n",
    "        continue\n",
    "    else:\n",
    "        result += 1\n",
    "        group = []\n",
    "    \n",
    "print(result)"
   ]
  },
  {
   "cell_type": "code",
   "execution_count": 6,
   "id": "fbb6e978",
   "metadata": {},
   "outputs": [
    {
     "name": "stdout",
     "output_type": "stream",
     "text": [
      "5607\n",
      "210\n"
     ]
    }
   ],
   "source": [
    "# Q2. plus or multiply\n",
    "\n",
    "li = input()\n",
    "last = int(li[0])\n",
    "result = 0\n",
    "for i in range(len(li)):\n",
    "    cur = int(li[i])\n",
    "    if cur == 0 or result == 0:\n",
    "        result += cur\n",
    "    else:\n",
    "        result *= cur\n",
    "        \n",
    "        \n",
    "print(result)"
   ]
  },
  {
   "cell_type": "code",
   "execution_count": 16,
   "id": "a318900a",
   "metadata": {},
   "outputs": [
    {
     "name": "stdout",
     "output_type": "stream",
     "text": [
      "0001101\n",
      "2\n"
     ]
    }
   ],
   "source": [
    "# Q3. reverse string\n",
    "\n",
    "st = input()\n",
    "minVal = ('1' if st.count('0') > st.count('1') else '0')\n",
    "    \n",
    "i = 0\n",
    "result = 0\n",
    "while i<len(st):\n",
    "    if st[i] == minVal:\n",
    "        while i < len(st) and st[i] == minVal:\n",
    "            i+=1\n",
    "        result+=1\n",
    "    else:\n",
    "        i+=1\n",
    "\n",
    "print(result)"
   ]
  },
  {
   "cell_type": "code",
   "execution_count": 3,
   "id": "627f8ed5",
   "metadata": {},
   "outputs": [
    {
     "name": "stdout",
     "output_type": "stream",
     "text": [
      "5\n",
      "3 2 1 1 9\n",
      "6\n"
     ]
    }
   ],
   "source": [
    "# Q4. 만들 수 없는 금액\n",
    "\n",
    "n = int(input())\n",
    "lis = list(map(int, input().split()))\n",
    "\n",
    "minList = [False]*1000000\n",
    "\n",
    "lis.sort()\n",
    "\n",
    "for i in lis:\n",
    "    minList[i] = True\n",
    "\n",
    "# 이건 세 개의 동전을 합쳐서 만들 수 있는 수를 안된다고 나옴\n",
    "# for i in range(len(lis)):\n",
    "#     for j in range(len(lis)):\n",
    "#         if i!=j:\n",
    "#             minList[lis[i]+lis[j]] = True\n",
    "\n",
    "\n",
    "for i in range(1, len(minList)):\n",
    "    if minList[i] == False:\n",
    "        print(i)\n",
    "        break\n",
    "        \n",
    "# must be reivew!"
   ]
  },
  {
   "cell_type": "code",
   "execution_count": 8,
   "id": "5c03265c",
   "metadata": {},
   "outputs": [
    {
     "name": "stdout",
     "output_type": "stream",
     "text": [
      "8 5\n",
      "1 5 4 3 2 4 5 2\n",
      "25\n"
     ]
    }
   ],
   "source": [
    "# Q5. 볼링공 고르기\n",
    "\n",
    "n, m = map(int, input().split())\n",
    "lis = list(map(int, input().split()))\n",
    "\n",
    "\n",
    "result = 0\n",
    "for i in range(len(lis)):\n",
    "    for j in range(i+1, len(lis)):\n",
    "        if i != j and lis[i]!=lis[j]:\n",
    "#            print(i+1, j+1, end=' ')\n",
    "            result+=1\n",
    "            \n",
    "print(result)"
   ]
  },
  {
   "cell_type": "code",
   "execution_count": 34,
   "id": "0f457b07",
   "metadata": {},
   "outputs": [
    {
     "name": "stdout",
     "output_type": "stream",
     "text": [
      "3 1 10\n",
      "8\n",
      "[3, 1, 10]\n",
      "[2, 1, 10]\n",
      "[2, 0, 10]\n",
      "[2, 0, 9]\n",
      "[1, 0, 9]\n",
      "[1, 0, 9]\n",
      "[1, 0, 8]\n",
      "[0, 0, 8]\n",
      "[0, 0, 8]\n",
      "[0, 0, 7]\n",
      "[0, 0, 7]\n",
      "[0, 0, 7]\n",
      "3\n"
     ]
    }
   ],
   "source": [
    "# Q6. 무지의 먹방 라이브 \n",
    "# link : https://programmers.co.kr/learn/courses/30/lessons/42891?language=python3\n",
    "\n",
    "def solution(food_times, k):\n",
    "    answer = 0\n",
    "    \n",
    "    time = 0\n",
    "    idx = 0\n",
    "    while time < k:\n",
    "        if food_times.count(0) == len(food_times):\n",
    "            break\n",
    "            \n",
    "        if food_times[idx] <= 0:\n",
    "            idx+=1\n",
    "            idx%=(len(food_times))\n",
    "            continue\n",
    "        else:\n",
    "            food_times[idx]-=1\n",
    "            time+=1\n",
    "            idx+=1\n",
    "            idx%=(len(food_times))\n",
    "    \n",
    "    \n",
    "    if food_times.count(0) == len(food_times):\n",
    "        answer = -1\n",
    "        return answer\n",
    "\n",
    "#     idx+=1\n",
    "#     idx%=len(food_times)\n",
    "    while 1:\n",
    "        if food_times[idx]>0:\n",
    "            answer=idx+1\n",
    "            return answer\n",
    "        else:\n",
    "            idx+=1\n",
    "            idx%=len(food_times)\n",
    "            \n",
    "food_times = list(map(int, input().split()))\n",
    "k = int(input())\n",
    "\n",
    "print(solution(food_times, k))\n",
    "\n",
    "# 시간 복잡도만 한 번 효율적으로 바꿔보자!"
   ]
  },
  {
   "cell_type": "code",
   "execution_count": null,
   "id": "19ecf8ea",
   "metadata": {},
   "outputs": [],
   "source": []
  }
 ],
 "metadata": {
  "kernelspec": {
   "display_name": "Python 3 (ipykernel)",
   "language": "python",
   "name": "python3"
  },
  "language_info": {
   "codemirror_mode": {
    "name": "ipython",
    "version": 3
   },
   "file_extension": ".py",
   "mimetype": "text/x-python",
   "name": "python",
   "nbconvert_exporter": "python",
   "pygments_lexer": "ipython3",
   "version": "3.10.0"
  }
 },
 "nbformat": 4,
 "nbformat_minor": 5
}
