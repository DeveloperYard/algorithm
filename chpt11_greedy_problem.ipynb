{
 "cells": [
  {
   "cell_type": "code",
   "execution_count": 1,
   "id": "bbca1858",
   "metadata": {},
   "outputs": [
    {
     "name": "stdout",
     "output_type": "stream",
     "text": [
      "5\n",
      "2 3 1 2 2\n",
      "2\n"
     ]
    }
   ],
   "source": [
    "# Q1. adventurer group\n",
    "\n",
    "n = int(input())\n",
    "mem = list(map(int, input().split()))\n",
    "\n",
    "mem.sort(reverse=True)\n",
    "\n",
    "group = []\n",
    "result = 0\n",
    "\n",
    "for i in range(len(mem)):\n",
    "    group.append(i)\n",
    "    if max(group) > len(group):\n",
    "        continue\n",
    "    else:\n",
    "        result += 1\n",
    "        group = []\n",
    "    \n",
    "print(result)"
   ]
  },
  {
   "cell_type": "code",
   "execution_count": 6,
   "id": "fbb6e978",
   "metadata": {},
   "outputs": [
    {
     "name": "stdout",
     "output_type": "stream",
     "text": [
      "5607\n",
      "210\n"
     ]
    }
   ],
   "source": [
    "# Q2. plus or multiply\n",
    "\n",
    "li = input()\n",
    "last = int(li[0])\n",
    "result = 0\n",
    "for i in range(len(li)):\n",
    "    cur = int(li[i])\n",
    "    if cur == 0 or result == 0:\n",
    "        result += cur\n",
    "    else:\n",
    "        result *= cur\n",
    "        \n",
    "        \n",
    "print(result)"
   ]
  },
  {
   "cell_type": "code",
   "execution_count": 16,
   "id": "a318900a",
   "metadata": {},
   "outputs": [
    {
     "name": "stdout",
     "output_type": "stream",
     "text": [
      "0001101\n",
      "2\n"
     ]
    }
   ],
   "source": [
    "# Q3. reverse string\n",
    "\n",
    "st = input()\n",
    "minVal = ('1' if st.count('0') > st.count('1') else '0')\n",
    "    \n",
    "i = 0\n",
    "result = 0\n",
    "while i<len(st):\n",
    "    if st[i] == minVal:\n",
    "        while i < len(st) and st[i] == minVal:\n",
    "            i+=1\n",
    "        result+=1\n",
    "    else:\n",
    "        i+=1\n",
    "\n",
    "print(result)"
   ]
  }
 ],
 "metadata": {
  "kernelspec": {
   "display_name": "Python 3 (ipykernel)",
   "language": "python",
   "name": "python3"
  },
  "language_info": {
   "codemirror_mode": {
    "name": "ipython",
    "version": 3
   },
   "file_extension": ".py",
   "mimetype": "text/x-python",
   "name": "python",
   "nbconvert_exporter": "python",
   "pygments_lexer": "ipython3",
   "version": "3.10.0"
  }
 },
 "nbformat": 4,
 "nbformat_minor": 5
}
