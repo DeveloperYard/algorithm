{
 "cells": [
  {
   "cell_type": "code",
   "execution_count": null,
   "id": "c14e8ac8",
   "metadata": {},
   "outputs": [],
   "source": [
    "from collections import heapq\n",
    "\n",
    "h = []\n",
    "INF = int(1e9)\n",
    "n, m = map(int, input().split())\n",
    "start = int(input())\n",
    "\n",
    "graph = [[] for i in range(n+1)]\n",
    "# 노드에 연결되어 있는 노드에 대한 정보를 담는 리스트를 만들기\n",
    "distance = [INF]*(n+1)\n",
    "\n",
    "for _ in range(m):\n",
    "    a, b, c = map(int, input().split())\n",
    "    graph[a].append((b, c))\n",
    "    \n",
    "def dijkstra(start):\n",
    "    h = []\n",
    "    heapq.heappush(h, (0, start))\n",
    "    distance[start] = 0\n",
    "    \n",
    "    while h:\n",
    "        dist, now = heapq.heappop(h)\n",
    "        \n",
    "        if distance[now] < dist:\n",
    "            continue\n",
    "        for i in graph[now]:\n",
    "            cost = dist + i[1]\n",
    "            if cost < distance[i[0]]:\n",
    "                distance[i[0]] = cost\n",
    "                heapq.heappush(q, (cost, i[0]))\n",
    "                \n",
    "dijkstra(start)\n",
    "\n",
    "for i in range(1, n+1):\n",
    "    if distance[i] == INF:\n",
    "        print(\"INFINITY\")\n",
    "    else:\n",
    "        print(distance[i])"
   ]
  }
 ],
 "metadata": {
  "kernelspec": {
   "display_name": "Python 3 (ipykernel)",
   "language": "python",
   "name": "python3"
  },
  "language_info": {
   "codemirror_mode": {
    "name": "ipython",
    "version": 3
   },
   "file_extension": ".py",
   "mimetype": "text/x-python",
   "name": "python",
   "nbconvert_exporter": "python",
   "pygments_lexer": "ipython3",
   "version": "3.10.0"
  }
 },
 "nbformat": 4,
 "nbformat_minor": 5
}
