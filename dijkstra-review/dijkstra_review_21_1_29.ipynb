{
 "cells": [
  {
   "cell_type": "code",
   "execution_count": 10,
   "id": "ad711e8c",
   "metadata": {},
   "outputs": [
    {
     "name": "stdout",
     "output_type": "stream",
     "text": [
      "5 6\n",
      "1\n",
      "5 1 1\n",
      "1 2 2\n",
      "1 3 3\n",
      "2 3 4\n",
      "2 4 5\n",
      "3 4 6\n",
      "[1000000000, 0, 2, 3, 7, 1000000000]\n"
     ]
    }
   ],
   "source": [
    "v, e = map(int, input().split())\n",
    "INF = int(1e9)\n",
    "start = int(input())\n",
    "visited = [False]*(v+1)\n",
    "distance = [INF]*(v+1)\n",
    "graph = [[] for _ in range(e+1)]\n",
    "\n",
    "for i in range(e):\n",
    "    a, b, c = map(int, input().split())\n",
    "    graph[a].append((b,c))\n",
    "\n",
    "def get_shortest_path():\n",
    "    min_val = INF\n",
    "    min_idx = 0\n",
    "    \n",
    "    for i in range(1, v+1):\n",
    "        if min_val > distance[i] and not visited[i]:\n",
    "            min_val = distance[i]\n",
    "            min_idx = i\n",
    "            \n",
    "    return min_idx\n",
    "\n",
    "def dijkstra(start):\n",
    "    visited[start] = True\n",
    "    distance[start] = 0\n",
    "    \n",
    "    for i in graph[start]:\n",
    "        distance[i[0]] = i[1]\n",
    "        \n",
    "    for i in range(v-1):\n",
    "        now = get_shortest_path()\n",
    "        visited[now] = True\n",
    "        for j in graph[now]:\n",
    "            cost = distance[now] + j[1]\n",
    "            if cost < distance[j[0]]:\n",
    "                distance[j[0]] = cost\n",
    "                \n",
    "dijkstra(start)\n",
    "print(distance)"
   ]
  },
  {
   "cell_type": "markdown",
   "id": "bf95feaf",
   "metadata": {},
   "source": [
    "##### "
   ]
  }
 ],
 "metadata": {
  "kernelspec": {
   "display_name": "Python 3 (ipykernel)",
   "language": "python",
   "name": "python3"
  },
  "language_info": {
   "codemirror_mode": {
    "name": "ipython",
    "version": 3
   },
   "file_extension": ".py",
   "mimetype": "text/x-python",
   "name": "python",
   "nbconvert_exporter": "python",
   "pygments_lexer": "ipython3",
   "version": "3.10.0"
  }
 },
 "nbformat": 4,
 "nbformat_minor": 5
}
